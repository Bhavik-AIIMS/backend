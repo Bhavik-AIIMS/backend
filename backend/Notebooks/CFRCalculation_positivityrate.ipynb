{
  "nbformat": 4,
  "nbformat_minor": 0,
  "metadata": {
    "kernelspec": {
      "display_name": "Python (tensorflow)",
      "language": "python",
      "name": "tensorflow"
    },
    "language_info": {
      "codemirror_mode": {
        "name": "ipython",
        "version": 3
      },
      "file_extension": ".py",
      "mimetype": "text/x-python",
      "name": "python",
      "nbconvert_exporter": "python",
      "pygments_lexer": "ipython3",
      "version": "3.6.8"
    },
    "colab": {
      "name": "CFRCalculation_positivityrate.ipynb",
      "provenance": [],
      "collapsed_sections": [],
      "toc_visible": true
    },
    "accelerator": "GPU"
  },
  "cells": [
    {
      "cell_type": "code",
      "metadata": {
        "id": "BrAGPZahatRy",
        "colab_type": "code",
        "outputId": "ae4dd23d-e42d-4c6a-94dc-075abfdf35e8",
        "colab": {
          "base_uri": "https://localhost:8080/",
          "height": 179
        }
      },
      "source": [
        "!pip install wget"
      ],
      "execution_count": 1,
      "outputs": [
        {
          "output_type": "stream",
          "text": [
            "Collecting wget\n",
            "  Downloading https://files.pythonhosted.org/packages/47/6a/62e288da7bcda82b935ff0c6cfe542970f04e29c756b0e147251b2fb251f/wget-3.2.zip\n",
            "Building wheels for collected packages: wget\n",
            "  Building wheel for wget (setup.py) ... \u001b[?25l\u001b[?25hdone\n",
            "  Created wheel for wget: filename=wget-3.2-cp36-none-any.whl size=9682 sha256=3a3bb1808a90bfa5e37365afacf4c093d8e45a42f1535d34c922ad0bfadc301a\n",
            "  Stored in directory: /root/.cache/pip/wheels/40/15/30/7d8f7cea2902b4db79e3fea550d7d7b85ecb27ef992b618f3f\n",
            "Successfully built wget\n",
            "Installing collected packages: wget\n",
            "Successfully installed wget-3.2\n"
          ],
          "name": "stdout"
        }
      ]
    },
    {
      "cell_type": "code",
      "metadata": {
        "id": "YVYpa1FfWnWn",
        "colab_type": "code",
        "outputId": "cf269200-4bb8-4c65-fbd6-a0e7b83b87da",
        "colab": {
          "base_uri": "https://localhost:8080/",
          "height": 127
        }
      },
      "source": [
        "import numpy as np\n",
        "import matplotlib.pyplot as plt\n",
        "import pandas as pd\n",
        "from subprocess import call\n",
        "from scipy.stats.distributions import gamma,lognorm\n",
        "import json \n",
        "import wget\n",
        "import os\n",
        "import os.path\n",
        "from google.colab import drive\n",
        "# os.chdir('/content/gdrive/My Drive')\n",
        "drive.mount('/content/gdrive')"
      ],
      "execution_count": 2,
      "outputs": [
        {
          "output_type": "stream",
          "text": [
            "Go to this URL in a browser: https://accounts.google.com/o/oauth2/auth?client_id=947318989803-6bn6qk8qdgf4n4g3pfee6491hc0brc4i.apps.googleusercontent.com&redirect_uri=urn%3aietf%3awg%3aoauth%3a2.0%3aoob&response_type=code&scope=email%20https%3a%2f%2fwww.googleapis.com%2fauth%2fdocs.test%20https%3a%2f%2fwww.googleapis.com%2fauth%2fdrive%20https%3a%2f%2fwww.googleapis.com%2fauth%2fdrive.photos.readonly%20https%3a%2f%2fwww.googleapis.com%2fauth%2fpeopleapi.readonly\n",
            "\n",
            "Enter your authorization code:\n",
            "··········\n",
            "Mounted at /content/gdrive\n"
          ],
          "name": "stdout"
        }
      ]
    },
    {
      "cell_type": "code",
      "metadata": {
        "id": "Jk2LDIwJAFWU",
        "colab_type": "code",
        "outputId": "71ca9ef3-967d-4dbb-bf08-59280cafad27",
        "colab": {
          "base_uri": "https://localhost:8080/",
          "height": 35
        }
      },
      "source": [
        "def n2z(x):\n",
        "    x[np.logical_or(np.isnan(x),np.isinf(x))] = 0\n",
        "    return x\n",
        "\n",
        "if os.path.exists(os.getcwd()+\"\\\\national.json\"):\n",
        "    os.remove(os.getcwd()+\"\\\\national.json\")\n",
        "wget.download('https://api.covid19india.org/data.json', os.getcwd()+\"//national.json\")\n",
        "\n",
        "if os.path.exists(os.getcwd()+\"\\\\states.json\"):\n",
        "    os.remove(os.getcwd()+\"\\\\states.json\")\n",
        "wget.download('https://api.covid19india.org/states_daily.json', os.getcwd()+\"//states.json\")\n",
        "\n",
        "if os.path.exists(os.getcwd()+\"\\\\test.json\"):\n",
        "    os.remove(os.getcwd()+\"\\\\test.json\")\n",
        "wget.download('https://api.covid19india.org/state_test_data.json', os.getcwd()+\"//test.json\")"
      ],
      "execution_count": 3,
      "outputs": [
        {
          "output_type": "execute_result",
          "data": {
            "text/plain": [
              "'/content//test.json'"
            ]
          },
          "metadata": {
            "tags": []
          },
          "execution_count": 3
        }
      ]
    },
    {
      "cell_type": "code",
      "metadata": {
        "id": "SPTNDutlus2X",
        "colab_type": "code",
        "colab": {}
      },
      "source": [
        "dataset=pd.read_csv('/content/gdrive/My Drive/population.csv')"
      ],
      "execution_count": 0,
      "outputs": []
    },
    {
      "cell_type": "code",
      "metadata": {
        "id": "mfv0_kipvTIo",
        "colab_type": "code",
        "outputId": "f8ec8a13-2596-4956-c6bb-6fe6625d9e69",
        "colab": {
          "base_uri": "https://localhost:8080/",
          "height": 1000
        }
      },
      "source": [
        "population=pd.DataFrame()\n",
        "population[\"State\"]=dataset['State'][:37]\n",
        "population[\"Population\"]=dataset['Population'][:37]\n",
        "population"
      ],
      "execution_count": 5,
      "outputs": [
        {
          "output_type": "execute_result",
          "data": {
            "text/html": [
              "<div>\n",
              "<style scoped>\n",
              "    .dataframe tbody tr th:only-of-type {\n",
              "        vertical-align: middle;\n",
              "    }\n",
              "\n",
              "    .dataframe tbody tr th {\n",
              "        vertical-align: top;\n",
              "    }\n",
              "\n",
              "    .dataframe thead th {\n",
              "        text-align: right;\n",
              "    }\n",
              "</style>\n",
              "<table border=\"1\" class=\"dataframe\">\n",
              "  <thead>\n",
              "    <tr style=\"text-align: right;\">\n",
              "      <th></th>\n",
              "      <th>State</th>\n",
              "      <th>Population</th>\n",
              "    </tr>\n",
              "  </thead>\n",
              "  <tbody>\n",
              "    <tr>\n",
              "      <th>0</th>\n",
              "      <td>Delhi</td>\n",
              "      <td>18710922</td>\n",
              "    </tr>\n",
              "    <tr>\n",
              "      <th>1</th>\n",
              "      <td>Haryana</td>\n",
              "      <td>28204692</td>\n",
              "    </tr>\n",
              "    <tr>\n",
              "      <th>2</th>\n",
              "      <td>Kerala</td>\n",
              "      <td>35699443</td>\n",
              "    </tr>\n",
              "    <tr>\n",
              "      <th>3</th>\n",
              "      <td>Himachal Pradesh</td>\n",
              "      <td>7451955</td>\n",
              "    </tr>\n",
              "    <tr>\n",
              "      <th>4</th>\n",
              "      <td>Punjab</td>\n",
              "      <td>30141373</td>\n",
              "    </tr>\n",
              "    <tr>\n",
              "      <th>5</th>\n",
              "      <td>Telangana</td>\n",
              "      <td>39362732</td>\n",
              "    </tr>\n",
              "    <tr>\n",
              "      <th>6</th>\n",
              "      <td>Goa</td>\n",
              "      <td>1586250</td>\n",
              "    </tr>\n",
              "    <tr>\n",
              "      <th>7</th>\n",
              "      <td>Uttarakhand</td>\n",
              "      <td>11250858</td>\n",
              "    </tr>\n",
              "    <tr>\n",
              "      <th>8</th>\n",
              "      <td>Chandigarh</td>\n",
              "      <td>1158473</td>\n",
              "    </tr>\n",
              "    <tr>\n",
              "      <th>9</th>\n",
              "      <td>Gujarat</td>\n",
              "      <td>63872399</td>\n",
              "    </tr>\n",
              "    <tr>\n",
              "      <th>10</th>\n",
              "      <td>Lakshadweep</td>\n",
              "      <td>73183</td>\n",
              "    </tr>\n",
              "    <tr>\n",
              "      <th>11</th>\n",
              "      <td>Dadra and Nagar Haveli and Daman and Diu</td>\n",
              "      <td>615724</td>\n",
              "    </tr>\n",
              "    <tr>\n",
              "      <th>12</th>\n",
              "      <td>Tamil Nadu</td>\n",
              "      <td>77841267</td>\n",
              "    </tr>\n",
              "    <tr>\n",
              "      <th>13</th>\n",
              "      <td>Chhattisgarh</td>\n",
              "      <td>29436231</td>\n",
              "    </tr>\n",
              "    <tr>\n",
              "      <th>14</th>\n",
              "      <td>Andaman and Nicobar Islands</td>\n",
              "      <td>417036</td>\n",
              "    </tr>\n",
              "    <tr>\n",
              "      <th>15</th>\n",
              "      <td>Maharashtra</td>\n",
              "      <td>123144223</td>\n",
              "    </tr>\n",
              "    <tr>\n",
              "      <th>16</th>\n",
              "      <td>Karnataka</td>\n",
              "      <td>67562686</td>\n",
              "    </tr>\n",
              "    <tr>\n",
              "      <th>17</th>\n",
              "      <td>West Bengal</td>\n",
              "      <td>99609303</td>\n",
              "    </tr>\n",
              "    <tr>\n",
              "      <th>18</th>\n",
              "      <td>Odisha</td>\n",
              "      <td>46356334</td>\n",
              "    </tr>\n",
              "    <tr>\n",
              "      <th>19</th>\n",
              "      <td>Puducherry</td>\n",
              "      <td>1413542</td>\n",
              "    </tr>\n",
              "    <tr>\n",
              "      <th>20</th>\n",
              "      <td>Andhra Pradesh</td>\n",
              "      <td>53903393</td>\n",
              "    </tr>\n",
              "    <tr>\n",
              "      <th>21</th>\n",
              "      <td>Jharkhand</td>\n",
              "      <td>38593948</td>\n",
              "    </tr>\n",
              "    <tr>\n",
              "      <th>22</th>\n",
              "      <td>Mizoram</td>\n",
              "      <td>1239244</td>\n",
              "    </tr>\n",
              "    <tr>\n",
              "      <th>23</th>\n",
              "      <td>Tripura</td>\n",
              "      <td>4169794</td>\n",
              "    </tr>\n",
              "    <tr>\n",
              "      <th>24</th>\n",
              "      <td>Madhya Pradesh</td>\n",
              "      <td>85358965</td>\n",
              "    </tr>\n",
              "    <tr>\n",
              "      <th>25</th>\n",
              "      <td>Uttar Pradesh</td>\n",
              "      <td>237882725</td>\n",
              "    </tr>\n",
              "    <tr>\n",
              "      <th>26</th>\n",
              "      <td>Rajasthan</td>\n",
              "      <td>81032689</td>\n",
              "    </tr>\n",
              "    <tr>\n",
              "      <th>27</th>\n",
              "      <td>Sikkim</td>\n",
              "      <td>690251</td>\n",
              "    </tr>\n",
              "    <tr>\n",
              "      <th>28</th>\n",
              "      <td>Bihar</td>\n",
              "      <td>124799926</td>\n",
              "    </tr>\n",
              "    <tr>\n",
              "      <th>29</th>\n",
              "      <td>Manipur</td>\n",
              "      <td>3091545</td>\n",
              "    </tr>\n",
              "    <tr>\n",
              "      <th>30</th>\n",
              "      <td>Arunachal Pradesh</td>\n",
              "      <td>1570458</td>\n",
              "    </tr>\n",
              "    <tr>\n",
              "      <th>31</th>\n",
              "      <td>Jammu and Kashmir</td>\n",
              "      <td>13606320</td>\n",
              "    </tr>\n",
              "    <tr>\n",
              "      <th>32</th>\n",
              "      <td>Ladakh</td>\n",
              "      <td>289023</td>\n",
              "    </tr>\n",
              "    <tr>\n",
              "      <th>33</th>\n",
              "      <td>Nagaland</td>\n",
              "      <td>2249695</td>\n",
              "    </tr>\n",
              "    <tr>\n",
              "      <th>34</th>\n",
              "      <td>Meghalaya</td>\n",
              "      <td>3366710</td>\n",
              "    </tr>\n",
              "    <tr>\n",
              "      <th>35</th>\n",
              "      <td>Assam</td>\n",
              "      <td>35607039</td>\n",
              "    </tr>\n",
              "    <tr>\n",
              "      <th>36</th>\n",
              "      <td>India</td>\n",
              "      <td>1371360350</td>\n",
              "    </tr>\n",
              "  </tbody>\n",
              "</table>\n",
              "</div>"
            ],
            "text/plain": [
              "                                       State  Population\n",
              "0                                      Delhi    18710922\n",
              "1                                    Haryana    28204692\n",
              "2                                     Kerala    35699443\n",
              "3                           Himachal Pradesh     7451955\n",
              "4                                     Punjab    30141373\n",
              "5                                  Telangana    39362732\n",
              "6                                        Goa     1586250\n",
              "7                                Uttarakhand    11250858\n",
              "8                                 Chandigarh     1158473\n",
              "9                                    Gujarat    63872399\n",
              "10                               Lakshadweep       73183\n",
              "11  Dadra and Nagar Haveli and Daman and Diu      615724\n",
              "12                                Tamil Nadu    77841267\n",
              "13                              Chhattisgarh    29436231\n",
              "14               Andaman and Nicobar Islands      417036\n",
              "15                               Maharashtra   123144223\n",
              "16                                 Karnataka    67562686\n",
              "17                               West Bengal    99609303\n",
              "18                                    Odisha    46356334\n",
              "19                                Puducherry     1413542\n",
              "20                            Andhra Pradesh    53903393\n",
              "21                                 Jharkhand    38593948\n",
              "22                                   Mizoram     1239244\n",
              "23                                   Tripura     4169794\n",
              "24                            Madhya Pradesh    85358965\n",
              "25                             Uttar Pradesh   237882725\n",
              "26                                 Rajasthan    81032689\n",
              "27                                    Sikkim      690251\n",
              "28                                     Bihar   124799926\n",
              "29                                   Manipur     3091545\n",
              "30                         Arunachal Pradesh     1570458\n",
              "31                         Jammu and Kashmir    13606320\n",
              "32                                    Ladakh      289023\n",
              "33                                  Nagaland     2249695\n",
              "34                                 Meghalaya     3366710\n",
              "35                                     Assam    35607039\n",
              "36                                     India  1371360350"
            ]
          },
          "metadata": {
            "tags": []
          },
          "execution_count": 5
        }
      ]
    },
    {
      "cell_type": "code",
      "metadata": {
        "id": "6eMgJcoGcUrL",
        "colab_type": "code",
        "colab": {}
      },
      "source": [
        "def fn(mon):\n",
        "  if(mon == \"01\"):\n",
        "    return \" January\"\n",
        "  if(mon == \"02\"):\n",
        "    return \" February\"\n",
        "  if(mon == \"03\"):\n",
        "    return \" March\"\n",
        "  if(mon == \"04\"):\n",
        "    return \" April\"\n",
        "  if(mon == \"05\"):\n",
        "    return \" May\"\n",
        "  if(mon == \"06\"):\n",
        "    return \" June\"\n",
        "  if(mon == \"07\"):\n",
        "    return \" July\"\n",
        "  if(mon == \"08\"):\n",
        "    return \" August\"\n",
        "  if(mon == \"09\"):\n",
        "    return \" September\"\n",
        "  if(mon == \"10\"):\n",
        "    return \" October\"\n",
        "  if(mon == \"11\"):\n",
        "    return \" November\"\n",
        "  if(mon == \"12\"):\n",
        "    return \" December\"\n",
        "def convert(dat): \n",
        "    return  str(dat[:2]) + fn(str(dat[3:5]))"
      ],
      "execution_count": 0,
      "outputs": []
    },
    {
      "cell_type": "code",
      "metadata": {
        "id": "vyJlOC14WnW3",
        "colab_type": "code",
        "colab": {}
      },
      "source": [
        "dates = np.array([pd.to_datetime(i['date']+\"2020\") for i in json.load(open('national.json',))['cases_time_series']])\n",
        "confirmed = np.array([int(i['dailyconfirmed'])for i in json.load(open('national.json',))['cases_time_series']])\n",
        "deceased = np.array([int(i['dailydeceased'])for i in json.load(open('national.json',))['cases_time_series']])\n",
        "recovered = np.array([int(i['dailyrecovered'])for i in json.load(open('national.json',))['cases_time_series']])\n",
        "\n",
        "confirmed = confirmed[dates>=pd.to_datetime(\"03/04/20\")]\n",
        "deceased = deceased[dates>=pd.to_datetime(\"03/04/20\")]\n",
        "recovered = recovered[dates>=pd.to_datetime(\"03/04/20\")]\n",
        "dates = dates[dates>=pd.to_datetime(\"03/04/20\")]"
      ],
      "execution_count": 0,
      "outputs": []
    },
    {
      "cell_type": "code",
      "metadata": {
        "scrolled": true,
        "id": "xwporaXCWnXA",
        "colab_type": "code",
        "outputId": "156bfafd-9486-42a3-ccec-97acce2fb135",
        "colab": {
          "base_uri": "https://localhost:8080/",
          "height": 17
        }
      },
      "source": [
        "conf = []\n",
        "\n",
        "for n in range(100):\n",
        "    print(\"Iteration: \",n+1,end='\\r')\n",
        "    dataset = np.copy(confirmed)\n",
        "    mean = 13.0+(20.9-8.7)/4*np.random.normal()\n",
        "    sd = 12.7+(26.0-6.4)/4*np.random.normal()\n",
        "    phi = np.sqrt(sd**2 + mean**2)\n",
        "    mu = np.log(mean**2/phi)\n",
        "    sigma = np.sqrt(np.log(phi**2/mean**2))\n",
        "    L = lognorm(s=sigma,scale=np.exp(mu))\n",
        "    for i in range(len(dataset)-1,-1,-1):\n",
        "        send_forward = np.round(L.rvs(dataset[i]))\n",
        "        send_forward = send_forward[i+send_forward<len(dataset)]\n",
        "        dataset[i] = 0\n",
        "        for j in np.unique(np.int32(send_forward)):\n",
        "            dataset[i+j] += np.sum(send_forward==j)\n",
        "    conf.append(dataset)"
      ],
      "execution_count": 8,
      "outputs": [
        {
          "output_type": "stream",
          "text": [
            ""
          ],
          "name": "stdout"
        }
      ]
    },
    {
      "cell_type": "code",
      "metadata": {
        "id": "xrhSandaWnXK",
        "colab_type": "code",
        "outputId": "844e3206-49db-48e0-c0ca-66ed51a7501f",
        "colab": {
          "base_uri": "https://localhost:8080/",
          "height": 89
        }
      },
      "source": [
        "CFR = np.cumsum(deceased)/np.cumsum(conf,axis=1)\n",
        "col_mean = np.nanmean(CFR, axis=0)\n",
        "inds = np.where(np.isnan(CFR))\n",
        "CFR[inds] = np.take(col_mean, inds[1])"
      ],
      "execution_count": 9,
      "outputs": [
        {
          "output_type": "stream",
          "text": [
            "/usr/local/lib/python3.6/dist-packages/ipykernel_launcher.py:1: RuntimeWarning: divide by zero encountered in true_divide\n",
            "  \"\"\"Entry point for launching an IPython kernel.\n",
            "/usr/local/lib/python3.6/dist-packages/ipykernel_launcher.py:1: RuntimeWarning: invalid value encountered in true_divide\n",
            "  \"\"\"Entry point for launching an IPython kernel.\n"
          ],
          "name": "stderr"
        }
      ]
    },
    {
      "cell_type": "code",
      "metadata": {
        "id": "W6VbmLbTmC-N",
        "colab_type": "code",
        "colab": {}
      },
      "source": [
        "temp=dates\n",
        "dates=[]\n",
        "for i in range(len(temp)):\n",
        "  date=[]\n",
        "  t=(str(temp[i])).split()[0]\n",
        "  m=t[5:7]\n",
        "  d=t[-2:]\n",
        "  #print(m,t)\n",
        "  date.append(d)\n",
        "  date.append('/')\n",
        "  date.append(m)\n",
        "  date=''.join([str(elem) for elem in date])\n",
        "  #print(date)\n",
        "  dates.append(convert(date))"
      ],
      "execution_count": 0,
      "outputs": []
    },
    {
      "cell_type": "code",
      "metadata": {
        "id": "OIywF321WnXX",
        "colab_type": "code",
        "outputId": "b8a2ae35-b9a9-4390-bf24-acb08d224e3b",
        "colab": {
          "base_uri": "https://localhost:8080/",
          "height": 53
        }
      },
      "source": [
        "json_data = {}\n",
        "india = {\n",
        "        'dates':dates,\n",
        "        'cfr1_point':list(n2z(np.cumsum(deceased)/np.cumsum(confirmed))),\n",
        "        'cfr2_point':list(n2z(np.cumsum(deceased)/(np.cumsum(deceased)+np.cumsum(recovered)))),\n",
        "        'cfr3_point':list(n2z(np.mean(CFR,axis=0))),\n",
        "        'cfr3_l95':list(n2z(np.quantile(CFR,0.025,axis=0))),\n",
        "        'cfr3_u95':list(n2z(np.quantile(CFR,0.975,axis=0))),\n",
        "        'cfr3_l50':list(n2z(np.quantile(CFR,0.25,axis=0))),\n",
        "        'cfr3_u50':list(n2z(np.quantile(CFR,0.75,axis=0))),\n",
        "        }\n",
        "json_data['India'] = india"
      ],
      "execution_count": 11,
      "outputs": [
        {
          "output_type": "stream",
          "text": [
            "/usr/local/lib/python3.6/dist-packages/ipykernel_launcher.py:5: RuntimeWarning: invalid value encountered in true_divide\n",
            "  \"\"\"\n"
          ],
          "name": "stderr"
        }
      ]
    },
    {
      "cell_type": "code",
      "metadata": {
        "id": "-TNPEM04As9f",
        "colab_type": "code",
        "colab": {}
      },
      "source": [
        "states = list(filter(lambda v:len(v)<3,list(json.load(open('states.json',))['states_daily'][0].keys())))"
      ],
      "execution_count": 0,
      "outputs": []
    },
    {
      "cell_type": "code",
      "metadata": {
        "id": "T377QO_CWnXk",
        "colab_type": "code",
        "colab": {}
      },
      "source": [
        "dates = np.array([pd.to_datetime(i['date']) for i in filter(lambda v: v['status'] == 'Confirmed',json.load(open('states.json',))['states_daily'])])\n",
        "#print(dates)\n",
        "data_recovered = pd.DataFrame()\n",
        "data_deceased = pd.DataFrame()\n",
        "data_confirmed = pd.DataFrame()\n",
        "for st in states:\n",
        "    data_confirmed[st] = np.array([i[st] for i in filter(lambda v: v['status'] == 'Confirmed',json.load(open('states.json',))['states_daily'])])\n",
        "    data_deceased[st] = np.array([i[st] for i in filter(lambda v: v['status'] == 'Deceased',json.load(open('states.json',))['states_daily'])])\n",
        "    data_recovered[st] = np.array([i[st] for i in filter(lambda v: v['status'] == 'Recovered',json.load(open('states.json',))['states_daily'])])"
      ],
      "execution_count": 0,
      "outputs": []
    },
    {
      "cell_type": "code",
      "metadata": {
        "id": "-fkTZLEnBiLi",
        "colab_type": "code",
        "colab": {}
      },
      "source": [
        "data_recovered = data_recovered.replace(r'^\\s*$', np.NaN, regex=True).fillna(0)\n",
        "data_recovered = data_recovered.astype(np.int32)\n",
        "data_confirmed = data_confirmed.replace(r'^\\s*$', np.NaN, regex=True).fillna(0)\n",
        "data_confirmed = data_confirmed.astype(np.int32)\n",
        "data_deceased = data_deceased.replace(r'^\\s*$', np.NaN, regex=True).fillna(0)\n",
        "data_deceased = data_deceased.astype(np.int32)\n",
        "data_deceased['date'] = dates\n",
        "data_recovered['date'] = dates\n",
        "data_confirmed['date'] = dates"
      ],
      "execution_count": 0,
      "outputs": []
    },
    {
      "cell_type": "code",
      "metadata": {
        "id": "0e8kFz1zWnXv",
        "colab_type": "code",
        "outputId": "d264521e-e253-48e8-d482-88d5424a3116",
        "colab": {
          "base_uri": "https://localhost:8080/",
          "height": 627
        }
      },
      "source": [
        "plt.figure(1, figsize=(15, 7))\n",
        "state_id = {\n",
        "  \"kl\":\"Kerala\",\n",
        "  \"mh\":\"Maharashtra\",\n",
        "  \"gj\":\"Gujarat\",\n",
        "  \"dl\":\"Delhi\",\n",
        "  \"rj\":\"Rajasthan\",\n",
        "  \"tn\":\"Tamil Nadu\",\n",
        "  \"mp\":\"Madhya Pradesh\",\n",
        "  \"up\":\"Uttar Pradesh\",\n",
        "  \"tg\":\"Telangana\",\n",
        "  \"ap\":\"Andhra Pradesh\",\n",
        "  \"ka\":\"Karnataka\",\n",
        "  \"wb\":\"West Bengal\",\n",
        "  \"jk\":\"Jammu and Kashmir\",\n",
        "  \"hr\":\"Haryana\",\n",
        "  \"pb\":\"Punjab\",\n",
        "  \"br\":\"Bihar\",\n",
        "  \"or\":\"Odisha\",\n",
        "  \"jh\":\"Jharkand\",\n",
        "  \"ut\":\"Uttarakhand\",\n",
        "  \"hp\":\"Himachal Pradesh\",\n",
        "  \"ct\":\"Chhattisgarh\",\n",
        "  \"as\":\"Assam\",\n",
        "  \"ch\":\"Chandigarh\",\n",
        "  \"la\":\"Ladakh\",\n",
        "  \"an\":\"Andaman and Nicobar Islands\",\n",
        "  \"ml\":\"Meghalaya\",\n",
        "  \"ga\":\"Goa\",\n",
        "  \"py\":\"Puducherry\",\n",
        "  \"mn\":\"Manipur\",\n",
        "  \"tr\":\"Tripura\",\n",
        "  \"ar\":\"Arunachal Pradesh\",\n",
        "  \"mz\":\"Mizoram\" ,\n",
        "}\n",
        "\n",
        "for state in state_id.keys():\n",
        "    boots = 100\n",
        "    conf = []\n",
        "    for n in range(boots):\n",
        "        print(\"Iteration: \",n+1,end='\\r')\n",
        "        dataset = np.copy(data_confirmed[state].values)\n",
        "        mean = 13.0+(20.9-8.7)/4*np.random.normal()\n",
        "        sd = 12.7+(26.0-6.4)/4*np.random.normal()\n",
        "        phi = np.sqrt(sd**2 + mean**2)\n",
        "        mu = np.log(mean**2/phi)\n",
        "        sigma = np.sqrt(np.log(phi**2/mean**2))\n",
        "        L = lognorm(s=sigma,scale=np.exp(mu))\n",
        "        for i in range(len(dataset)-1,-1,-1):\n",
        "            send_forward = np.round(L.rvs(np.max([dataset[i],0])))\n",
        "            send_forward = send_forward[i+send_forward<len(dataset)]\n",
        "            dataset[i] = 0\n",
        "            for j in np.unique(np.int32(send_forward)):\n",
        "                dataset[i+j] += np.sum(send_forward==j)\n",
        "        conf.append(dataset)\n",
        "    CFR = np.cumsum(data_deceased[state].values)/np.cumsum(conf,axis=1)\n",
        "    col_mean = np.nanmean(CFR, axis=0)\n",
        "    inds = np.where(np.isnan(CFR))\n",
        "    CFR[inds] = np.take(col_mean, inds[1])\n",
        "    temp1=list(pd.Series(dates).dt.strftime('%m-%d-%Y'))\n",
        "    #print(temp1[0])\n",
        "    dates1=[]\n",
        "    for i in range(len(temp1)):\n",
        "      date=temp1[i][3:5]+'/'+temp1[i][0:2]\n",
        "      dates1.append(convert(date))\n",
        "    temp = {\n",
        "        'dates':dates1,\n",
        "        'cfr1_point':list(n2z(np.cumsum(data_deceased[state].values)/np.cumsum(data_confirmed[state].values))),\n",
        "        'cfr2_point':list(n2z(np.cumsum(data_deceased[state].values)/(np.cumsum(data_deceased[state].values)+np.cumsum(data_recovered[state].values)))),\n",
        "        'cfr3_point':list(n2z(np.mean(CFR,axis=0))),\n",
        "        'cfr3_l95':list(n2z(np.quantile(CFR,0.025,axis=0))),\n",
        "        'cfr3_u95':list(n2z(np.quantile(CFR,0.975,axis=0))),\n",
        "        'cfr3_l50':list(n2z(np.quantile(CFR,0.25,axis=0))),\n",
        "        'cfr3_u50':list(n2z(np.quantile(CFR,0.75,axis=0))),\n",
        "        }\n",
        "    a=state_id[state]\n",
        "    #print(a)\n",
        "    json_data[str(a)] = temp\n",
        "    plt.plot(temp['cfr3_point'],label=state)\n",
        "plt.legend()"
      ],
      "execution_count": 15,
      "outputs": [
        {
          "output_type": "stream",
          "text": [
            ""
          ],
          "name": "stdout"
        },
        {
          "output_type": "stream",
          "text": [
            "/usr/local/lib/python3.6/dist-packages/ipykernel_launcher.py:56: RuntimeWarning: invalid value encountered in true_divide\n"
          ],
          "name": "stderr"
        },
        {
          "output_type": "stream",
          "text": [
            ""
          ],
          "name": "stdout"
        },
        {
          "output_type": "stream",
          "text": [
            "/usr/local/lib/python3.6/dist-packages/ipykernel_launcher.py:56: RuntimeWarning: divide by zero encountered in true_divide\n",
            "/usr/local/lib/python3.6/dist-packages/ipykernel_launcher.py:69: RuntimeWarning: invalid value encountered in true_divide\n"
          ],
          "name": "stderr"
        },
        {
          "output_type": "stream",
          "text": [
            ""
          ],
          "name": "stdout"
        },
        {
          "output_type": "stream",
          "text": [
            "/usr/local/lib/python3.6/dist-packages/ipykernel_launcher.py:57: RuntimeWarning: Mean of empty slice\n",
            "/usr/local/lib/python3.6/dist-packages/ipykernel_launcher.py:68: RuntimeWarning: invalid value encountered in true_divide\n"
          ],
          "name": "stderr"
        },
        {
          "output_type": "stream",
          "text": [
            ""
          ],
          "name": "stdout"
        },
        {
          "output_type": "execute_result",
          "data": {
            "text/plain": [
              "<matplotlib.legend.Legend at 0x7f85c2a72668>"
            ]
          },
          "metadata": {
            "tags": []
          },
          "execution_count": 15
        },
        {
          "output_type": "display_data",
          "data": {
            "image/png": "[encoded data removed]",
            "text/plain": [
              "<Figure size 1080x504 with 1 Axes>"
            ]
          },
          "metadata": {
            "tags": [],
            "needs_background": "light"
          }
        }
      ]
    },
    {
      "cell_type": "code",
      "metadata": {
        "id": "JG4bxq2JWnX7",
        "colab_type": "code",
        "colab": {}
      },
      "source": [
        "with open('cfr.json', 'w') as outfile:\n",
        "    json.dump(json_data, outfile)"
      ],
      "execution_count": 0,
      "outputs": []
    },
    {
      "cell_type": "code",
      "metadata": {
        "id": "2JUFGrCP6krl",
        "colab_type": "code",
        "colab": {}
      },
      "source": [
        "total_confirmed = [x['totalconfirmed'].split(' ')[0] for x in json.load(open('national.json',))['cases_time_series']] ## x_cumulative= 'totalconfirmed'\n",
        "daily_confirmed = [x['dailyconfirmed'].split(' ')[0] for x in json.load(open('national.json',))['cases_time_series']] ## x1\n",
        "daily_confirmed_ma=[]\n",
        "dates=[]\n",
        "daily_confirmed=list(map(int,daily_confirmed))\n",
        "for i in range(7,len(daily_confirmed)):\n",
        "  daily_confirmed_ma.append(sum(daily_confirmed[i-7:i])//7)\n",
        "datesspace = [x['date'] for x in json.load(open('national.json',))['cases_time_series'][:-1]]\n",
        "for i in range(len(datesspace)):\n",
        "  dates.append(datesspace[i][0:-1])"
      ],
      "execution_count": 0,
      "outputs": []
    },
    {
      "cell_type": "code",
      "metadata": {
        "id": "F6ldldb_VMKW",
        "colab_type": "code",
        "outputId": "6d860f11-6446-4009-b51f-f178c07ab3a7",
        "colab": {
          "base_uri": "https://localhost:8080/",
          "height": 55
        }
      },
      "source": [
        "dates_dict = {}\n",
        "count=1\n",
        "for i in dates:\n",
        "  if i not in dates_dict.keys():\n",
        "    dates_dict[i]=count\n",
        "    count+=1\n",
        "print(dates_dict)"
      ],
      "execution_count": 18,
      "outputs": [
        {
          "output_type": "stream",
          "text": [
            "{'30 January': 1, '31 January': 2, '01 February': 3, '02 February': 4, '03 February': 5, '04 February': 6, '05 February': 7, '06 February': 8, '07 February': 9, '08 February': 10, '09 February': 11, '10 February': 12, '11 February': 13, '12 February': 14, '13 February': 15, '14 February': 16, '15 February': 17, '16 February': 18, '17 February': 19, '18 February': 20, '19 February': 21, '20 February': 22, '21 February': 23, '22 February': 24, '23 February': 25, '24 February': 26, '25 February': 27, '26 February': 28, '27 February': 29, '28 February': 30, '29 February': 31, '01 March': 32, '02 March': 33, '03 March': 34, '04 March': 35, '05 March': 36, '06 March': 37, '07 March': 38, '08 March': 39, '09 March': 40, '10 March': 41, '11 March': 42, '12 March': 43, '13 March': 44, '14 March': 45, '15 March': 46, '16 March': 47, '17 March': 48, '18 March': 49, '19 March': 50, '20 March': 51, '21 March': 52, '22 March': 53, '23 March': 54, '24 March': 55, '25 March': 56, '26 March': 57, '27 March': 58, '28 March': 59, '29 March': 60, '30 March': 61, '31 March': 62, '01 April': 63, '02 April': 64, '03 April': 65, '04 April': 66, '05 April': 67, '06 April': 68, '07 April': 69, '08 April': 70, '09 April': 71, '10 April': 72, '11 April': 73, '12 April': 74, '13 April': 75, '14 April': 76, '15 April': 77, '16 April': 78, '17 April': 79, '18 April': 80, '19 April': 81, '20 April': 82, '21 April': 83, '22 April': 84, '23 April': 85, '24 April': 86, '25 April': 87, '26 April': 88, '27 April': 89, '28 April': 90, '29 April': 91, '30 April': 92, '01 May': 93, '02 May': 94, '03 May': 95, '04 May': 96, '05 May': 97, '06 May': 98, '07 May': 99, '08 May': 100, '09 May': 101, '10 May': 102, '11 May': 103, '12 May': 104, '13 May': 105, '14 May': 106, '15 May': 107, '16 May': 108, '17 May': 109, '18 May': 110, '19 May': 111, '20 May': 112, '21 May': 113, '22 May': 114, '23 May': 115, '24 May': 116, '25 May': 117, '26 May': 118, '27 May': 119, '28 May': 120, '29 May': 121, '30 May': 122, '31 May': 123, '01 June': 124, '02 June': 125, '03 June': 126, '04 June': 127, '05 June': 128, '06 June': 129}\n"
          ],
          "name": "stdout"
        }
      ]
    },
    {
      "cell_type": "code",
      "metadata": {
        "id": "VpXtUkhyhGQ5",
        "colab_type": "code",
        "colab": {}
      },
      "source": [
        "def convert(dat): \n",
        "    return  str(dat[:2]) + fn(str(dat[3:5]))"
      ],
      "execution_count": 0,
      "outputs": []
    },
    {
      "cell_type": "code",
      "metadata": {
        "id": "jVOS4Hbh1v9G",
        "colab_type": "code",
        "outputId": "2a1aa617-3606-4841-99f2-add2704ebb49",
        "colab": {
          "base_uri": "https://localhost:8080/",
          "height": 35
        }
      },
      "source": [
        "population['Population'][36]"
      ],
      "execution_count": 20,
      "outputs": [
        {
          "output_type": "execute_result",
          "data": {
            "text/plain": [
              "1371360350"
            ]
          },
          "metadata": {
            "tags": []
          },
          "execution_count": 20
        }
      ]
    },
    {
      "cell_type": "code",
      "metadata": {
        "id": "3SYxC6Y1hHRV",
        "colab_type": "code",
        "colab": {}
      },
      "source": [
        "datest=[x['updatetimestamp'].split(' ')[0] for x in json.load(open('national.json',))['tested']]\n",
        "#totalcumulative_tested = [] #y_cumulative\n",
        "y_cumulative1=[x['totalsamplestested'] for x in json.load(open('national.json',))['tested']]\n",
        "test_per_million=['']*len(dates)\n",
        "dates1=[]\n",
        "for i in (datest):\n",
        "  dates1.append(convert(i))\n",
        "datestest = []\n",
        "datestest.append(dates1[0])\n",
        "y_cumulative = []\n",
        "y_cumulative.append(y_cumulative1[0])\n",
        "### y = 'totalsamplestested'\n",
        "#daily_tested = [] # y1 (y_cumulative2-ycumulative1)\n",
        "for i in range(1,len(dates1)):\n",
        "  if (dates1[i]==dates1[i-1]):\n",
        "    y_cumulative[-1]=y_cumulative1[i]\n",
        "  else:\n",
        "    datestest.append(dates1[i])\n",
        "    y_cumulative.append(y_cumulative1[i])\n",
        "daily_tested=[]\n",
        "daily_tested.append(y_cumulative[0])\n",
        "for i in range(1,len(y_cumulative)):\n",
        "  if (len(y_cumulative[i])!=0):\n",
        "    a=int(y_cumulative[i])-int(y_cumulative[i-1])\n",
        "    daily_tested.append(a)\n",
        "    #test_per_million.append(int(y_cumulative[i])*1000000/int(population['Population'][36]))\n",
        "  else:\n",
        "    y_cumulative[i]=y_cumulative[i-1]\n",
        "    daily_tested.append(0)\n",
        "    #test_per_million.append('')\n",
        "var=0\n",
        "pos_rate_cum=['']*len(dates)\n",
        "daily_pos_rate=['']*len(dates)\n",
        "for i in range(len(datestest)):\n",
        "  for j in range(var,len(dates)):\n",
        "    if (datestest[i]==dates[j]):\n",
        "      if (int(daily_tested[i])!=0):\n",
        "        daily_pos_rate[j]=(int(daily_confirmed[j])/int(daily_tested[i]))\n",
        "        pos_rate_cum[j]=(int(total_confirmed[j])/int(y_cumulative[i]))\n",
        "        test_per_million[j]=(int(y_cumulative[i])*1000000/int(population['Population'][36]))\n",
        "      else:\n",
        "        daily_pos_rate[j]=('')\n",
        "        #test_per_million.append('')\n",
        "      var=j\n",
        "      break\n",
        "#print(len(y_cumulative))\n",
        "#daily_confirmed_7day_moving = []\n",
        "## India : date : []\n",
        "##        cumulative pos rate : [] x_cum/y_cum\n",
        "##        daily_pos_rate : []  (after taking moving avg) -> 7 observation moving avg\n",
        "## daily confirmed : [] (7 day moving average)"
      ],
      "execution_count": 0,
      "outputs": []
    },
    {
      "cell_type": "code",
      "metadata": {
        "id": "nStuZRVIeYW9",
        "colab_type": "code",
        "outputId": "b086669f-2060-4938-aaf4-07cebe98424e",
        "colab": {
          "base_uri": "https://localhost:8080/",
          "height": 35
        }
      },
      "source": [
        "# daily_pos_rate_ma=[]\n",
        "# count=0\n",
        "# for i in range(len(dates)):\n",
        "\n",
        "# (India & states)\n",
        "# Daily confirmed 2 lists : simple, moving avg\n",
        "# Pos rate : cumulative \n",
        "#          : Daily - 2 lists simple, moving avg\n",
        "len(daily_pos_rate)"
      ],
      "execution_count": 22,
      "outputs": [
        {
          "output_type": "execute_result",
          "data": {
            "text/plain": [
              "129"
            ]
          },
          "metadata": {
            "tags": []
          },
          "execution_count": 22
        }
      ]
    },
    {
      "cell_type": "code",
      "metadata": {
        "id": "Fvcjz9x_PySN",
        "colab_type": "code",
        "colab": {}
      },
      "source": [
        "daily_pos_rate_ma=['']*len(dates)\n",
        "from statistics import mean\n",
        "count=0\n",
        "temp=['']*len(dates)\n",
        "\n",
        "i=0\n",
        "l=len(dates)\n",
        "#print(datestest)\n",
        "# for i in range(len(dates)):\n",
        "#print(daily_pos_rate)\n",
        "\n",
        "while i<l:\n",
        "  # print(i)\n",
        "  count+=1\n",
        "  for j in range(len(datestest)):\n",
        "    if (dates[i]==datestest[j]):\n",
        "      a=daily_pos_rate[i]\n",
        "      temp[i]=str(a)\n",
        "      #print(daily_pos_rate[j])\n",
        "      #break\n",
        "   \n",
        "  #print(temp)\n",
        "  \n",
        "  for k in range(7,len(temp)):\n",
        "    sum=0\n",
        "    counter=0\n",
        "    for m in range(0,7):\n",
        "      if (len(str(temp[k-m]))!=0):\n",
        "        sum+=float(temp[k-m])\n",
        "      else:\n",
        "        counter+=1\n",
        "    if ((7-counter)!=0):\n",
        "      daily_pos_rate_ma[k]=(sum/(7-counter))\n",
        "      #daily_pos_rate_ma.append(sum/(7-counter))\n",
        "     \n",
        "  i=i+1\n",
        "  '''\n",
        "  if (count==7):\n",
        "    #print(temp)\n",
        "    if (len(temp)>0):\n",
        "      daily_pos_rate_ma.append(mean(temp))\n",
        "      temp=[]\n",
        "    else:\n",
        "      daily_pos_rate_ma.append(0)\n",
        "    count=0\n",
        "    i=i-6\n",
        "  '''"
      ],
      "execution_count": 0,
      "outputs": []
    },
    {
      "cell_type": "code",
      "metadata": {
        "id": "NEMGRp4MCPDO",
        "colab_type": "code",
        "colab": {}
      },
      "source": [
        "india_dates = dates\n",
        "india_daily_confirmed = daily_confirmed\n",
        "india_daily_confirmed_ma = daily_confirmed_ma\n",
        "india_total_confirmed = total_confirmed\n",
        "india_daily_pos_rate_ma = daily_pos_rate_ma\n",
        "india_pos_rate_cum = pos_rate_cum\n",
        "india_daily_pos_rate = daily_pos_rate\n",
        "india_test_per_million=test_per_million\n",
        "# nationwide={\n",
        "#     'dates':dates,\n",
        "#     'daily_confirmed':daily_confirmed,\n",
        "#     'daily_confirmed_ma':daily_confirmed_ma,\n",
        "#     'daily_total':total_confirmed,\n",
        "#     'daily_positve_rate_ma':daily_pos_rate_ma\n",
        "# }\n",
        "# with open('nation.json', 'w') as outfile:\n",
        "#     json.dump(nationwide, outfile)"
      ],
      "execution_count": 0,
      "outputs": []
    },
    {
      "cell_type": "markdown",
      "metadata": {
        "id": "Pwh5O3yAWnYF",
        "colab_type": "text"
      },
      "source": [
        "### State Level Data"
      ]
    },
    {
      "cell_type": "code",
      "metadata": {
        "id": "mqUi8q4iZUAt",
        "colab_type": "code",
        "colab": {}
      },
      "source": [
        "population=population.set_index('State')"
      ],
      "execution_count": 0,
      "outputs": []
    },
    {
      "cell_type": "code",
      "metadata": {
        "id": "oAcwapcpbw8l",
        "colab_type": "code",
        "outputId": "35675398-7339-44ae-d49d-0f781bd3487e",
        "colab": {
          "base_uri": "https://localhost:8080/",
          "height": 667
        }
      },
      "source": [
        "testing = {}\n",
        "states = np.unique([x['state'] for x in json.load(open('test.json',))['states_tested_data']])\n",
        "for st in states:\n",
        "  state_dates = []\n",
        "  test_per_million=['']*len(dates)\n",
        "  pos_cum=['']*len(dates)\n",
        "  pos_rate_cum=['']*len(dates)\n",
        "  daily_pos=['']*len(dates)\n",
        "  daily_pos_ma=['']*len(dates)\n",
        "  daily_tested=['']*len(dates)\n",
        "  daily_pos_rate=['']*len(dates)\n",
        "  daily_pos_rate_ma=['']*len(dates)\n",
        "  tested_cum=['']*len(dates)\n",
        "  tested_daily=['']*len(dates)\n",
        "  state_date = [x['updatedon'] for x in filter(lambda v: v['state'] == st,json.load(open('test.json',))['states_tested_data'])]\n",
        "  #rates = [x['testpositivityrate'] for x in filter(lambda v: v['state'] == st,json.load(open('test.json',))['states_tested_data'])]\n",
        "  #print(state_date)\n",
        "  for i in (state_date):\n",
        "    state_dates.append(convert(i))\n",
        "  for i in range(len(dates)):\n",
        "    for j in range(len(state_dates)):\n",
        "      sum=0\n",
        "      count=0\n",
        "      sum1=0\n",
        "      count1=0\n",
        "      if (dates[i]==state_dates[j]):\n",
        "        pos_cum[i] = [x['positive'] for x in filter(lambda v: v['state'] == st,json.load(open('test.json',))['states_tested_data'])][j]\n",
        "        tested_cum[i] = [x['totaltested'] for x in filter(lambda v: v['state'] == st,json.load(open('test.json',))['states_tested_data'])][j]\n",
        "        if (j==0):\n",
        "          daily_pos[i]=pos_cum[j]\n",
        "          daily_tested[i]=tested_cum[j]\n",
        "        if(len(pos_cum[i])!=0 and len(pos_cum[i-1])!=0):\n",
        "          daily_pos[i]=int(pos_cum[i])-int(pos_cum[i-1]) \n",
        "          #print(daily_pos[i])\n",
        "        if(st=='Andaman and Nicobar Islands'):\n",
        "          daily_pos[i]=pos_cum[i]\n",
        "        if(len(tested_cum[i])!=0 and len(tested_cum[i-1])!=0):\n",
        "          daily_tested[i]=(int(tested_cum[i])-int(tested_cum[i-1]))\n",
        "          test_per_million[i]=int(tested_cum[i])*1000000/int(population[\"Population\"][st])\n",
        "          if (len(str(daily_pos[i]))!=0 and len(str(tested_cum[i]))!=0):\n",
        "            pos_rate_cum[i]=int(pos_cum[i])*100/int(tested_cum[i])\n",
        "          #if(st=='Maharashtra'):\n",
        "            #print(tested_cum[i],daily_tested[i])\n",
        "        if (j>6):\n",
        "          for k in range(0,7):\n",
        "            if (len(str(daily_pos[i-k]))!=0):\n",
        "              count+=1\n",
        "              sum+=daily_pos[i-k]\n",
        "          if (count!=0):\n",
        "            daily_pos_ma[i]=sum/count\n",
        "          if(len(str(daily_tested[i]))!=0 and daily_tested[i]!=0 and len(str(daily_pos[i]))!=0 ):\n",
        "            daily_pos_rate[i]=(int(daily_pos[i])/int(daily_tested[i]))\n",
        "        if (j>6):\n",
        "          for k in range(0,7):\n",
        "            if (len(str(daily_pos_rate[i-k]))!=0):\n",
        "              count1+=1\n",
        "              sum1+=daily_pos_rate[i-k]\n",
        "            if (count1!=0):\n",
        "             daily_pos_rate_ma[i]=sum1/count1\n",
        "  print(st,pos_rate_cum)\n",
        "  testing[st] = {\n",
        "                    'dates':dates,\n",
        "                    'positivity_rate_cumulative':pos_rate_cum,\n",
        "                    'daily_positive_cases':daily_pos,\n",
        "                    'daily_positivity_rate':daily_pos_rate,\n",
        "                    'daily_positive_cases_ma': daily_pos_ma,\n",
        "                    'daily_positivity_rate_ma':daily_pos_rate_ma , \n",
        "                    'test_per_million':test_per_million,          \n",
        "                  }\n",
        "testing['India'] = {\n",
        "                    'dates': india_dates,\n",
        "                    'positivity_rate_cumulative': india_pos_rate_cum,\n",
        "                    'daily_positive_cases': india_daily_confirmed,\n",
        "                    'daily_positivity_rate': india_daily_pos_rate,\n",
        "                    'daily_positive_cases_ma': india_daily_confirmed_ma,\n",
        "                    'daily_positivity_rate_ma': india_daily_pos_rate_ma,\n",
        "                    'test_per_million':india_test_per_million,\n",
        "                    \n",
        "                  }\n"
      ],
      "execution_count": 34,
      "outputs": [
        {
          "output_type": "stream",
          "text": [
            "Andaman and Nicobar Islands ['', '', '', '', '', '', '', '', '', '', '', '', '', '', '', '', '', '', '', '', '', '', '', '', '', '', '', '', '', '', '', '', '', '', '', '', '', '', '', '', '', '', '', '', '', '', '', '', '', '', '', '', '', '', '', '', '', '', '', '', '', '', '', '', '', '', '', '', '', '', '', '', '', '', '', '', '', '', '', '', '', '', '', '', '', '', '', '', '', '', '', '', '', '', '', '', '', '', '', '', '', '', '', '', '', '', '', '', '', '', '', '', '', '', '', '', '', '', '', '', '', '', '', '', '', '', '', '', '']\n",
            "Andhra Pradesh ['', '', '', '', '', '', '', '', '', '', '', '', '', '', '', '', '', '', '', '', '', '', '', '', '', '', '', '', '', '', '', '', '', '', '', '', '', '', '', '', '', '', '', '', '', '', '', '', '', '', '', '', '', '', '', '', '', '', '', '', '', '', '', '', '', '', '', '', '', '', '', '', 5.4757114113250935, 5.82063811440069, 4.934323243860651, 4.50261780104712, 4.520795660036167, 2.6389918458117125, 2.8267852730417595, 2.8111888111888113, 2.4000296757919726, 2.349266261022354, 2.1171864074954554, 1.9584698400462517, 1.8591772151898733, 1.7575177592108653, 1.6583423105800934, 1.6124290795778582, 1.5787849928237045, 1.5672069111459657, 1.512587865229784, 1.483745426087692, 1.4278742924067929, 1.4067876350285509, 1.3772762469874802, 1.3175861821143664, 1.2862193989152908, 1.257839375964438, 1.2272279912426938, 1.204357899170927, 1.1692080281579218, 1.139666733818747, 1.114030826303935, 1.068930652407309, 1.0621483528499573, 0.99785224184137, 0.9827326985284067, '', '', 0.917309493469898, 0.9050106403559682, 0.8994364976159515, 0.8893596030525491, 0.8848405069706707, 0.8741539207219876, 0.8632190479945847, 0.849106387848655, 0.8425416932640046, 0.8385031500279801, 0.8301289168877617, 0.8121534783567033, 0.8101756297849623, 0.8169057915803707, 0.8134302075316645, 0.8087322868674514, 0.8121422574037702, 0.8162268902891479, 0.8090867023637514, 0.8223039636976176]\n",
            "Arunachal Pradesh ['', '', '', '', '', '', '', '', '', '', '', '', '', '', '', '', '', '', '', '', '', '', '', '', '', '', '', '', '', '', '', '', '', '', '', '', '', '', '', '', '', '', '', '', '', '', '', '', '', '', '', '', '', '', '', '', '', '', '', '', '', '', '', '', '', '', '', '', '', '', '', '', '', '', '', '', '', '', '', 0.2570694087403599, '', '', 0.22026431718061673, 0.4032258064516129, '', '', '', '', 0.3424657534246575, 0.32786885245901637, 0.3021148036253776, 0.2881844380403458, 0.27624309392265195, '', '', 0.23014959723820483, 0.20618556701030927, 0.19249278152069296, 0.17482517482517482, 0.14771048744460857, 0.12523481527864747, 0.10970927043335162, 0.09624639076034648, 0.08861320336730173, 0.08054772452678212, 0.07471049682480388, 0.06798096532970768, 0.06323110970597534, 0.059719319199761124, 0.054614964500273075, 0.05074854097944684, 0.04811161895597787, 0.04506534474988734, 0.04128819157720892, 0.0384172109104879, 0.036845983787767135, 0.03335000833750208, 0.03165057762304162, 0.031075201988812928, 0.0429553264604811, 0.04006410256410257, 0.04989397530248223, 0.048291681757817215, 0.2509124087591241, 0.3084040092521203, 0.3978640980002094, 0.428927680798005, 0.4263206672845227, 0.43513009501820443]\n",
            "Assam ['', '', '', '', '', '', '', '', '', '', '', '', '', '', '', '', '', '', '', '', '', '', '', '', '', '', '', '', '', '', '', '', '', '', '', '', '', '', '', '', '', '', '', '', '', '', '', '', '', '', '', '', '', '', '', '', '', '', '', '', '', '', '', '', '', '', '', '', '', '', '', '', 0.9631351710395217, 0.9241555130656469, '', '', 0.8856905618599502, 0.8276533592989289, 0.8026440037771483, 0.7727272727272727, 0.6988694758478932, 0.6651017214397497, 0.6166122597025753, '', '', '', 0.48889509708059786, 0.4473986961523712, 0.43119379080941234, '', '', '', '', '', '', '', 0.31989287308436243, '', '', '', '', 0.3444061770914343, 0.32671397212721426, 0.29369923362856226, '', '', 0.3052026403577259, 0.2909579230080573, 0.28217360949499654, 0.2796981371048604, 0.342932191847456, 0.36105683459349247, 0.39242219215155616, 0.46423258231614417, 0.5446568992633061, 0.5689001264222503, 0.7511173942223935, 0.8478542131197181, '', '', '', 1.1702894614693304, 1.1659349019679734, '', '', 1.319381973707053, 1.494410993091732, '', '']\n",
            "Bihar ['', '', '', '', '', '', '', '', '', '', '', '', '', '', '', '', '', '', '', '', '', '', '', '', '', '', '', '', '', '', '', '', '', '', '', '', '', '', '', '', '', '', '', '', '', '', '', '', '', '', '', '', '', '', '', '', '', '', '', '', '', '', '', '', '', '', '', '', '', '', 0.8615507914245643, 1.0995052226498077, 0.976, 0.9547963598388781, 0.8949469916012667, 0.802381260515077, 0.7987413772237686, 0.8139271987338911, 0.8749736453721273, 0.8390918065153011, 0.8562121917170777, 0.8481314603763583, 0.9584132011000916, 1.0479272615194946, 1.0736307580703663, 1.1793084963816671, 1.4982688070506767, 1.4963910568628602, 1.8042796633478189, 1.7483577564426478, 1.8083097261567516, 1.8039872971065631, 1.9321668463388342, 1.8504120665526356, 1.7995621683796519, 1.8521785147292291, 1.8373797367232816, 1.837834151663939, 1.8330484903320934, 1.8601583113456464, 1.85408215010142, 1.9987756351392716, 2.059892677860481, 2.1266363879241252, 2.3218983882091497, 2.3785003187680838, 2.368390198147497, 2.442489851150203, 2.608847777121739, 2.959826368201549, 2.956707473844511, 3.011562751822492, 3.3775048480930834, 3.5874899540021548, 3.828814113034956, 3.933104281388745, '', '', '', 4.419779437922448, 4.533879539415412, 4.749151212649975, 4.87476398589857, 4.9583813548469715, 4.973407195411053, 5.043137532603949, 5.004925662133548, 4.951960218926477, 4.969991515925969]\n",
            "Chandigarh ['', '', '', '', '', '', '', '', '', '', '', '', '', '', '', '', '', '', '', '', '', '', '', '', '', '', '', '', '', '', '', '', '', '', '', '', '', '', '', '', '', '', '', '', '', '', '', '', '', '', '', '', '', '', '', '', '', '', '', '', '', '', '', '', '', '', '', '', '', '', '', '', 7.196969696969697, 7.526881720430108, 7.094594594594595, 6.796116504854369, 6.624605678233438, 6.231454005934718, 5.865921787709497, 6.036745406824147, 6.046511627906977, 5.739514348785872, 5.4325955734406435, 5.103969754253308, 4.507512520868113, 4.231974921630094, 3.8147138964577656, 3.9682539682539684, 4.744958481613286, 6.0606060606060606, 6.620553359683795, 6.451612903225806, 7.0287539936102235, 6.429548563611491, 6.002475247524752, 6.0786650774731825, 6.713368359603035, 6.722689075630252, 6.991869918699187, 7.63199163617355, 8.223844282238442, 8.0765639589169, 7.946715663757464, 8.216168717047452, 7.809917355371901, 7.624750499001996, 7.385924207269915, 7.0272259013980864, 6.792318634423897, 6.77731673582296, 6.5654899373144175, '', '', 6.202209005947323, 6.001600426780475, 6.096311475409836, 6.505258009293225, 6.608034228666508, 6.4404432132963985, 6.469666442802776, 6.361435174994497, 6.209712075633863, 6.123301985370951, 6.104651162790698, 6.140350877192983, 6.047819971870605, 5.969559201423206, 6.033977738722906, 5.900324613328241]\n",
            "Chhattisgarh ['', '', '', '', '', '', '', '', '', '', '', '', '', '', '', '', '', '', '', '', '', '', '', '', '', '', '', '', '', '', '', '', '', '', '', '', '', '', '', '', '', '', '', '', '', '', '', '', '', '', '', '', '', '', '', '', '', '', '', '', '', '', '', '', '', '', '', '', '', '', '', '', 0.4665629860031104, 0.7858048162230672, 0.7082476582133882, 0.685785536159601, 0.6442795782897306, 0.5979344084073202, 0.6232686980609419, 0.6232686980609419, 0.5393258426966292, 0.4736218918563347, 0.43520309477756286, 0.39045553145336226, 0.34796056446936013, 0.3161777621640611, 0.2937440457288028, 0.2683882199332656, 0.24688062987922865, 0.24146914913897186, 0.22966275837060315, 0.22803717005871957, 0.23837241532235712, '', '', '', '', 0.2659095006309717, '', '', 0.2407573655431323, 0.23336761332173087, '', '', 0.2045982591809134, 0.19867326665993199, 0.2105867713219106, 0.20503090764428666, '', '', 0.2563445270443476, '', '', 0.35746944883198933, 0.4300383819303499, '', '', 0.6263156979070618, 0.6136210384356036, 0.6443152935843681, 0.6485185648206025, 0.6730204616287998, 0.7114761684405367, 0.7296240762557566, 0.7347605224963716, 0.7784520493434143, 0.9319877985555998, 1.0064961571206978, 1.032530875246107]\n",
            "Dadra and Nagar Haveli and Daman and Diu ['', '', '', '', '', '', '', '', '', '', '', '', '', '', '', '', '', '', '', '', '', '', '', '', '', '', '', '', '', '', '', '', '', '', '', '', '', '', '', '', '', '', '', '', '', '', '', '', '', '', '', '', '', '', '', '', '', '', '', '', '', '', '', '', '', '', '', '', '', '', '', 0.0, 0.0, '', '', '', '', 0.0, '', '', '', '', '', 0.0, 0.0, '', '', 0.0, 0.0, '', '', 0.0, 0.0, '', '', 0.0, 0.020916126333403055, 0.020132876988121603, 0.01896813353566009, 0.01841620626151013, '', '', 0.01735207357279195, 0.016730801405387317, 0.01588814744200826, 0.015257857796765334, 0.014459224985540775, '', '', 0.01320829480914014, 0.012773023374632776, 0.012289541600098316, 0.011825922421948912, 0.011137097672346587, 0.021510002151000216, 0.020665426741062202, 0.01983143282102132, 0.019252984212552945, 0.01839587932303164, 0.017893889236825625, 0.017426156661148384, '', '', '', '', '', 0.11313131313131314, 0.10243652593839174, 0.12855209742895804]\n",
            "Delhi ['', '', '', '', '', '', '', '', '', '', '', '', '', '', '', '', '', '', '', '', '', '', '', '', '', '', '', '', '', '', '', '', '', '', '', '', '', '', '', '', '', '', '', '', '', '', '', '', '', '', '', '', '', '', '', '', '', '', '', '', '', '', '', '', '', '', '', '', '', '', '', 8.163818822891239, 9.129729268084379, 8.221715588486749, 10.045236828100053, 9.587274290627686, 9.50316169828365, 8.730834752981261, 7.973282264468215, 8.495265448996994, 8.213392381186697, 8.034749034749035, 8.097044353475795, 7.940937511038892, 7.771596858638744, 7.466143977191732, 7.3904107660688645, 7.757956025842129, 7.78732680213475, 7.64122665436938, 7.28215987294865, '', '', '', 7.550708760747601, 7.640232108317215, 7.5222543182220125, 7.690382850946701, 7.742703990470519, 7.7648186611279755, 7.767197777408401, 7.37981025477028, 7.40494277114601, 7.199200821796454, 7.056332436366844, 7.0738959043228435, 7.10525685164032, 7.1328671328671325, 7.1838339801606885, 7.1954597178784345, 7.236003126414086, 7.378129117259552, 7.551899472098973, 7.687123646688091, 7.822014335310548, 7.898842076139234, 8.054726054485323, 8.100056557601958, 8.275566548421041, 8.4807034175969, 8.709286365503491, 8.97218231683427, 9.325889164598841, 9.57722134625374, 9.897722343218236, 10.273957722305504, 10.57224763853771, 10.895640337121886, 11.201711001203048]\n",
            "Goa ['', '', '', '', '', '', '', '', '', '', '', '', '', '', '', '', '', '', '', '', '', '', '', '', '', '', '', '', '', '', '', '', '', '', '', '', '', '', '', '', '', '', '', '', '', '', '', '', '', '', '', '', '', '', '', '', '', '', '', '', '', '', '', '', '', '', '', '', '', '', '', 1.9774011299435028, '', '', 1.5909090909090908, 1.4613778705636744, 1.2589928057553956, 1.1456628477905073, 1.0401188707280833, 0.9234828496042217, 0.847457627118644, 0.7769145394006659, 0.6972111553784861, 0.6272401433691757, 0.5804311774461028, '', '', '', '', 0.39414414414414417, 0.3741314804917157, 0.34465780403741997, 0.32095369096744614, 0.2951096121416526, 0.27472527472527475, 0.24146257330113832, 0.22609819121447028, 0.20521841102316035, '', '', 0.15473032714412024, 0.1443894389438944, 0.13190126248351233, '', '', '', 0.09583789704271632, 0.24965672200724004, 0.3301081388730791, 0.3301081388730791, 0.481725835165986, 0.49329123914759276, 0.47886545722442214, 0.4752684386551663, 0.46044370029300963, 0.5280422433794704, 0.52099533437014, 0.5036457941817635, 0.4888217957012436, 0.4667839263969693, 0.42748280775664455, 0.39169604386995693, 0.3642706890359653, 0.35129932627526467, 0.3530252926981857, 0.5290560967416863, 0.6561264822134387, 0.7478632478632479, 0.9743814320122619]\n",
            "Gujarat ['', '', '', '', '', '', '', '', '', '', '', '', '', '', '', '', '', '', '', '', '', '', '', '', '', '', '', '', '', '', '', '', '', '', '', '', '', '', '', '', '', '', '', '', '', '', '', '', '', '', '', '', '', '', '', '', '', '', '', '', '', '', '', '', '', '', '', '', '', '', '', '', 4.793608521970706, 4.40460947503201, 4.0137534208125745, 4.118825100133511, 3.990206803146325, 4.4443381332823035, 4.679981263041349, 5.271626695272393, 5.988867509620671, 5.8200264137351425, 5.9138179152298465, 6.105882651378707, 6.191015477538694, 6.022292107909205, 6.335506571458139, 6.461020531991936, 6.620625291647223, 6.727152813675335, 6.861888111888112, 6.8664364835096166, 6.86451275191206, 6.819040423120514, 6.779915063702223, 6.856629808146678, 6.967377722242056, 6.959691567480119, 6.974431394389029, 7.024652230846602, 7.110807113543092, 7.220709647291022, 7.33321885464068, 7.447965466470352, 7.578272565966459, 7.690765628508196, 7.767931862442222, 7.939627330987594, 7.924791086350975, 7.8925442132989305, 7.849412312347259, 7.799243649391685, 7.769993740671192, 7.691728190447491, 7.67628097131433, 7.686418618894503, 7.7634268972585465, 7.828833730383017, 7.8421359413606515, 7.862740345774761, 7.913401263642726, 7.948294294878025, 7.924314632189874, 7.961323974141997, 7.956319660665132, 7.949609035621199, 7.9552498493081, 7.969205246945743, 7.987182723549099]\n",
            "Haryana ['', '', '', '', '', '', '', '', '', '', '', '', '', '', '', '', '', '', '', '', '', '', '', '', '', '', '', '', '', '', '', '', '', '', '', '', '', '', '', '', '', '', '', '', '', '', '', '', '', '', '', '', '', '', '', '', '', '', '', '', '', '', '', '', '', '', '', '', '', 5.773584905660377, 5.2631578947368425, 4.593138644740573, 4.504504504504505, 4.637458365359979, 4.054355090220539, 3.531669865642994, 2.5717379534380074, 2.6537698412698414, 2.510130571814498, 2.2192462215419937, 1.9705210057539213, 1.8065351950482222, 1.7511330861145447, 1.6965490649701176, 1.535661471959959, 1.4592730167153092, 1.4158855451406018, 1.3788605766991195, 1.3090940721089026, 1.240634818335616, 1.18938350925501, 1.202042408339834, 1.1824715974959426, 1.1826923076923077, 1.2529054935087023, 1.3540057093470916, 1.3371724171587527, 1.3724901222301809, 1.3442305624260673, 1.3006070839866521, 1.2668443376750123, 1.2337012793289226, 1.2220641165146062, 1.250460907065104, 1.2054419700539636, 1.1822346837016375, 1.1807648701711695, 1.181139060148874, 1.1662330671929668, 1.1499665419217329, 1.1678619887575112, 1.155532259601639, 1.169756518187388, 1.1709961698438307, 1.2027436592758016, 1.2205430591922148, 1.2131577105023652, 1.2791860259954126, 1.3184148472032613, 1.3921929816441576, 1.551288985036957, 1.6767960377736892, 1.769963940476392, 1.9346521157178167, 2.129026042837417, 2.309707181672466, 2.474825570431831, 2.616913540726945, 2.789227034046638]\n",
            "Himachal Pradesh ['', '', '', '', '', '', '', '', '', '', '', '', '', '', '', '', '', '', '', '', '', '', '', '', '', '', '', '', '', '', '', '', '', '', '', '', '', '', '', '', '', '', '', '', '', '', '', '', '', '', '', '', '', '', '', '', '', '', '', '', '', '', '', '', '', '', '', '', '', '', '', '', 3.3333333333333335, 2.875112309074573, 2.644628099173554, 2.440884820747521, 2.4544179523141656, 2.1820448877805485, 1.8072289156626506, 1.7671046669687358, 1.527614571092832, 1.3485477178423237, 1.1673151750972763, 1.054054054054054, 0.9950248756218906, 0.9242144177449169, 0.8652390222799048, 0.8161599673536013, 0.7833920877399139, 0.7419773696902244, 0.693000693000693, 0.6522093592043046, 0.6180469715698393, 0.5851375073142189, 0.5567153792623522, 0.5518169582772544, 0.5321170657544659, 0.5064185608291132, 0.5108273181565797, 0.5250997689561017, 0.5094043887147336, 0.509683995922528, 0.5236531463566166, 0.5399214659685864, 0.5079605761940864, 0.4910213243546577, 0.48852606543678084, 0.47175517116245314, 0.4593213527013837, 0.4938542581211589, 0.4683125477220667, 0.5201683453917814, 0.6713484386732035, 0.6928977975748577, 0.7141478479058097, 0.7439167399589564, 0.7867071191702533, 0.8407365805507335, 0.8848697005056398, 0.8659742981293722, 0.8681832896789193, 0.87753728832567, 0.8905510116229014, 0.8971686413172547, 0.8707723372034326, 0.8681773113104883, 0.8968924899889937, 0.8995605200512726, 0.8986946460266463]\n",
            "Jammu and Kashmir ['', '', '', '', '', '', '', '', '', '', '', '', '', '', '', '', '', '', '', '', '', '', '', '', '', '', '', '', '', '', '', '', '', '', '', '', '', '', '', '', '', '', '', '', '', '', '', '', '', '', '', '', '', '', '', '', '', '', '', '', '', '', '', '', '', '', '', '', '', '', '', '', 6.986899563318778, 6.805555555555555, 6.642066420664206, 6.018618748646893, 5.8015857667762525, 5.528169014084507, 5.094749922336129, 4.915669597808851, 4.433185560481317, 4.273107292150487, 4.1214750542299345, 4.054188664209582, 3.889951717226929, 3.859231553893234, 3.8488507985975846, 3.7466867254101297, 3.642914331465172, 3.3997232083759554, 3.149051490514905, 3.1094905297275397, 2.945379119612814, 2.8454242501922584, 2.6922190644442736, 2.5745593815383523, 2.366504854368932, 2.2609913352977213, 2.103113562828197, 1.939802484267094, 1.868031193439546, 1.828802039082413, 1.7123154244750067, 1.7384506570375609, 1.7001978603071213, 1.547665905691569, 1.4408443091628027, 1.4713023847961044, 1.4616848296142535, 1.4548368528571913, 1.3601718546671349, 1.3634134379597842, 1.3528401239870038, 1.2963720735858748, 1.2645679191450263, 1.2427836513765689, 1.2430321638298507, 1.2478540315829798, 1.3233490858489136, 1.3261942913719207, 1.363329952308652, 1.4223999125050886, 1.430033032242977, 1.4752508380173446, 1.4847023221006517, 1.5087345007498785, 1.6057073646877251, 1.6434536258324806, 1.636303568057391]\n",
            "Jharkhand ['', '', '', '', '', '', '', '', '', '', '', '', '', '', '', '', '', '', '', '', '', '', '', '', '', '', '', '', '', '', '', '', '', '', '', '', '', '', '', '', '', '', '', '', '', '', '', '', '', '', '', '', '', '', '', '', '', '', '', '', '', '', '', '', '', '', '', '', '', '', '', '', 1.0996119016817594, 1.0101010101010102, 0.958627648839556, 1.1568123393316196, '', '', '', 0.9618187117458467, 1.0422380691168405, 1.062573789846517, '', '', 0.9851301115241635, 0.9250243427458618, 0.9612625538020086, 1.0504739943633103, 1.176201895626356, 1.1160714285714286, 1.0420724581223217, 0.9920815509238191, 0.9599864072721094, 0.9279431937384007, 0.8808885484488702, 0.8314054366685946, 0.8297928836962294, 0.7983404576313804, 0.7718846851061342, 0.7665950403623903, 0.8265349935594676, 0.7536482334869432, 0.7546813829536343, 0.7188253342099495, 0.6868718227327409, 0.708913598906042, 0.7217129566288137, 0.6994359387590653, 0.6712823600240819, 0.6448146157979581, 0.6597674851685333, 0.7131617684381504, 0.7225295688668447, 0.734291170319178, 0.764442503003167, 0.7606751505931211, 0.7986747914571378, 0.7991145960344407, 0.8263120861673914, 0.8192139737991266, 0.8763372132140214, 0.8948439188759616, 0.9258416051968552, 0.9553817913769928, 0.998653500897666, 1.0255171210351817, 1.0651588722453342, 1.1511042860531606, 1.21737482828857]\n",
            "Karnataka ['', '', '', '', '', '', '', '', '', '', '', '', '', '', '', '', '', '', '', '', '', '', '', '', '', '', '', '', '', '', '', '', '', '', '', '', '', '', '', '', '', '', '', '', '', '', '', '', '', '', '', '', '', '', '', '', '', '', '', '', '', '', '', '', '', '', '', '', '', 2.597961820008612, 2.5876789701825826, 2.595611285266458, 2.5116822429906542, 2.5078369905956115, 2.4658081261854847, 2.3408661204645718, 2.235039653929344, 2.295249198484407, 2.04046834148005, 2.001459397477327, 1.8252445359666776, 1.7391304347826086, 1.5934128769107612, 1.4468690702087286, 1.3853433783699645, 1.3182045720006674, 1.2793286083463398, 1.1707476026440742, 1.1207179599430885, 1.0353975292999684, 0.9656342502346401, 0.9392246824921869, 0.907578045548399, 0.8618958841244801, 0.8197815696013244, 0.822042352228101, 0.8030451280337924, 0.7806075898036654, 0.7537285508098572, 0.7677327922839285, 0.7701410308638383, 0.7902265378199812, 0.7724360410412653, 0.793766572558846, 0.7913977784746407, 0.768853263536725, 0.7896862193772247, 0.7798663086328058, 0.7888691728909614, 0.8215583233880379, 0.8795767943051344, 0.8765986533238198, 0.9208420110501041, 0.9344541779698272, 0.9984913046137536, 1.012539200147349, 0.9922962882115929, 0.9973177699922241, 1.0007946756729909, 1.0048477058688183, 1.0514614974535803, 1.042763287023985, 1.0971642680745977, 1.1180515458506115, 1.1876306205964433, 1.2134697229896214, 1.2446231989697285, 1.3403748059436682, 1.3991550853234993]\n",
            "Kerala ['', '', '', '', '', '', '', '', '', '', '', '', '', '', '', '', '', '', '', '', '', '', '', '', '', '', '', '', '', '', '', '', '', '', '', '', '', '', '', '', '', '', '', '', '', '', '', '', '', '', '', '', '', '', '', '', '', '', '', '', '', '', '', 3.3822138126773886, 3.2279242805558597, 3.1403940886699506, 3.0721064475100284, 3.051511758118701, 2.9914529914529915, 2.953445686634407, 2.8088119590873326, 2.728840242896769, 2.6336228200240064, 2.5018346787644274, 2.4102531403430465, 2.377579303972898, 2.3490136570561457, 2.264367816091954, 2.1909146375284263, 2.1252796420581657, 2.0722443284584777, 2.065195383680907, 2.1034959510171833, 2.098842514768743, 2.0952470235305145, 2.0510483135824975, 2.0438282647584973, 2.038860329354361, 1.992048372401226, 1.9513176423254879, 1.91659890811941, 1.808522251737564, 1.7130842410037226, 1.499579276355331, 1.4418631530282016, 1.4079738156372563, 1.38246309759859, 1.3370265807276407, 1.3139297492540438, 1.281006468700657, 1.258629713630586, 1.2403401245185204, 1.2278177458033572, 1.2340736204988108, 1.2234237536656891, 1.2433668598325895, 1.2299545173069122, 1.2119835649247415, 1.2011351826684786, 1.23386670322568, 1.220810831368373, 1.2190434352863653, 1.2239902080783354, 1.2555239628652668, 1.315288784474629, 1.369951534733441, 1.4236061515021663, 1.4761955806011975, 1.4773178734862642, 1.5420124040667214, 1.5509203115315169, 1.5649067398423444, 1.6385405377509419, 1.609479799633713, 1.6398008564564983, 1.5679405965515796, 1.5939092404606188, 1.63390840501706, 1.6772421982262793]\n",
            "Ladakh ['', '', '', '', '', '', '', '', '', '', '', '', '', '', '', '', '', '', '', '', '', '', '', '', '', '', '', '', '', '', '', '', '', '', '', '', '', '', '', '', '', '', '', '', '', '', '', '', '', '', '', '', '', '', '', '', '', '', '', '', '', '', '', '', '', '', '', '', '', '', '', '', '', '', '', 2.236842105263158, 2.1951219512195124, 1.9629225736095965, '', '', '', '', '', '', '', '', '', '', '', '', '', 0.9799554565701559, 0.9053497942386831, 0.9449465899753492, 1.6844700082169268, 1.5536187949981053, '', '', '', '', '', '', '', '', '', '', '', '', '', '', 0.9090909090909091, '', '', 0.7992733878292462, 0.8555962982364239, 0.9075043630017452, 0.8989145183175034, '', '', '', '', '', 1.0470492249116128, '', '', '', '', '', 0.974025974025974]\n",
            "Madhya Pradesh ['', '', '', '', '', '', '', '', '', '', '', '', '', '', '', '', '', '', '', '', '', '', '', '', '', '', '', '', '', '', '', '', '', '', '', '', '', '', '', '', '', '', '', '', '', '', '', '', '', '', '', '', '', '', '', '', '', '', '', '', '', '', '', '', '', '', '', '', '', 8.407297830374754, 8.003894839337878, 6.39807064831891, 6.211836542977924, 5.362083770632573, 5.85821963553096, 9.142504626773597, 9.774906210921218, 8.627334716869257, 8.560972421905634, 9.36039524636133, 7.888982338099243, 7.757810051196322, 7.424061229370964, 7.0022943875750085, 6.872250285155613, 7.036938207601113, 6.979832053398407, 8.283132530120483, 8.015846569661965, 7.685125563425628, 7.565682536867926, 6.2931530494821635, 6.154229757910962, 5.985658465369917, 5.767901435367787, 5.647374988002688, 5.5847605092041395, 5.747779100650242, 5.329400196656834, 5.244486304057766, 5.083076018232613, 5.014638748976675, 4.977708807322558, 4.9279841750633615, 4.857804733245637, 4.930926916221034, 4.89616298522094, 4.805521835528758, 4.790275077479836, 4.667998002995507, 4.692074558052081, 4.749993788151105, 4.761639386026368, 4.780722144738881, 4.798559904797053, 4.9047384262155145, 4.949344801708711, 4.963676965259914, 4.96838734398949, 4.929819687528939, 4.9184230165470035, 4.884495394671685, 4.820389969488939, 4.815165766572298, 4.7441697984573, 4.675980877917043, 4.629805761629996, 4.607449974135591, 4.593032805244061]\n",
            "Maharashtra ['', '', '', '', '', '', '', '', '', '', '', '', '', '', '', '', '', '', '', '', '', '', '', '', '', '', '', '', '', '', '', '', '', '', '', '', '', '', '', '', '', '', '', '', '', '', '', '', '', '', '', '', '', '', '', '', '', '', '', '', '', '', '', '', '', '', '', '', 4.87617952770992, '', '', 3.783333333333333, 5.530605194560472, 4.93719860939778, 5.0245437382001255, 5.697450756007889, 5.9589739045678085, 5.730906803977831, 5.754517044434067, 5.523052887012598, 5.465896161446794, 5.894477082486224, 6.165774413882223, 6.35327566096423, 5.849972532708499, 6.750341350698456, 6.755390835579515, 7.3421683845933, 7.006695788861195, 7.121538716630742, 7.238630890418408, 7.306881660206052, 7.282236974451821, 7.615580633418275, 7.696833882093719, 7.705465214344257, 8.29383480775483, 8.542141230068337, 8.856357678892294, 8.965617003446779, 9.070103818740662, 8.969333640765505, 10.689585864768814, 10.527523348509115, 10.571667222075556, 10.779185136517494, 10.970195059346826, 11.11471840803621, 11.204933586337761, 11.702786816174935, 11.913467812092215, 12.075373534719626, 12.283344950784725, 12.50183885891674, 12.776701477651805, 12.983189809337771, 13.247095744821129, 13.478197447518534, 13.51982618142314, 13.543794726415252, 13.702438070254162, 13.86971455062954, 14.069783257804252, 14.323247463712887, 14.442102049572593, 14.50127061617363, 14.645808551931385, 14.845935702535487, 14.912204070935616]\n",
            "Manipur ['', '', '', '', '', '', '', '', '', '', '', '', '', '', '', '', '', '', '', '', '', '', '', '', '', '', '', '', '', '', '', '', '', '', '', '', '', '', '', '', '', '', '', '', '', '', '', '', '', '', '', '', '', '', '', '', '', '', '', '', '', '', '', '', '', '', '', '', '', '', '', '', '', '', '', '', '', '', '', '', '', '', '', '', '', '', 0.4807692307692308, '', '', '', '', '', 0.43383947939262474, 0.42735042735042733, '', '', '', '', '', 0.26455026455026454, 0.23121387283236994, 0.18248175182481752, 0.14958863126402394, '', '', '', '', 0.21052631578947367, '', '', '', '', '', '', 0.7083536883243772, '', '', 0.625701909193005, 0.6436512580456407, 0.7089456045372519, 0.6863657515123314, '', '', '', '', '', '', '', '']\n",
            "Meghalaya ['', '', '', '', '', '', '', '', '', '', '', '', '', '', '', '', '', '', '', '', '', '', '', '', '', '', '', '', '', '', '', '', '', '', '', '', '', '', '', '', '', '', '', '', '', '', '', '', '', '', '', '', '', '', '', '', '', '', '', '', '', '', '', '', '', '', '', '', '', '', '', '', '', '', '', '', '', '', 1.4586709886547813, 1.4905149051490514, 1.4360313315926894, 1.3126491646778042, 1.2861736334405145, 1.147227533460803, 1.0820559062218214, 1.0619469026548674, 1.0265183917878529, '', '', 0.8683068017366136, 0.8589835361488904, 0.7523510971786834, '', '', '', '', 0.6172839506172839, '', '', '', '', 0.5684302579798863, 0.5241935483870968, '', '', '', '', '', '', '', 0.41881443298969073, 0.38022813688212925, '', '', '', '', '', '', 0.2991772625280479, '', '', '', '', 0.33222591362126247, 0.3205862147927639, 0.31024930747922436, 0.3299627461415647, 0.323185988323603, 0.3278362805483807]\n",
            "Mizoram ['', '', '', '', '', '', '', '', '', '', '', '', '', '', '', '', '', '', '', '', '', '', '', '', '', '', '', '', '', '', '', '', '', '', '', '', '', '', '', '', '', '', '', '', '', '', '', '', '', '', '', '', '', '', '', '', '', '', '', '', '', '', '', '', '', '', '', '', 1.7241379310344827, 1.3513513513513513, 1.1904761904761905, '', '', '', 1.1235955056179776, 1.098901098901099, 1.0638297872340425, 1.0638297872340425, '', '', 0.8620689655172413, 0.7575757575757576, 0.7407407407407407, 0.7407407407407407, 0.7299270072992701, '', '', '', 0.684931506849315, 0.6329113924050633, 0.5586592178770949, 0.5555555555555556, 0.5555555555555556, 0.546448087431694, 0.546448087431694, 0.546448087431694, 0.5319148936170213, 0.5128205128205128, 0.5076142131979695, 0.5025125628140703, 0.4975124378109453, 0.4975124378109453, 0.4854368932038835, 0.44642857142857145, 0.44642857142857145, 0.3663003663003663, 0.3663003663003663, 0.3546099290780142, 0.3546099290780142, 0.33222591362126247, 0.3194888178913738, 0.31746031746031744, 0.3125, 0.30864197530864196, 0.2976190476190476, 0.29239766081871343, 0.2785515320334262, 0.228310502283105, '', '', 0.1890359168241966, 0.1457725947521866, 0.1287001287001287, 0.11160714285714286, 1.284584980237154, 1.278538812785388, 1.263001485884101, 1.3040901007705987, 1.2054244098442994]\n",
            "Nagaland ['', '', '', '', '', '', '', '', '', '', '', '', '', '', '', '', '', '', '', '', '', '', '', '', '', '', '', '', '', '', '', '', '', '', '', '', '', '', '', '', '', '', '', '', '', '', '', '', '', '', '', '', '', '', '', '', '', '', '', '', '', '', '', '', '', '', '', '', '', '', '', '', 0.0, 0.0, '', '', 0.0, '', '', 0.0, 0.0, 0.0, 0.0, 0.0, 0.0, '', '', 0.0, 0.0, 0.0, 0.0, 0.0, 0.0, 0.0, 0.0, 0.0, 0.0, 0.0, 0.0, 0.0, 0.0, 0.0, 0.0, 0.0, 0.0, 0.0, 0.0, 0.0, 0.0, 0.0, 0.0, 0.0, 0.0, 0.0, 0.0, 0.0, 0.21961932650073207, 0.29282576866764276, 0.5791505791505791, 1.019830028328612, 1.2518778167250877, 1.6289592760180995, 1.6692546583850931, 1.4982578397212543, 1.5044519496469144, 1.698886936145284, 2.13960952126237, 2.365374937091092, 2.6348190100960354]\n",
            "Odisha ['', '', '', '', '', '', '', '', '', '', '', '', '', '', '', '', '', '', '', '', '', '', '', '', '', '', '', '', '', '', '', '', '', '', '', '', '', '', '', '', '', '', '', '', '', '', '', '', '', '', '', '', '', '', '', '', '', '', '', '', '', '', '', '', '', '', '', '', '', 1.7206063088897992, 1.4773776546629733, 1.4096419509444602, 1.4362151506617855, 1.3982392542723978, 1.2949640287769784, 1.1829319814110688, 1.083619288423334, 0.891000891000891, 0.7918701332981392, 0.6961364427427776, 0.6295149638802889, 0.6390376844281552, 0.672454885938032, 0.6025408348457351, 0.5568068068068068, 0.5092642756528335, 0.45633283169085875, 0.451437587657784, 0.4421782257100745, 0.442162850826245, 0.4191287618524117, 0.4480060575466936, 0.43652770046582484, 0.4290438061924412, 0.41905944435821824, 0.41091227387667767, 0.3806282605288494, 0.38985122434357483, 0.4137466840875797, 0.5115717144259448, 0.5219985085756897, 0.6055536968885915, 0.6521944610731277, 0.6421088205474823, 0.739457914123921, 0.7919637070641607, 0.8203225137025598, 0.8555839331321106, 0.9076658298893919, 0.9147296535304805, 0.9750553328946582, 0.9932586815718413, 1.0172273867492991, 1.0481588899565397, 1.0713742971480675, 1.0780561073695432, 1.1254069621838216, 1.152779360917968, 1.1689684018961797, 1.1915785544572934, 1.200111443894964, 1.23330395281036, 1.2804753797713813, 1.3514034298927355, 1.4069325111081865, 1.466011013499825, 1.4943554612118872, 1.54310395834566, 1.6112585313850682]\n",
            "Puducherry ['', '', '', '', '', '', '', '', '', '', '', '', '', '', '', '', '', '', '', '', '', '', '', '', '', '', '', '', '', '', '', '', '', '', '', '', '', '', '', '', '', '', '', '', '', '', '', '', '', '', '', '', '', '', '', '', '', '', '', '', '', '', '', '', '', '', '', '', '', '', '', '', '', '', '', '', '', '', '', '', 0.5622489959839357, 0.550314465408805, 0.530705079605762, 0.47522063815342835, 0.45219638242894056, 0.4107981220657277, 0.4291845493562232, 0.4046535154274153, 0.3972194637537239, 0.37105751391465674, 0.3590664272890485, 0.3399915002124947, 0.3335804299481097, 0.4013377926421405, 0.3803486529318542, 0.36574215178299296, 0.33707865168539325, 0.32957978577313923, 0.33626487325400933, 0.36487472634395524, 0.3750586029067042, 0.38955087076076994, 0.3789567543468569, '', '', 0.352112676056338, 0.3953313253012048, 0.4011670313639679, 0.39152874176899805, 0.38234271810914144, 0.3774232286841654, 0.40268456375838924, 0.5076973468719292, 0.5133964383122092, 0.6142699637738227, 0.6884944920440637, 0.7114744171964881, 0.7787928710498727, 0.881316098707403, 0.8818852103513084, 0.9229021723697288, 0.9910664433277498, 1.1164713990351482, 1.1014413924394888, 1.2224610424502955, 1.293558606124604, 1.3985116756479343, 1.444179329398468, 1.453559990145356]\n",
            "Punjab ['', '', '', '', '', '', '', '', '', '', '', '', '', '', '', '', '', '', '', '', '', '', '', '', '', '', '', '', '', '', '', '', '', '', '', '', '', '', '', '', '', '', '', '', '', '', '', '', '', '', '', '', '', '', '', '', '', '', '', '', '', '', '', '', '', '', '', '', '', '', 4.072681704260652, 4.362900895694886, 4.041954464057303, 3.971034804952114, 3.9285714285714284, 3.7985136251032205, 3.5817446562680533, 3.566256335988414, 3.523714094856379, 3.794389492459867, 3.6930528227637356, 3.604531410916581, 3.4126444595513257, 3.258526689489033, 3.231700354002512, 2.8084063707473375, 2.321024868123587, 2.249074526786338, 2.1268368136117557, 2.009282650843076, 2.0085698982324587, 2.263617071445414, 2.5241629271660337, 3.1043911854592245, 4.168085025908695, 4.315992292870906, 4.804794860756979, 4.759825327510917, 4.737615630673468, 4.561264822134388, 4.465054989610258, 4.450466285825887, 4.436722923462393, 4.350098865883315, 4.180245947942467, 4.081589605129936, 3.918784608831464, 3.8448619919783456, 3.7906276538253687, 3.7390236993673875, 3.5985188913254484, 3.4726431924069487, 3.40165721761884, 3.2516546739531083, 3.217078043638995, 3.1145112031689397, 3.096127237290405, 3.0164141052450657, 2.951647623778771, 2.977866092620191, 2.711642660544797, 2.6426973738712616, 2.5759231434685605, 2.5254354482894867, 2.4312512327544145, 2.351637040262877, 2.258423498826368, 2.1674798752884397, 2.16858951144222]\n",
            "Rajasthan ['', '', '', '', '', '', '', '', '', '', '', '', '', '', '', '', '', '', '', '', '', '', '', '', '', '', '', '', '', '', '', '', '', '', '', '', '', '', '', '', '', '', '', '', '', '', '', '', '', '', '', '', '', '', '', '', '', '', '', '', '', '', '', '', '', '', '', '', '', 2.0580564689874135, 2.4231956874443923, 2.5101794263725448, 2.727601882769441, 2.7924925451675144, 2.663187020500566, 2.8773476866697205, 2.8420496566296882, 2.6999852861837264, 2.8683455084369966, 2.716274339470729, 2.863564149261828, 2.7509163902949902, 2.8215052364535222, 2.8495102404274264, 2.815205550140474, 2.7307878202029965, 2.636942513893636, 2.634371006245328, 2.5769848593595133, 2.5555099128705163, 2.493097453727375, 2.491707166550953, 2.45616944436767, 2.3873470605789318, 2.400199600798403, 2.3681319531479676, 2.3394845429559883, 2.376414959163204, 2.3551645934987286, 2.3508161187559526, 2.329775002042009, 2.2917367687352788, 2.2642366433884065, 2.222940574322504, 2.2231011439108705, 2.219904721336839, 2.2358077779923415, 2.2398945081941304, 2.242763401826287, 2.207609784948003, 2.296362357729646, 2.2650675001412135, 2.256371977070304, 2.261425526876628, 2.190270946090447, 2.216566214711717, 2.2267231176563893, 2.235147215408754, 2.229321163719338, 2.2067754324918756, 2.2052911168817473, 2.1788161521150977, 2.155074589349817, 2.1402498682923157, 2.1264142254003615, 2.122307536698418, 2.1111941241070453, 2.096858039965898, 2.090478886911503]\n",
            "Sikkim ['', '', '', '', '', '', '', '', '', '', '', '', '', '', '', '', '', '', '', '', '', '', '', '', '', '', '', '', '', '', '', '', '', '', '', '', '', '', '', '', '', '', '', '', '', '', '', '', '', '', '', '', '', '', '', '', '', '', '', '', '', '', '', '', '', '', '', '', '', '', '', '', '', '', '', '', '', '', '', '', '', '', '', '', '', '', '', '', '', '', '', '', '', '', '', '', 0.0, 0.0, 0.0, 0.0, 0.0, 0.0, 0.0, 0.0, 0.0, 0.0, 0.0, 0.0, 0.0, 0.0, 0.0, 0.0, '', '', 0.0, 0.05390835579514825, 0.0475511174512601, 0.04434589800443459, 0.04137360364087712, 0.03808073115003808, 0.03624501631025734, 0.03534817956875221, 0.03418803418803419, 0.028368794326241134, 0.026399155227032733, 0.04875670404680644, 0.04589261128958238, 0.0630119722747322, 0.059940059940059943]\n",
            "Tamil Nadu ['', '', '', '', '', '', '', '', '', '', '', '', '', '', '', '', '', '', '', '', '', '', '', '', '', '', '', '', '', '', '', '', '', '', '', '', '', '', '', '', '', '', '', '', '', '', '', '', '', '', '', '', '', '', '', '', '', '', '', '', '', '', '', '', '', '', '', '', '', '', 11.476537773496629, 10.832342449464923, 9.845559845559846, 10.08916001877053, 9.202887180291857, 6.2529213191378865, 5.646994634900428, 4.8721399730821, 4.45859872611465, 3.9159721429386916, 3.6133672570701636, 3.235075023943812, 3.008766141954944, 2.7599410399335853, 2.5508889461479, 2.423932709970581, 2.2731244538759205, 2.151703669881856, 2.043658539158692, 2.02014252900642, 1.9661516355798874, 1.9399071383238133, 1.952644883003641, 1.976485769589218, 2.0138967536490635, 2.178315027305639, 2.321138490401995, 2.565328488480193, 2.671955581023138, 2.7765969244418156, 2.8453868594069753, 2.9641577208408596, 3.139282617821176, 3.269000738693675, 3.301642054339153, 3.319470751324494, 3.3348289695945947, 3.374899167514244, 3.4353574926542607, 3.4809274185193626, 3.5752238823117177, 3.6634746770054547, 3.749208121718403, 3.8254345314589093, 3.903961342930488, 3.973731430733738, 4.053149839838652, 4.106184523519997, 4.1865137593967985, 4.255562194650452, 4.339513449791019, 4.421116340223936, 4.53957826010952, 4.6678282429932905, 4.77924238919354, 4.895049325114373, 5.001275273816885, 5.117778098820525, 5.228413632856189]\n",
            "Telangana ['', '', '', '', '', '', '', '', '', '', '', '', '', '', '', '', '', '', '', '', '', '', '', '', '', '', '', '', '', '', '', '', '', '', '', '', '', '', '', '', '', '', '', '', '', '', '', '', '', '', '', '', '', '', '', '', '', '', '', '', '', '', '', '', '', '', '', '', '', '', '', '', '', '', '', '', '', '', '', '', '', '', '', '', '', '', '', '', '', '', 5.270256250648408, '', '', '', '', '', '', '', '', '', '', '', '', '', '', '', '', '', '', '', '', '', '', '', '', '', '', '', '', '', '', '', '', '', '', '', '', '', '']\n",
            "Tripura ['', '', '', '', '', '', '', '', '', '', '', '', '', '', '', '', '', '', '', '', '', '', '', '', '', '', '', '', '', '', '', '', '', '', '', '', '', '', '', '', '', '', '', '', '', '', '', '', '', '', '', '', '', '', '', '', '', '', '', '', '', '', '', '', '', '', '', '', '', '', '', '', '', '', '', '', '', 0.26246719160104987, '', '', '', '', '', 0.06220839813374806, '', '', '', '', '', '', '', '', '', 0.10090817356205853, 0.09686168151879117, 0.3151649981460882, 0.5128205128205128, 0.6904303147077714, 1.2866849790371548, 1.1949516648764769, 1.4268585131894485, 1.4959850401495984, 1.6048353480616924, 1.4984532095901006, 1.39063341108918, 1.3215859030837005, 1.2419393360401243, 1.2672636211868264, 1.2145454545454546, 1.1689766204675907, 1.1204667506464232, 1.093414233345974, 1.0253067030166538, 0.9875289204898143, 1.0193734322463575, 0.9907666770411868, 0.9486847779215178, 0.9478887931425461, 0.9972489683631361, 1.0030672303738706, 0.9605164744321537, 1.027449196239005, 1.1501364877161055, 1.491537376586742, 1.6204500103213377, 2.040615465371871, 2.074635493609095, 2.1486068111455108, 2.247157301011071]\n",
            "Uttar Pradesh ['', '', '', '', '', '', '', '', '', '', '', '', '', '', '', '', '', '', '', '', '', '', '', '', '', '', '', '', '', '', '', '', '', '', '', '', '', '', '', '', '', '', '', '', '', '', '', '', '', '', '', '', '', '', '', '', '', '', '', '', '', '', '', '', '', '', '', '', '', '', '', 4.639948564080583, 4.266163284568193, 4.07423028258119, 4.199593587717318, 4.1472916928490635, 3.727058341023275, 3.7644968200523756, 3.4451974191453965, 3.4194635584889763, 3.4627128781439858, 3.4492804288294585, 3.524635541612844, 3.4343003412969284, 3.3199217289976475, 3.048941052552383, 3.1538583314277675, 3.0307933785336334, 2.82373966788294, 2.920050635071899, 2.894893917195724, 2.834143027444144, 2.8232212372209218, 2.901001994657584, 2.759779217662587, 2.8138351983723298, 2.736758081988711, 2.728232382061736, 2.7016803026304212, 2.6853151527304324, 2.7029192810378952, 2.6678465622715555, 2.6318503241013556, 2.6140433486009447, 2.4567932599545443, 2.548011936867813, 2.5470549089037053, 2.6105882713589406, 2.592048496391223, 2.6093756197621247, 2.703859834013964, 2.7070996631164865, 2.66668600799764, 2.6791553769971035, 2.761776680268237, 2.729715487694941, 2.7573825873645075, 2.7948193592365373, 2.9057974628826044, 2.7978631661509286, 2.7480437029381366, 2.75736873764716, 2.7855201247361085, 2.806618261648926, 2.837582609769814, 2.791239222103342, 2.793478556717867, 2.8234754885891906, 2.8452342396890886]\n",
            "Uttarakhand ['', '', '', '', '', '', '', '', '', '', '', '', '', '', '', '', '', '', '', '', '', '', '', '', '', '', '', '', '', '', '', '', '', '', '', '', '', '', '', '', '', '', '', '', '', '', '', '', '', '', '', '', '', '', '', '', '', '', '', '', '', '', '', '', '', '', '', '', '', '', '', 2.0734597156398102, 2.0527859237536656, 1.9230769230769231, 1.7517517517517518, 1.609935602575897, 1.533360961458765, 1.4269186270728886, 1.412928293889085, 1.3299556681443951, 1.3157894736842106, 1.2510198531411476, 1.1327259295739966, 1.0760233918128654, 1.0507489380728818, 1.0069225928256764, 0.9241432422025414, 0.9475080538184575, 0.9335529928610653, 0.9060811988151246, 0.8931524975190208, 0.8682406702208683, 0.8094291394490202, 0.8006513773917764, 0.7917656373713381, 0.7686395080707148, 0.7568238213399504, 0.730889048646058, 0.6945235113287032, 0.6691531373409391, 0.7138291071809078, 0.703351261894911, 0.6858295511850732, 0.6494126635469392, 0.6486286137879911, 0.6640694173897644, 0.6558738065587381, 0.6985790267524014, 0.696336663639116, 0.6705118961788031, 0.7079164114083453, 0.7740437334709411, 0.7986447241045499, 0.8385162150155486, 0.8987946799667498, 1.397300777337975, 1.501107745173396, 1.733402669440111, 1.826903023983316, 1.9424743892829, 2.2336833512671146, 2.5568881229557205, 2.634864314343912, 2.9303220515408634, 3.0198603427949577, 3.097666579490309, 3.2605290884756672, 3.3780965885394947, 3.3981112506141167]\n",
            "West Bengal ['', '', '', '', '', '', '', '', '', '', '', '', '', '', '', '', '', '', '', '', '', '', '', '', '', '', '', '', '', '', '', '', '', '', '', '', '', '', '', '', '', '', '', '', '', '', '', '', '', '', '', '', '', '', '', '', '', '', '', '', '', '', '', '', '', '', '', '', '', '', '', '', '', 5.3111375346809355, 5.442176870748299, 6.166828951639078, 6.138328530259366, 6.061401207032275, 6.054131054131054, 6.198704103671706, 6.144697720515362, 6.1985737794843665, 6.340989970883209, 6.011084268864573, 5.707133917396746, 5.75394604276279, 5.779352226720648, 5.609106765812907, 5.38902266877024, 5.2711185056341225, 4.9589603283173735, 4.586989409984872, '', '', 4.023565350207288, 5.012740882306099, 4.874687171303181, 4.830629375269567, 4.726428920371275, 4.691475382335673, 4.536679536679537, 4.4663011931634955, 4.3326682768035285, 4.129451560183954, 3.9734869516935034, 3.7828031255470504, 3.5388177099061013, 3.3329883034882517, 3.114384103494811, 3.019130063054398, 2.8949375256643397, 2.7954451271148266, 2.7741140536600604, 2.7628753140573306, 2.6688167397074256, 2.6414740966979773, 2.5775250086120134, 2.5490058940595257, 2.517521154504453, 2.580659843317081, 2.60090461548438, 2.6389296131113134, 2.6998640497469952, 2.706923477355544, 2.7693219471458206, 2.802454516094305, 2.8433079299180006, 2.9035810700668345, 2.961483114417807]\n"
          ],
          "name": "stdout"
        }
      ]
    },
    {
      "cell_type": "code",
      "metadata": {
        "id": "j-Ll534S9Wb7",
        "colab_type": "code",
        "colab": {}
      },
      "source": [
        "with open('positivity_Rate.json', 'w') as outfile:\n",
        "    json.dump(testing, outfile,indent=4)"
      ],
      "execution_count": 0,
      "outputs": []
    },
    {
      "cell_type": "code",
      "metadata": {
        "id": "rQ0xG1mwoLjZ",
        "colab_type": "code",
        "colab": {}
      },
      "source": [
        ""
      ],
      "execution_count": 0,
      "outputs": []
    }
  ]
}