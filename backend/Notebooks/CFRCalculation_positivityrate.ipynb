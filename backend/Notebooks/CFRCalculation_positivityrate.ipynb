{
  "nbformat": 4,
  "nbformat_minor": 0,
  "metadata": {
    "kernelspec": {
      "display_name": "Python (tensorflow)",
      "language": "python",
      "name": "tensorflow"
    },
    "language_info": {
      "codemirror_mode": {
        "name": "ipython",
        "version": 3
      },
      "file_extension": ".py",
      "mimetype": "text/x-python",
      "name": "python",
      "nbconvert_exporter": "python",
      "pygments_lexer": "ipython3",
      "version": "3.6.8"
    },
    "colab": {
      "name": "CFRCalculation_positivityrate.ipynb",
      "provenance": [],
      "collapsed_sections": []
    },
    "accelerator": "GPU"
  },
  "cells": [
    {
      "cell_type": "code",
      "metadata": {
        "id": "BrAGPZahatRy",
        "colab_type": "code",
        "outputId": "01e033f4-e8f3-4485-8517-cda7b9410e1f",
        "colab": {
          "base_uri": "https://localhost:8080/",
          "height": 35
        }
      },
      "source": [
        "!pip install wget"
      ],
      "execution_count": 1,
      "outputs": [
        {
          "output_type": "stream",
          "text": [
            "Requirement already satisfied: wget in /usr/local/lib/python3.6/dist-packages (3.2)\n"
          ],
          "name": "stdout"
        }
      ]
    },
    {
      "cell_type": "code",
      "metadata": {
        "id": "YVYpa1FfWnWn",
        "colab_type": "code",
        "outputId": "e5a7820f-bf79-4578-e554-8d991a3f52ca",
        "colab": {
          "base_uri": "https://localhost:8080/",
          "height": 35
        }
      },
      "source": [
        "import numpy as np\n",
        "import matplotlib.pyplot as plt\n",
        "import pandas as pd\n",
        "from subprocess import call\n",
        "from scipy.stats.distributions import gamma,lognorm\n",
        "import json \n",
        "import wget\n",
        "import os\n",
        "import os.path\n",
        "from google.colab import drive\n",
        "# os.chdir('/content/gdrive/My Drive')\n",
        "drive.mount('/content/gdrive')"
      ],
      "execution_count": 2,
      "outputs": [
        {
          "output_type": "stream",
          "text": [
            "Drive already mounted at /content/gdrive; to attempt to forcibly remount, call drive.mount(\"/content/gdrive\", force_remount=True).\n"
          ],
          "name": "stdout"
        }
      ]
    },
    {
      "cell_type": "code",
      "metadata": {
        "id": "Jk2LDIwJAFWU",
        "colab_type": "code",
        "outputId": "6701b974-a6cd-4015-f3a3-c43f3c1d8c52",
        "colab": {
          "base_uri": "https://localhost:8080/",
          "height": 35
        }
      },
      "source": [
        "def n2z(x):\n",
        "    x[np.logical_or(np.isnan(x),np.isinf(x))] = 0\n",
        "    return x\n",
        "\n",
        "if os.path.exists(os.getcwd()+\"\\\\national.json\"):\n",
        "    os.remove(os.getcwd()+\"\\\\national.json\")\n",
        "wget.download('https://api.covid19india.org/data.json', os.getcwd()+\"//national.json\")\n",
        "\n",
        "if os.path.exists(os.getcwd()+\"\\\\states.json\"):\n",
        "    os.remove(os.getcwd()+\"\\\\states.json\")\n",
        "wget.download('https://api.covid19india.org/states_daily.json', os.getcwd()+\"//states.json\")\n",
        "\n",
        "if os.path.exists(os.getcwd()+\"\\\\test.json\"):\n",
        "    os.remove(os.getcwd()+\"\\\\test.json\")\n",
        "wget.download('https://api.covid19india.org/state_test_data.json', os.getcwd()+\"//test.json\")"
      ],
      "execution_count": 3,
      "outputs": [
        {
          "output_type": "execute_result",
          "data": {
            "text/plain": [
              "'/content//test (1).json'"
            ]
          },
          "metadata": {
            "tags": []
          },
          "execution_count": 3
        }
      ]
    },
    {
      "cell_type": "code",
      "metadata": {
        "id": "6eMgJcoGcUrL",
        "colab_type": "code",
        "colab": {}
      },
      "source": [
        "def fn(mon):\n",
        "  if(mon == \"01\"):\n",
        "    return \" January\"\n",
        "  if(mon == \"02\"):\n",
        "    return \" February\"\n",
        "  if(mon == \"03\"):\n",
        "    return \" March\"\n",
        "  if(mon == \"04\"):\n",
        "    return \" April\"\n",
        "  if(mon == \"05\"):\n",
        "    return \" May\"\n",
        "  if(mon == \"06\"):\n",
        "    return \" June\"\n",
        "  if(mon == \"07\"):\n",
        "    return \" July\"\n",
        "  if(mon == \"08\"):\n",
        "    return \" August\"\n",
        "  if(mon == \"09\"):\n",
        "    return \" September\"\n",
        "  if(mon == \"10\"):\n",
        "    return \" October\"\n",
        "  if(mon == \"11\"):\n",
        "    return \" November\"\n",
        "  if(mon == \"12\"):\n",
        "    return \" December\"\n",
        "def convert(dat): \n",
        "    return  str(dat[:2]) + fn(str(dat[3:5]))"
      ],
      "execution_count": 0,
      "outputs": []
    },
    {
      "cell_type": "code",
      "metadata": {
        "id": "vyJlOC14WnW3",
        "colab_type": "code",
        "colab": {}
      },
      "source": [
        "dates = np.array([pd.to_datetime(i['date']+\"2020\") for i in json.load(open('national.json',))['cases_time_series']])\n",
        "confirmed = np.array([int(i['dailyconfirmed'])for i in json.load(open('national.json',))['cases_time_series']])\n",
        "deceased = np.array([int(i['dailydeceased'])for i in json.load(open('national.json',))['cases_time_series']])\n",
        "recovered = np.array([int(i['dailyrecovered'])for i in json.load(open('national.json',))['cases_time_series']])\n",
        "\n",
        "confirmed = confirmed[dates>=pd.to_datetime(\"03/04/20\")]\n",
        "deceased = deceased[dates>=pd.to_datetime(\"03/04/20\")]\n",
        "recovered = recovered[dates>=pd.to_datetime(\"03/04/20\")]\n",
        "dates = dates[dates>=pd.to_datetime(\"03/04/20\")]"
      ],
      "execution_count": 0,
      "outputs": []
    },
    {
      "cell_type": "code",
      "metadata": {
        "scrolled": true,
        "id": "xwporaXCWnXA",
        "colab_type": "code",
        "outputId": "c06f4740-e83f-4856-f661-085f19e7d56e",
        "colab": {
          "base_uri": "https://localhost:8080/",
          "height": 17
        }
      },
      "source": [
        "conf = []\n",
        "\n",
        "for n in range(100):\n",
        "    print(\"Iteration: \",n+1,end='\\r')\n",
        "    dataset = np.copy(confirmed)\n",
        "    mean = 13.0+(20.9-8.7)/4*np.random.normal()\n",
        "    sd = 12.7+(26.0-6.4)/4*np.random.normal()\n",
        "    phi = np.sqrt(sd**2 + mean**2)\n",
        "    mu = np.log(mean**2/phi)\n",
        "    sigma = np.sqrt(np.log(phi**2/mean**2))\n",
        "    L = lognorm(s=sigma,scale=np.exp(mu))\n",
        "    for i in range(len(dataset)-1,-1,-1):\n",
        "        send_forward = np.round(L.rvs(dataset[i]))\n",
        "        send_forward = send_forward[i+send_forward<len(dataset)]\n",
        "        dataset[i] = 0\n",
        "        for j in np.unique(np.int32(send_forward)):\n",
        "            dataset[i+j] += np.sum(send_forward==j)\n",
        "    conf.append(dataset)"
      ],
      "execution_count": 6,
      "outputs": [
        {
          "output_type": "stream",
          "text": [
            ""
          ],
          "name": "stdout"
        }
      ]
    },
    {
      "cell_type": "code",
      "metadata": {
        "id": "xrhSandaWnXK",
        "colab_type": "code",
        "outputId": "cd26b193-23c0-40c8-eb20-79a861afc1aa",
        "colab": {
          "base_uri": "https://localhost:8080/",
          "height": 89
        }
      },
      "source": [
        "CFR = np.cumsum(deceased)/np.cumsum(conf,axis=1)\n",
        "col_mean = np.nanmean(CFR, axis=0)\n",
        "inds = np.where(np.isnan(CFR))\n",
        "CFR[inds] = np.take(col_mean, inds[1])"
      ],
      "execution_count": 7,
      "outputs": [
        {
          "output_type": "stream",
          "text": [
            "/usr/local/lib/python3.6/dist-packages/ipykernel_launcher.py:1: RuntimeWarning: divide by zero encountered in true_divide\n",
            "  \"\"\"Entry point for launching an IPython kernel.\n",
            "/usr/local/lib/python3.6/dist-packages/ipykernel_launcher.py:1: RuntimeWarning: invalid value encountered in true_divide\n",
            "  \"\"\"Entry point for launching an IPython kernel.\n"
          ],
          "name": "stderr"
        }
      ]
    },
    {
      "cell_type": "code",
      "metadata": {
        "id": "W6VbmLbTmC-N",
        "colab_type": "code",
        "colab": {}
      },
      "source": [
        "temp=dates\n",
        "dates=[]\n",
        "for i in range(len(temp)):\n",
        "  date=[]\n",
        "  t=(str(temp[i])).split()[0]\n",
        "  m=t[5:7]\n",
        "  d=t[-2:]\n",
        "  #print(m,t)\n",
        "  date.append(d)\n",
        "  date.append('/')\n",
        "  date.append(m)\n",
        "  date=''.join([str(elem) for elem in date])\n",
        "  #print(date)\n",
        "  dates.append(convert(date))"
      ],
      "execution_count": 0,
      "outputs": []
    },
    {
      "cell_type": "code",
      "metadata": {
        "id": "OIywF321WnXX",
        "colab_type": "code",
        "outputId": "2a58189b-64a4-4944-caff-f47b93cb3681",
        "colab": {
          "base_uri": "https://localhost:8080/",
          "height": 53
        }
      },
      "source": [
        "json_data = {}\n",
        "india = {\n",
        "        'dates':dates,\n",
        "        'cfr1_point':list(n2z(np.cumsum(deceased)/np.cumsum(confirmed))),\n",
        "        'cfr2_point':list(n2z(np.cumsum(deceased)/(np.cumsum(deceased)+np.cumsum(recovered)))),\n",
        "        'cfr3_point':list(n2z(np.mean(CFR,axis=0))),\n",
        "        'cfr3_l95':list(n2z(np.quantile(CFR,0.025,axis=0))),\n",
        "        'cfr3_u95':list(n2z(np.quantile(CFR,0.975,axis=0))),\n",
        "        'cfr3_l50':list(n2z(np.quantile(CFR,0.25,axis=0))),\n",
        "        'cfr3_u50':list(n2z(np.quantile(CFR,0.75,axis=0))),\n",
        "        }\n",
        "json_data['India'] = india"
      ],
      "execution_count": 9,
      "outputs": [
        {
          "output_type": "stream",
          "text": [
            "/usr/local/lib/python3.6/dist-packages/ipykernel_launcher.py:5: RuntimeWarning: invalid value encountered in true_divide\n",
            "  \"\"\"\n"
          ],
          "name": "stderr"
        }
      ]
    },
    {
      "cell_type": "code",
      "metadata": {
        "id": "-TNPEM04As9f",
        "colab_type": "code",
        "colab": {}
      },
      "source": [
        "states = list(filter(lambda v:len(v)<3,list(json.load(open('states.json',))['states_daily'][0].keys())))"
      ],
      "execution_count": 0,
      "outputs": []
    },
    {
      "cell_type": "code",
      "metadata": {
        "id": "T377QO_CWnXk",
        "colab_type": "code",
        "colab": {}
      },
      "source": [
        "dates = np.array([pd.to_datetime(i['date']) for i in filter(lambda v: v['status'] == 'Confirmed',json.load(open('states.json',))['states_daily'])])\n",
        "#print(dates)\n",
        "data_recovered = pd.DataFrame()\n",
        "data_deceased = pd.DataFrame()\n",
        "data_confirmed = pd.DataFrame()\n",
        "for st in states:\n",
        "    data_confirmed[st] = np.array([i[st] for i in filter(lambda v: v['status'] == 'Confirmed',json.load(open('states.json',))['states_daily'])])\n",
        "    data_deceased[st] = np.array([i[st] for i in filter(lambda v: v['status'] == 'Deceased',json.load(open('states.json',))['states_daily'])])\n",
        "    data_recovered[st] = np.array([i[st] for i in filter(lambda v: v['status'] == 'Recovered',json.load(open('states.json',))['states_daily'])])"
      ],
      "execution_count": 0,
      "outputs": []
    },
    {
      "cell_type": "code",
      "metadata": {
        "id": "-fkTZLEnBiLi",
        "colab_type": "code",
        "colab": {}
      },
      "source": [
        "data_recovered = data_recovered.replace(r'^\\s*$', np.NaN, regex=True).fillna(0)\n",
        "data_recovered = data_recovered.astype(np.int32)\n",
        "data_confirmed = data_confirmed.replace(r'^\\s*$', np.NaN, regex=True).fillna(0)\n",
        "data_confirmed = data_confirmed.astype(np.int32)\n",
        "data_deceased = data_deceased.replace(r'^\\s*$', np.NaN, regex=True).fillna(0)\n",
        "data_deceased = data_deceased.astype(np.int32)\n",
        "data_deceased['date'] = dates\n",
        "data_recovered['date'] = dates\n",
        "data_confirmed['date'] = dates"
      ],
      "execution_count": 0,
      "outputs": []
    },
    {
      "cell_type": "code",
      "metadata": {
        "id": "0e8kFz1zWnXv",
        "colab_type": "code",
        "outputId": "af7ad297-b7c6-4097-c955-208a2ee113f8",
        "colab": {
          "base_uri": "https://localhost:8080/",
          "height": 627
        }
      },
      "source": [
        "plt.figure(1, figsize=(15, 7))\n",
        "state_id = {\n",
        "  \"kl\":\"Kerala\",\n",
        "  \"mh\":\"Maharashtra\",\n",
        "  \"gj\":\"Gujarat\",\n",
        "  \"dl\":\"Delhi\",\n",
        "  \"rj\":\"Rajasthan\",\n",
        "  \"tn\":\"Tamil Nadu\",\n",
        "  \"mp\":\"Madhya Pradesh\",\n",
        "  \"up\":\"Uttar Pradesh\",\n",
        "  \"tg\":\"Telangana\",\n",
        "  \"ap\":\"Andhra Pradesh\",\n",
        "  \"ka\":\"Karnataka\",\n",
        "  \"wb\":\"West Bengal\",\n",
        "  \"jk\":\"Jammu and Kashmir\",\n",
        "  \"hr\":\"Haryana\",\n",
        "  \"pb\":\"Punjab\",\n",
        "  \"br\":\"Bihar\",\n",
        "  \"or\":\"Odisha\",\n",
        "  \"jh\":\"Jharkand\",\n",
        "  \"ut\":\"Uttarakhand\",\n",
        "  \"hp\":\"Himachal Pradesh\",\n",
        "  \"ct\":\"Chhattisgarh\",\n",
        "  \"as\":\"Assam\",\n",
        "  \"ch\":\"Chandigarh\",\n",
        "  \"la\":\"Ladakh\",\n",
        "  \"an\":\"Andaman and Nicobar Islands\",\n",
        "  \"ml\":\"Meghalaya\",\n",
        "  \"ga\":\"Goa\",\n",
        "  \"py\":\"Puducherry\",\n",
        "  \"mn\":\"Manipur\",\n",
        "  \"tr\":\"Tripura\",\n",
        "  \"ar\":\"Arunachal Pradesh\",\n",
        "  \"mz\":\"Mizoram\" ,\n",
        "}\n",
        "\n",
        "for state in state_id.keys():\n",
        "    boots = 100\n",
        "    conf = []\n",
        "    for n in range(boots):\n",
        "        print(\"Iteration: \",n+1,end='\\r')\n",
        "        dataset = np.copy(data_confirmed[state].values)\n",
        "        mean = 13.0+(20.9-8.7)/4*np.random.normal()\n",
        "        sd = 12.7+(26.0-6.4)/4*np.random.normal()\n",
        "        phi = np.sqrt(sd**2 + mean**2)\n",
        "        mu = np.log(mean**2/phi)\n",
        "        sigma = np.sqrt(np.log(phi**2/mean**2))\n",
        "        L = lognorm(s=sigma,scale=np.exp(mu))\n",
        "        for i in range(len(dataset)-1,-1,-1):\n",
        "            send_forward = np.round(L.rvs(np.max([dataset[i],0])))\n",
        "            send_forward = send_forward[i+send_forward<len(dataset)]\n",
        "            dataset[i] = 0\n",
        "            for j in np.unique(np.int32(send_forward)):\n",
        "                dataset[i+j] += np.sum(send_forward==j)\n",
        "        conf.append(dataset)\n",
        "    CFR = np.cumsum(data_deceased[state].values)/np.cumsum(conf,axis=1)\n",
        "    col_mean = np.nanmean(CFR, axis=0)\n",
        "    inds = np.where(np.isnan(CFR))\n",
        "    CFR[inds] = np.take(col_mean, inds[1])\n",
        "    temp1=list(pd.Series(dates).dt.strftime('%m-%d-%Y'))\n",
        "    #print(temp1[0])\n",
        "    dates1=[]\n",
        "    for i in range(len(temp1)):\n",
        "      date=temp1[i][3:5]+'/'+temp1[i][0:2]\n",
        "      dates1.append(convert(date))\n",
        "    temp = {\n",
        "        'dates':dates1,\n",
        "        'cfr1_point':list(n2z(np.cumsum(data_deceased[state].values)/np.cumsum(data_confirmed[state].values))),\n",
        "        'cfr2_point':list(n2z(np.cumsum(data_deceased[state].values)/(np.cumsum(data_deceased[state].values)+np.cumsum(data_recovered[state].values)))),\n",
        "        'cfr3_point':list(n2z(np.mean(CFR,axis=0))),\n",
        "        'cfr3_l95':list(n2z(np.quantile(CFR,0.025,axis=0))),\n",
        "        'cfr3_u95':list(n2z(np.quantile(CFR,0.975,axis=0))),\n",
        "        'cfr3_l50':list(n2z(np.quantile(CFR,0.25,axis=0))),\n",
        "        'cfr3_u50':list(n2z(np.quantile(CFR,0.75,axis=0))),\n",
        "        }\n",
        "    a=state_id[state]\n",
        "    #print(a)\n",
        "    json_data[str(a)] = temp\n",
        "    plt.plot(temp['cfr3_point'],label=state)\n",
        "plt.legend()"
      ],
      "execution_count": 13,
      "outputs": [
        {
          "output_type": "stream",
          "text": [
            ""
          ],
          "name": "stdout"
        },
        {
          "output_type": "stream",
          "text": [
            "/usr/local/lib/python3.6/dist-packages/ipykernel_launcher.py:56: RuntimeWarning: invalid value encountered in true_divide\n"
          ],
          "name": "stderr"
        },
        {
          "output_type": "stream",
          "text": [
            ""
          ],
          "name": "stdout"
        },
        {
          "output_type": "stream",
          "text": [
            "/usr/local/lib/python3.6/dist-packages/ipykernel_launcher.py:56: RuntimeWarning: divide by zero encountered in true_divide\n",
            "/usr/local/lib/python3.6/dist-packages/ipykernel_launcher.py:69: RuntimeWarning: invalid value encountered in true_divide\n"
          ],
          "name": "stderr"
        },
        {
          "output_type": "stream",
          "text": [
            "Iteration: "
          ],
          "name": "stdout"
        },
        {
          "output_type": "stream",
          "text": [
            "/usr/local/lib/python3.6/dist-packages/ipykernel_launcher.py:57: RuntimeWarning: Mean of empty slice\n",
            "/usr/local/lib/python3.6/dist-packages/ipykernel_launcher.py:68: RuntimeWarning: invalid value encountered in true_divide\n"
          ],
          "name": "stderr"
        },
        {
          "output_type": "stream",
          "text": [
            ""
          ],
          "name": "stdout"
        },
        {
          "output_type": "execute_result",
          "data": {
            "text/plain": [
              "<matplotlib.legend.Legend at 0x7f76da6a7438>"
            ]
          },
          "metadata": {
            "tags": []
          },
          "execution_count": 13
        },
        {
          "output_type": "display_data",
          "data": {
            "image/png": "[encoded data removed]",
            "text/plain": [
              "<Figure size 1080x504 with 1 Axes>"
            ]
          },
          "metadata": {
            "tags": [],
            "needs_background": "light"
          }
        }
      ]
    },
    {
      "cell_type": "code",
      "metadata": {
        "id": "JG4bxq2JWnX7",
        "colab_type": "code",
        "colab": {}
      },
      "source": [
        "with open('cfr.json', 'w') as outfile:\n",
        "    json.dump(json_data, outfile)"
      ],
      "execution_count": 0,
      "outputs": []
    },
    {
      "cell_type": "code",
      "metadata": {
        "id": "2JUFGrCP6krl",
        "colab_type": "code",
        "colab": {}
      },
      "source": [
        "total_confirmed = [x['totalrecovered'].split(' ')[0] for x in json.load(open('national.json',))['cases_time_series']] ## x_cumulative= 'totalconfirmed'\n",
        "daily_confirmed = [x['dailyconfirmed'].split(' ')[0] for x in json.load(open('national.json',))['cases_time_series']] ## x1\n",
        "daily_confirmed_ma=[]\n",
        "daily_confirmed=list(map(int,daily_confirmed))\n",
        "for i in range(7,len(daily_confirmed)):\n",
        "  daily_confirmed_ma.append(sum(daily_confirmed[i-7:i])//7)\n",
        "dates = [x['date'] for x in json.load(open('national.json',))['cases_time_series']]"
      ],
      "execution_count": 0,
      "outputs": []
    },
    {
      "cell_type": "code",
      "metadata": {
        "id": "F6ldldb_VMKW",
        "colab_type": "code",
        "outputId": "376e7c0b-afbd-47f1-fc75-8a67f2ea48ce",
        "colab": {
          "base_uri": "https://localhost:8080/",
          "height": 55
        }
      },
      "source": [
        "dates_dict = {}\n",
        "count=1\n",
        "for i in dates:\n",
        "  if i not in dates_dict.keys():\n",
        "    dates_dict[i]=count\n",
        "    count+=1\n",
        "print(dates_dict)"
      ],
      "execution_count": 16,
      "outputs": [
        {
          "output_type": "stream",
          "text": [
            "{'30 January ': 1, '31 January ': 2, '01 February ': 3, '02 February ': 4, '03 February ': 5, '04 February ': 6, '05 February ': 7, '06 February ': 8, '07 February ': 9, '08 February ': 10, '09 February ': 11, '10 February ': 12, '11 February ': 13, '12 February ': 14, '13 February ': 15, '14 February ': 16, '15 February ': 17, '16 February ': 18, '17 February ': 19, '18 February ': 20, '19 February ': 21, '20 February ': 22, '21 February ': 23, '22 February ': 24, '23 February ': 25, '24 February ': 26, '25 February ': 27, '26 February ': 28, '27 February ': 29, '28 February ': 30, '29 February ': 31, '01 March ': 32, '02 March ': 33, '03 March ': 34, '04 March ': 35, '05 March ': 36, '06 March ': 37, '07 March ': 38, '08 March ': 39, '09 March ': 40, '10 March ': 41, '11 March ': 42, '12 March ': 43, '13 March ': 44, '14 March ': 45, '15 March ': 46, '16 March ': 47, '17 March ': 48, '18 March ': 49, '19 March ': 50, '20 March ': 51, '21 March ': 52, '22 March ': 53, '23 March ': 54, '24 March ': 55, '25 March ': 56, '26 March ': 57, '27 March ': 58, '28 March ': 59, '29 March ': 60, '30 March ': 61, '31 March ': 62, '01 April ': 63, '02 April ': 64, '03 April ': 65, '04 April ': 66, '05 April ': 67, '06 April ': 68, '07 April ': 69, '08 April ': 70, '09 April ': 71, '10 April ': 72, '11 April ': 73, '12 April ': 74, '13 April ': 75, '14 April ': 76, '15 April ': 77, '16 April ': 78, '17 April ': 79, '18 April ': 80, '19 April ': 81, '20 April ': 82, '21 April ': 83, '22 April ': 84, '23 April ': 85, '24 April ': 86, '25 April ': 87, '26 April ': 88, '27 April ': 89, '28 April ': 90, '29 April ': 91, '30 April ': 92, '01 May ': 93, '02 May ': 94, '03 May ': 95, '04 May ': 96, '05 May ': 97, '06 May ': 98, '07 May ': 99, '08 May ': 100, '09 May ': 101, '10 May ': 102, '11 May ': 103, '12 May ': 104, '13 May ': 105, '14 May ': 106, '15 May ': 107, '16 May ': 108, '17 May ': 109, '18 May ': 110, '19 May ': 111, '20 May ': 112, '21 May ': 113, '22 May ': 114, '23 May ': 115, '24 May ': 116, '25 May ': 117, '26 May ': 118, '27 May ': 119, '28 May ': 120, '29 May ': 121, '30 May ': 122, '31 May ': 123, '01 June ': 124}\n"
          ],
          "name": "stdout"
        }
      ]
    },
    {
      "cell_type": "code",
      "metadata": {
        "id": "VpXtUkhyhGQ5",
        "colab_type": "code",
        "colab": {}
      },
      "source": [
        "def convert(dat): \n",
        "    return  str(dat[:2]) + fn(str(dat[3:5]))"
      ],
      "execution_count": 0,
      "outputs": []
    },
    {
      "cell_type": "code",
      "metadata": {
        "id": "3SYxC6Y1hHRV",
        "colab_type": "code",
        "colab": {}
      },
      "source": [
        "datest=[x['updatetimestamp'].split(' ')[0] for x in json.load(open('national.json',))['tested']]\n",
        "#totalcumulative_tested = [] #y_cumulative\n",
        "y_cumulative1=[x['totalsamplestested'] for x in json.load(open('national.json',))['tested']]\n",
        "dates1=[]\n",
        "for i in (datest):\n",
        "  dates1.append(convert(i))\n",
        "datestest = []\n",
        "datestest.append(dates1[0])\n",
        "y_cumulative = []\n",
        "y_cumulative.append(y_cumulative1[0])\n",
        "### y = 'totalsamplestested'\n",
        "#daily_tested = [] # y1 (y_cumulative2-ycumulative1)\n",
        "for i in range(1,len(dates1)):\n",
        "  if (dates1[i]==dates1[i-1]):\n",
        "    y_cumulative[-1]=y_cumulative1[i]\n",
        "  else:\n",
        "    datestest.append(dates1[i])\n",
        "    y_cumulative.append(y_cumulative1[i])\n",
        "daily_tested=[]\n",
        "daily_tested.append(y_cumulative[0])\n",
        "for i in range(1,len(y_cumulative)):\n",
        "  if (len(y_cumulative[i])!=0):\n",
        "    a=int(y_cumulative[i])-int(y_cumulative[i-1])\n",
        "    daily_tested.append(a)\n",
        "  else:\n",
        "    y_cumulative[i]=y_cumulative[i-1]\n",
        "    daily_tested.append(0)\n",
        "var=0\n",
        "pos_rate_cum=['']*len(dates)\n",
        "daily_pos_rate=['']*len(dates)\n",
        "for i in range(len(datestest)):\n",
        "  for j in range(var,len(dates)):\n",
        "    if (datestest[i]==dates[j][0:-1]):\n",
        "      if (int(daily_tested[i])!=0):\n",
        "        daily_pos_rate[j]=(int(daily_confirmed[j])/int(daily_tested[i]))\n",
        "        pos_rate_cum[j]=(int(total_confirmed[j])/int(y_cumulative[i]))\n",
        "      else:\n",
        "        daily_pos_rate[j]=('')\n",
        "      var=j\n",
        "      break\n",
        "#print(len(y_cumulative))\n",
        "#daily_confirmed_7day_moving = []\n",
        "## India : date : []\n",
        "##        cumulative pos rate : [] x_cum/y_cum\n",
        "##        daily_pos_rate : []  (after taking moving avg) -> 7 observation moving avg\n",
        "## daily confirmed : [] (7 day moving average)"
      ],
      "execution_count": 0,
      "outputs": []
    },
    {
      "cell_type": "code",
      "metadata": {
        "id": "nStuZRVIeYW9",
        "colab_type": "code",
        "outputId": "8ed9a8ef-890a-47fc-b7ac-8127e72fd72a",
        "colab": {
          "base_uri": "https://localhost:8080/",
          "height": 35
        }
      },
      "source": [
        "# daily_pos_rate_ma=[]\n",
        "# count=0\n",
        "# for i in range(len(dates)):\n",
        "\n",
        "# (India & states)\n",
        "# Daily confirmed 2 lists : simple, moving avg\n",
        "# Pos rate : cumulative \n",
        "#          : Daily - 2 lists simple, moving avg\n",
        "len(daily_pos_rate)"
      ],
      "execution_count": 19,
      "outputs": [
        {
          "output_type": "execute_result",
          "data": {
            "text/plain": [
              "124"
            ]
          },
          "metadata": {
            "tags": []
          },
          "execution_count": 19
        }
      ]
    },
    {
      "cell_type": "code",
      "metadata": {
        "id": "Fvcjz9x_PySN",
        "colab_type": "code",
        "colab": {}
      },
      "source": [
        "daily_pos_rate_ma=['']*len(dates)\n",
        "from statistics import mean\n",
        "count=0\n",
        "temp=['']*len(dates)\n",
        "\n",
        "i=0\n",
        "l=len(dates)\n",
        "#print(datestest)\n",
        "# for i in range(len(dates)):\n",
        "#print(daily_pos_rate)\n",
        "\n",
        "while i<l:\n",
        "  # print(i)\n",
        "  count+=1\n",
        "  for j in range(len(datestest)):\n",
        "    if (dates[i][0:-1]==datestest[j]):\n",
        "      a=daily_pos_rate[i]\n",
        "      temp[i]=str(a)\n",
        "      #print(daily_pos_rate[j])\n",
        "      #break\n",
        "   \n",
        "  #print(temp)\n",
        "  \n",
        "  for k in range(7,len(temp)):\n",
        "    sum=0\n",
        "    counter=0\n",
        "    for m in range(0,7):\n",
        "      if (len(str(temp[k-m]))!=0):\n",
        "        sum+=float(temp[k-m])\n",
        "      else:\n",
        "        counter+=1\n",
        "    if ((7-counter)!=0):\n",
        "      daily_pos_rate_ma[k]=(sum/(7-counter))\n",
        "      #daily_pos_rate_ma.append(sum/(7-counter))\n",
        "     \n",
        "  i=i+1\n",
        "  '''\n",
        "  if (count==7):\n",
        "    #print(temp)\n",
        "    if (len(temp)>0):\n",
        "      daily_pos_rate_ma.append(mean(temp))\n",
        "      temp=[]\n",
        "    else:\n",
        "      daily_pos_rate_ma.append(0)\n",
        "    count=0\n",
        "    i=i-6\n",
        "  '''"
      ],
      "execution_count": 0,
      "outputs": []
    },
    {
      "cell_type": "code",
      "metadata": {
        "id": "NEMGRp4MCPDO",
        "colab_type": "code",
        "colab": {}
      },
      "source": [
        "india_dates = dates\n",
        "india_daily_confirmed = daily_confirmed\n",
        "india_daily_confirmed_ma = daily_confirmed_ma\n",
        "india_total_confirmed = total_confirmed\n",
        "india_daily_pos_rate_ma = daily_pos_rate_ma\n",
        "india_pos_rate_cum = pos_rate_cum\n",
        "india_daily_pos_rate = daily_pos_rate\n",
        "# nationwide={\n",
        "#     'dates':dates,\n",
        "#     'daily_confirmed':daily_confirmed,\n",
        "#     'daily_confirmed_ma':daily_confirmed_ma,\n",
        "#     'daily_total':total_confirmed,\n",
        "#     'daily_positve_rate_ma':daily_pos_rate_ma\n",
        "# }\n",
        "# with open('nation.json', 'w') as outfile:\n",
        "#     json.dump(nationwide, outfile)"
      ],
      "execution_count": 0,
      "outputs": []
    },
    {
      "cell_type": "markdown",
      "metadata": {
        "id": "Pwh5O3yAWnYF",
        "colab_type": "text"
      },
      "source": [
        "### State Level Data"
      ]
    },
    {
      "cell_type": "code",
      "metadata": {
        "id": "oAcwapcpbw8l",
        "colab_type": "code",
        "colab": {}
      },
      "source": [
        "testing = {}\n",
        "states = np.unique([x['state'] for x in json.load(open('test.json',))['states_tested_data']])\n",
        "for st in states:\n",
        "  state_dates = []\n",
        "  pos_cum=['']*len(dates)\n",
        "  daily_pos=['']*len(dates)\n",
        "  daily_pos_ma=['']*len(dates)\n",
        "  daily_tested=['']*len(dates)\n",
        "  daily_pos_rate=['']*len(dates)\n",
        "  daily_pos_rate_ma=['']*len(dates)\n",
        "  tested_cum=['']*len(dates)\n",
        "  tested_daily=['']*len(dates)\n",
        "  state_date = [x['updatedon'] for x in filter(lambda v: v['state'] == st,json.load(open('test.json',))['states_tested_data'])]\n",
        "  rates = [x['testpositivityrate'] for x in filter(lambda v: v['state'] == st,json.load(open('test.json',))['states_tested_data'])]\n",
        "  #print(state_date)\n",
        "  for i in (state_date):\n",
        "    state_dates.append(convert(i))\n",
        "  for i in range(len(dates)):\n",
        "    for j in range(len(state_dates)):\n",
        "      sum=0\n",
        "      count=0\n",
        "      sum1=0\n",
        "      count1=0\n",
        "      if (dates[i][:-1]==state_dates[j]):\n",
        "        pos_cum[i] = [x['positive'] for x in filter(lambda v: v['state'] == st,json.load(open('test.json',))['states_tested_data'])][j]\n",
        "        tested_cum[i] = [x['totaltested'] for x in filter(lambda v: v['state'] == st,json.load(open('test.json',))['states_tested_data'])][j]\n",
        "        if (j==0):\n",
        "          daily_pos[i]=pos_cum[j]\n",
        "          daily_tested[i]=tested_cum[j]\n",
        "        if(len(pos_cum[i])!=0 and len(pos_cum[i-1])!=0):\n",
        "          daily_pos[i]=int(pos_cum[i])-int(pos_cum[i-1]) \n",
        "          #print(daily_pos[i])\n",
        "        if(st=='Andaman and Nicobar Islands'):\n",
        "          daily_pos[i]=pos_cum[i]\n",
        "        if(len(tested_cum[i])!=0 and len(tested_cum[i-1])!=0):\n",
        "          daily_tested[i]=(int(tested_cum[i])-int(tested_cum[i-1]))\n",
        "          #if(st=='Maharashtra'):\n",
        "            #print(tested_cum[i],daily_tested[i])\n",
        "        if (j>6):\n",
        "          for k in range(0,7):\n",
        "            if (len(str(daily_pos[i-k]))!=0):\n",
        "              count+=1\n",
        "              sum+=daily_pos[i-k]\n",
        "          if (count!=0):\n",
        "            daily_pos_ma[i]=sum/count\n",
        "          if(len(str(daily_tested[i]))!=0 and daily_tested[i]!=0 and len(str(daily_pos[i]))!=0 ):\n",
        "            daily_pos_rate[i]=(int(daily_pos[i])/int(daily_tested[i]))\n",
        "        if (j>6):\n",
        "          for k in range(0,7):\n",
        "            if (len(str(daily_pos_rate[i-k]))!=0):\n",
        "              count1+=1\n",
        "              sum1+=daily_pos_rate[i-k]\n",
        "            if (count1!=0):\n",
        "             daily_pos_rate_ma[i]=sum1/count1\n",
        "  testing[st] = {\n",
        "                    'dates':dates,\n",
        "                    'positivity_rate_cumulative':rates,\n",
        "                    'daily_positive_cases':daily_pos,\n",
        "                    'daily_positivity_rate':daily_pos_rate,\n",
        "                    'daily_positive_cases_ma': daily_pos_ma,\n",
        "                    'daily_positivity_rate_ma':daily_pos_rate_ma ,           \n",
        "                  }\n",
        "testing['India'] = {\n",
        "                    'dates': india_dates,\n",
        "                    'positivity_rate_cumulative': india_pos_rate_cum,\n",
        "                    'daily_positive_cases': india_daily_confirmed,\n",
        "                    'daily_positivity_rate': india_daily_pos_rate,\n",
        "                    'daily_positive_cases_ma': india_daily_confirmed_ma,\n",
        "                    'daily_positivity_rate_ma': india_daily_pos_rate_ma,\n",
        "                  }\n"
      ],
      "execution_count": 0,
      "outputs": []
    },
    {
      "cell_type": "code",
      "metadata": {
        "id": "j-Ll534S9Wb7",
        "colab_type": "code",
        "colab": {}
      },
      "source": [
        "with open('positivity_Rate.json', 'w') as outfile:\n",
        "    json.dump(testing, outfile)"
      ],
      "execution_count": 0,
      "outputs": []
    },
    {
      "cell_type": "code",
      "metadata": {
        "id": "pSHwtZNCWnZA",
        "colab_type": "code",
        "outputId": "038f79fc-e756-4609-8eda-148636ea822a",
        "colab": {
          "base_uri": "https://localhost:8080/",
          "height": 611
        }
      },
      "source": [
        "for x in json_data:\n",
        "    print(len(json_data[x][\"cfr3_point\"]))"
      ],
      "execution_count": 24,
      "outputs": [
        {
          "output_type": "stream",
          "text": [
            "90\n",
            "80\n",
            "80\n",
            "80\n",
            "80\n",
            "80\n",
            "80\n",
            "80\n",
            "80\n",
            "80\n",
            "80\n",
            "80\n",
            "80\n",
            "80\n",
            "80\n",
            "80\n",
            "80\n",
            "80\n",
            "80\n",
            "80\n",
            "80\n",
            "80\n",
            "80\n",
            "80\n",
            "80\n",
            "80\n",
            "80\n",
            "80\n",
            "80\n",
            "80\n",
            "80\n",
            "80\n",
            "80\n"
          ],
          "name": "stdout"
        }
      ]
    },
    {
      "cell_type": "code",
      "metadata": {
        "id": "rQ0xG1mwoLjZ",
        "colab_type": "code",
        "colab": {}
      },
      "source": [
        ""
      ],
      "execution_count": 0,
      "outputs": []
    }
  ]
}