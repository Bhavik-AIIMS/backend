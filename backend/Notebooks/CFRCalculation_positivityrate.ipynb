{
  "nbformat": 4,
  "nbformat_minor": 0,
  "metadata": {
    "kernelspec": {
      "display_name": "Python (tensorflow)",
      "language": "python",
      "name": "tensorflow"
    },
    "language_info": {
      "codemirror_mode": {
        "name": "ipython",
        "version": 3
      },
      "file_extension": ".py",
      "mimetype": "text/x-python",
      "name": "python",
      "nbconvert_exporter": "python",
      "pygments_lexer": "ipython3",
      "version": "3.6.8"
    },
    "colab": {
      "name": "CFRCalculation_positivityrate.ipynb",
      "provenance": [],
      "collapsed_sections": [],
      "toc_visible": true
    },
    "accelerator": "GPU"
  },
  "cells": [
    {
      "cell_type": "code",
      "metadata": {
        "id": "BrAGPZahatRy",
        "colab_type": "code",
        "outputId": "2bbc5320-3824-4434-8d4c-18c6c545bea3",
        "colab": {
          "base_uri": "https://localhost:8080/",
          "height": 179
        }
      },
      "source": [
        "!pip install wget"
      ],
      "execution_count": 1,
      "outputs": [
        {
          "output_type": "stream",
          "text": [
            "Collecting wget\n",
            "  Downloading https://files.pythonhosted.org/packages/47/6a/62e288da7bcda82b935ff0c6cfe542970f04e29c756b0e147251b2fb251f/wget-3.2.zip\n",
            "Building wheels for collected packages: wget\n",
            "  Building wheel for wget (setup.py) ... \u001b[?25l\u001b[?25hdone\n",
            "  Created wheel for wget: filename=wget-3.2-cp36-none-any.whl size=9682 sha256=0420a0f0edf1cdd8ebaa5a7e1c6b1b4d95204ea7e3409efbf64036610d671595\n",
            "  Stored in directory: /root/.cache/pip/wheels/40/15/30/7d8f7cea2902b4db79e3fea550d7d7b85ecb27ef992b618f3f\n",
            "Successfully built wget\n",
            "Installing collected packages: wget\n",
            "Successfully installed wget-3.2\n"
          ],
          "name": "stdout"
        }
      ]
    },
    {
      "cell_type": "code",
      "metadata": {
        "id": "YVYpa1FfWnWn",
        "colab_type": "code",
        "outputId": "b478d702-7a3e-4f40-bc97-b0d2f8f6cbe3",
        "colab": {
          "base_uri": "https://localhost:8080/",
          "height": 127
        }
      },
      "source": [
        "import numpy as np\n",
        "import matplotlib.pyplot as plt\n",
        "import pandas as pd\n",
        "from subprocess import call\n",
        "from scipy.stats.distributions import gamma,lognorm\n",
        "import json \n",
        "import wget\n",
        "import os\n",
        "import os.path\n",
        "from google.colab import drive\n",
        "# os.chdir('/content/gdrive/My Drive')\n",
        "drive.mount('/content/gdrive')"
      ],
      "execution_count": 2,
      "outputs": [
        {
          "output_type": "stream",
          "text": [
            "Go to this URL in a browser: https://accounts.google.com/o/oauth2/auth?client_id=947318989803-6bn6qk8qdgf4n4g3pfee6491hc0brc4i.apps.googleusercontent.com&redirect_uri=urn%3aietf%3awg%3aoauth%3a2.0%3aoob&response_type=code&scope=email%20https%3a%2f%2fwww.googleapis.com%2fauth%2fdocs.test%20https%3a%2f%2fwww.googleapis.com%2fauth%2fdrive%20https%3a%2f%2fwww.googleapis.com%2fauth%2fdrive.photos.readonly%20https%3a%2f%2fwww.googleapis.com%2fauth%2fpeopleapi.readonly\n",
            "\n",
            "Enter your authorization code:\n",
            "··········\n",
            "Mounted at /content/gdrive\n"
          ],
          "name": "stdout"
        }
      ]
    },
    {
      "cell_type": "code",
      "metadata": {
        "id": "Jk2LDIwJAFWU",
        "colab_type": "code",
        "outputId": "f76db4b7-6da1-4174-f0e1-bf284140bf43",
        "colab": {
          "base_uri": "https://localhost:8080/",
          "height": 35
        }
      },
      "source": [
        "def n2z(x):\n",
        "    x[np.logical_or(np.isnan(x),np.isinf(x))] = 0\n",
        "    return x\n",
        "\n",
        "if os.path.exists(os.getcwd()+\"\\\\national.json\"):\n",
        "    os.remove(os.getcwd()+\"\\\\national.json\")\n",
        "wget.download('https://api.covid19india.org/data.json', os.getcwd()+\"//national.json\")\n",
        "\n",
        "if os.path.exists(os.getcwd()+\"\\\\states.json\"):\n",
        "    os.remove(os.getcwd()+\"\\\\states.json\")\n",
        "wget.download('https://api.covid19india.org/states_daily.json', os.getcwd()+\"//states.json\")\n",
        "\n",
        "if os.path.exists(os.getcwd()+\"\\\\test.json\"):\n",
        "    os.remove(os.getcwd()+\"\\\\test.json\")\n",
        "wget.download('https://api.covid19india.org/state_test_data.json', os.getcwd()+\"//test.json\")"
      ],
      "execution_count": 3,
      "outputs": [
        {
          "output_type": "execute_result",
          "data": {
            "text/plain": [
              "'/content//test.json'"
            ]
          },
          "metadata": {
            "tags": []
          },
          "execution_count": 3
        }
      ]
    },
    {
      "cell_type": "code",
      "metadata": {
        "id": "SPTNDutlus2X",
        "colab_type": "code",
        "colab": {}
      },
      "source": [
        "dataset=pd.read_csv('/content/gdrive/My Drive/population.csv')"
      ],
      "execution_count": 0,
      "outputs": []
    },
    {
      "cell_type": "code",
      "metadata": {
        "id": "mfv0_kipvTIo",
        "colab_type": "code",
        "outputId": "885af38b-3337-480b-e862-d18dcd9206c6",
        "colab": {
          "base_uri": "https://localhost:8080/",
          "height": 1000
        }
      },
      "source": [
        "population=pd.DataFrame()\n",
        "population[\"State\"]=dataset['State'][:37]\n",
        "population[\"Population\"]=dataset['Population'][:37]\n",
        "population"
      ],
      "execution_count": 5,
      "outputs": [
        {
          "output_type": "execute_result",
          "data": {
            "text/html": [
              "<div>\n",
              "<style scoped>\n",
              "    .dataframe tbody tr th:only-of-type {\n",
              "        vertical-align: middle;\n",
              "    }\n",
              "\n",
              "    .dataframe tbody tr th {\n",
              "        vertical-align: top;\n",
              "    }\n",
              "\n",
              "    .dataframe thead th {\n",
              "        text-align: right;\n",
              "    }\n",
              "</style>\n",
              "<table border=\"1\" class=\"dataframe\">\n",
              "  <thead>\n",
              "    <tr style=\"text-align: right;\">\n",
              "      <th></th>\n",
              "      <th>State</th>\n",
              "      <th>Population</th>\n",
              "    </tr>\n",
              "  </thead>\n",
              "  <tbody>\n",
              "    <tr>\n",
              "      <th>0</th>\n",
              "      <td>Delhi</td>\n",
              "      <td>18710922</td>\n",
              "    </tr>\n",
              "    <tr>\n",
              "      <th>1</th>\n",
              "      <td>Haryana</td>\n",
              "      <td>28204692</td>\n",
              "    </tr>\n",
              "    <tr>\n",
              "      <th>2</th>\n",
              "      <td>Kerala</td>\n",
              "      <td>35699443</td>\n",
              "    </tr>\n",
              "    <tr>\n",
              "      <th>3</th>\n",
              "      <td>Himachal Pradesh</td>\n",
              "      <td>7451955</td>\n",
              "    </tr>\n",
              "    <tr>\n",
              "      <th>4</th>\n",
              "      <td>Punjab</td>\n",
              "      <td>30141373</td>\n",
              "    </tr>\n",
              "    <tr>\n",
              "      <th>5</th>\n",
              "      <td>Telangana</td>\n",
              "      <td>39362732</td>\n",
              "    </tr>\n",
              "    <tr>\n",
              "      <th>6</th>\n",
              "      <td>Goa</td>\n",
              "      <td>1586250</td>\n",
              "    </tr>\n",
              "    <tr>\n",
              "      <th>7</th>\n",
              "      <td>Uttarakhand</td>\n",
              "      <td>11250858</td>\n",
              "    </tr>\n",
              "    <tr>\n",
              "      <th>8</th>\n",
              "      <td>Chandigarh</td>\n",
              "      <td>1158473</td>\n",
              "    </tr>\n",
              "    <tr>\n",
              "      <th>9</th>\n",
              "      <td>Gujarat</td>\n",
              "      <td>63872399</td>\n",
              "    </tr>\n",
              "    <tr>\n",
              "      <th>10</th>\n",
              "      <td>Lakshadweep</td>\n",
              "      <td>73183</td>\n",
              "    </tr>\n",
              "    <tr>\n",
              "      <th>11</th>\n",
              "      <td>Dadra and Nagar Haveli and Daman and Diu</td>\n",
              "      <td>615724</td>\n",
              "    </tr>\n",
              "    <tr>\n",
              "      <th>12</th>\n",
              "      <td>Tamil Nadu</td>\n",
              "      <td>77841267</td>\n",
              "    </tr>\n",
              "    <tr>\n",
              "      <th>13</th>\n",
              "      <td>Chhattisgarh</td>\n",
              "      <td>29436231</td>\n",
              "    </tr>\n",
              "    <tr>\n",
              "      <th>14</th>\n",
              "      <td>Andaman and Nicobar Islands</td>\n",
              "      <td>417036</td>\n",
              "    </tr>\n",
              "    <tr>\n",
              "      <th>15</th>\n",
              "      <td>Maharashtra</td>\n",
              "      <td>123144223</td>\n",
              "    </tr>\n",
              "    <tr>\n",
              "      <th>16</th>\n",
              "      <td>Karnataka</td>\n",
              "      <td>67562686</td>\n",
              "    </tr>\n",
              "    <tr>\n",
              "      <th>17</th>\n",
              "      <td>West Bengal</td>\n",
              "      <td>99609303</td>\n",
              "    </tr>\n",
              "    <tr>\n",
              "      <th>18</th>\n",
              "      <td>Odisha</td>\n",
              "      <td>46356334</td>\n",
              "    </tr>\n",
              "    <tr>\n",
              "      <th>19</th>\n",
              "      <td>Puducherry</td>\n",
              "      <td>1413542</td>\n",
              "    </tr>\n",
              "    <tr>\n",
              "      <th>20</th>\n",
              "      <td>Andhra Pradesh</td>\n",
              "      <td>53903393</td>\n",
              "    </tr>\n",
              "    <tr>\n",
              "      <th>21</th>\n",
              "      <td>Jharkhand</td>\n",
              "      <td>38593948</td>\n",
              "    </tr>\n",
              "    <tr>\n",
              "      <th>22</th>\n",
              "      <td>Mizoram</td>\n",
              "      <td>1239244</td>\n",
              "    </tr>\n",
              "    <tr>\n",
              "      <th>23</th>\n",
              "      <td>Tripura</td>\n",
              "      <td>4169794</td>\n",
              "    </tr>\n",
              "    <tr>\n",
              "      <th>24</th>\n",
              "      <td>Madhya Pradesh</td>\n",
              "      <td>85358965</td>\n",
              "    </tr>\n",
              "    <tr>\n",
              "      <th>25</th>\n",
              "      <td>Uttar Pradesh</td>\n",
              "      <td>237882725</td>\n",
              "    </tr>\n",
              "    <tr>\n",
              "      <th>26</th>\n",
              "      <td>Rajasthan</td>\n",
              "      <td>81032689</td>\n",
              "    </tr>\n",
              "    <tr>\n",
              "      <th>27</th>\n",
              "      <td>Sikkim</td>\n",
              "      <td>690251</td>\n",
              "    </tr>\n",
              "    <tr>\n",
              "      <th>28</th>\n",
              "      <td>Bihar</td>\n",
              "      <td>124799926</td>\n",
              "    </tr>\n",
              "    <tr>\n",
              "      <th>29</th>\n",
              "      <td>Manipur</td>\n",
              "      <td>3091545</td>\n",
              "    </tr>\n",
              "    <tr>\n",
              "      <th>30</th>\n",
              "      <td>Arunachal Pradesh</td>\n",
              "      <td>1570458</td>\n",
              "    </tr>\n",
              "    <tr>\n",
              "      <th>31</th>\n",
              "      <td>Jammu and Kashmir</td>\n",
              "      <td>13606320</td>\n",
              "    </tr>\n",
              "    <tr>\n",
              "      <th>32</th>\n",
              "      <td>Ladakh</td>\n",
              "      <td>289023</td>\n",
              "    </tr>\n",
              "    <tr>\n",
              "      <th>33</th>\n",
              "      <td>Nagaland</td>\n",
              "      <td>2249695</td>\n",
              "    </tr>\n",
              "    <tr>\n",
              "      <th>34</th>\n",
              "      <td>Meghalaya</td>\n",
              "      <td>3366710</td>\n",
              "    </tr>\n",
              "    <tr>\n",
              "      <th>35</th>\n",
              "      <td>Assam</td>\n",
              "      <td>35607039</td>\n",
              "    </tr>\n",
              "    <tr>\n",
              "      <th>36</th>\n",
              "      <td>India</td>\n",
              "      <td>1371360350</td>\n",
              "    </tr>\n",
              "  </tbody>\n",
              "</table>\n",
              "</div>"
            ],
            "text/plain": [
              "                                       State  Population\n",
              "0                                      Delhi    18710922\n",
              "1                                    Haryana    28204692\n",
              "2                                     Kerala    35699443\n",
              "3                           Himachal Pradesh     7451955\n",
              "4                                     Punjab    30141373\n",
              "5                                  Telangana    39362732\n",
              "6                                        Goa     1586250\n",
              "7                                Uttarakhand    11250858\n",
              "8                                 Chandigarh     1158473\n",
              "9                                    Gujarat    63872399\n",
              "10                               Lakshadweep       73183\n",
              "11  Dadra and Nagar Haveli and Daman and Diu      615724\n",
              "12                                Tamil Nadu    77841267\n",
              "13                              Chhattisgarh    29436231\n",
              "14               Andaman and Nicobar Islands      417036\n",
              "15                               Maharashtra   123144223\n",
              "16                                 Karnataka    67562686\n",
              "17                               West Bengal    99609303\n",
              "18                                    Odisha    46356334\n",
              "19                                Puducherry     1413542\n",
              "20                            Andhra Pradesh    53903393\n",
              "21                                 Jharkhand    38593948\n",
              "22                                   Mizoram     1239244\n",
              "23                                   Tripura     4169794\n",
              "24                            Madhya Pradesh    85358965\n",
              "25                             Uttar Pradesh   237882725\n",
              "26                                 Rajasthan    81032689\n",
              "27                                    Sikkim      690251\n",
              "28                                     Bihar   124799926\n",
              "29                                   Manipur     3091545\n",
              "30                         Arunachal Pradesh     1570458\n",
              "31                         Jammu and Kashmir    13606320\n",
              "32                                    Ladakh      289023\n",
              "33                                  Nagaland     2249695\n",
              "34                                 Meghalaya     3366710\n",
              "35                                     Assam    35607039\n",
              "36                                     India  1371360350"
            ]
          },
          "metadata": {
            "tags": []
          },
          "execution_count": 5
        }
      ]
    },
    {
      "cell_type": "code",
      "metadata": {
        "id": "6eMgJcoGcUrL",
        "colab_type": "code",
        "colab": {}
      },
      "source": [
        "def fn(mon):\n",
        "  if(mon == \"01\"):\n",
        "    return \" January\"\n",
        "  if(mon == \"02\"):\n",
        "    return \" February\"\n",
        "  if(mon == \"03\"):\n",
        "    return \" March\"\n",
        "  if(mon == \"04\"):\n",
        "    return \" April\"\n",
        "  if(mon == \"05\"):\n",
        "    return \" May\"\n",
        "  if(mon == \"06\"):\n",
        "    return \" June\"\n",
        "  if(mon == \"07\"):\n",
        "    return \" July\"\n",
        "  if(mon == \"08\"):\n",
        "    return \" August\"\n",
        "  if(mon == \"09\"):\n",
        "    return \" September\"\n",
        "  if(mon == \"10\"):\n",
        "    return \" October\"\n",
        "  if(mon == \"11\"):\n",
        "    return \" November\"\n",
        "  if(mon == \"12\"):\n",
        "    return \" December\"\n",
        "def convert(dat): \n",
        "    return  str(dat[:2]) + fn(str(dat[3:5]))"
      ],
      "execution_count": 0,
      "outputs": []
    },
    {
      "cell_type": "code",
      "metadata": {
        "id": "vyJlOC14WnW3",
        "colab_type": "code",
        "colab": {}
      },
      "source": [
        "dates = np.array([pd.to_datetime(i['date']+\"2020\") for i in json.load(open('national.json',))['cases_time_series']])\n",
        "confirmed = np.array([int(i['dailyconfirmed'])for i in json.load(open('national.json',))['cases_time_series']])\n",
        "deceased = np.array([int(i['dailydeceased'])for i in json.load(open('national.json',))['cases_time_series']])\n",
        "recovered = np.array([int(i['dailyrecovered'])for i in json.load(open('national.json',))['cases_time_series']])\n",
        "\n",
        "confirmed = confirmed[dates>=pd.to_datetime(\"03/04/20\")]\n",
        "deceased = deceased[dates>=pd.to_datetime(\"03/04/20\")]\n",
        "recovered = recovered[dates>=pd.to_datetime(\"03/04/20\")]\n",
        "dates = dates[dates>=pd.to_datetime(\"03/04/20\")]"
      ],
      "execution_count": 0,
      "outputs": []
    },
    {
      "cell_type": "code",
      "metadata": {
        "scrolled": true,
        "id": "xwporaXCWnXA",
        "colab_type": "code",
        "outputId": "ce7ab774-082c-425e-c644-c89e0d6f8cad",
        "colab": {
          "base_uri": "https://localhost:8080/",
          "height": 17
        }
      },
      "source": [
        "conf = []\n",
        "\n",
        "for n in range(100):\n",
        "    print(\"Iteration: \",n+1,end='\\r')\n",
        "    dataset = np.copy(confirmed)\n",
        "    mean = 13.0+(20.9-8.7)/4*np.random.normal()\n",
        "    sd = 12.7+(26.0-6.4)/4*np.random.normal()\n",
        "    phi = np.sqrt(sd**2 + mean**2)\n",
        "    mu = np.log(mean**2/phi)\n",
        "    sigma = np.sqrt(np.log(phi**2/mean**2))\n",
        "    L = lognorm(s=sigma,scale=np.exp(mu))\n",
        "    for i in range(len(dataset)-1,-1,-1):\n",
        "        send_forward = np.round(L.rvs(dataset[i]))\n",
        "        send_forward = send_forward[i+send_forward<len(dataset)]\n",
        "        dataset[i] = 0\n",
        "        for j in np.unique(np.int32(send_forward)):\n",
        "            dataset[i+j] += np.sum(send_forward==j)\n",
        "    conf.append(dataset)"
      ],
      "execution_count": 8,
      "outputs": [
        {
          "output_type": "stream",
          "text": [
            ""
          ],
          "name": "stdout"
        }
      ]
    },
    {
      "cell_type": "code",
      "metadata": {
        "id": "xrhSandaWnXK",
        "colab_type": "code",
        "outputId": "671fdf85-d64a-4d88-ae7f-8cadbc618e77",
        "colab": {
          "base_uri": "https://localhost:8080/",
          "height": 89
        }
      },
      "source": [
        "CFR = np.cumsum(deceased)/np.cumsum(conf,axis=1)\n",
        "col_mean = np.nanmean(CFR, axis=0)\n",
        "inds = np.where(np.isnan(CFR))\n",
        "CFR[inds] = np.take(col_mean, inds[1])"
      ],
      "execution_count": 9,
      "outputs": [
        {
          "output_type": "stream",
          "text": [
            "/usr/local/lib/python3.6/dist-packages/ipykernel_launcher.py:1: RuntimeWarning: divide by zero encountered in true_divide\n",
            "  \"\"\"Entry point for launching an IPython kernel.\n",
            "/usr/local/lib/python3.6/dist-packages/ipykernel_launcher.py:1: RuntimeWarning: invalid value encountered in true_divide\n",
            "  \"\"\"Entry point for launching an IPython kernel.\n"
          ],
          "name": "stderr"
        }
      ]
    },
    {
      "cell_type": "code",
      "metadata": {
        "id": "W6VbmLbTmC-N",
        "colab_type": "code",
        "colab": {}
      },
      "source": [
        "temp=dates\n",
        "dates=[]\n",
        "for i in range(len(temp)):\n",
        "  date=[]\n",
        "  t=(str(temp[i])).split()[0]\n",
        "  m=t[5:7]\n",
        "  d=t[-2:]\n",
        "  #print(m,t)\n",
        "  date.append(d)\n",
        "  date.append('/')\n",
        "  date.append(m)\n",
        "  date=''.join([str(elem) for elem in date])\n",
        "  #print(date)\n",
        "  dates.append(convert(date))"
      ],
      "execution_count": 0,
      "outputs": []
    },
    {
      "cell_type": "code",
      "metadata": {
        "id": "OIywF321WnXX",
        "colab_type": "code",
        "outputId": "50aa0108-504e-4d36-c841-a47ce72f17c9",
        "colab": {
          "base_uri": "https://localhost:8080/",
          "height": 53
        }
      },
      "source": [
        "json_data = {}\n",
        "india = {\n",
        "        'dates':dates,\n",
        "        'cfr1_point':list(n2z(np.cumsum(deceased)/np.cumsum(confirmed))),\n",
        "        'cfr2_point':list(n2z(np.cumsum(deceased)/(np.cumsum(deceased)+np.cumsum(recovered)))),\n",
        "        'cfr3_point':list(n2z(np.mean(CFR,axis=0))),\n",
        "        'cfr3_l95':list(n2z(np.quantile(CFR,0.025,axis=0))),\n",
        "        'cfr3_u95':list(n2z(np.quantile(CFR,0.975,axis=0))),\n",
        "        'cfr3_l50':list(n2z(np.quantile(CFR,0.25,axis=0))),\n",
        "        'cfr3_u50':list(n2z(np.quantile(CFR,0.75,axis=0))),\n",
        "        }\n",
        "json_data['India'] = india"
      ],
      "execution_count": 11,
      "outputs": [
        {
          "output_type": "stream",
          "text": [
            "/usr/local/lib/python3.6/dist-packages/ipykernel_launcher.py:5: RuntimeWarning: invalid value encountered in true_divide\n",
            "  \"\"\"\n"
          ],
          "name": "stderr"
        }
      ]
    },
    {
      "cell_type": "code",
      "metadata": {
        "id": "-TNPEM04As9f",
        "colab_type": "code",
        "colab": {}
      },
      "source": [
        "states = list(filter(lambda v:len(v)<3,list(json.load(open('states.json',))['states_daily'][0].keys())))"
      ],
      "execution_count": 0,
      "outputs": []
    },
    {
      "cell_type": "code",
      "metadata": {
        "id": "T377QO_CWnXk",
        "colab_type": "code",
        "colab": {}
      },
      "source": [
        "dates = np.array([pd.to_datetime(i['date']) for i in filter(lambda v: v['status'] == 'Confirmed',json.load(open('states.json',))['states_daily'])])\n",
        "#print(dates)\n",
        "data_recovered = pd.DataFrame()\n",
        "data_deceased = pd.DataFrame()\n",
        "data_confirmed = pd.DataFrame()\n",
        "for st in states:\n",
        "    data_confirmed[st] = np.array([i[st] for i in filter(lambda v: v['status'] == 'Confirmed',json.load(open('states.json',))['states_daily'])])\n",
        "    data_deceased[st] = np.array([i[st] for i in filter(lambda v: v['status'] == 'Deceased',json.load(open('states.json',))['states_daily'])])\n",
        "    data_recovered[st] = np.array([i[st] for i in filter(lambda v: v['status'] == 'Recovered',json.load(open('states.json',))['states_daily'])])"
      ],
      "execution_count": 0,
      "outputs": []
    },
    {
      "cell_type": "code",
      "metadata": {
        "id": "-fkTZLEnBiLi",
        "colab_type": "code",
        "colab": {}
      },
      "source": [
        "data_recovered = data_recovered.replace(r'^\\s*$', np.NaN, regex=True).fillna(0)\n",
        "data_recovered = data_recovered.astype(np.int32)\n",
        "data_confirmed = data_confirmed.replace(r'^\\s*$', np.NaN, regex=True).fillna(0)\n",
        "data_confirmed = data_confirmed.astype(np.int32)\n",
        "data_deceased = data_deceased.replace(r'^\\s*$', np.NaN, regex=True).fillna(0)\n",
        "data_deceased = data_deceased.astype(np.int32)\n",
        "data_deceased['date'] = dates\n",
        "data_recovered['date'] = dates\n",
        "data_confirmed['date'] = dates"
      ],
      "execution_count": 0,
      "outputs": []
    },
    {
      "cell_type": "code",
      "metadata": {
        "id": "0e8kFz1zWnXv",
        "colab_type": "code",
        "outputId": "171379af-c5c3-425a-9e32-c21532bfbfa9",
        "colab": {
          "base_uri": "https://localhost:8080/",
          "height": 627
        }
      },
      "source": [
        "plt.figure(1, figsize=(15, 7))\n",
        "state_id = {\n",
        "  \"kl\":\"Kerala\",\n",
        "  \"mh\":\"Maharashtra\",\n",
        "  \"gj\":\"Gujarat\",\n",
        "  \"dl\":\"Delhi\",\n",
        "  \"rj\":\"Rajasthan\",\n",
        "  \"tn\":\"Tamil Nadu\",\n",
        "  \"mp\":\"Madhya Pradesh\",\n",
        "  \"up\":\"Uttar Pradesh\",\n",
        "  \"tg\":\"Telangana\",\n",
        "  \"ap\":\"Andhra Pradesh\",\n",
        "  \"ka\":\"Karnataka\",\n",
        "  \"wb\":\"West Bengal\",\n",
        "  \"jk\":\"Jammu and Kashmir\",\n",
        "  \"hr\":\"Haryana\",\n",
        "  \"pb\":\"Punjab\",\n",
        "  \"br\":\"Bihar\",\n",
        "  \"or\":\"Odisha\",\n",
        "  \"jh\":\"Jharkand\",\n",
        "  \"ut\":\"Uttarakhand\",\n",
        "  \"hp\":\"Himachal Pradesh\",\n",
        "  \"ct\":\"Chhattisgarh\",\n",
        "  \"as\":\"Assam\",\n",
        "  \"ch\":\"Chandigarh\",\n",
        "  \"la\":\"Ladakh\",\n",
        "  \"an\":\"Andaman and Nicobar Islands\",\n",
        "  \"ml\":\"Meghalaya\",\n",
        "  \"ga\":\"Goa\",\n",
        "  \"py\":\"Puducherry\",\n",
        "  \"mn\":\"Manipur\",\n",
        "  \"tr\":\"Tripura\",\n",
        "  \"ar\":\"Arunachal Pradesh\",\n",
        "  \"mz\":\"Mizoram\" ,\n",
        "}\n",
        "\n",
        "for state in state_id.keys():\n",
        "    boots = 100\n",
        "    conf = []\n",
        "    for n in range(boots):\n",
        "        print(\"Iteration: \",n+1,end='\\r')\n",
        "        dataset = np.copy(data_confirmed[state].values)\n",
        "        mean = 13.0+(20.9-8.7)/4*np.random.normal()\n",
        "        sd = 12.7+(26.0-6.4)/4*np.random.normal()\n",
        "        phi = np.sqrt(sd**2 + mean**2)\n",
        "        mu = np.log(mean**2/phi)\n",
        "        sigma = np.sqrt(np.log(phi**2/mean**2))\n",
        "        L = lognorm(s=sigma,scale=np.exp(mu))\n",
        "        for i in range(len(dataset)-1,-1,-1):\n",
        "            send_forward = np.round(L.rvs(np.max([dataset[i],0])))\n",
        "            send_forward = send_forward[i+send_forward<len(dataset)]\n",
        "            dataset[i] = 0\n",
        "            for j in np.unique(np.int32(send_forward)):\n",
        "                dataset[i+j] += np.sum(send_forward==j)\n",
        "        conf.append(dataset)\n",
        "    CFR = np.cumsum(data_deceased[state].values)/np.cumsum(conf,axis=1)\n",
        "    col_mean = np.nanmean(CFR, axis=0)\n",
        "    inds = np.where(np.isnan(CFR))\n",
        "    CFR[inds] = np.take(col_mean, inds[1])\n",
        "    temp1=list(pd.Series(dates).dt.strftime('%m-%d-%Y'))\n",
        "    #print(temp1[0])\n",
        "    dates1=[]\n",
        "    for i in range(len(temp1)):\n",
        "      date=temp1[i][3:5]+'/'+temp1[i][0:2]\n",
        "      dates1.append(convert(date))\n",
        "    temp = {\n",
        "        'dates':dates1,\n",
        "        'cfr1_point':list(n2z(np.cumsum(data_deceased[state].values)/np.cumsum(data_confirmed[state].values))),\n",
        "        'cfr2_point':list(n2z(np.cumsum(data_deceased[state].values)/(np.cumsum(data_deceased[state].values)+np.cumsum(data_recovered[state].values)))),\n",
        "        'cfr3_point':list(n2z(np.mean(CFR,axis=0))),\n",
        "        'cfr3_l95':list(n2z(np.quantile(CFR,0.025,axis=0))),\n",
        "        'cfr3_u95':list(n2z(np.quantile(CFR,0.975,axis=0))),\n",
        "        'cfr3_l50':list(n2z(np.quantile(CFR,0.25,axis=0))),\n",
        "        'cfr3_u50':list(n2z(np.quantile(CFR,0.75,axis=0))),\n",
        "        }\n",
        "    a=state_id[state]\n",
        "    #print(a)\n",
        "    json_data[str(a)] = temp\n",
        "    plt.plot(temp['cfr3_point'],label=state)\n",
        "plt.legend()"
      ],
      "execution_count": 15,
      "outputs": [
        {
          "output_type": "stream",
          "text": [
            ""
          ],
          "name": "stdout"
        },
        {
          "output_type": "stream",
          "text": [
            "/usr/local/lib/python3.6/dist-packages/ipykernel_launcher.py:56: RuntimeWarning: invalid value encountered in true_divide\n"
          ],
          "name": "stderr"
        },
        {
          "output_type": "stream",
          "text": [
            ""
          ],
          "name": "stdout"
        },
        {
          "output_type": "stream",
          "text": [
            "/usr/local/lib/python3.6/dist-packages/ipykernel_launcher.py:56: RuntimeWarning: divide by zero encountered in true_divide\n",
            "/usr/local/lib/python3.6/dist-packages/ipykernel_launcher.py:69: RuntimeWarning: invalid value encountered in true_divide\n"
          ],
          "name": "stderr"
        },
        {
          "output_type": "stream",
          "text": [
            ""
          ],
          "name": "stdout"
        },
        {
          "output_type": "stream",
          "text": [
            "/usr/local/lib/python3.6/dist-packages/ipykernel_launcher.py:57: RuntimeWarning: Mean of empty slice\n",
            "/usr/local/lib/python3.6/dist-packages/ipykernel_launcher.py:68: RuntimeWarning: invalid value encountered in true_divide\n"
          ],
          "name": "stderr"
        },
        {
          "output_type": "stream",
          "text": [
            ""
          ],
          "name": "stdout"
        },
        {
          "output_type": "execute_result",
          "data": {
            "text/plain": [
              "<matplotlib.legend.Legend at 0x7fd1712f8278>"
            ]
          },
          "metadata": {
            "tags": []
          },
          "execution_count": 15
        },
        {
          "output_type": "display_data",
          "data": {
            "image/png": "[encoded data removed]",
            "text/plain": [
              "<Figure size 1080x504 with 1 Axes>"
            ]
          },
          "metadata": {
            "tags": [],
            "needs_background": "light"
          }
        }
      ]
    },
    {
      "cell_type": "code",
      "metadata": {
        "id": "JG4bxq2JWnX7",
        "colab_type": "code",
        "colab": {}
      },
      "source": [
        "with open('cfr.json', 'w') as outfile:\n",
        "    json.dump(json_data, outfile)"
      ],
      "execution_count": 0,
      "outputs": []
    },
    {
      "cell_type": "code",
      "metadata": {
        "id": "2JUFGrCP6krl",
        "colab_type": "code",
        "colab": {}
      },
      "source": [
        "total_confirmed = [x['totalconfirmed'].split(' ')[0] for x in json.load(open('national.json',))['cases_time_series']] ## x_cumulative= 'totalconfirmed'\n",
        "daily_confirmed = [x['dailyconfirmed'].split(' ')[0] for x in json.load(open('national.json',))['cases_time_series']] ## x1\n",
        "daily_confirmed_ma=[]\n",
        "dates=[]\n",
        "daily_confirmed=list(map(int,daily_confirmed))\n",
        "for i in range(7,len(daily_confirmed)):\n",
        "  daily_confirmed_ma.append(sum(daily_confirmed[i-7:i])//7)\n",
        "datesspace = [x['date'] for x in json.load(open('national.json',))['cases_time_series'][:-1]]\n",
        "for i in range(len(datesspace)):\n",
        "  dates.append(datesspace[i][0:-1])"
      ],
      "execution_count": 0,
      "outputs": []
    },
    {
      "cell_type": "code",
      "metadata": {
        "id": "F6ldldb_VMKW",
        "colab_type": "code",
        "outputId": "146175f7-7821-4f6e-b258-6c1016346a27",
        "colab": {
          "base_uri": "https://localhost:8080/",
          "height": 55
        }
      },
      "source": [
        "dates_dict = {}\n",
        "count=1\n",
        "for i in dates:\n",
        "  if i not in dates_dict.keys():\n",
        "    dates_dict[i]=count\n",
        "    count+=1\n",
        "print(dates_dict)"
      ],
      "execution_count": 18,
      "outputs": [
        {
          "output_type": "stream",
          "text": [
            "{'30 January': 1, '31 January': 2, '01 February': 3, '02 February': 4, '03 February': 5, '04 February': 6, '05 February': 7, '06 February': 8, '07 February': 9, '08 February': 10, '09 February': 11, '10 February': 12, '11 February': 13, '12 February': 14, '13 February': 15, '14 February': 16, '15 February': 17, '16 February': 18, '17 February': 19, '18 February': 20, '19 February': 21, '20 February': 22, '21 February': 23, '22 February': 24, '23 February': 25, '24 February': 26, '25 February': 27, '26 February': 28, '27 February': 29, '28 February': 30, '29 February': 31, '01 March': 32, '02 March': 33, '03 March': 34, '04 March': 35, '05 March': 36, '06 March': 37, '07 March': 38, '08 March': 39, '09 March': 40, '10 March': 41, '11 March': 42, '12 March': 43, '13 March': 44, '14 March': 45, '15 March': 46, '16 March': 47, '17 March': 48, '18 March': 49, '19 March': 50, '20 March': 51, '21 March': 52, '22 March': 53, '23 March': 54, '24 March': 55, '25 March': 56, '26 March': 57, '27 March': 58, '28 March': 59, '29 March': 60, '30 March': 61, '31 March': 62, '01 April': 63, '02 April': 64, '03 April': 65, '04 April': 66, '05 April': 67, '06 April': 68, '07 April': 69, '08 April': 70, '09 April': 71, '10 April': 72, '11 April': 73, '12 April': 74, '13 April': 75, '14 April': 76, '15 April': 77, '16 April': 78, '17 April': 79, '18 April': 80, '19 April': 81, '20 April': 82, '21 April': 83, '22 April': 84, '23 April': 85, '24 April': 86, '25 April': 87, '26 April': 88, '27 April': 89, '28 April': 90, '29 April': 91, '30 April': 92, '01 May': 93, '02 May': 94, '03 May': 95, '04 May': 96, '05 May': 97, '06 May': 98, '07 May': 99, '08 May': 100, '09 May': 101, '10 May': 102, '11 May': 103, '12 May': 104, '13 May': 105, '14 May': 106, '15 May': 107, '16 May': 108, '17 May': 109, '18 May': 110, '19 May': 111, '20 May': 112, '21 May': 113, '22 May': 114, '23 May': 115, '24 May': 116, '25 May': 117, '26 May': 118, '27 May': 119, '28 May': 120, '29 May': 121, '30 May': 122, '31 May': 123, '01 June': 124, '02 June': 125, '03 June': 126, '04 June': 127}\n"
          ],
          "name": "stdout"
        }
      ]
    },
    {
      "cell_type": "code",
      "metadata": {
        "id": "VpXtUkhyhGQ5",
        "colab_type": "code",
        "colab": {}
      },
      "source": [
        "def convert(dat): \n",
        "    return  str(dat[:2]) + fn(str(dat[3:5]))"
      ],
      "execution_count": 0,
      "outputs": []
    },
    {
      "cell_type": "code",
      "metadata": {
        "id": "jVOS4Hbh1v9G",
        "colab_type": "code",
        "outputId": "1ea66872-edb0-4b39-cb15-df697480c544",
        "colab": {
          "base_uri": "https://localhost:8080/",
          "height": 35
        }
      },
      "source": [
        "population['Population'][36]"
      ],
      "execution_count": 20,
      "outputs": [
        {
          "output_type": "execute_result",
          "data": {
            "text/plain": [
              "1371360350"
            ]
          },
          "metadata": {
            "tags": []
          },
          "execution_count": 20
        }
      ]
    },
    {
      "cell_type": "code",
      "metadata": {
        "id": "3SYxC6Y1hHRV",
        "colab_type": "code",
        "colab": {}
      },
      "source": [
        "datest=[x['updatetimestamp'].split(' ')[0] for x in json.load(open('national.json',))['tested']]\n",
        "#totalcumulative_tested = [] #y_cumulative\n",
        "y_cumulative1=[x['totalsamplestested'] for x in json.load(open('national.json',))['tested']]\n",
        "test_per_million=['']*len(dates)\n",
        "dates1=[]\n",
        "for i in (datest):\n",
        "  dates1.append(convert(i))\n",
        "datestest = []\n",
        "datestest.append(dates1[0])\n",
        "y_cumulative = []\n",
        "y_cumulative.append(y_cumulative1[0])\n",
        "### y = 'totalsamplestested'\n",
        "#daily_tested = [] # y1 (y_cumulative2-ycumulative1)\n",
        "for i in range(1,len(dates1)):\n",
        "  if (dates1[i]==dates1[i-1]):\n",
        "    y_cumulative[-1]=y_cumulative1[i]\n",
        "  else:\n",
        "    datestest.append(dates1[i])\n",
        "    y_cumulative.append(y_cumulative1[i])\n",
        "daily_tested=[]\n",
        "daily_tested.append(y_cumulative[0])\n",
        "for i in range(1,len(y_cumulative)):\n",
        "  if (len(y_cumulative[i])!=0):\n",
        "    a=int(y_cumulative[i])-int(y_cumulative[i-1])\n",
        "    daily_tested.append(a)\n",
        "    #test_per_million.append(int(y_cumulative[i])*1000000/int(population['Population'][36]))\n",
        "  else:\n",
        "    y_cumulative[i]=y_cumulative[i-1]\n",
        "    daily_tested.append(0)\n",
        "    #test_per_million.append('')\n",
        "var=0\n",
        "pos_rate_cum=['']*len(dates)\n",
        "daily_pos_rate=['']*len(dates)\n",
        "for i in range(len(datestest)):\n",
        "  for j in range(var,len(dates)):\n",
        "    if (datestest[i]==dates[j]):\n",
        "      if (int(daily_tested[i])!=0):\n",
        "        daily_pos_rate[j]=(int(daily_confirmed[j])/int(daily_tested[i]))\n",
        "        pos_rate_cum[j]=(int(total_confirmed[j])/int(y_cumulative[i]))\n",
        "        test_per_million[j]=(int(y_cumulative[i])*1000000/int(population['Population'][36]))\n",
        "      else:\n",
        "        daily_pos_rate[j]=('')\n",
        "        #test_per_million.append('')\n",
        "      var=j\n",
        "      break\n",
        "#print(len(y_cumulative))\n",
        "#daily_confirmed_7day_moving = []\n",
        "## India : date : []\n",
        "##        cumulative pos rate : [] x_cum/y_cum\n",
        "##        daily_pos_rate : []  (after taking moving avg) -> 7 observation moving avg\n",
        "## daily confirmed : [] (7 day moving average)"
      ],
      "execution_count": 0,
      "outputs": []
    },
    {
      "cell_type": "code",
      "metadata": {
        "id": "nStuZRVIeYW9",
        "colab_type": "code",
        "outputId": "f50eb7fe-e24b-4c91-fccc-bfcb5303719d",
        "colab": {
          "base_uri": "https://localhost:8080/",
          "height": 35
        }
      },
      "source": [
        "# daily_pos_rate_ma=[]\n",
        "# count=0\n",
        "# for i in range(len(dates)):\n",
        "\n",
        "# (India & states)\n",
        "# Daily confirmed 2 lists : simple, moving avg\n",
        "# Pos rate : cumulative \n",
        "#          : Daily - 2 lists simple, moving avg\n",
        "len(daily_pos_rate)"
      ],
      "execution_count": 22,
      "outputs": [
        {
          "output_type": "execute_result",
          "data": {
            "text/plain": [
              "127"
            ]
          },
          "metadata": {
            "tags": []
          },
          "execution_count": 22
        }
      ]
    },
    {
      "cell_type": "code",
      "metadata": {
        "id": "Fvcjz9x_PySN",
        "colab_type": "code",
        "colab": {}
      },
      "source": [
        "daily_pos_rate_ma=['']*len(dates)\n",
        "from statistics import mean\n",
        "count=0\n",
        "temp=['']*len(dates)\n",
        "\n",
        "i=0\n",
        "l=len(dates)\n",
        "#print(datestest)\n",
        "# for i in range(len(dates)):\n",
        "#print(daily_pos_rate)\n",
        "\n",
        "while i<l:\n",
        "  # print(i)\n",
        "  count+=1\n",
        "  for j in range(len(datestest)):\n",
        "    if (dates[i]==datestest[j]):\n",
        "      a=daily_pos_rate[i]\n",
        "      temp[i]=str(a)\n",
        "      #print(daily_pos_rate[j])\n",
        "      #break\n",
        "   \n",
        "  #print(temp)\n",
        "  \n",
        "  for k in range(7,len(temp)):\n",
        "    sum=0\n",
        "    counter=0\n",
        "    for m in range(0,7):\n",
        "      if (len(str(temp[k-m]))!=0):\n",
        "        sum+=float(temp[k-m])\n",
        "      else:\n",
        "        counter+=1\n",
        "    if ((7-counter)!=0):\n",
        "      daily_pos_rate_ma[k]=(sum/(7-counter))\n",
        "      #daily_pos_rate_ma.append(sum/(7-counter))\n",
        "     \n",
        "  i=i+1\n",
        "  '''\n",
        "  if (count==7):\n",
        "    #print(temp)\n",
        "    if (len(temp)>0):\n",
        "      daily_pos_rate_ma.append(mean(temp))\n",
        "      temp=[]\n",
        "    else:\n",
        "      daily_pos_rate_ma.append(0)\n",
        "    count=0\n",
        "    i=i-6\n",
        "  '''"
      ],
      "execution_count": 0,
      "outputs": []
    },
    {
      "cell_type": "code",
      "metadata": {
        "id": "NEMGRp4MCPDO",
        "colab_type": "code",
        "colab": {}
      },
      "source": [
        "india_dates = dates\n",
        "india_daily_confirmed = daily_confirmed\n",
        "india_daily_confirmed_ma = daily_confirmed_ma\n",
        "india_total_confirmed = total_confirmed\n",
        "india_daily_pos_rate_ma = daily_pos_rate_ma\n",
        "india_pos_rate_cum = pos_rate_cum\n",
        "india_daily_pos_rate = daily_pos_rate\n",
        "india_test_per_million=test_per_million\n",
        "# nationwide={\n",
        "#     'dates':dates,\n",
        "#     'daily_confirmed':daily_confirmed,\n",
        "#     'daily_confirmed_ma':daily_confirmed_ma,\n",
        "#     'daily_total':total_confirmed,\n",
        "#     'daily_positve_rate_ma':daily_pos_rate_ma\n",
        "# }\n",
        "# with open('nation.json', 'w') as outfile:\n",
        "#     json.dump(nationwide, outfile)"
      ],
      "execution_count": 0,
      "outputs": []
    },
    {
      "cell_type": "markdown",
      "metadata": {
        "id": "Pwh5O3yAWnYF",
        "colab_type": "text"
      },
      "source": [
        "### State Level Data"
      ]
    },
    {
      "cell_type": "code",
      "metadata": {
        "id": "mqUi8q4iZUAt",
        "colab_type": "code",
        "colab": {}
      },
      "source": [
        "population=population.set_index('State')"
      ],
      "execution_count": 0,
      "outputs": []
    },
    {
      "cell_type": "code",
      "metadata": {
        "id": "oAcwapcpbw8l",
        "colab_type": "code",
        "outputId": "6955f1ea-fac3-4662-fa78-eb84c6a384b4",
        "colab": {
          "base_uri": "https://localhost:8080/",
          "height": 667
        }
      },
      "source": [
        "testing = {}\n",
        "states = np.unique([x['state'] for x in json.load(open('test.json',))['states_tested_data']])\n",
        "for st in states:\n",
        "  state_dates = []\n",
        "  test_per_million=['']*len(dates)\n",
        "  pos_cum=['']*len(dates)\n",
        "  daily_pos=['']*len(dates)\n",
        "  daily_pos_ma=['']*len(dates)\n",
        "  daily_tested=['']*len(dates)\n",
        "  daily_pos_rate=['']*len(dates)\n",
        "  daily_pos_rate_ma=['']*len(dates)\n",
        "  tested_cum=['']*len(dates)\n",
        "  tested_daily=['']*len(dates)\n",
        "  state_date = [x['updatedon'] for x in filter(lambda v: v['state'] == st,json.load(open('test.json',))['states_tested_data'])]\n",
        "  rates = [x['testpositivityrate'] for x in filter(lambda v: v['state'] == st,json.load(open('test.json',))['states_tested_data'])]\n",
        "  #print(state_date)\n",
        "  for i in (state_date):\n",
        "    state_dates.append(convert(i))\n",
        "  for i in range(len(dates)):\n",
        "    for j in range(len(state_dates)):\n",
        "      sum=0\n",
        "      count=0\n",
        "      sum1=0\n",
        "      count1=0\n",
        "      if (dates[i]==state_dates[j]):\n",
        "        pos_cum[i] = [x['positive'] for x in filter(lambda v: v['state'] == st,json.load(open('test.json',))['states_tested_data'])][j]\n",
        "        tested_cum[i] = [x['totaltested'] for x in filter(lambda v: v['state'] == st,json.load(open('test.json',))['states_tested_data'])][j]\n",
        "        if (j==0):\n",
        "          daily_pos[i]=pos_cum[j]\n",
        "          daily_tested[i]=tested_cum[j]\n",
        "        if(len(pos_cum[i])!=0 and len(pos_cum[i-1])!=0):\n",
        "          daily_pos[i]=int(pos_cum[i])-int(pos_cum[i-1]) \n",
        "          #print(daily_pos[i])\n",
        "        if(st=='Andaman and Nicobar Islands'):\n",
        "          daily_pos[i]=pos_cum[i]\n",
        "        if(len(tested_cum[i])!=0 and len(tested_cum[i-1])!=0):\n",
        "          daily_tested[i]=(int(tested_cum[i])-int(tested_cum[i-1]))\n",
        "          test_per_million[i]=int(tested_cum[i])*1000000/int(population[\"Population\"][st])\n",
        "          #if(st=='Maharashtra'):\n",
        "            #print(tested_cum[i],daily_tested[i])\n",
        "        if (j>6):\n",
        "          for k in range(0,7):\n",
        "            if (len(str(daily_pos[i-k]))!=0):\n",
        "              count+=1\n",
        "              sum+=daily_pos[i-k]\n",
        "          if (count!=0):\n",
        "            daily_pos_ma[i]=sum/count\n",
        "          if(len(str(daily_tested[i]))!=0 and daily_tested[i]!=0 and len(str(daily_pos[i]))!=0 ):\n",
        "            daily_pos_rate[i]=(int(daily_pos[i])/int(daily_tested[i]))\n",
        "        if (j>6):\n",
        "          for k in range(0,7):\n",
        "            if (len(str(daily_pos_rate[i-k]))!=0):\n",
        "              count1+=1\n",
        "              sum1+=daily_pos_rate[i-k]\n",
        "            if (count1!=0):\n",
        "             daily_pos_rate_ma[i]=sum1/count1\n",
        "  print(st,test_per_million)\n",
        "  testing[st] = {\n",
        "                    'dates':dates,\n",
        "                    'positivity_rate_cumulative':rates,\n",
        "                    'daily_positive_cases':daily_pos,\n",
        "                    'daily_positivity_rate':daily_pos_rate,\n",
        "                    'daily_positive_cases_ma': daily_pos_ma,\n",
        "                    'daily_positivity_rate_ma':daily_pos_rate_ma , \n",
        "                    'test_per_million':test_per_million,          \n",
        "                  }\n",
        "testing['India'] = {\n",
        "                    'dates': india_dates,\n",
        "                    'positivity_rate_cumulative': india_pos_rate_cum,\n",
        "                    'daily_positive_cases': india_daily_confirmed,\n",
        "                    'daily_positivity_rate': india_daily_pos_rate,\n",
        "                    'daily_positive_cases_ma': india_daily_confirmed_ma,\n",
        "                    'daily_positivity_rate_ma': india_daily_pos_rate_ma,\n",
        "                    'test_per_million':india_test_per_million,\n",
        "                    \n",
        "                  }\n"
      ],
      "execution_count": 26,
      "outputs": [
        {
          "output_type": "stream",
          "text": [
            "Andaman and Nicobar Islands ['', '', '', '', '', '', '', '', '', '', '', '', '', '', '', '', '', '', '', '', '', '', '', '', '', '', '', '', '', '', '', '', '', '', '', '', '', '', '', '', '', '', '', '', '', '', '', '', '', '', '', '', '', '', '', '', '', '', '', '', '', '', '', '', '', '', '', '', '', '', '', '', '', '', '', '', '', '', '', '', '', '', '', '', '', '', '', '', '', '', '', '', '', '', '', '', '', '', '', '', '', '', '', '', '', '', '', '', '', '', '', '', '', '', '', '', '', '', '', '', '', '', '', '', '', '', '']\n",
            "Andhra Pradesh ['', '', '', '', '', '', '', '', '', '', '', '', '', '', '', '', '', '', '', '', '', '', '', '', '', '', '', '', '', '', '', '', '', '', '', '', '', '', '', '', '', '', '', '', '', '', '', '', '', '', '', '', '', '', '', '', '', '', '', '', '', '', '', '', '', '', '', '', '', '', '', '', 129.082783341672, 129.082783341672, 162.42020237946804, 194.88569114749419, 215.4409834646216, 375.39380869771963, 375.39380869771963, 397.9341337566635, 500.11694069054244, 570.1496378901418, 663.3163148004431, 770.1184969933154, 891.0756322890472, 1008.062702101146, 1136.5889342067946, 1262.1468930536525, 1383.048373225782, 1490.3328998232078, 1633.6819465149438, 1754.2123925297244, 1900.8079880982632, 2011.06078795448, 2132.277647160356, 2323.211824532085, 2476.5045866407704, 2620.873977265216, 2770.9016387892316, 2906.700140378918, 3062.3118659710344, 3223.0809663503, 3360.5305699401893, 3559.590395357858, 3732.5294160981666, 3904.244024119224, 4071.9143598251785, '', '', 4615.126917891792, 4794.688898340778, 4964.659645822296, 5114.780065885649, 5270.892687590185, 5435.075302217061, 5645.767048467617, 5835.736537030239, 5986.895852734168, 6166.179557565142, 6349.062293722401, 6564.967069883708, 6741.282501455892, 6915.112004173838, 7111.147901209113, 7340.55832069792, 7490.19639635672, 7675.45375112101]\n",
            "Arunachal Pradesh ['', '', '', '', '', '', '', '', '', '', '', '', '', '', '', '', '', '', '', '', '', '', '', '', '', '', '', '', '', '', '', '', '', '', '', '', '', '', '', '', '', '', '', '', '', '', '', '', '', '', '', '', '', '', '', '', '', '', '', '', '', '', '', '', '', '', '', '', '', '', '', '', '', '', '', '', '', '', '', 247.69844211051807, '', '', 289.08764194903654, 315.83143261392536, '', '', '', '', 371.8660416260734, 388.4217215614808, 421.53308143229555, 441.90930289125845, 461.0120105090362, '', '', 553.341763994962, 617.6542129748137, 661.5904404957025, 728.4499171579247, 862.1688704823688, 1016.9008021863685, 1160.8078662402943, 1323.180880991405, 1437.160369777479, 1581.0674338314045, 1704.5982764263674, 1873.3388603834042, 2014.0621398343667, 2132.4989270645888, 2331.8038432100698, 2509.459024055403, 2646.998518903403, 2825.927213589921, 3084.450523350513, 3314.956528605031, 3456.3165649765865, 3818.631252793771, 4023.6669812245855, 4098.167540933919, 4447.110333418659, 4768.035821397325, 5104.880232390806, 5274.257573268435, 5583.0846797558415, 5781.116082060138, 6081.665348579841, 6383.488128940729]\n",
            "Assam ['', '', '', '', '', '', '', '', '', '', '', '', '', '', '', '', '', '', '', '', '', '', '', '', '', '', '', '', '', '', '', '', '', '', '', '', '', '', '', '', '', '', '', '', '', '', '', '', '', '', '', '', '', '', '', '', '', '', '', '', '', '', '', '', '', '', '', '', '', '', '', '', 84.56193170120099, 88.12864220470564, '', '', 101.46870117450653, 115.37044683777272, 118.96524167595065, 123.57107256236611, 136.63028818543435, 143.5671188497308, 154.85702138838334, '', '', '', 201.0557519259043, 219.70375014895228, 227.9605445428922, '', '', '', '', '', '', '', 377.50962667802844, '', '', '', '', 505.574192788117, 550.1440319145886, 611.9857368651182, '', '', 791.3603824232619, 878.365651241037, 965.4270887281585, 1064.340115447398, 1154.7155044259648, 1322.3228137560104, 1452.8026326479996, 1566.853115756129, 1696.434235938574, 1866.0355330304212, 1966.7178728340764, 2040.4392513513972, '', '', '', 2843.7354760107964, 3063.9166598491943, '', '', 3559.0153958041838, 3736.030957249773]\n",
            "Bihar ['', '', '', '', '', '', '', '', '', '', '', '', '', '', '', '', '', '', '', '', '', '', '', '', '', '', '', '', '', '', '', '', '', '', '', '', '', '', '', '', '', '', '', '', '', '', '', '', '', '', '', '', '', '', '', '', '', '', '', '', '', '', '', '', '', '', '', '', '', '', 39.992010892698765, 43.725987465729744, 50.080157900093624, 53.70996774469241, 58.1971498925408, 61.91510081504375, 66.20997515655579, 70.88145228547651, 76.0096604544461, 81.16991992447176, 86.09780746184096, 90.69716916338557, 96.14589034291575, 103.99044627638641, 110.45679626444651, 119.58340424015957, 127.28372931887796, 136.5465553240793, 145.66515047452833, 158.57381197485645, 169.71163909183727, 181.66677438574763, 193.2533197175133, 206.12191709152134, 215.95365369046775, 227.1235321085046, 230.6972521762553, 235.00013934303135, 239.11071870347104, 242.9488620049342, 252.82066273020067, 261.77900137536943, 277.7405493012873, 299.9200496320807, 313.69409626092244, 326.7790399170589, 341.70693338391885, 355.2886722064242, 366.418486498141, 376.57073610764803, 405.15248382438944, 427.5723689131034, 446.2502646035223, 468.5980342648601, 490.5451626629971, 510.7454951535789, '', '', '', 563.1012954286527, 578.9747022766664, 592.3801589433634, 606.8673470207026, 625.7215248669298, 652.3481432192516, 678.9186717947252, 707.636637540955]\n",
            "Chandigarh ['', '', '', '', '', '', '', '', '', '', '', '', '', '', '', '', '', '', '', '', '', '', '', '', '', '', '', '', '', '', '', '', '', '', '', '', '', '', '', '', '', '', '', '', '', '', '', '', '', '', '', '', '', '', '', '', '', '', '', '', '', '', '', '', '', '', '', '', '', '', '', '', 227.88619156424016, 240.83427063039017, 255.50876023869353, 266.7304287626902, 273.63607093130355, 290.90017635283687, 309.0274870454469, 328.8812082802102, 371.17826656296694, 391.03198779773027, 429.0130197251037, 456.635588399557, 517.0599573749237, 550.7249629469137, 633.5926689702738, 652.5831849339605, 727.6820435176305, 797.6016704748406, 873.5637343295873, 990.0964459249374, 1080.7329993879875, 1262.0061063140877, 1394.9397180598944, 1448.4584448666478, 1478.6706293543311, 1540.8214088718512, 1592.6137251364512, 1651.3116835696646, 1773.8868320625513, 1848.9856906462214, 1879.1978751339047, 1964.6551969704947, 2088.9567560055348, 2162.3292040470515, 2232.248831004262, 2346.191926786382, 2427.3332222675886, 2496.389643953722, 2616.3751766333785, '', '', 3047.9778121717122, 3236.156561266426, 3369.953378283309, 3529.6463534324926, 3631.5045754195394, 3739.4052343041226, 3855.9379458994727, 3921.5415465012998, 4017.3573315908097, 4130.437222101853, 4157.196585505229, 4231.432238817823, 4296.172634148573, 4366.9554663768595]\n",
            "Chhattisgarh ['', '', '', '', '', '', '', '', '', '', '', '', '', '', '', '', '', '', '', '', '', '', '', '', '', '', '', '', '', '', '', '', '', '', '', '', '', '', '', '', '', '', '', '', '', '', '', '', '', '', '', '', '', '', '', '', '', '', '', '', '', '', '', '', '', '', '', '', '', '', '', '', 131.06297474021045, 134.0185161612572, 148.69430804507547, 163.47201515030915, 174.00325469656764, 187.49003566387287, 196.22077296512586, 196.22077296512586, 226.76136764927548, 258.21919932616373, 281.0142371827426, 313.21944715001047, 351.47162692125903, 386.8022370119327, 427.90804298281256, 468.33441414425647, 509.13447445089014, 534.6132798047413, 562.0964178464287, 595.8982996158713, 612.8162263708285, '', '', '', '', 753.7649775883332, '', '', 832.5114720019693, 858.8735426080873, '', '', 979.6430799853418, 1008.8587767910913, 1064.708318126733, 1110.1285351375318, '', '', 1325.2375958049793, '', '', 1634.5842645412044, 1690.5357210982615, '', '', 1952.6616705786823, 2015.2036447872692, 2098.4683806836547, 2173.919616271526, 2256.3010869156446, 2349.213797106022, 2537.55312628169, 2621.5312687279834, 2731.8714817803952, 2817.650126471694]\n",
            "Dadra and Nagar Haveli and Daman and Diu ['', '', '', '', '', '', '', '', '', '', '', '', '', '', '', '', '', '', '', '', '', '', '', '', '', '', '', '', '', '', '', '', '', '', '', '', '', '', '', '', '', '', '', '', '', '', '', '', '', '', '', '', '', '', '', '', '', '', '', '', '', '', '', '', '', '', '', '', '', '', '', 211.13355984174729, 342.6860086662206, '', '', '', '', 620.407845073442, '', '', '', '', '', 1094.6463025641358, 1482.8072318116558, '', '', 3087.4222866089353, 3863.7441451039754, '', '', 5625.8973176293275, 6501.289538819341, '', '', 7201.278494910057, 7764.842689256875, 8066.926090261221, 8562.277903736089, 8818.886384159136, '', '', 9359.713118215304, 9707.27143980095, 10222.112504953519, 10644.379624637013, 11232.305383580955, '', '', 12296.093704322066, 12715.11261539261, 13215.336741786905, 13733.426015552423, 14582.832567838837, 15100.921841604355, 15718.081478064847, 16379.091930800163, 16871.195535662082, 17657.26201999597, 18152.61383347084, 18639.845125413336, '', '', '', '', '', 20098.290792627864]\n",
            "Delhi ['', '', '', '', '', '', '', '', '', '', '', '', '', '', '', '', '', '', '', '', '', '', '', '', '', '', '', '', '', '', '', '', '', '', '', '', '', '', '', '', '', '', '', '', '', '', '', '', '', '', '', '', '', '', '', '', '', '', '', '', '', '', '', '', '', '', '', '', '', '', '', 591.152055467924, 625.7842344701132, 750.1500994980365, 803.3810412976977, 870.1869421506861, 887.4495869310983, 1003.9056332980277, 1144.1980250893034, 1190.908710965713, 1303.3564032814631, 1384.2182656739203, 1423.0725776100185, 1512.9665977977995, 1633.270664053861, 1799.5906348174613, 1898.303033917837, 2010.216279026763, 2133.032247154897, 2317.8975359952865, 2523.926934225903, '', '', '', 3219.8306422313126, 3426.2341535067058, 3626.3311877415767, 3844.492537567096, 4127.749557183767, 4348.636587764087, 4501.435044195043, 5013.649247215076, 5220.373426814564, 5670.965866887799, 6057.691865745579, 6399.257075626738, 6690.691137507815, 6992.974477687417, 7257.312066182521, 7467.670486788412, 7795.12629040942, 8031.7795135910455, 8251.063202550895, 8564.783712956529, 8820.890814466546, 9078.815036479764, 9324.44697273603, 9544.104774740657, 9853.175594446922, 10260.157142443328, 10668.955810942934, 11049.10810915678, 11372.181445681832, 11626.204203085235, 11950.613657627347, 12300.035241448819, 12639.997109709506]\n",
            "Goa ['', '', '', '', '', '', '', '', '', '', '', '', '', '', '', '', '', '', '', '', '', '', '', '', '', '', '', '', '', '', '', '', '', '', '', '', '', '', '', '', '', '', '', '', '', '', '', '', '', '', '', '', '', '', '', '', '', '', '', '', '', '', '', '', '', '', '', '', '', '', '', 223.1678486997636, '', '', 277.38376674546885, 301.9700551615445, 350.5122143420016, 385.18518518518516, 424.2710795902285, 477.85657998423954, 520.7249802994484, 568.0063041765169, 632.9393223010244, 703.5460992907801, 760.2836879432624, '', '', '', '', 1119.6217494089835, 1179.5114263199368, 1280.3782505910165, 1374.9408983451538, 1495.350669818755, 1606.3041765169426, 1827.5807722616232, 1951.77304964539, 2150.354609929078, '', '', 2852.0094562647755, 3056.2647754137115, 3345.626477541371, '', '', '', 4604.5705279747835, 5050.275807722616, 5538.219070133964, 5538.219070133964, 6019.858156028369, 6389.913317572892, 6845.705279747833, 7162.805358550039, 7530.338849487785, 7879.590228526399, 8107.171000788022, 8386.446020488575, 8769.739952718675, 9318.833727344365, 10175.571315996847, 11266.193853427896, 12287.470449172577, 13100.078802206463, 14107.48620961387, 15014.026792750197, 15949.56658786446]\n",
            "Gujarat ['', '', '', '', '', '', '', '', '', '', '', '', '', '', '', '', '', '', '', '', '', '', '', '', '', '', '', '', '', '', '', '', '', '', '', '', '', '', '', '', '', '', '', '', '', '', '', '', '', '', '', '', '', '', '', '', '', '', '', '', '', '', '', '', '', '', '', '', '', '', '', '', 152.85162531628097, 183.4125566506434, 223.1167174415979, 234.53009804751503, 300.55235595581746, 327.26185844373873, 367.6548926869022, 408.65851930816, 455.6584762066006, 521.6024530407884, 576.602735713747, 617.1836445347857, 663.5730090551319, 731.8184494682906, 756.4300191699391, 799.8916715183972, 838.7817091385592, 878.3293077812843, 931.3569073865536, 1002.1073421713814, 1076.7405182322962, 1160.3760178163968, 1253.436558723902, 1325.267272331512, 1403.2978470090031, 1490.3307452096797, 1574.2793690902388, 1649.9458553294671, 1716.7039553344473, 1776.8707888989734, 1823.4793404268407, 1871.481295073949, 1914.708104200063, 1952.4552381381511, 2001.7879710452085, 2166.9297249974907, 2248.2324485729746, 2330.020514807969, 2421.6093715221186, 2517.0809695123553, 2601.3114052597275, 2701.667742274719, 2787.8708610897797, 2863.0206922398515, 2917.7078506163516, 2963.9249967736455, 3035.160774217984, 3100.682033251953, 3154.429818739077, 3221.73588626286, 3318.021607423889, 3385.781705177537, 3469.5737669098667, 3568.0200457164606, 3662.3174275949773]\n",
            "Haryana ['', '', '', '', '', '', '', '', '', '', '', '', '', '', '', '', '', '', '', '', '', '', '', '', '', '', '', '', '', '', '', '', '', '', '', '', '', '', '', '', '', '', '', '', '', '', '', '', '', '', '', '', '', '', '', '', '', '', '', '', '', '', '', '', '', '', '', '', '', 93.95599852676995, 105.08889797484758, 125.05011577506325, 129.87200852964463, 138.38123103772946, 159.15791599496993, 184.7210386130081, 261.94223287387786, 285.90987627165015, 314.98305317427327, 370.6475504146615, 449.81877483363405, 492.613073030544, 516.2970756780468, 551.7167143679499, 623.3714589047808, 668.1512423535772, 718.6747509953309, 761.1144982544039, 815.2189713683099, 880.2081582738077, 927.0797922558417, 999.9045548875343, 1070.4247364232874, 1106.1989260510272, 1250.7847985009018, 1353.781845942512, 1453.0206534430513, 1534.4610038641797, 1648.4845854725165, 1763.749095363282, 1889.1183069823985, 2020.3376090758234, 2117.9100271685293, 2211.58238494503, 2332.413344559834, 2453.1733939870714, 2564.3251129989294, 2662.5711778735254, 2766.525512847295, 2861.155158155955, 2926.6052612806407, 2976.242392577802, 3124.9410559065846, 3230.6326904757548, 3334.0197439489857, 3439.356827580319, 3545.0484621494893, 3617.057757624157, 3713.814708559838, 3830.2492365454655, 3933.3881043622105, 4066.0965203945498, 4188.593869417187, 4317.685865883591, 4416.428302071159, 4534.52921946462, 4700.459058372274]\n",
            "Himachal Pradesh ['', '', '', '', '', '', '', '', '', '', '', '', '', '', '', '', '', '', '', '', '', '', '', '', '', '', '', '', '', '', '', '', '', '', '', '', '', '', '', '', '', '', '', '', '', '', '', '', '', '', '', '', '', '', '', '', '', '', '', '', '', '', '', '', '', '', '', '', '', '', '', '', 120.77367616954209, 149.35677952966705, 162.37349796127324, 175.9269882869663, 191.35918024196334, 215.24552952882834, 267.3124032552532, 296.16389256242155, 342.5946614009344, 388.08607942479523, 448.3387245360446, 496.51400203033967, 539.455753557288, 580.7871894019758, 620.3741165908812, 657.6797632299175, 685.1893228018688, 723.434320255557, 774.5618431673299, 823.0055066086685, 868.4969246325293, 917.343166994433, 964.176514753511, 997.0537932663308, 1059.185140006884, 1139.4325381728688, 1208.4077265630294, 1277.7854938737553, 1369.8418737096506, 1448.0763772728096, 1511.9522326691451, 1640.374908329425, 1770.0053207514002, 1913.0550305255467, 2087.6400890772957, 2218.74662420801, 2337.239019827683, 2445.5327494597054, 2636.2209648340604, 2837.778811063674, 3038.263113505114, 3253.6428360074638, 3476.2689790799864, 3661.8578614605162, 3803.834027446489, 3942.455369094419, 4140.121619091903, 4354.427797806079, 4559.743047294301, 4786.394979572475, 4987.684439855045, 5085.511117552373, 5316.725610930286, 5549.013648096372, 5730.4425482977285]\n",
            "Jammu and Kashmir ['', '', '', '', '', '', '', '', '', '', '', '', '', '', '', '', '', '', '', '', '', '', '', '', '', '', '', '', '', '', '', '', '', '', '', '', '', '', '', '', '', '', '', '', '', '', '', '', '', '', '', '', '', '', '', '', '', '', '', '', '', '', '', '', '', '', '', '', '', '', '', '', 235.62579742355024, 264.58292910941384, 298.7582241193798, 339.47459709899516, 380.0439795624386, 417.45306592818633, 473.1624715573351, 509.8366053422233, 580.2450625885618, 632.9411626361867, 677.6262795524433, 737.8188959248349, 806.7574480094544, 864.5982161230958, 943.3116375331464, 1025.9203076217523, 1101.546928192193, 1221.4176941303747, 1355.987511685746, 1451.237366165135, 1594.4796241746483, 1720.2300107597057, 1913.6695300419217, 2072.492782765656, 2301.283521187213, 2519.19696141205, 2771.2122013887665, 3118.1833148125284, 3289.133285120444, 3460.156750686446, 3772.8055785840697, 3948.606235925658, 4197.387684546593, 4668.0513173290055, 5167.1576149906805, 5599.677208826486, 5948.2652179281395, 6511.753361673105, 7116.25185943003, 7492.8415618624285, 7871.93010306975, 8441.591848493936, 9118.850651755949, 9586.206997924493, 9862.18169203723, 10360.038570311444, 10668.718654272427, 11283.139011870953, 11665.828820724488, 12095.923071043457, 12570.996419311026, 12957.875457875458, 13454.556412020296, 13917.356052187513, 14381.331616484105]\n",
            "Jharkhand ['', '', '', '', '', '', '', '', '', '', '', '', '', '', '', '', '', '', '', '', '', '', '', '', '', '', '', '', '', '', '', '', '', '', '', '', '', '', '', '', '', '', '', '', '', '', '', '', '', '', '', '', '', '', '', '', '', '', '', '', '', '', '', '', '', '', '', '', '', '', '', '', 40.05809408252299, 43.60787344171164, 51.35520211614526, 60.47580309741828, '', '', '', 88.89994876916971, 94.47077039125409, 109.73223055594104, '', '', 139.40009454332062, 159.6623387687624, 180.59826374850275, 202.25969107902617, 226.9008602074087, 243.76878986311533, 266.0520763514528, 284.68194028763264, 304.99600610955895, 321.11252261624026, 338.26547105261164, 358.3981612868422, 390.32026472129775, 412.1889784377592, 443.1005607407669, 446.1580349333528, 482.7699928496561, 539.7737489826125, 549.3348335340038, 591.154861897, 667.6953599046151, 720.035172353966, 757.5280974105059, 803.8825154658964, 860.7567176076415, 916.1799150478205, 973.9609951280444, 1020.9372723412489, 1086.5952350871178, 1139.7641930802208, 1186.3258975215492, 1260.3271373014236, 1313.9106680664024, 1381.2787434962602, 1436.1578141733517, 1483.3931993689787, 1540.4487770984197, 1630.2037822095838, 1707.1588529890748, 1792.6903979867518, 1847.336271479663, 1930.3285582495992, 2011.7402863267578]\n",
            "Karnataka ['', '', '', '', '', '', '', '', '', '', '', '', '', '', '', '', '', '', '', '', '', '', '', '', '', '', '', '', '', '', '', '', '', '', '', '', '', '', '', '', '', '', '', '', '', '', '', '', '', '', '', '', '', '', '', '', '', '', '', '', '', '', '', '', '', '', '', '', '', 103.11905006263369, 112.68054085357116, 118.03852795313674, 126.6971535145894, 136.92469242563863, 148.26231153687408, 164.39547711291408, 184.7617485189976, 203.1298755647459, 260.4100138943558, 283.9733162769757, 316.2544484983915, 347.2330866182555, 388.2764518864747, 436.8091582386171, 475.43994920509823, 532.2168511772903, 578.470192851717, 635.9131429440209, 676.1868526067776, 747.631614290764, 820.0384454815784, 890.3731269653784, 960.5597977558205, 1032.078564786486, 1108.5704911139856, 1172.1410839113175, 1240.4184167574392, 1313.994532425783, 1384.418020325598, 1451.70368152622, 1525.9606463840114, 1588.3175514958064, 1651.7253325304443, 1724.8130129107064, 1793.563979975574, 1900.057673846774, 1979.2581958627281, 2072.5049326783724, 2152.0458792890504, 2244.7745786779406, 2347.434795591164, 2468.537144896815, 2579.781982024812, 2760.784258932512, 2903.9105994098577, 3053.653017880313, 3254.6663405300374, 3388.1719859391023, 3576.0567600879576, 3731.0239560339564, 3914.720027560775, 4147.511246074498, 4345.223930262335, 4511.602750666248, 4730.836189668362, 4955.7680403647655, 5137.347558976563]\n",
            "Kerala ['', '', '', '', '', '', '', '', '', '', '', '', '', '', '', '', '', '', '', '', '', '', '', '', '', '', '', '', '', '', '', '', '', '', '', '', '', '', '', '', '', '', '', '', '', '', '', '', '', '', '', '', '', '', '', '', '', '', '', '', '', '', '', 236.86644074530798, 255.99839190768327, 272.94543503101715, 286.30698803900106, 300.17275059445603, 314.6267576219607, 335.7475353326941, 356.0279637976424, 373.6472863176044, 396.7288789351699, 419.86649483578776, 439.30657405495094, 454.76900017739774, 461.49179414367893, 487.40256255538776, 505.02188507534976, 525.8905580123477, 542.0532751729488, 553.3979899910483, 567.2917641880294, 583.2303882164211, 597.6003603193473, 614.5754150842073, 626.3403045251995, 642.9792195917455, 676.3690962909421, 696.2293501329979, 723.4566656964367, 769.7879207807248, 812.6737439572937, 932.1153834248898, 969.4268899377506, 992.7605873290516, 1017.1587270983472, 1051.725092741643, 1070.2127761489164, 1099.9051161666584, 1123.9110929545875, 1156.292550558842, 1168.0854516413604, 1189.402310842777, 1222.6521293343428, 1261.6163226972476, 1311.8131843121473, 1356.6878340370745, 1401.5904954035277, 1430.2464046848013, 1473.0762045783179, 1530.3600114993392, 1579.100267754878, 1635.3756555809568, 1693.1076487663968, 1733.9206104700288, 1764.9855209225534, 1829.2442265835912, 1903.6991697601557, 1978.2381478612986, 2078.855964223307, 2164.095389387448, 2171.126311410517, 2309.5318321913314, 2413.73513866869, 2670.8539962374202, 2792.5365670271103]\n",
            "Ladakh ['', '', '', '', '', '', '', '', '', '', '', '', '', '', '', '', '', '', '', '', '', '', '', '', '', '', '', '', '', '', '', '', '', '', '', '', '', '', '', '', '', '', '', '', '', '', '', '', '', '', '', '', '', '', '', '', '', '', '', '', '', '', '', '', '', '', '', '', '', '', '', '', '', '', '', 2629.548513440107, 2837.144448711694, 3172.7578774007607, '', '', '', '', '', '', '', '', '', '', '', '', '', 7767.547911411894, 8407.63537849929, 8421.475107517395, 8421.475107517395, 9130.761219695318, '', '', '', '', '', '', '', '', '', '', '', '', '', '', 16365.47956391014, '', '', 19046.927061168142, 19815.032021673014, 19825.411818436594, 20399.76057268799, '', '', '', '', '', 25444.34179978756, '', '', '', '']\n",
            "Madhya Pradesh ['', '', '', '', '', '', '', '', '', '', '', '', '', '', '', '', '', '', '', '', '', '', '', '', '', '', '', '', '', '', '', '', '', '', '', '', '', '', '', '', '', '', '', '', '', '', '', '', '', '', '', '', '', '', '', '', '', '', '', '', '', '', '', '', '', '', '', '', '', 47.51697727356465, 60.157711612365496, 82.58066390566006, 99.7669079047526, 122.78733698329168, 122.78733698329168, 94.9519479295467, 112.41935747463667, 158.06189777488515, 179.26646603552422, 175.470731164559, 208.94114636933566, 224.25295339511203, 244.90690579483947, 265.51399727023403, 287.5854926310318, 307.3256570062676, 326.4566293651756, 295.5987106919584, 316.41667632685096, 363.8750774449995, 396.40827416311805, 488.6657189435228, 516.8291344675981, 545.6720333945005, 576.2253560595539, 610.3049632806583, 639.5930409887234, 639.5930409887234, 714.8634006984504, 746.3187961569122, 796.7528659702001, 844.3049889370144, 890.8144563374216, 947.5864661667348, 1006.3734957423628, 1051.5591420303656, 1099.4627219296767, 1167.7390886827177, 1217.1890790850148, 1314.0740401432936, 1364.5081099565816, 1414.4618552954573, 1471.526745901851, 1511.9677236011473, 1555.4195156888325, 1591.9710366684976, 1623.5435844377917, 1657.7989201251444, 1712.1107314269802, 1771.1320656242726, 1820.9686586523162, 1892.6190119573264, 1965.9094976139882, 2015.242335705453, 2079.230927882033, 2151.6427712074533, 2217.1309129626866]\n",
            "Maharashtra ['', '', '', '', '', '', '', '', '', '', '', '', '', '', '', '', '', '', '', '', '', '', '', '', '', '', '', '', '', '', '', '', '', '', '', '', '', '', '', '', '', '', '', '', '', '', '', '', '', '', '', '', '', '', '', '', '', '', '', '', '', '', '', '', '', '', '', 142.6213879314501, 169.53292238483652, '', '', 243.61678744767426, 258.56673763737984, 289.6441191561215, 322.58922937862866, 333.51950257544763, 366.57830063209707, 413.1903126304187, 452.1365163837203, 488.58158778589234, 542.4208978118284, 579.1664299185192, 615.8469975485574, 668.3545358031128, 724.3295529990068, 773.1584777631023, 819.4619084973235, 876.849903060414, 935.0580741412449, 979.5018967312823, 1045.3271526996439, 1101.911211864157, 1170.651748722309, 1226.8947443843956, 1297.2918753971917, 1367.2910989904901, 1423.720867522953, 1475.8792217155003, 1536.5722840282974, 1627.9854232382463, 1706.7304895009163, 1831.3810790783098, 1777.7041802440053, 1805.0704660339609, 1876.3446174815688, 1952.84840929972, 2037.4321579015525, 2126.084306853761, 2225.3581477386883, 2293.5464865452923, 2389.6533091934, 2497.356290924017, 2597.93754190158, 2704.8528293527825, 2833.5230959230626, 2951.5797911202053, 3079.194384944879, 3173.1655004230283, 3288.9890417352344, 3414.476048949531, 3528.9109745732853, 3643.378382435366, 3761.2564253217142, 3835.697595006142, 3936.7173562011108, 4048.72423450997, 4150.710342295148]\n",
            "Manipur ['', '', '', '', '', '', '', '', '', '', '', '', '', '', '', '', '', '', '', '', '', '', '', '', '', '', '', '', '', '', '', '', '', '', '', '', '', '', '', '', '', '', '', '', '', '', '', '', '', '', '', '', '', '', '', '', '', '', '', '', '', '', '', '', '', '', '', '', '', '', '', '', '', '', '', '', '', '', '', '', '', '', '', '', '', '', 134.5605514394906, '', '', '', '', '', 149.11638032116628, 151.38062036942694, '', '', '', '', '', 244.5379252121512, 279.79537739221007, 354.5152989848118, 432.4698492177859, '', '', '', '', 614.5794416707504, '', '', '', '', '', '', 1324.2569653684484, '', '', 2016.1440315440984, 2211.1921385585524, 2509.424899200885, 2780.48677926409, '', '', '', '', '', '']\n",
            "Meghalaya ['', '', '', '', '', '', '', '', '', '', '', '', '', '', '', '', '', '', '', '', '', '', '', '', '', '', '', '', '', '', '', '', '', '', '', '', '', '', '', '', '', '', '', '', '', '', '', '', '', '', '', '', '', '', '', '', '', '', '', '', '', '', '', '', '', '', '', '', '', '', '', '', '', '', '', '', '', '', 183.2649678766511, 219.2050993403055, 227.52182397652308, 248.90768732679678, 277.1251459139635, 310.6890703386986, 329.4017007701881, 335.63924424735126, 347.22325356208285, '', '', 410.48976597330926, 414.9451541712829, 473.7562783845356, '', '', '', '', 577.4183104573901, '', '', '', '', 679.2981872510552, 736.6241820649833, '', '', '', '', '', '', '', 921.9683311006888, 1015.5314832581363, '', '', '', '', '', '', 1985.6180068969409, '', '', '', '', 2413.929325662145, 2594.224034740147, 2680.6585657808364, 2790.558141330854]\n",
            "Mizoram ['', '', '', '', '', '', '', '', '', '', '', '', '', '', '', '', '', '', '', '', '', '', '', '', '', '', '', '', '', '', '', '', '', '', '', '', '', '', '', '', '', '', '', '', '', '', '', '', '', '', '', '', '', '', '', '', '', '', '', '', '', '', '', '', '', '', '', '', 46.802728114882946, 59.713825525885134, 67.7832614077615, '', '', '', 71.8179793486997, 73.43186652507497, 75.85269728963787, 75.85269728963787, '', '', 93.60545622976589, 106.51655364076808, 108.93738440533099, 108.93738440533099, 110.55127158170626, '', '', '', 117.813763875395, 127.49708693364664, 144.44290228558702, 145.24984587377466, 145.24984587377466, 147.67067663833757, 147.67067663833757, 147.67067663833757, 151.70539457927575, 157.3539996965892, 158.9678868729645, 160.58177404933977, 162.19566122571504, 162.19566122571504, 166.23037916665322, 180.7553637540307, 180.7553637540307, 220.29559957522488, 220.29559957522488, 227.55809186891364, 227.55809186891364, 242.89002004447872, 252.57334310273038, 254.18723027910565, 258.2219482200438, 261.44972257279437, 271.133045631046, 275.9747071601719, 289.69274815936166, 353.441291626185, '', '', 426.87315815126, 553.563301496719, 626.9951680217939, 723.0214550161228, 816.6269112458887, 883.6032290654625, 1086.1460697005593]\n",
            "Nagaland ['', '', '', '', '', '', '', '', '', '', '', '', '', '', '', '', '', '', '', '', '', '', '', '', '', '', '', '', '', '', '', '', '', '', '', '', '', '', '', '', '', '', '', '', '', '', '', '', '', '', '', '', '', '', '', '', '', '', '', '', '', '', '', '', '', '', '', '', '', '', '', '', 31.1153289668155, 32.89334776491924, '', '', 81.78886471277218, '', '', 174.2458422141668, 179.57989860847803, 192.91503959425611, 238.6990236454275, 241.36605184258312, 269.814352612243, '', '', 272.4813808093986, 279.5934560018136, 284.03850299707295, 286.2610264947026, 290.26156879043606, 295.1511204852213, 299.5961674804807, 304.04121447574005, 314.7093272643625, 321.8214024567775, 339.15708573828897, 349.38069382738547, 357.8262831183783, 376.9399851979935, 383.1630509913566, 388.94161208519375, 392.05314498187533, 395.16467787855686, 396.05368727760873, 404.49927656860154, 407.61080946528307, 423.1684739486908, 427.16901624442426, 434.72559613636514, 437.8371290330467, 444.9492042254617, 460.06236400934347, 473.39750499512155, 487.6216553799515, 607.1934195524282, 607.1934195524282, 690.7603030633041, 784.5507946632766, 887.6758849532937, 982.355385952318, 1145.0441059788104, 1275.7284876394356, 1447.7518063559728, 1517.5390441815446, 1662.0030715274738]\n",
            "Odisha ['', '', '', '', '', '', '', '', '', '', '', '', '', '', '', '', '', '', '', '', '', '', '', '', '', '', '', '', '', '', '', '', '', '', '', '', '', '', '', '', '', '', '', '', '', '', '', '', '', '', '', '', '', '', '', '', '', '', '', '', '', '', '', '', '', '', '', '', '', 52.657313237927745, 70.08750950840935, 76.51597298440382, 76.60226108475273, 83.31116088688118, 89.95534461374793, 102.12196676294549, 119.44430290799096, 145.26601693740494, 163.45123408593957, 185.92928422683295, 209.03292309525597, 229.54791895321145, 253.42815072477475, 297.15464557658936, 344.80724899427986, 398.1764390600862, 444.362144771845, 492.1873243902333, 541.5225457647276, 575.6926335028995, 627.9185062390827, 683.7469071648331, 736.317932302412, 789.3851140169971, 833.9313458221264, 887.2142477875839, 963.4713564709409, 1023.6788784893992, 1089.689275256322, 1142.756456970907, 1214.9795969629522, 1289.5756597145926, 1369.349008487168, 1468.127311361593, 1569.4942572464854, 1664.2817354797728, 1767.1587231207714, 1858.214241013968, 1967.8648445323568, 2065.8665545036415, 2163.7172602993155, 2284.7794650888486, 2339.097824258493, 2447.0658098200774, 2555.1200834820115, 2671.350154652005, 2756.3870775458645, 2838.770641353995, 2939.7061467371427, 3005.2203869270593, 3097.0956417735706, 3181.6579801155112, 3281.7737485453445, 3358.5485858307948, 3442.1833270939846, 3513.8887384839363, 3577.159488064781]\n",
            "Puducherry ['', '', '', '', '', '', '', '', '', '', '', '', '', '', '', '', '', '', '', '', '', '', '', '', '', '', '', '', '', '', '', '', '', '', '', '', '', '', '', '', '', '', '', '', '', '', '', '', '', '', '', '', '', '', '', '', '', '', '', '', '', '', '', '', '', '', '', '', '', '', '', '', '', '', '', '', '', '', '', '', 880.7661887655266, 899.8671422568272, 933.1169501861282, 1042.0631293587314, 1095.121333501233, 1205.4823981176364, 1318.6732336216398, 1398.6142611963423, 1424.789641906643, 1525.246508416446, 1576.1823843932475, 1664.6127246307503, 1908.6804636862576, 2115.253738481064, 2231.9817875945673, 2321.11957055397, 2518.496089964076, 2575.798950437978, 2734.9735628654826, 2908.297029730988, 3017.950651625491, 3087.280038371693, 3173.588050443496, '', '', 3616.4471943529093, 3757.9357387329137, 3879.615886899717, 3975.1206543562203, 4070.625421812723, 4123.683625955225, 4216.358622524127, 4319.645259921531, 4409.490485602833, 4491.553841343236, 4623.845630338539, 4673.366620871541, 4723.595054126443, 4816.270050695345, 4893.381307382448, 4982.519090341851, 5068.119659691753, 5132.496947384655, 5202.533776852757, 5266.203621823759, 5359.586061114562, 5513.808574488767]\n",
            "Punjab ['', '', '', '', '', '', '', '', '', '', '', '', '', '', '', '', '', '', '', '', '', '', '', '', '', '', '', '', '', '', '', '', '', '', '', '', '', '', '', '', '', '', '', '', '', '', '', '', '', '', '', '', '', '', '', '', '', '', '', '', '', '', '', '', '', '', '', '', '', '', 105.90094883866107, 114.82555887550312, 129.68884994057836, 142.03068984282834, 148.63291065075236, 160.709334641126, 172.2881037967315, 183.2696871506152, 198.66381003944312, 204.6024910676763, 219.2003662208752, 225.50399412793837, 244.01675398131331, 261.66691212109015, 290.5308925376425, 352.0410301149851, 440.2586438248848, 474.9949512917013, 514.7741610841682, 564.7055295059054, 619.4143843414167, 703.5180514172331, 768.9098967057672, 825.0453620676138, 877.1664117623308, 947.0371505637783, 1001.9118903442122, 1063.6542668444467, 1151.2746947526246, 1259.0667319634047, 1309.2303393080335, 1358.9958227848479, 1403.5856959800735, 1459.7543383309048, 1527.0040950025734, 1572.8546937792116, 1635.6587339269515, 1679.1869434746718, 1718.966153267139, 1756.8874516764713, 1845.768605166062, 1915.5398130005558, 1977.945729280481, 2070.210935646495, 2108.961658780441, 2194.392405415639, 2229.9249606180847, 2316.351016922819, 2404.270037731858, 2404.270037731858, 2688.0328245166534, 2803.3560382269247, 2914.664836270066, 3022.854997348661, 3195.906171892037, 3352.0702590422807, 3547.7149630841304]\n",
            "Rajasthan ['', '', '', '', '', '', '', '', '', '', '', '', '', '', '', '', '', '', '', '', '', '', '', '', '', '', '', '', '', '', '', '', '', '', '', '', '', '', '', '', '', '', '', '', '', '', '', '', '', '', '', '', '', '', '', '', '', '', '', '', '', '', '', '', '', '', '', '', '', 217.66524371417566, 235.79373010810488, 275.80227530151444, 306.75274764731057, 351.77161651392316, 392.4835815333735, 431.03592427989156, 467.2188528755352, 503.2290116893443, 528.7619173047559, 582.4439566605027, 636.9528228293152, 706.998628664538, 758.8542446123193, 817.6576739295915, 860.9365042791558, 919.1846021548168, 974.8288126042565, 1023.5622317803128, 1083.229510006758, 1141.5886741707411, 1206.7969261145956, 1279.7798182410065, 1339.4964592622614, 1406.0251659672801, 1483.8456119850596, 1595.134032883939, 1665.8338957503927, 1722.51472489084, 1795.6950681964904, 1878.8096739576297, 1964.1085833891061, 2053.78844085996, 2173.567262466139, 2290.5570861655597, 2402.524245493075, 2520.5013250886936, 2620.1401264124406, 2732.7119799763773, 2862.375701243235, 3004.6639572827207, 3141.115062835938, 3277.134243934568, 3405.7119837156088, 3543.8044021962546, 3750.770260135388, 3912.8283154962314, 4045.725299823137, 4160.77763382627, 4326.648965086177, 4511.216454880326, 4681.0121283276185, 4880.622929840079, 5056.9344922022765, 5247.06763711124, 5439.644240363294, 5612.401681499178, 5764.698244186367]\n",
            "Sikkim ['', '', '', '', '', '', '', '', '', '', '', '', '', '', '', '', '', '', '', '', '', '', '', '', '', '', '', '', '', '', '', '', '', '', '', '', '', '', '', '', '', '', '', '', '', '', '', '', '', '', '', '', '', '', '', '', '', '', '', '', '', '', '', '', '', '', '', '', '', '', '', '', '', '', '', '', '', '', '', '', '', '', '', '', '', '', '', '', '', '', '', '', '', '', '', '', 262.2234520486026, 273.8134388794801, 312.9296444336915, 312.9296444336915, 317.2758894952706, 317.2758894952706, 317.2758894952706, 504.16442714316963, 636.0005273444008, 838.8252968847564, 504.16442714316963, 1216.9486172421337, 1371.9646911051198, 1574.7894606454754, 1744.2930180470582, 1944.2202908796944, '', '', 2473.0134400384786, 2687.4281964097117, 3046.717788166913, 3266.927537953585, 3501.6247712788536, 3804.413177235527, 3997.096708298865, 4098.509093069043, 4237.588935039573, 5106.837947355382, 5487.858764420479, 5942.7657475324195, 6313.645326120498]\n",
            "Tamil Nadu ['', '', '', '', '', '', '', '', '', '', '', '', '', '', '', '', '', '', '', '', '', '', '', '', '', '', '', '', '', '', '', '', '', '', '', '', '', '', '', '', '', '', '', '', '', '', '', '', '', '', '', '', '', '', '', '', '', '', '', '', '', '', '', '', '', '', '', '', '', '', 93.35665104217793, 108.04037914747714, 126.43679091194649, 136.88112245141127, 163.74348069128936, 247.36236628830824, 282.5493577847339, 334.07729604401226, 381.1988312060748, 450.09544872901415, 525.1199212880232, 603.6001443810004, 681.4508813172324, 758.2481924401359, 847.5838400729011, 930.1364532003314, 1029.145632996955, 1125.4313216664368, 1217.6189269889453, 1308.740259841865, 1412.6311690173286, 1538.3613938349692, 1661.8819937758722, 1791.9800817219484, 1928.3730312354758, 2093.6195707091974, 2245.955220641514, 2418.2674210582927, 2600.6257066704734, 2780.2219611867313, 2950.491543258154, 3122.212797486968, 3274.5998340443252, 3426.0362180384345, 3590.2164850425675, 3743.9267271947156, 3893.872899062653, 4029.2124227628515, 4197.259533301276, 4340.1271975698955, 4472.871696705553, 4625.6698262632335, 4785.790549889174, 4948.339291548274, 5104.490398389841, 5262.183103982621, 5414.223280820956, 5546.402527081169, 5690.6833235384, 5848.003476099638, 5993.60747815166, 6155.539580310275, 6320.06670703343, 6466.223115304637, 6608.743919854233, 6789.894619777964, 7001.1835752879]\n",
            "Telangana ['', '', '', '', '', '', '', '', '', '', '', '', '', '', '', '', '', '', '', '', '', '', '', '', '', '', '', '', '', '', '', '', '', '', '', '', '', '', '', '', '', '', '', '', '', '', '', '', '', '', '', '', '', '', '', '', '', '', '', '', '', '', '', '', '', '', '', '', '', '', '', '', '', '', '', '', '', '', '', '', '', '', '', '', '', '', '', '', '', '', 489.75259135976637, '', '', '', '', '', '', '', '', '', '', '', '', '', '', '', '', '', '', '', '', '', '', '', '', '', '', '', '', '', '', '', '', '', '', '', '']\n",
            "Tripura ['', '', '', '', '', '', '', '', '', '', '', '', '', '', '', '', '', '', '', '', '', '', '', '', '', '', '', '', '', '', '', '', '', '', '', '', '', '', '', '', '', '', '', '', '', '', '', '', '', '', '', '', '', '', '', '', '', '', '', '', '', '', '', '', '', '', '', '', '', '', '', '', '', '', '', '', '', 182.7428405336091, '', '', '', '', '', 771.0213022513822, '', '', '', '', '', '', '', '', '', 1188.3081034698596, 1237.9508436148164, 1293.5890837772802, 1402.9470040966053, 1493.598964361309, 1658.834944843798, 1786.1793652156437, 2000.0988058402886, 2180.2036263661944, 2301.3127267198333, 2480.6980872436384, 2673.0337278052584, 2830.8352882660392, 3012.379028796147, 3160.3479692282162, 3297.525009628773, 3426.06853000412, 3617.2050705622387, 3794.4320510797415, 4046.48287181573, 4249.8502324095625, 4493.507353121042, 4623.24997349989, 5005.283234615427, 5287.79119544035, 5579.172496291184, 5785.89733689482, 6092.147477789071, 6325.492338470438, 6589.05451924004, 6801.295219859782, 6970.608140354176, 7309.953441345064, 7467.5151818051445]\n",
            "Uttar Pradesh ['', '', '', '', '', '', '', '', '', '', '', '', '', '', '', '', '', '', '', '', '', '', '', '', '', '', '', '', '', '', '', '', '', '', '', '', '', '', '', '', '', '', '', '', '', '', '', '', '', '', '', '', '', '', '', '', '', '', '', '', '', '', '', '', '', '', '', '', '', '', '', 39.2294144099787, 44.53875328694002, 49.83548090766154, 55.85525388613234, 66.8985106001287, 81.99838807126494, 89.89303447738797, 103.59306250590495, 119.7396742449457, 133.5405923233812, 144.2979938959418, 159.4609276482771, 177.3647077567318, 191.1992558518068, 223.49668308196823, 238.98750949653868, 259.7876747880705, 282.26093340741744, 295.5531974841805, 309.88378832468817, 327.9473110121805, 346.6371927595835, 360.38346206097987, 402.89180309330993, 413.22882945787677, 442.37764638016483, 461.9419085601949, 477.8404989265194, 503.13867894358447, 524.5904258075066, 546.298601548305, 570.7013823723433, 589.2231140365488, 612.2218416658881, 643.7583897695808, 669.5820387966381, 685.65298299824, 723.9659794547923, 741.8739633153269, 765.8563689313715, 803.6060626092121, 869.3821714039975, 899.855170231466, 915.8588543997888, 965.2697563473766, 990.4964725790828, 1011.3723054080535, 1011.3723054080535, 1077.2829342693967, 1138.880513496724, 1174.057510901643, 1218.6340979573022, 1252.3103558696832, 1293.1624185825178, 1335.8683359626052, 1390.0252740084427]\n",
            "Uttarakhand ['', '', '', '', '', '', '', '', '', '', '', '', '', '', '', '', '', '', '', '', '', '', '', '', '', '', '', '', '', '', '', '', '', '', '', '', '', '', '', '', '', '', '', '', '', '', '', '', '', '', '', '', '', '', '', '', '', '', '', '', '', '', '', '', '', '', '', '', '', '', '', 150.03300192749745, 151.54399779999002, 161.76544046685152, 177.58645607295017, 193.2297074587556, 214.4725317837982, 230.47131161019007, 251.62525382508605, 280.68970384303134, 297.221776330303, 326.819519009128, 360.95024930543076, 379.9710208768078, 397.5696786858389, 423.7010190689457, 461.65368010155316, 469.03089524372274, 485.5629677309944, 510.094430131462, 537.3812379464748, 583.5110531125715, 625.90781965251, 654.9722696704554, 673.5486306910993, 693.813751804529, 716.389807781771, 741.8100912837048, 780.6515734177784, 810.2493160966035, 834.2474858361913, 859.3122408975387, 881.2661221037542, 930.6845753452759, 959.2157327023415, 1003.8345519959455, 1070.5850167160584, 1119.6479415169936, 1174.310439257166, 1232.794867733643, 1305.7670801640195, 1377.9393536030764, 1469.0435165033637, 1600.5890395203637, 1710.8028561021747, 1863.7689676645105, 1965.8056301128322, 2051.0435737434427, 2130.9485907652556, 2255.827955521259, 2395.4617505616015, 2527.185037798895, 2705.3936686428715, 2817.829537978348, 2940.3090857603925, 3058.7000564756927, 3121.2730620189145]\n",
            "West Bengal ['', '', '', '', '', '', '', '', '', '', '', '', '', '', '', '', '', '', '', '', '', '', '', '', '', '', '', '', '', '', '', '', '', '', '', '', '', '', '', '', '', '', '', '', '', '', '', '', '', '', '', '', '', '', '', '', '', '', '', '', '', '', '', '', '', '', '', '', 14.928324516034412, '', '', 21.032172065293942, 22.949663647380405, 25.328959484838478, 28.039549679410968, 30.930845886954955, 34.836103611727914, 38.25947863524354, 42.28520703533083, 46.48160222544676, 50.6478797467341, 54.90451027450719, 62.06247623276713, 70.64601184891335, 80.21339131345995, 89.68037854857793, 99.18752267546738, 109.35725551658564, 120.90236190087586, 132.74864497345192, 146.77343942462883, 165.8981591307792, 186.38821315715862, 210.5827404494538, 230.0487937356614, 252.14512343289863, 276.79141575762253, 302.5922187207755, 328.8046298245858, 359.0728869973119, 395.2241288145546, 435.8428248413705, 478.0176004243298, 528.2839896992352, 578.5804966429691, 630.8346520605611, 698.1576811153874, 775.9114628078464, 862.9314472765661, 939.3700907635103, 1026.831801041716, 1114.3738251034645, 1156.960208827081, 1210.720247686102, 1301.1636071783375, 1393.6850858197452, 1486.2969174676387, 1578.9388667843605, 1671.6611298846253, 1764.5841774437474, 1857.7682447993839, 1951.5948224233634, 2045.5017138308858, 2140.6735473292088, 2235.9959691716745, 2331.358547905912, 2427.7953234950355]\n"
          ],
          "name": "stdout"
        }
      ]
    },
    {
      "cell_type": "code",
      "metadata": {
        "id": "j-Ll534S9Wb7",
        "colab_type": "code",
        "colab": {}
      },
      "source": [
        "with open('positivity_Rate.json', 'w') as outfile:\n",
        "    json.dump(testing, outfile,indent=4)"
      ],
      "execution_count": 0,
      "outputs": []
    },
    {
      "cell_type": "code",
      "metadata": {
        "id": "rQ0xG1mwoLjZ",
        "colab_type": "code",
        "colab": {}
      },
      "source": [
        ""
      ],
      "execution_count": 0,
      "outputs": []
    }
  ]
}