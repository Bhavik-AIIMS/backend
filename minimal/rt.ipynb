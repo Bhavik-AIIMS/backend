{
  "nbformat": 4,
  "nbformat_minor": 0,
  "metadata": {
    "kernelspec": {
      "display_name": "Python 3",
      "language": "python",
      "name": "python3"
    },
    "colab": {
      "name": "rt.ipynb",
      "provenance": [],
      "collapsed_sections": []
    },
    "accelerator": "GPU"
  },
  "cells": [
    {
      "cell_type": "code",
      "metadata": {
        "id": "kS04bS_xzt2l",
        "colab_type": "code",
        "outputId": "7513f527-d82d-4da6-ca6d-8a200c78efb7",
        "colab": {
          "base_uri": "https://localhost:8080/",
          "height": 35
        }
      },
      "source": [
        "!pip install wget"
      ],
      "execution_count": 1,
      "outputs": [
        {
          "output_type": "stream",
          "text": [
            "Requirement already satisfied: wget in /usr/local/lib/python3.6/dist-packages (3.2)\n"
          ],
          "name": "stdout"
        }
      ]
    },
    {
      "cell_type": "code",
      "metadata": {
        "id": "Dg4B7WwDzp_9",
        "colab_type": "code",
        "outputId": "d171ba0b-c633-49be-936e-95d0b9e22fa0",
        "colab": {
          "base_uri": "https://localhost:8080/",
          "height": 35
        }
      },
      "source": [
        "import numpy as np\n",
        "import matplotlib.pyplot as plt\n",
        "import pandas as pd\n",
        "from subprocess import call\n",
        "from scipy.stats.distributions import gamma\n",
        "import json \n",
        "import wget\n",
        "import os\n",
        "import os.path\n",
        "from google.colab import drive\n",
        "drive.mount('/content/gdrive')\n",
        "os.chdir('/content/gdrive/My Drive')"
      ],
      "execution_count": 2,
      "outputs": [
        {
          "output_type": "stream",
          "text": [
            "Drive already mounted at /content/gdrive; to attempt to forcibly remount, call drive.mount(\"/content/gdrive\", force_remount=True).\n"
          ],
          "name": "stdout"
        }
      ]
    },
    {
      "cell_type": "code",
      "metadata": {
        "id": "v7FrMFo_0gK0",
        "colab_type": "code",
        "outputId": "9d0386a2-5b96-4c8e-d018-53d9e39b9dd1",
        "colab": {
          "base_uri": "https://localhost:8080/",
          "height": 35
        }
      },
      "source": [
        "if os.path.exists(os.getcwd()+\"\\\\national.json\"):\n",
        "    os.remove(os.getcwd()+\"\\\\national.json\")\n",
        "wget.download('https://api.covid19india.org/data.json', os.getcwd()+\"//national.json\")\n",
        "\n",
        "if os.path.exists(os.getcwd()+\"\\\\states.json\"):\n",
        "    os.remove(os.getcwd()+\"\\\\states.json\")\n",
        "wget.download('https://api.covid19india.org/states_daily.json', os.getcwd()+\"//states.json\")"
      ],
      "execution_count": 3,
      "outputs": [
        {
          "output_type": "execute_result",
          "data": {
            "text/plain": [
              "'/content/gdrive/My Drive//states (1).json'"
            ]
          },
          "metadata": {
            "tags": []
          },
          "execution_count": 3
        }
      ]
    },
    {
      "cell_type": "code",
      "metadata": {
        "id": "onP6Jq5RzqAH",
        "colab_type": "code",
        "colab": {}
      },
      "source": [
        "def pooled_SD(sds,means):\n",
        "    return np.sqrt((np.sum(sds**2,axis=0)+np.sum(means-np.mean(means,axis=0)))/sds.shape[0])"
      ],
      "execution_count": 0,
      "outputs": []
    },
    {
      "cell_type": "code",
      "metadata": {
        "id": "colNKV4kzqAO",
        "colab_type": "code",
        "colab": {}
      },
      "source": [
        "json_data = {}"
      ],
      "execution_count": 0,
      "outputs": []
    },
    {
      "cell_type": "code",
      "metadata": {
        "id": "YNOfWkFFBreC",
        "colab_type": "code",
        "colab": {}
      },
      "source": [
        "def fn(mon):\n",
        "  if(mon == \"01\"):\n",
        "    return \" January\"\n",
        "  if(mon == \"02\"):\n",
        "    return \" February\"\n",
        "  if(mon == \"03\"):\n",
        "    return \" March\"\n",
        "  if(mon == \"04\"):\n",
        "    return \" April\"\n",
        "  if(mon == \"05\"):\n",
        "    return \" May\"\n",
        "  if(mon == \"06\"):\n",
        "    return \" June\"\n",
        "  if(mon == \"07\"):\n",
        "    return \" July\"\n",
        "  if(mon == \"08\"):\n",
        "    return \" August\"\n",
        "  if(mon == \"09\"):\n",
        "    return \" September\"\n",
        "  if(mon == \"10\"):\n",
        "    return \" October\"\n",
        "  if(mon == \"11\"):\n",
        "    return \" November\"\n",
        "  if(mon == \"12\"):\n",
        "    return \" December\"\n",
        "def convert(dat): \n",
        "    return  str(dat[3:5]) + fn(str(dat[:2]))"
      ],
      "execution_count": 0,
      "outputs": []
    },
    {
      "cell_type": "markdown",
      "metadata": {
        "id": "w93pDNZ4zqAV",
        "colab_type": "text"
      },
      "source": [
        "### Calculation for Rt (India - No Import Adjustment)"
      ]
    },
    {
      "cell_type": "code",
      "metadata": {
        "id": "dWN18py3zqAW",
        "colab_type": "code",
        "outputId": "ca30c750-6210-408e-a17e-9195d982677e",
        "colab": {
          "base_uri": "https://localhost:8080/",
          "height": 17
        }
      },
      "source": [
        "dates = np.array([pd.to_datetime(i['date']+\"2020\") for i in json.load(open('national.json',))['cases_time_series']])\n",
        "confirmed = np.array([int(i['dailyconfirmed'])for i in json.load(open('national.json',))['cases_time_series']])\n",
        "\n",
        "confirmed = confirmed[dates>=pd.to_datetime(\"03/04/20\")]\n",
        "dates = dates[dates>=pd.to_datetime(\"03/04/20\")]\n",
        "\n",
        "real_data = confirmed\n",
        "\n",
        "rt = []\n",
        "dats = []\n",
        "for n in range(2):\n",
        "    print(\"Iteration: \",n+1,end='\\r')\n",
        "    dataset = np.copy(real_data)\n",
        "    G = gamma(3.325+0.616*np.random.normal(),0.979+0.195*np.random.normal())\n",
        "    for i in range(len(dataset)):\n",
        "        send_back = np.clip(np.round(G.rvs(np.max([0,int(dataset[i])]))),0,10)\n",
        "        send_back = send_back[i-send_back>=0]\n",
        "        dataset[i] = 0\n",
        "        for j in np.unique(np.int32(send_back)):\n",
        "            dataset[i-j] += np.sum(send_back==j)\n",
        "    dataset[::-1] = dataset[::-1]+np.random.negative_binomial(n=dataset[::-1]+1,p=G.cdf(np.arange(len(dataset))),size=len(dataset)) \n",
        "    df = pd.DataFrame()\n",
        "    df['active'] = dataset[:-3]\n",
        "    df['date'] = dates[:-3]\n",
        "    df.to_csv('dataset.csv',index=False)\n",
        "    #call(['RScript.exe','scripts/Rt_analysis.R'])\n",
        "    rt.append(pd.read_csv('rtoutput.csv'))\n",
        "    dats.append(dataset[:-3])\n",
        "\n",
        "means = np.array([x[\"Mean(R)\"].values for x in rt])\n",
        "sds = np.array([x[\"Std(R)\"].values for x in rt])"
      ],
      "execution_count": 10,
      "outputs": [
        {
          "output_type": "stream",
          "text": [
            "Iteration:  1\rIteration:  2\r"
          ],
          "name": "stdout"
        }
      ]
    },
    {
      "cell_type": "code",
      "metadata": {
        "id": "FWgMISj0U2pN",
        "colab_type": "code",
        "colab": {}
      },
      "source": [
        "unchanged=list(pd.Series(dates)[stindex:stindex+means.shape[1]].dt.strftime('%m-%d-%Y'))\n",
        "changed=[]\n",
        "for i in unchanged:\n",
        "  changed.append(convert(i))"
      ],
      "execution_count": 0,
      "outputs": []
    },
    {
      "cell_type": "code",
      "metadata": {
        "id": "UsTogwOJzqAd",
        "colab_type": "code",
        "colab": {}
      },
      "source": [
        "stindex = 2+5-1\n",
        "#dates=[]\n",
        "india = {\n",
        "        'dates':changed,\n",
        "        'rt_point':list(means.mean(axis=0)),\n",
        "        'rt_sd':list(pooled_SD(sds,means)),\n",
        "        'rt_l95':list(means.mean(axis=0)-1.95996*pooled_SD(sds,means)),\n",
        "        'rt_u95':list(means.mean(axis=0)+1.95996*pooled_SD(sds,means)),\n",
        "        'rt_l50':list(means.mean(axis=0)-0.67449*pooled_SD(sds,means)),\n",
        "        'rt_u50':list(means.mean(axis=0)+0.67449*pooled_SD(sds,means)),\n",
        "        'cases_mean':list(np.mean(dats,axis=0)),\n",
        "        'cases_sd':list(np.std(dats,axis=0)),\n",
        "        'cases_dates':list(pd.Series(dates)[:-3].dt.strftime('%m-%d-%Y'))\n",
        "        }"
      ],
      "execution_count": 0,
      "outputs": []
    },
    {
      "cell_type": "code",
      "metadata": {
        "id": "KMAg9Yo5zqAl",
        "colab_type": "code",
        "colab": {}
      },
      "source": [
        "json_data['IN'] = india"
      ],
      "execution_count": 0,
      "outputs": []
    },
    {
      "cell_type": "markdown",
      "metadata": {
        "id": "GR9UQk46zqAr",
        "colab_type": "text"
      },
      "source": [
        "### State Level Data"
      ]
    },
    {
      "cell_type": "code",
      "metadata": {
        "id": "9640HhV4zqAs",
        "colab_type": "code",
        "colab": {}
      },
      "source": [
        "states = list(filter(lambda v:len(v)<3,list(json.load(open('states.json',))['states_daily'][0].keys())))"
      ],
      "execution_count": 0,
      "outputs": []
    },
    {
      "cell_type": "code",
      "metadata": {
        "id": "CXFb8gevzqAy",
        "colab_type": "code",
        "colab": {}
      },
      "source": [
        "dates = np.array([pd.to_datetime(i['date']) for i in filter(lambda v: v['status'] == 'Confirmed',json.load(open('states.json',))['states_daily'])])\n",
        "data = pd.DataFrame()\n",
        "for st in states:\n",
        "    data[st] = np.array([i[st] for i in filter(lambda v: v['status'] == 'Confirmed',json.load(open('states.json',))['states_daily'])])"
      ],
      "execution_count": 0,
      "outputs": []
    },
    {
      "cell_type": "code",
      "metadata": {
        "id": "yoileJ5bzqA3",
        "colab_type": "code",
        "colab": {}
      },
      "source": [
        "data = data.replace(r'^\\s*$', np.NaN, regex=True).fillna(0)\n",
        "data = data.astype(np.int32)\n",
        "data['date'] = dates"
      ],
      "execution_count": 0,
      "outputs": []
    },
    {
      "cell_type": "code",
      "metadata": {
        "scrolled": false,
        "id": "HuUH522NzqA8",
        "colab_type": "code",
        "colab": {
          "base_uri": "https://localhost:8080/",
          "height": 1000
        },
        "outputId": "f6169ea0-1c97-493b-986b-7298aa0e9e54"
      },
      "source": [
        "state_id = {\n",
        "  \"kl\":\"Kerala\",\n",
        "  \"mh\":\"Maharashtra\",\n",
        "  \"gj\":\"Gujarat\",\n",
        "  \"dl\":\"Delhi\",\n",
        "  \"rj\":\"Rajasthan\",\n",
        "  \"tn\":\"Tamil Nadu\",\n",
        "  \"mp\":\"Madhya Pradesh\",\n",
        "  \"up\":\"Uttar Pradesh\",\n",
        "  \"tg\":\"Telangana\",\n",
        "  \"ap\":\"Andhra Pradesh\",\n",
        "  \"ka\":\"Karnataka\",\n",
        "  \"wb\":\"West Bengal\",\n",
        "  \"jk\":\"Jammu and Kashmir\",\n",
        "  \"hr\":\"Haryana\",\n",
        "  \"pb\":\"Punjab\",\n",
        "  \"br\":\"Bihar\",\n",
        "  \"or\":\"Odisha\",\n",
        "  \"jh\":\"Jharkand\",\n",
        "  \"ut\":\"Uttarakhand\",\n",
        "  \"hp\":\"Himachal Pradesh\",\n",
        "  \"ct\":\"Chhattisgarh\",\n",
        "  \"as\":\"Assam\",\n",
        "  \"ch\":\"Chandigarh\",\n",
        "  \"la\":\"Ladakh\",\n",
        "  \"an\":\"Andaman and Nicobar Islands\",\n",
        "  \"ml\":\"Meghalaya\",\n",
        "  \"ga\":\"Goa\",\n",
        "  \"py\":\"Puducherry\",\n",
        "  \"mn\":\"Manipur\",\n",
        "  \"tr\":\"Tripura\",\n",
        "  \"ar\":\"Arunachal Pradesh\",\n",
        "  \"mz\":\"Mizoram\" ,\n",
        "}\n",
        "\n",
        "for state in state_id.keys():\n",
        "    print(\"\\n\",state)\n",
        "    boots = 100\n",
        "    real_data = data[state].values\n",
        "    df = pd.DataFrame()\n",
        "    df['active'] = real_data\n",
        "    df.to_csv('dataset.csv',index=False)\n",
        "    rt = []\n",
        "    dats = []\n",
        "    for n in range(boots):\n",
        "        print(\"Iteration: \",n+1,end='\\r')\n",
        "        G = gamma(3.325+0.616*np.random.normal(),0.979+0.195*np.random.normal())\n",
        "        dataset = np.copy(real_data)\n",
        "        for i in range(len(dataset)):\n",
        "            send_back = np.clip(np.round(G.rvs(np.max([0,int(dataset[i])]))),0,10)\n",
        "            send_back = send_back[i-send_back>=0]\n",
        "            dataset[i] = 0\n",
        "            for j in np.unique(np.int32(send_back)):\n",
        "                dataset[i-j] += np.sum(send_back==j)\n",
        "        dataset[::-1] = dataset[::-1]+np.random.negative_binomial(n=dataset[::-1]+1,p=G.cdf(np.arange(len(dataset))),size=len(dataset)) \n",
        "        df = pd.DataFrame()\n",
        "        df['active'] = dataset[:-3]\n",
        "        df['date'] = dates[:-3]\n",
        "        dats.append(dataset[:-3])\n",
        "        df.to_csv('dataset.csv',index=False)\n",
        "        #call(['RScript.exe','scripts/Rt_analysis.R'])\n",
        "        rt.append(pd.read_csv('rtoutput.csv'))\n",
        "\n",
        "    means = np.array([x[\"Mean(R)\"].values for x in rt])\n",
        "    sds = np.array([x[\"Std(R)\"].values for x in rt])\n",
        "    dat_means = np.mean(dats,axis=0)\n",
        "    dat_sds = np.std(dats,axis=0)\n",
        "    unchanged=list(pd.Series(dates)[stindex:stindex+means.shape[1]].dt.strftime('%m-%d-%Y'))\n",
        "    changed=[]\n",
        "    unchanged=list(pd.Series(dates)[stindex:stindex+means.shape[1]].dt.strftime('%m-%d-%Y'))\n",
        "    for i in unchanged:\n",
        "      changed.append(convert(i))\n",
        "    stindex = 2+5-1\n",
        "    temp = {\n",
        "            'dates':changed,\n",
        "            'rt_point':list(means.mean(axis=0)),\n",
        "            'rt_sd':list(pooled_SD(sds,means)),\n",
        "            'rt_l95':list(means.mean(axis=0)-1.95996*pooled_SD(sds,means)),\n",
        "            'rt_u95':list(means.mean(axis=0)+1.95996*pooled_SD(sds,means)),\n",
        "            'rt_l50':list(means.mean(axis=0)-0.67449*pooled_SD(sds,means)),\n",
        "            'rt_u50':list(means.mean(axis=0)+0.67449*pooled_SD(sds,means)),\n",
        "            'cases_mean':list(np.mean(dats,axis=0)),\n",
        "            'cases_sd':list(np.std(dats,axis=0)),\n",
        "            'cases_dates':list(pd.Series(dates)[:-3].dt.strftime('%m-%d-%Y'))\n",
        "            }\n",
        "    json_data[state] = temp\n"
      ],
      "execution_count": 22,
      "outputs": [
        {
          "output_type": "stream",
          "text": [
            "\n",
            " kl\n",
            "Iteration:  100\n",
            " mh\n",
            "Iteration:  100\n",
            " gj\n",
            "Iteration:  100\n",
            " dl\n",
            "\n",
            " rj\n",
            "\n",
            " tn\n",
            "Iteration:  100\n",
            " mp\n",
            "Iteration:  100\n",
            " up\n",
            "Iteration:  100\n",
            " tg\n",
            "\n",
            " ap\n",
            "Iteration:  100\n",
            " ka\n",
            "Iteration:  100\n",
            " wb\n",
            "Iteration:  100\n",
            " jk\n",
            "Iteration:  100\n",
            " hr\n",
            "Iteration:  100\n",
            " pb\n",
            "Iteration:  100\n",
            " br\n",
            "\n",
            " or\n",
            "Iteration:  100\n",
            " jh\n",
            "\n",
            " ut\n",
            "\n",
            " hp\n",
            "\n",
            " ct\n",
            "\n",
            " as\n",
            "\n",
            " ch\n",
            "\n",
            " la\n",
            "Iteration:  100\n",
            " an\n",
            "Iteration:  100\n",
            " ml\n",
            "Iteration:  100\n",
            " ga\n",
            "Iteration:  100\n",
            " py\n",
            "Iteration:  100\n",
            " mn\n",
            "Iteration:  100\n",
            " tr\n",
            "Iteration:  100\n",
            " ar\n",
            "Iteration:  100\n",
            " mz\n"
          ],
          "name": "stdout"
        }
      ]
    },
    {
      "cell_type": "code",
      "metadata": {
        "id": "kbOg8nEFzqBC",
        "colab_type": "code",
        "colab": {}
      },
      "source": [
        "with open('data.json', 'w') as outfile:\n",
        "    json.dump(json_data, outfile)"
      ],
      "execution_count": 0,
      "outputs": []
    },
    {
      "cell_type": "code",
      "metadata": {
        "id": "A_7vvG1XOPCo",
        "colab_type": "code",
        "colab": {}
      },
      "source": [
        ""
      ],
      "execution_count": 0,
      "outputs": []
    }
  ]
}