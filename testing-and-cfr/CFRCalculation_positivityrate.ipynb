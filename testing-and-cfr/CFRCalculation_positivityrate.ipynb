{
  "cells": [
    {
      "metadata": {
        "colab": {
          "base_uri": "https://localhost:8080/",
          "height": 179
        },
        "colab_type": "code",
        "id": "BrAGPZahatRy",
        "outputId": "497acadd-dd9f-472d-c626-bef5b8f7d55d",
        "trusted": true
      },
      "cell_type": "code",
      "source": "!pip install wget",
      "execution_count": 1,
      "outputs": [
        {
          "output_type": "stream",
          "text": "Requirement already satisfied: wget in /home/nbuser/anaconda3_420/lib/python3.5/site-packages (2.2)\n\u001b[33mWARNING: You are using pip version 19.3.1; however, version 20.1.1 is available.\nYou should consider upgrading via the 'pip install --upgrade pip' command.\u001b[0m\n",
          "name": "stdout"
        }
      ]
    },
    {
      "metadata": {
        "colab": {
          "base_uri": "https://localhost:8080/",
          "height": 127
        },
        "colab_type": "code",
        "id": "YVYpa1FfWnWn",
        "outputId": "00d10d11-8332-4f81-dc98-e7b602eb2446",
        "trusted": true
      },
      "cell_type": "code",
      "source": "import numpy as np\nimport matplotlib.pyplot as plt\nimport pandas as pd\nfrom subprocess import call\nfrom scipy.stats.distributions import gamma,lognorm\nimport json \nimport wget\nimport os\nimport os.path\n# from google.colab import drive\n# os.chdir('/content/gdrive/My Drive')\n# drive.mount('/content/gdrive')",
      "execution_count": 2,
      "outputs": []
    },
    {
      "metadata": {
        "colab": {
          "base_uri": "https://localhost:8080/",
          "height": 35
        },
        "colab_type": "code",
        "id": "Jk2LDIwJAFWU",
        "outputId": "caee51e8-a36a-448d-c50f-c408d309f7d0",
        "trusted": true
      },
      "cell_type": "code",
      "source": "def n2z(x):\n    x[np.logical_or(np.isnan(x),np.isinf(x))] = 0\n    return x\n\nif os.path.exists(os.getcwd()+\"\\\\national.json\"):\n    os.remove(os.getcwd()+\"\\\\national.json\")\nwget.download('https://api.covid19india.org/data.json', os.getcwd()+\"//national.json\")\n\nif os.path.exists(os.getcwd()+\"\\\\states.json\"):\n    os.remove(os.getcwd()+\"\\\\states.json\")\nwget.download('https://api.covid19india.org/states_daily.json', os.getcwd()+\"//states.json\")\n\nif os.path.exists(os.getcwd()+\"\\\\test.json\"):\n    os.remove(os.getcwd()+\"\\\\test.json\")\nwget.download('https://api.covid19india.org/state_test_data.json', os.getcwd()+\"//test.json\")",
      "execution_count": 3,
      "outputs": [
        {
          "output_type": "execute_result",
          "execution_count": 3,
          "data": {
            "text/plain": "'/home/nbuser/library//test (1).json'"
          },
          "metadata": {}
        }
      ]
    },
    {
      "metadata": {
        "colab": {},
        "colab_type": "code",
        "id": "SPTNDutlus2X",
        "trusted": true
      },
      "cell_type": "code",
      "source": "dataset=pd.read_csv('./population.csv')",
      "execution_count": 4,
      "outputs": []
    },
    {
      "metadata": {
        "colab": {
          "base_uri": "https://localhost:8080/",
          "height": 1000
        },
        "colab_type": "code",
        "id": "mfv0_kipvTIo",
        "outputId": "b8e3652c-7aec-4706-f556-c131fcad899b",
        "trusted": true
      },
      "cell_type": "code",
      "source": "population=pd.DataFrame()\npopulation[\"State\"]=dataset['State'][:37]\npopulation[\"Population\"]=dataset['Population'][:37]\npopulation",
      "execution_count": 5,
      "outputs": [
        {
          "output_type": "execute_result",
          "execution_count": 5,
          "data": {
            "text/plain": "                                       State  Population\n0                                      Delhi    18710922\n1                                    Haryana    28204692\n2                                     Kerala    35699443\n3                           Himachal Pradesh     7451955\n4                                     Punjab    30141373\n5                                  Telangana    39362732\n6                                        Goa     1586250\n7                                Uttarakhand    11250858\n8                                 Chandigarh     1158473\n9                                    Gujarat    63872399\n10                               Lakshadweep       73183\n11  Dadra and Nagar Haveli and Daman and Diu      615724\n12                                Tamil Nadu    77841267\n13                              Chhattisgarh    29436231\n14               Andaman and Nicobar Islands      417036\n15                               Maharashtra   123144223\n16                                 Karnataka    67562686\n17                               West Bengal    99609303\n18                                    Odisha    46356334\n19                                Puducherry     1413542\n20                            Andhra Pradesh    53903393\n21                                 Jharkhand    38593948\n22                                   Mizoram     1239244\n23                                   Tripura     4169794\n24                            Madhya Pradesh    85358965\n25                             Uttar Pradesh   237882725\n26                                 Rajasthan    81032689\n27                                    Sikkim      690251\n28                                     Bihar   124799926\n29                                   Manipur     3091545\n30                         Arunachal Pradesh     1570458\n31                         Jammu and Kashmir    13606320\n32                                    Ladakh      289023\n33                                  Nagaland     2249695\n34                                 Meghalaya     3366710\n35                                     Assam    35607039\n36                                     India  1371360350",
            "text/html": "<div>\n<table border=\"1\" class=\"dataframe\">\n  <thead>\n    <tr style=\"text-align: right;\">\n      <th></th>\n      <th>State</th>\n      <th>Population</th>\n    </tr>\n  </thead>\n  <tbody>\n    <tr>\n      <th>0</th>\n      <td>Delhi</td>\n      <td>18710922</td>\n    </tr>\n    <tr>\n      <th>1</th>\n      <td>Haryana</td>\n      <td>28204692</td>\n    </tr>\n    <tr>\n      <th>2</th>\n      <td>Kerala</td>\n      <td>35699443</td>\n    </tr>\n    <tr>\n      <th>3</th>\n      <td>Himachal Pradesh</td>\n      <td>7451955</td>\n    </tr>\n    <tr>\n      <th>4</th>\n      <td>Punjab</td>\n      <td>30141373</td>\n    </tr>\n    <tr>\n      <th>5</th>\n      <td>Telangana</td>\n      <td>39362732</td>\n    </tr>\n    <tr>\n      <th>6</th>\n      <td>Goa</td>\n      <td>1586250</td>\n    </tr>\n    <tr>\n      <th>7</th>\n      <td>Uttarakhand</td>\n      <td>11250858</td>\n    </tr>\n    <tr>\n      <th>8</th>\n      <td>Chandigarh</td>\n      <td>1158473</td>\n    </tr>\n    <tr>\n      <th>9</th>\n      <td>Gujarat</td>\n      <td>63872399</td>\n    </tr>\n    <tr>\n      <th>10</th>\n      <td>Lakshadweep</td>\n      <td>73183</td>\n    </tr>\n    <tr>\n      <th>11</th>\n      <td>Dadra and Nagar Haveli and Daman and Diu</td>\n      <td>615724</td>\n    </tr>\n    <tr>\n      <th>12</th>\n      <td>Tamil Nadu</td>\n      <td>77841267</td>\n    </tr>\n    <tr>\n      <th>13</th>\n      <td>Chhattisgarh</td>\n      <td>29436231</td>\n    </tr>\n    <tr>\n      <th>14</th>\n      <td>Andaman and Nicobar Islands</td>\n      <td>417036</td>\n    </tr>\n    <tr>\n      <th>15</th>\n      <td>Maharashtra</td>\n      <td>123144223</td>\n    </tr>\n    <tr>\n      <th>16</th>\n      <td>Karnataka</td>\n      <td>67562686</td>\n    </tr>\n    <tr>\n      <th>17</th>\n      <td>West Bengal</td>\n      <td>99609303</td>\n    </tr>\n    <tr>\n      <th>18</th>\n      <td>Odisha</td>\n      <td>46356334</td>\n    </tr>\n    <tr>\n      <th>19</th>\n      <td>Puducherry</td>\n      <td>1413542</td>\n    </tr>\n    <tr>\n      <th>20</th>\n      <td>Andhra Pradesh</td>\n      <td>53903393</td>\n    </tr>\n    <tr>\n      <th>21</th>\n      <td>Jharkhand</td>\n      <td>38593948</td>\n    </tr>\n    <tr>\n      <th>22</th>\n      <td>Mizoram</td>\n      <td>1239244</td>\n    </tr>\n    <tr>\n      <th>23</th>\n      <td>Tripura</td>\n      <td>4169794</td>\n    </tr>\n    <tr>\n      <th>24</th>\n      <td>Madhya Pradesh</td>\n      <td>85358965</td>\n    </tr>\n    <tr>\n      <th>25</th>\n      <td>Uttar Pradesh</td>\n      <td>237882725</td>\n    </tr>\n    <tr>\n      <th>26</th>\n      <td>Rajasthan</td>\n      <td>81032689</td>\n    </tr>\n    <tr>\n      <th>27</th>\n      <td>Sikkim</td>\n      <td>690251</td>\n    </tr>\n    <tr>\n      <th>28</th>\n      <td>Bihar</td>\n      <td>124799926</td>\n    </tr>\n    <tr>\n      <th>29</th>\n      <td>Manipur</td>\n      <td>3091545</td>\n    </tr>\n    <tr>\n      <th>30</th>\n      <td>Arunachal Pradesh</td>\n      <td>1570458</td>\n    </tr>\n    <tr>\n      <th>31</th>\n      <td>Jammu and Kashmir</td>\n      <td>13606320</td>\n    </tr>\n    <tr>\n      <th>32</th>\n      <td>Ladakh</td>\n      <td>289023</td>\n    </tr>\n    <tr>\n      <th>33</th>\n      <td>Nagaland</td>\n      <td>2249695</td>\n    </tr>\n    <tr>\n      <th>34</th>\n      <td>Meghalaya</td>\n      <td>3366710</td>\n    </tr>\n    <tr>\n      <th>35</th>\n      <td>Assam</td>\n      <td>35607039</td>\n    </tr>\n    <tr>\n      <th>36</th>\n      <td>India</td>\n      <td>1371360350</td>\n    </tr>\n  </tbody>\n</table>\n</div>"
          },
          "metadata": {}
        }
      ]
    },
    {
      "metadata": {
        "colab": {},
        "colab_type": "code",
        "id": "6eMgJcoGcUrL",
        "trusted": true
      },
      "cell_type": "code",
      "source": "def fn(mon):\n  if(mon == \"01\"):\n    return \" January\"\n  if(mon == \"02\"):\n    return \" February\"\n  if(mon == \"03\"):\n    return \" March\"\n  if(mon == \"04\"):\n    return \" April\"\n  if(mon == \"05\"):\n    return \" May\"\n  if(mon == \"06\"):\n    return \" June\"\n  if(mon == \"07\"):\n    return \" July\"\n  if(mon == \"08\"):\n    return \" August\"\n  if(mon == \"09\"):\n    return \" September\"\n  if(mon == \"10\"):\n    return \" October\"\n  if(mon == \"11\"):\n    return \" November\"\n  if(mon == \"12\"):\n    return \" December\"\ndef convert(dat): \n    return  str(dat[:2]) + fn(str(dat[3:5]))",
      "execution_count": 6,
      "outputs": []
    },
    {
      "metadata": {
        "colab": {},
        "colab_type": "code",
        "id": "vyJlOC14WnW3",
        "trusted": true
      },
      "cell_type": "code",
      "source": "dates = np.array([pd.to_datetime(i['date']+\"2020\") for i in json.load(open('national.json',))['cases_time_series']])\nconfirmed = np.array([int(i['dailyconfirmed'])for i in json.load(open('national.json',))['cases_time_series']])\ndeceased = np.array([int(i['dailydeceased'])for i in json.load(open('national.json',))['cases_time_series']])\nrecovered = np.array([int(i['dailyrecovered'])for i in json.load(open('national.json',))['cases_time_series']])\n\nconfirmed = confirmed[dates>=pd.to_datetime(\"03/04/20\")]\ndeceased = deceased[dates>=pd.to_datetime(\"03/04/20\")]\nrecovered = recovered[dates>=pd.to_datetime(\"03/04/20\")]\ndates = dates[dates>=pd.to_datetime(\"03/04/20\")]",
      "execution_count": 7,
      "outputs": []
    },
    {
      "metadata": {
        "colab": {
          "base_uri": "https://localhost:8080/",
          "height": 17
        },
        "colab_type": "code",
        "id": "xwporaXCWnXA",
        "outputId": "55e20c94-d8b5-4b97-8832-1742b4e44f0d",
        "scrolled": true,
        "trusted": true
      },
      "cell_type": "code",
      "source": "conf = []\n\nfor n in range(100):\n    print(\"Iteration: \",n+1,end='\\r')\n    dataset = np.copy(confirmed)\n    mean = 13.0+(20.9-8.7)/4*np.random.normal()\n    sd = 12.7+(26.0-6.4)/4*np.random.normal()\n    phi = np.sqrt(sd**2 + mean**2)\n    mu = np.log(mean**2/phi)\n    sigma = np.sqrt(np.log(phi**2/mean**2))\n    L = lognorm(s=sigma,scale=np.exp(mu))\n    for i in range(len(dataset)-1,-1,-1):\n        send_forward = np.round(L.rvs(dataset[i]))\n        send_forward = send_forward[i+send_forward<len(dataset)]\n        dataset[i] = 0\n        for j in np.unique(np.int32(send_forward)):\n            dataset[i+j] += np.sum(send_forward==j)\n    conf.append(dataset)",
      "execution_count": 8,
      "outputs": [
        {
          "output_type": "stream",
          "text": "Iteration:  100\r",
          "name": "stdout"
        }
      ]
    },
    {
      "metadata": {
        "colab": {
          "base_uri": "https://localhost:8080/",
          "height": 89
        },
        "colab_type": "code",
        "id": "xrhSandaWnXK",
        "outputId": "9f511958-58eb-47ee-ba4b-9bf4f59aceca",
        "trusted": true
      },
      "cell_type": "code",
      "source": "CFR = np.cumsum(deceased)/np.cumsum(conf,axis=1)\ncol_mean = np.nanmean(CFR, axis=0)\ninds = np.where(np.isnan(CFR))\nCFR[inds] = np.take(col_mean, inds[1])",
      "execution_count": 9,
      "outputs": [
        {
          "output_type": "stream",
          "text": "/home/nbuser/anaconda3_420/lib/python3.5/site-packages/ipykernel/__main__.py:1: RuntimeWarning: divide by zero encountered in true_divide\n  if __name__ == '__main__':\n/home/nbuser/anaconda3_420/lib/python3.5/site-packages/ipykernel/__main__.py:1: RuntimeWarning: invalid value encountered in true_divide\n  if __name__ == '__main__':\n",
          "name": "stderr"
        }
      ]
    },
    {
      "metadata": {
        "colab": {},
        "colab_type": "code",
        "id": "W6VbmLbTmC-N",
        "trusted": true
      },
      "cell_type": "code",
      "source": "temp=dates\ndates=[]\nfor i in range(len(temp)):\n  date=[]\n  t=(str(temp[i])).split()[0]\n  m=t[5:7]\n  d=t[-2:]\n  #print(m,t)\n  date.append(d)\n  date.append('/')\n  date.append(m)\n  date=''.join([str(elem) for elem in date])\n  #print(date)\n  dates.append(convert(date))",
      "execution_count": 10,
      "outputs": []
    },
    {
      "metadata": {
        "trusted": true
      },
      "cell_type": "code",
      "source": "list(100*n2z(np.quantile(CFR,0.025,axis=0)))",
      "execution_count": 11,
      "outputs": [
        {
          "output_type": "execute_result",
          "execution_count": 11,
          "data": {
            "text/plain": "[0.0,\n 0.0,\n 0.0,\n 0.0,\n 0.0,\n 0.0,\n 0.0,\n 0.0,\n 2.5642715886618324,\n 2.272727272727273,\n 3.958006279434851,\n 3.417740046838408,\n 2.9868097473731274,\n 3.8686708860759493,\n 3.1901528013582343,\n 3.826923076923077,\n 3.290650406504065,\n 2.7027027027027026,\n 3.7611336032388665,\n 3.921160053161192,\n 3.5395208380322285,\n 3.2915172166427547,\n 4.0865911582024115,\n 4.170598810476291,\n 4.565189048239896,\n 4.376012965964344,\n 5.773530969606678,\n 5.686781487014901,\n 5.350606831291511,\n 5.655076522231053,\n 5.618779260082337,\n 5.324920358885178,\n 5.436350101505646,\n 5.24921391828925,\n 5.429323840161726,\n 5.347072015425889,\n 5.886821039324539,\n 5.696164991563347,\n 5.863713615558744,\n 5.992149820504414,\n 5.782937818324285,\n 5.70520597140385,\n 5.47829746676583,\n 5.273358486919803,\n 5.21804605191702,\n 5.125717757830368,\n 5.029656931813982,\n 4.872026075879219,\n 4.879462002718876,\n 4.746118095035418,\n 4.636853880444612,\n 4.641969483944262,\n 4.559057145689835,\n 4.545830504743371,\n 4.510814237940869,\n 4.524582281436964,\n 4.539225103568905,\n 4.570018744065318,\n 4.582576588478472,\n 4.632202241902048,\n 4.8063426757577945,\n 4.81118773468433,\n 4.862737893167149,\n 4.78005513432769,\n 4.732431267683328,\n 4.6558204636642895,\n 4.619855606178596,\n 4.572954976662498,\n 4.460984007857465,\n 4.424231864543421,\n 4.414632904811078,\n 4.339479381573651,\n 4.2750257943241765,\n 4.235326434245971,\n 4.230860181252314,\n 4.185838461431099,\n 4.155016441166255,\n 4.098172864073607,\n 4.047635154514977,\n 3.987010532637717,\n 3.9271337945106746,\n 3.87435723012364,\n 3.812986136142013,\n 3.775672362186226,\n 3.7515897988536433,\n 3.7149047083672686,\n 3.7455514858465393,\n 3.717501662839004,\n 3.696125957144056,\n 3.6539582252593004,\n 3.6280521223818205,\n 3.6191804482479113,\n 3.6142293793541542,\n 3.610649294236676,\n 3.607331728409549,\n 3.5808669313303216,\n 3.5587732356956865,\n 3.5403822670797864,\n 3.558166196586765]"
          },
          "metadata": {}
        }
      ]
    },
    {
      "metadata": {
        "colab": {
          "base_uri": "https://localhost:8080/",
          "height": 473
        },
        "colab_type": "code",
        "id": "OIywF321WnXX",
        "outputId": "050b301f-21ad-4dc2-f464-fcf3de74e2f0",
        "trusted": true
      },
      "cell_type": "code",
      "source": "json_data = {}\nindia = {\n        'dates':dates,\n        'cfr1_point':list(100*n2z(np.cumsum(deceased)/np.cumsum(confirmed))),\n        'cfr2_point':list(100*n2z(np.cumsum(deceased)/(np.cumsum(deceased)+np.cumsum(recovered)))),\n        'cfr3_point':list(100*n2z(np.mean(CFR,axis=0))),\n        'cfr3_l95':list(100*n2z(np.quantile(CFR,0.025,axis=0))),\n        'cfr3_u95':list(100*n2z(np.quantile(CFR,0.975,axis=0))),\n        'cfr3_l50':list(100*n2z(np.quantile(CFR,0.25,axis=0))),\n        'cfr3_u50':list(100*n2z(np.quantile(CFR,0.75,axis=0))),\n        }\njson_data['India'] = india\ncfr = pd.DataFrame()\ncfr['state']=['India']*len(dates)\ncfr['dates']=dates\ncfr['cfr1_point']=list(100*n2z(np.cumsum(deceased)/np.cumsum(confirmed)))\ncfr['cfr2_point']=list(100*n2z(np.cumsum(deceased)/(np.cumsum(deceased)+np.cumsum(recovered))))\ncfr['cfr3_point']=list(100*n2z(np.mean(CFR,axis=0)))\ncfr['cfr3_l95']=list(100*n2z(np.quantile(CFR,0.025,axis=0)))\ncfr['cfr3_u95']=list(100*n2z(np.quantile(CFR,0.975,axis=0)))\ncfr['cfr3_l50']=list(100*n2z(np.quantile(CFR,0.25,axis=0)))\ncfr['cfr3_u50']=list(100*n2z(np.quantile(CFR,0.75,axis=0)))\ncfr",
      "execution_count": 12,
      "outputs": [
        {
          "output_type": "stream",
          "text": "/home/nbuser/anaconda3_420/lib/python3.5/site-packages/ipykernel/__main__.py:5: RuntimeWarning: invalid value encountered in true_divide\n/home/nbuser/anaconda3_420/lib/python3.5/site-packages/ipykernel/__main__.py:17: RuntimeWarning: invalid value encountered in true_divide\n",
          "name": "stderr"
        },
        {
          "output_type": "execute_result",
          "execution_count": 12,
          "data": {
            "text/plain": "    state     dates  cfr1_point  cfr2_point  cfr3_point  cfr3_l95   cfr3_u95  \\\n0   India  04 March    0.000000    0.000000    0.000000  0.000000   0.000000   \n1   India  05 March    0.000000    0.000000    0.000000  0.000000   0.000000   \n2   India  06 March    0.000000    0.000000    0.000000  0.000000   0.000000   \n3   India  07 March    0.000000    0.000000    0.000000  0.000000   0.000000   \n4   India  08 March    0.000000    0.000000    0.000000  0.000000   0.000000   \n5   India  09 March    0.000000    0.000000    0.000000  0.000000   0.000000   \n6   India  10 March    0.000000    0.000000    0.000000  0.000000   0.000000   \n7   India  11 March    0.000000    0.000000    0.000000  0.000000   0.000000   \n8   India  12 March    1.333333   50.000000    0.000000  2.564272  42.083333   \n9   India  13 March    1.176471   12.500000    0.000000  2.272727  29.375000   \n10  India  14 March    2.083333   22.222222    0.000000  3.958006  42.083333   \n11  India  15 March    1.886792   16.666667    0.000000  3.417740  32.875000   \n12  India  16 March    1.666667   15.384615    0.000000  2.986810  22.916667   \n13  India  17 March    2.142857   20.000000    0.000000  3.868671  29.187500   \n14  India  18 March    1.818182   20.000000    0.000000  3.190153  21.041667   \n15  India  19 March    2.083333   19.047619    0.000000  3.826923  19.313501   \n16  India  20 March    1.600000   16.666667    7.431396  3.290650  16.057692   \n17  India  21 March    1.219512   16.666667    5.923597  2.702703  14.410256   \n18  India  22 March    1.763224   25.925926    8.380935  3.761134  21.634250   \n19  India  23 March    1.832994   29.032258    8.969895  3.921160  20.156250   \n20  India  24 March    1.769912   21.276596    8.277219  3.539521  19.058418   \n21  India  25 March    1.689708   21.568627    7.550296  3.291517  17.330729   \n22  India  26 March    2.209945   25.396825    9.247184  4.086591  21.830986   \n23  India  27 March    2.166477   20.879121    9.233619  4.170599  22.782281   \n24  India  28 March    2.369200   22.641509    9.832240  4.565189  22.654206   \n25  India  29 March    2.383054   21.428571    9.316439  4.376013  21.482660   \n26  India  30 March    3.106061   23.428571   12.001112  5.773531  27.259503   \n27  India  31 March    2.885206   24.226804   11.685779  5.686781  26.136218   \n28  India  01 April    2.581588   24.200913   11.171712  5.350607  24.129289   \n29  India  02 April    2.717605   26.848249   12.381017  5.655077  26.888041   \n..    ...       ...         ...         ...         ...       ...        ...   \n69  India    12 May    3.247941    8.985669    5.922695  4.424232   8.203235   \n70  India    13 May    3.268418    8.807181    5.881163  4.414633   8.154682   \n71  India    14 May    3.227654    8.637787    5.744687  4.339479   7.954763   \n72  India    15 May    3.205628    8.340910    5.625352  4.275026   7.774690   \n73  India    16 May    3.168474    7.735819    5.538027  4.235326   7.612892   \n74  India    17 May    3.160139    7.594937    5.505735  4.230860   7.497611   \n75  India    18 May    3.144936    7.435952    5.427916  4.185838   7.297430   \n76  India    19 May    3.100287    7.237924    5.370039  4.155016   7.136354   \n77  India    20 May    3.061661    7.031154    5.285030  4.098173   6.963104   \n78  India    21 May    3.030867    6.872806    5.215410  4.047635   6.844005   \n79  India    22 May    2.985900    6.705067    5.132292  3.987011   6.702336   \n80  India    23 May    2.942475    6.636006    5.044481  3.927134   6.569261   \n81  India    24 May    2.904043    6.518780    4.970794  3.874357   6.463931   \n82  India    25 May    2.879023    6.432271    4.885465  3.812986   6.347370   \n83  India    26 May    2.880969    6.332139    4.824737  3.775672   6.254806   \n84  India    27 May    2.867841    6.274911    4.777498  3.751590   6.181397   \n85  India    28 May    2.848469    6.229912    4.714232  3.714905   6.081973   \n86  India    29 May    2.869906    5.683336    4.737264  3.745551   6.097541   \n87  India    30 May    2.850638    5.627748    4.691036  3.717502   6.026447   \n88  India    31 May    2.835667    5.558012    4.655062  3.696126   5.961836   \n89  India   01 June    2.826593    5.532423    4.595962  3.653958   5.869814   \n90  India   02 June    2.813482    5.493822    4.551311  3.628052   5.786111   \n91  India   03 June    2.807212    5.527059    4.529911  3.619180   5.731783   \n92  India   04 June    2.806142    5.541184    4.513480  3.614229   5.686234   \n93  India   05 June    2.814695    5.546054    4.499228  3.610649   5.652004   \n94  India   06 June    2.816336    5.529503    4.486041  3.607332   5.621345   \n95  India   07 June    2.798675    5.498623    4.444290  3.580867   5.552455   \n96  India   08 June    2.810744    5.477937    4.405873  3.558773   5.490694   \n97  India   09 June    2.807670    5.441752    4.366186  3.540382   5.427968   \n98  India   10 June    2.823263    5.437910    4.371566  3.558166   5.419323   \n\n    cfr3_l50   cfr3_u50  \n0   0.000000   0.000000  \n1   0.000000   0.000000  \n2   0.000000   0.000000  \n3   0.000000   0.000000  \n4   0.000000   0.000000  \n5   0.000000   0.000000  \n6   0.000000   0.000000  \n7   0.000000   0.000000  \n8   4.125000   8.522727  \n9   3.333333   7.142857  \n10  5.674603  11.111111  \n11  4.651163   9.090909  \n12  4.000000   7.407407  \n13  5.172414   9.375000  \n14  4.545455   7.742915  \n15  5.333333   8.939394  \n16  4.597701   7.596372  \n17  3.764768   6.584699  \n18  5.415921   9.656570  \n19  5.797146  10.619748  \n20  5.249452   9.708738  \n21  4.840919   8.696063  \n22  5.839416  10.810811  \n23  5.897808  10.796512  \n24  6.379414  11.442242  \n25  6.123934  10.756972  \n26  8.001104  13.498634  \n27  7.889715  12.941007  \n28  7.467443  12.443192  \n29  8.141669  14.110429  \n..       ...        ...  \n69  5.175213   6.596937  \n70  5.146065   6.539978  \n71  5.045732   6.372216  \n72  4.960979   6.218806  \n73  4.903899   6.103178  \n74  4.887978   6.058256  \n75  4.833541   5.962312  \n76  4.793727   5.886471  \n77  4.727010   5.783532  \n78  4.669136   5.711293  \n79  4.603436   5.621351  \n80  4.529962   5.520462  \n81  4.462650   5.437919  \n82  4.386371   5.343957  \n83  4.333783   5.277140  \n84  4.297576   5.220343  \n85  4.247232   5.141861  \n86  4.271784   5.158295  \n87  4.235320   5.100717  \n88  4.204671   5.054558  \n89  4.156115   4.988917  \n90  4.123558   4.933552  \n91  4.112810   4.902177  \n92  4.102048   4.878415  \n93  4.095773   4.860115  \n94  4.089802   4.842319  \n95  4.056476   4.792234  \n96  4.023312   4.747336  \n97  3.993306   4.702838  \n98  4.003333   4.701556  \n\n[99 rows x 9 columns]",
            "text/html": "<div>\n<table border=\"1\" class=\"dataframe\">\n  <thead>\n    <tr style=\"text-align: right;\">\n      <th></th>\n      <th>state</th>\n      <th>dates</th>\n      <th>cfr1_point</th>\n      <th>cfr2_point</th>\n      <th>cfr3_point</th>\n      <th>cfr3_l95</th>\n      <th>cfr3_u95</th>\n      <th>cfr3_l50</th>\n      <th>cfr3_u50</th>\n    </tr>\n  </thead>\n  <tbody>\n    <tr>\n      <th>0</th>\n      <td>India</td>\n      <td>04 March</td>\n      <td>0.000000</td>\n      <td>0.000000</td>\n      <td>0.000000</td>\n      <td>0.000000</td>\n      <td>0.000000</td>\n      <td>0.000000</td>\n      <td>0.000000</td>\n    </tr>\n    <tr>\n      <th>1</th>\n      <td>India</td>\n      <td>05 March</td>\n      <td>0.000000</td>\n      <td>0.000000</td>\n      <td>0.000000</td>\n      <td>0.000000</td>\n      <td>0.000000</td>\n      <td>0.000000</td>\n      <td>0.000000</td>\n    </tr>\n    <tr>\n      <th>2</th>\n      <td>India</td>\n      <td>06 March</td>\n      <td>0.000000</td>\n      <td>0.000000</td>\n      <td>0.000000</td>\n      <td>0.000000</td>\n      <td>0.000000</td>\n      <td>0.000000</td>\n      <td>0.000000</td>\n    </tr>\n    <tr>\n      <th>3</th>\n      <td>India</td>\n      <td>07 March</td>\n      <td>0.000000</td>\n      <td>0.000000</td>\n      <td>0.000000</td>\n      <td>0.000000</td>\n      <td>0.000000</td>\n      <td>0.000000</td>\n      <td>0.000000</td>\n    </tr>\n    <tr>\n      <th>4</th>\n      <td>India</td>\n      <td>08 March</td>\n      <td>0.000000</td>\n      <td>0.000000</td>\n      <td>0.000000</td>\n      <td>0.000000</td>\n      <td>0.000000</td>\n      <td>0.000000</td>\n      <td>0.000000</td>\n    </tr>\n    <tr>\n      <th>5</th>\n      <td>India</td>\n      <td>09 March</td>\n      <td>0.000000</td>\n      <td>0.000000</td>\n      <td>0.000000</td>\n      <td>0.000000</td>\n      <td>0.000000</td>\n      <td>0.000000</td>\n      <td>0.000000</td>\n    </tr>\n    <tr>\n      <th>6</th>\n      <td>India</td>\n      <td>10 March</td>\n      <td>0.000000</td>\n      <td>0.000000</td>\n      <td>0.000000</td>\n      <td>0.000000</td>\n      <td>0.000000</td>\n      <td>0.000000</td>\n      <td>0.000000</td>\n    </tr>\n    <tr>\n      <th>7</th>\n      <td>India</td>\n      <td>11 March</td>\n      <td>0.000000</td>\n      <td>0.000000</td>\n      <td>0.000000</td>\n      <td>0.000000</td>\n      <td>0.000000</td>\n      <td>0.000000</td>\n      <td>0.000000</td>\n    </tr>\n    <tr>\n      <th>8</th>\n      <td>India</td>\n      <td>12 March</td>\n      <td>1.333333</td>\n      <td>50.000000</td>\n      <td>0.000000</td>\n      <td>2.564272</td>\n      <td>42.083333</td>\n      <td>4.125000</td>\n      <td>8.522727</td>\n    </tr>\n    <tr>\n      <th>9</th>\n      <td>India</td>\n      <td>13 March</td>\n      <td>1.176471</td>\n      <td>12.500000</td>\n      <td>0.000000</td>\n      <td>2.272727</td>\n      <td>29.375000</td>\n      <td>3.333333</td>\n      <td>7.142857</td>\n    </tr>\n    <tr>\n      <th>10</th>\n      <td>India</td>\n      <td>14 March</td>\n      <td>2.083333</td>\n      <td>22.222222</td>\n      <td>0.000000</td>\n      <td>3.958006</td>\n      <td>42.083333</td>\n      <td>5.674603</td>\n      <td>11.111111</td>\n    </tr>\n    <tr>\n      <th>11</th>\n      <td>India</td>\n      <td>15 March</td>\n      <td>1.886792</td>\n      <td>16.666667</td>\n      <td>0.000000</td>\n      <td>3.417740</td>\n      <td>32.875000</td>\n      <td>4.651163</td>\n      <td>9.090909</td>\n    </tr>\n    <tr>\n      <th>12</th>\n      <td>India</td>\n      <td>16 March</td>\n      <td>1.666667</td>\n      <td>15.384615</td>\n      <td>0.000000</td>\n      <td>2.986810</td>\n      <td>22.916667</td>\n      <td>4.000000</td>\n      <td>7.407407</td>\n    </tr>\n    <tr>\n      <th>13</th>\n      <td>India</td>\n      <td>17 March</td>\n      <td>2.142857</td>\n      <td>20.000000</td>\n      <td>0.000000</td>\n      <td>3.868671</td>\n      <td>29.187500</td>\n      <td>5.172414</td>\n      <td>9.375000</td>\n    </tr>\n    <tr>\n      <th>14</th>\n      <td>India</td>\n      <td>18 March</td>\n      <td>1.818182</td>\n      <td>20.000000</td>\n      <td>0.000000</td>\n      <td>3.190153</td>\n      <td>21.041667</td>\n      <td>4.545455</td>\n      <td>7.742915</td>\n    </tr>\n    <tr>\n      <th>15</th>\n      <td>India</td>\n      <td>19 March</td>\n      <td>2.083333</td>\n      <td>19.047619</td>\n      <td>0.000000</td>\n      <td>3.826923</td>\n      <td>19.313501</td>\n      <td>5.333333</td>\n      <td>8.939394</td>\n    </tr>\n    <tr>\n      <th>16</th>\n      <td>India</td>\n      <td>20 March</td>\n      <td>1.600000</td>\n      <td>16.666667</td>\n      <td>7.431396</td>\n      <td>3.290650</td>\n      <td>16.057692</td>\n      <td>4.597701</td>\n      <td>7.596372</td>\n    </tr>\n    <tr>\n      <th>17</th>\n      <td>India</td>\n      <td>21 March</td>\n      <td>1.219512</td>\n      <td>16.666667</td>\n      <td>5.923597</td>\n      <td>2.702703</td>\n      <td>14.410256</td>\n      <td>3.764768</td>\n      <td>6.584699</td>\n    </tr>\n    <tr>\n      <th>18</th>\n      <td>India</td>\n      <td>22 March</td>\n      <td>1.763224</td>\n      <td>25.925926</td>\n      <td>8.380935</td>\n      <td>3.761134</td>\n      <td>21.634250</td>\n      <td>5.415921</td>\n      <td>9.656570</td>\n    </tr>\n    <tr>\n      <th>19</th>\n      <td>India</td>\n      <td>23 March</td>\n      <td>1.832994</td>\n      <td>29.032258</td>\n      <td>8.969895</td>\n      <td>3.921160</td>\n      <td>20.156250</td>\n      <td>5.797146</td>\n      <td>10.619748</td>\n    </tr>\n    <tr>\n      <th>20</th>\n      <td>India</td>\n      <td>24 March</td>\n      <td>1.769912</td>\n      <td>21.276596</td>\n      <td>8.277219</td>\n      <td>3.539521</td>\n      <td>19.058418</td>\n      <td>5.249452</td>\n      <td>9.708738</td>\n    </tr>\n    <tr>\n      <th>21</th>\n      <td>India</td>\n      <td>25 March</td>\n      <td>1.689708</td>\n      <td>21.568627</td>\n      <td>7.550296</td>\n      <td>3.291517</td>\n      <td>17.330729</td>\n      <td>4.840919</td>\n      <td>8.696063</td>\n    </tr>\n    <tr>\n      <th>22</th>\n      <td>India</td>\n      <td>26 March</td>\n      <td>2.209945</td>\n      <td>25.396825</td>\n      <td>9.247184</td>\n      <td>4.086591</td>\n      <td>21.830986</td>\n      <td>5.839416</td>\n      <td>10.810811</td>\n    </tr>\n    <tr>\n      <th>23</th>\n      <td>India</td>\n      <td>27 March</td>\n      <td>2.166477</td>\n      <td>20.879121</td>\n      <td>9.233619</td>\n      <td>4.170599</td>\n      <td>22.782281</td>\n      <td>5.897808</td>\n      <td>10.796512</td>\n    </tr>\n    <tr>\n      <th>24</th>\n      <td>India</td>\n      <td>28 March</td>\n      <td>2.369200</td>\n      <td>22.641509</td>\n      <td>9.832240</td>\n      <td>4.565189</td>\n      <td>22.654206</td>\n      <td>6.379414</td>\n      <td>11.442242</td>\n    </tr>\n    <tr>\n      <th>25</th>\n      <td>India</td>\n      <td>29 March</td>\n      <td>2.383054</td>\n      <td>21.428571</td>\n      <td>9.316439</td>\n      <td>4.376013</td>\n      <td>21.482660</td>\n      <td>6.123934</td>\n      <td>10.756972</td>\n    </tr>\n    <tr>\n      <th>26</th>\n      <td>India</td>\n      <td>30 March</td>\n      <td>3.106061</td>\n      <td>23.428571</td>\n      <td>12.001112</td>\n      <td>5.773531</td>\n      <td>27.259503</td>\n      <td>8.001104</td>\n      <td>13.498634</td>\n    </tr>\n    <tr>\n      <th>27</th>\n      <td>India</td>\n      <td>31 March</td>\n      <td>2.885206</td>\n      <td>24.226804</td>\n      <td>11.685779</td>\n      <td>5.686781</td>\n      <td>26.136218</td>\n      <td>7.889715</td>\n      <td>12.941007</td>\n    </tr>\n    <tr>\n      <th>28</th>\n      <td>India</td>\n      <td>01 April</td>\n      <td>2.581588</td>\n      <td>24.200913</td>\n      <td>11.171712</td>\n      <td>5.350607</td>\n      <td>24.129289</td>\n      <td>7.467443</td>\n      <td>12.443192</td>\n    </tr>\n    <tr>\n      <th>29</th>\n      <td>India</td>\n      <td>02 April</td>\n      <td>2.717605</td>\n      <td>26.848249</td>\n      <td>12.381017</td>\n      <td>5.655077</td>\n      <td>26.888041</td>\n      <td>8.141669</td>\n      <td>14.110429</td>\n    </tr>\n    <tr>\n      <th>...</th>\n      <td>...</td>\n      <td>...</td>\n      <td>...</td>\n      <td>...</td>\n      <td>...</td>\n      <td>...</td>\n      <td>...</td>\n      <td>...</td>\n      <td>...</td>\n    </tr>\n    <tr>\n      <th>69</th>\n      <td>India</td>\n      <td>12 May</td>\n      <td>3.247941</td>\n      <td>8.985669</td>\n      <td>5.922695</td>\n      <td>4.424232</td>\n      <td>8.203235</td>\n      <td>5.175213</td>\n      <td>6.596937</td>\n    </tr>\n    <tr>\n      <th>70</th>\n      <td>India</td>\n      <td>13 May</td>\n      <td>3.268418</td>\n      <td>8.807181</td>\n      <td>5.881163</td>\n      <td>4.414633</td>\n      <td>8.154682</td>\n      <td>5.146065</td>\n      <td>6.539978</td>\n    </tr>\n    <tr>\n      <th>71</th>\n      <td>India</td>\n      <td>14 May</td>\n      <td>3.227654</td>\n      <td>8.637787</td>\n      <td>5.744687</td>\n      <td>4.339479</td>\n      <td>7.954763</td>\n      <td>5.045732</td>\n      <td>6.372216</td>\n    </tr>\n    <tr>\n      <th>72</th>\n      <td>India</td>\n      <td>15 May</td>\n      <td>3.205628</td>\n      <td>8.340910</td>\n      <td>5.625352</td>\n      <td>4.275026</td>\n      <td>7.774690</td>\n      <td>4.960979</td>\n      <td>6.218806</td>\n    </tr>\n    <tr>\n      <th>73</th>\n      <td>India</td>\n      <td>16 May</td>\n      <td>3.168474</td>\n      <td>7.735819</td>\n      <td>5.538027</td>\n      <td>4.235326</td>\n      <td>7.612892</td>\n      <td>4.903899</td>\n      <td>6.103178</td>\n    </tr>\n    <tr>\n      <th>74</th>\n      <td>India</td>\n      <td>17 May</td>\n      <td>3.160139</td>\n      <td>7.594937</td>\n      <td>5.505735</td>\n      <td>4.230860</td>\n      <td>7.497611</td>\n      <td>4.887978</td>\n      <td>6.058256</td>\n    </tr>\n    <tr>\n      <th>75</th>\n      <td>India</td>\n      <td>18 May</td>\n      <td>3.144936</td>\n      <td>7.435952</td>\n      <td>5.427916</td>\n      <td>4.185838</td>\n      <td>7.297430</td>\n      <td>4.833541</td>\n      <td>5.962312</td>\n    </tr>\n    <tr>\n      <th>76</th>\n      <td>India</td>\n      <td>19 May</td>\n      <td>3.100287</td>\n      <td>7.237924</td>\n      <td>5.370039</td>\n      <td>4.155016</td>\n      <td>7.136354</td>\n      <td>4.793727</td>\n      <td>5.886471</td>\n    </tr>\n    <tr>\n      <th>77</th>\n      <td>India</td>\n      <td>20 May</td>\n      <td>3.061661</td>\n      <td>7.031154</td>\n      <td>5.285030</td>\n      <td>4.098173</td>\n      <td>6.963104</td>\n      <td>4.727010</td>\n      <td>5.783532</td>\n    </tr>\n    <tr>\n      <th>78</th>\n      <td>India</td>\n      <td>21 May</td>\n      <td>3.030867</td>\n      <td>6.872806</td>\n      <td>5.215410</td>\n      <td>4.047635</td>\n      <td>6.844005</td>\n      <td>4.669136</td>\n      <td>5.711293</td>\n    </tr>\n    <tr>\n      <th>79</th>\n      <td>India</td>\n      <td>22 May</td>\n      <td>2.985900</td>\n      <td>6.705067</td>\n      <td>5.132292</td>\n      <td>3.987011</td>\n      <td>6.702336</td>\n      <td>4.603436</td>\n      <td>5.621351</td>\n    </tr>\n    <tr>\n      <th>80</th>\n      <td>India</td>\n      <td>23 May</td>\n      <td>2.942475</td>\n      <td>6.636006</td>\n      <td>5.044481</td>\n      <td>3.927134</td>\n      <td>6.569261</td>\n      <td>4.529962</td>\n      <td>5.520462</td>\n    </tr>\n    <tr>\n      <th>81</th>\n      <td>India</td>\n      <td>24 May</td>\n      <td>2.904043</td>\n      <td>6.518780</td>\n      <td>4.970794</td>\n      <td>3.874357</td>\n      <td>6.463931</td>\n      <td>4.462650</td>\n      <td>5.437919</td>\n    </tr>\n    <tr>\n      <th>82</th>\n      <td>India</td>\n      <td>25 May</td>\n      <td>2.879023</td>\n      <td>6.432271</td>\n      <td>4.885465</td>\n      <td>3.812986</td>\n      <td>6.347370</td>\n      <td>4.386371</td>\n      <td>5.343957</td>\n    </tr>\n    <tr>\n      <th>83</th>\n      <td>India</td>\n      <td>26 May</td>\n      <td>2.880969</td>\n      <td>6.332139</td>\n      <td>4.824737</td>\n      <td>3.775672</td>\n      <td>6.254806</td>\n      <td>4.333783</td>\n      <td>5.277140</td>\n    </tr>\n    <tr>\n      <th>84</th>\n      <td>India</td>\n      <td>27 May</td>\n      <td>2.867841</td>\n      <td>6.274911</td>\n      <td>4.777498</td>\n      <td>3.751590</td>\n      <td>6.181397</td>\n      <td>4.297576</td>\n      <td>5.220343</td>\n    </tr>\n    <tr>\n      <th>85</th>\n      <td>India</td>\n      <td>28 May</td>\n      <td>2.848469</td>\n      <td>6.229912</td>\n      <td>4.714232</td>\n      <td>3.714905</td>\n      <td>6.081973</td>\n      <td>4.247232</td>\n      <td>5.141861</td>\n    </tr>\n    <tr>\n      <th>86</th>\n      <td>India</td>\n      <td>29 May</td>\n      <td>2.869906</td>\n      <td>5.683336</td>\n      <td>4.737264</td>\n      <td>3.745551</td>\n      <td>6.097541</td>\n      <td>4.271784</td>\n      <td>5.158295</td>\n    </tr>\n    <tr>\n      <th>87</th>\n      <td>India</td>\n      <td>30 May</td>\n      <td>2.850638</td>\n      <td>5.627748</td>\n      <td>4.691036</td>\n      <td>3.717502</td>\n      <td>6.026447</td>\n      <td>4.235320</td>\n      <td>5.100717</td>\n    </tr>\n    <tr>\n      <th>88</th>\n      <td>India</td>\n      <td>31 May</td>\n      <td>2.835667</td>\n      <td>5.558012</td>\n      <td>4.655062</td>\n      <td>3.696126</td>\n      <td>5.961836</td>\n      <td>4.204671</td>\n      <td>5.054558</td>\n    </tr>\n    <tr>\n      <th>89</th>\n      <td>India</td>\n      <td>01 June</td>\n      <td>2.826593</td>\n      <td>5.532423</td>\n      <td>4.595962</td>\n      <td>3.653958</td>\n      <td>5.869814</td>\n      <td>4.156115</td>\n      <td>4.988917</td>\n    </tr>\n    <tr>\n      <th>90</th>\n      <td>India</td>\n      <td>02 June</td>\n      <td>2.813482</td>\n      <td>5.493822</td>\n      <td>4.551311</td>\n      <td>3.628052</td>\n      <td>5.786111</td>\n      <td>4.123558</td>\n      <td>4.933552</td>\n    </tr>\n    <tr>\n      <th>91</th>\n      <td>India</td>\n      <td>03 June</td>\n      <td>2.807212</td>\n      <td>5.527059</td>\n      <td>4.529911</td>\n      <td>3.619180</td>\n      <td>5.731783</td>\n      <td>4.112810</td>\n      <td>4.902177</td>\n    </tr>\n    <tr>\n      <th>92</th>\n      <td>India</td>\n      <td>04 June</td>\n      <td>2.806142</td>\n      <td>5.541184</td>\n      <td>4.513480</td>\n      <td>3.614229</td>\n      <td>5.686234</td>\n      <td>4.102048</td>\n      <td>4.878415</td>\n    </tr>\n    <tr>\n      <th>93</th>\n      <td>India</td>\n      <td>05 June</td>\n      <td>2.814695</td>\n      <td>5.546054</td>\n      <td>4.499228</td>\n      <td>3.610649</td>\n      <td>5.652004</td>\n      <td>4.095773</td>\n      <td>4.860115</td>\n    </tr>\n    <tr>\n      <th>94</th>\n      <td>India</td>\n      <td>06 June</td>\n      <td>2.816336</td>\n      <td>5.529503</td>\n      <td>4.486041</td>\n      <td>3.607332</td>\n      <td>5.621345</td>\n      <td>4.089802</td>\n      <td>4.842319</td>\n    </tr>\n    <tr>\n      <th>95</th>\n      <td>India</td>\n      <td>07 June</td>\n      <td>2.798675</td>\n      <td>5.498623</td>\n      <td>4.444290</td>\n      <td>3.580867</td>\n      <td>5.552455</td>\n      <td>4.056476</td>\n      <td>4.792234</td>\n    </tr>\n    <tr>\n      <th>96</th>\n      <td>India</td>\n      <td>08 June</td>\n      <td>2.810744</td>\n      <td>5.477937</td>\n      <td>4.405873</td>\n      <td>3.558773</td>\n      <td>5.490694</td>\n      <td>4.023312</td>\n      <td>4.747336</td>\n    </tr>\n    <tr>\n      <th>97</th>\n      <td>India</td>\n      <td>09 June</td>\n      <td>2.807670</td>\n      <td>5.441752</td>\n      <td>4.366186</td>\n      <td>3.540382</td>\n      <td>5.427968</td>\n      <td>3.993306</td>\n      <td>4.702838</td>\n    </tr>\n    <tr>\n      <th>98</th>\n      <td>India</td>\n      <td>10 June</td>\n      <td>2.823263</td>\n      <td>5.437910</td>\n      <td>4.371566</td>\n      <td>3.558166</td>\n      <td>5.419323</td>\n      <td>4.003333</td>\n      <td>4.701556</td>\n    </tr>\n  </tbody>\n</table>\n<p>99 rows × 9 columns</p>\n</div>"
          },
          "metadata": {}
        }
      ]
    },
    {
      "metadata": {
        "colab": {},
        "colab_type": "code",
        "id": "-TNPEM04As9f",
        "trusted": true
      },
      "cell_type": "code",
      "source": "states = list(filter(lambda v:len(v)<3,list(json.load(open('states.json',))['states_daily'][0].keys())))",
      "execution_count": 13,
      "outputs": []
    },
    {
      "metadata": {
        "colab": {},
        "colab_type": "code",
        "id": "T377QO_CWnXk",
        "trusted": true
      },
      "cell_type": "code",
      "source": "dates = np.array([pd.to_datetime(i['date']) for i in filter(lambda v: v['status'] == 'Confirmed',json.load(open('states.json',))['states_daily'])])\n#print(dates)\ndata_recovered = pd.DataFrame()\ndata_deceased = pd.DataFrame()\ndata_confirmed = pd.DataFrame()\nfor st in states:\n    data_confirmed[st] = np.array([i[st] for i in filter(lambda v: v['status'] == 'Confirmed',json.load(open('states.json',))['states_daily'])])\n    data_deceased[st] = np.array([i[st] for i in filter(lambda v: v['status'] == 'Deceased',json.load(open('states.json',))['states_daily'])])\n    data_recovered[st] = np.array([i[st] for i in filter(lambda v: v['status'] == 'Recovered',json.load(open('states.json',))['states_daily'])])",
      "execution_count": 14,
      "outputs": []
    },
    {
      "metadata": {
        "colab": {},
        "colab_type": "code",
        "id": "-fkTZLEnBiLi",
        "trusted": true
      },
      "cell_type": "code",
      "source": "data_recovered = data_recovered.replace(r'^\\s*$', np.NaN, regex=True).fillna(0)\ndata_recovered = data_recovered.astype(np.int32)\ndata_confirmed = data_confirmed.replace(r'^\\s*$', np.NaN, regex=True).fillna(0)\ndata_confirmed = data_confirmed.astype(np.int32)\ndata_deceased = data_deceased.replace(r'^\\s*$', np.NaN, regex=True).fillna(0)\ndata_deceased = data_deceased.astype(np.int32)\ndata_deceased['date'] = dates\ndata_recovered['date'] = dates\ndata_confirmed['date'] = dates",
      "execution_count": 15,
      "outputs": []
    },
    {
      "metadata": {
        "colab": {
          "base_uri": "https://localhost:8080/",
          "height": 161
        },
        "colab_type": "code",
        "id": "0e8kFz1zWnXv",
        "outputId": "8737fd0a-2199-4a3a-9447-be25da6453f9",
        "trusted": true
      },
      "cell_type": "code",
      "source": "final=pd.DataFrame\nplt.figure(1, figsize=(15, 7))\nstate_id = {\n  \"mh\":\"Maharashtra\",\n  \"tn\":\"Tamil Nadu\",\n  \"dl\":\"Delhi\",\n  \"gj\":\"Gujarat\",\n  \"rj\":\"Rajasthan\",\n  \"up\":\"Uttar Pradesh\",\n  \"mp\":\"Madhya Pradesh\",\n  \"wb\":\"West Bengal\",\n  \"ka\":\"Karnataka\",\n  \"br\":\"Bihar\",\n  \"ap\":\"Andhra Pradesh\",\n  \"hr\":\"Haryana\",\n  \"tg\":\"Telangana\",\n  \"jk\":\"Jammu and Kashmir\",\n  \"or\":\"Odisha\",\n  \"pb\":\"Punjab\",\n  \"as\":\"Assam\",\n  \"kl\":\"Kerala\",\n  \"ut\":\"Uttarakhand\",\n  \"jh\":\"Jharkand\",\n  \"ct\":\"Chhattisgarh\",\n  \"tr\":\"Tripura\",\n  \"hp\":\"Himachal Pradesh\",\n  \"ch\":\"Chandigarh\",\n  \"ga\":\"Goa\",\n  \"mn\":\"Manipur\",\n  \"nl\":\"Nagaland\",\n  \"py\":\"Puducherry\",\n  \"la\":\"Ladakh\",\n  \"ar\":\"Arunachal Pradesh\",\n  \"an\":\"Andaman and Nicobar Islands\",\n  \"ml\":\"Meghalaya\",\n  \"mz\":\"Mizoram\",\n  \"dn\":\"Dadra and Nagar Haveli and Daman and Diu\",\n  \"sk\":\"Sikkim\",\n}\n\nfor state in state_id.keys():\n    boots = 100\n    conf = []\n    for n in range(boots):\n        #print(\"Iteration: \",n+1,end='\\r')\n        dataset = np.copy(data_confirmed[state].values)\n        mean = 13.0+(20.9-8.7)/4*np.random.normal()\n        sd = 12.7+(26.0-6.4)/4*np.random.normal()\n        phi = np.sqrt(sd**2 + mean**2)\n        mu = np.log(mean**2/phi)\n        sigma = np.sqrt(np.log(phi**2/mean**2))\n        L = lognorm(s=sigma,scale=np.exp(mu))\n        for i in range(len(dataset)-1,-1,-1):\n            send_forward = np.round(L.rvs(np.max([dataset[i],0])))\n            send_forward = send_forward[i+send_forward<len(dataset)]\n            dataset[i] = 0\n            for j in np.unique(np.int32(send_forward)):\n                dataset[i+j] += np.sum(send_forward==j)\n        conf.append(dataset)\n    CFR = np.cumsum(data_deceased[state].values)/np.cumsum(conf,axis=1)\n    col_mean = np.nanmean(CFR, axis=0)\n    inds = np.where(np.isnan(CFR))\n    CFR[inds] = np.take(col_mean, inds[1])\n    temp1=list(pd.Series(dates).dt.strftime('%m-%d-%Y'))\n    #print(temp1[0])\n    dates1=[]\n    for i in range(len(temp1)):\n      date=temp1[i][3:5]+'/'+temp1[i][0:2]\n      dates1.append(convert(date))\n    temp = {\n        'dates':dates1,\n        'cfr1_point':list(n2z(100*np.cumsum(data_deceased[state].values)/np.cumsum(data_confirmed[state].values))),\n        'cfr2_point':list(n2z(100*np.cumsum(data_deceased[state].values)/(np.cumsum(data_deceased[state].values)+np.cumsum(data_recovered[state].values)))),\n        'cfr3_point':list(n2z(100*np.mean(CFR,axis=0))),\n        'cfr3_l95':list(n2z(100*np.quantile(CFR,0.025,axis=0))),\n        'cfr3_u95':list(n2z(100*np.quantile(CFR,0.975,axis=0))),\n        'cfr3_l50':list(n2z(100*np.quantile(CFR,0.25,axis=0))),\n        'cfr3_u50':list(n2z(100*np.quantile(CFR,0.75,axis=0))),\n        }\n    a=state_id[state]\n    #print(a)\n    json_data[str(a)] = temp\n    cfr_state=pd.DataFrame()\n    cfr_state['state']=[str(a)]*len(dates)\n    cfr_state['dates']=dates1\n    cfr_state['cfr1_point']=(list(100*n2z(np.cumsum(data_deceased[state].values)/np.cumsum(data_confirmed[state].values))))\n    cfr_state['cfr2_point']=(list(100*n2z(np.cumsum(data_deceased[state].values)/(np.cumsum(data_deceased[state].values)+np.cumsum(data_recovered[state].values)))))\n    cfr_state['cfr3_point']=(list(100*n2z(np.mean(CFR,axis=0))))\n    cfr_state['cfr3_l95']=(list(100*n2z(np.quantile(CFR,0.025,axis=0))))\n    cfr_state['cfr3_u95']=(list(100*n2z(np.quantile(CFR,0.975,axis=0))))\n    cfr_state['cfr3_l50']=(list(100*n2z(np.quantile(CFR,0.25,axis=0))))\n    cfr_state['cfr3_u50']=(list(100*n2z(np.quantile(CFR,0.75,axis=0))))\n    cfr=pd.concat([cfr, cfr_state])\n      \n    #plt.plot(temp['cfr3_point'],label=state)\n#plt.legend()",
      "execution_count": 16,
      "outputs": [
        {
          "output_type": "stream",
          "text": "/home/nbuser/anaconda3_420/lib/python3.5/site-packages/ipykernel/__main__.py:60: RuntimeWarning: divide by zero encountered in true_divide\n/home/nbuser/anaconda3_420/lib/python3.5/site-packages/ipykernel/__main__.py:60: RuntimeWarning: invalid value encountered in true_divide\n/home/nbuser/anaconda3_420/lib/python3.5/site-packages/ipykernel/__main__.py:61: RuntimeWarning: Mean of empty slice\n/home/nbuser/anaconda3_420/lib/python3.5/site-packages/ipykernel/__main__.py:73: RuntimeWarning: invalid value encountered in true_divide\n/home/nbuser/anaconda3_420/lib/python3.5/site-packages/ipykernel/__main__.py:87: RuntimeWarning: invalid value encountered in true_divide\n/home/nbuser/anaconda3_420/lib/python3.5/site-packages/ipykernel/__main__.py:72: RuntimeWarning: invalid value encountered in true_divide\n/home/nbuser/anaconda3_420/lib/python3.5/site-packages/ipykernel/__main__.py:86: RuntimeWarning: invalid value encountered in true_divide\n",
          "name": "stderr"
        },
        {
          "output_type": "display_data",
          "data": {
            "text/plain": "<matplotlib.figure.Figure at 0x7fb99e31c5f8>"
          },
          "metadata": {}
        }
      ]
    },
    {
      "metadata": {
        "trusted": true
      },
      "cell_type": "code",
      "source": "print(list(100*n2z(np.mean(CFR,axis=0))))",
      "execution_count": 17,
      "outputs": [
        {
          "output_type": "stream",
          "text": "[0.0, 0.0, 0.0, 0.0, 0.0, 0.0, 0.0, 0.0, 0.0, 0.0, 0.0, 0.0, 0.0, 0.0, 0.0, 0.0, 0.0, 0.0, 0.0, 0.0, 11.378489174808651, 7.86729951274725, 5.613917402394577, 13.040344594296569, 12.833056449008861, 8.907082128449153, 10.264806149649896, 7.794861848238656, 6.086732796144333, 5.76407843838153, 4.833513179991999, 6.4742575890035905, 7.227044177616975, 6.372263455813361, 5.721256852125214, 5.938529391221479, 5.757037126290504, 6.242192892667673, 6.3260961726481195, 6.385039318812753, 6.660427988023039, 6.632243550869878, 6.575430691915645, 6.112865243458647, 5.694623956064666, 5.298951728340539, 4.937017574682676, 4.587904879211582, 4.553502752472183, 4.258692185915823, 3.9823012450102855, 3.7389890816270794, 3.6274089309711313, 3.6186093197218083, 3.609793562456223, 3.689664514490477, 3.7545448633010357, 3.6581059136507554, 3.4865006491005697, 3.4107396572141027, 3.343908550423104, 3.278196492624331, 3.154140252158272, 3.102546644876372, 3.0505718435660145, 2.9467496224674004, 2.965644552778852, 2.926981934453616, 2.8918932080178594, 2.857446433012469, 2.826889756476805, 2.7509041537038157, 2.6752519404315, 2.651397795033106, 2.6240303385468136, 2.594261161263596, 2.562713291498889, 2.4891127056156637, 2.496524051706743, 2.5019266339147332, 2.427395784797233, 2.501667032037413, 2.531899695617061, 2.521627224220217, 2.442669064612808, 2.4285742503179892, 2.348466926382237, 2.3300732975505887, 2.282166250754432]\n",
          "name": "stdout"
        }
      ]
    },
    {
      "metadata": {
        "colab": {},
        "colab_type": "code",
        "id": "Ye-E6-FL9MFs",
        "trusted": true
      },
      "cell_type": "code",
      "source": "cfr.to_csv('cfr.csv',index=False)\nfrom datetime import datetime\njson_data['datetime']=str(datetime.now())",
      "execution_count": 18,
      "outputs": []
    },
    {
      "metadata": {
        "colab": {},
        "colab_type": "code",
        "id": "JG4bxq2JWnX7",
        "trusted": true
      },
      "cell_type": "code",
      "source": "with open('cfr.json', 'w') as outfile:\n    json.dump(json_data, outfile)",
      "execution_count": 19,
      "outputs": []
    },
    {
      "metadata": {
        "colab": {},
        "colab_type": "code",
        "id": "2JUFGrCP6krl",
        "trusted": true
      },
      "cell_type": "code",
      "source": "total_confirmed = [x['totalconfirmed'].split(' ')[0] for x in json.load(open('national.json',))['cases_time_series']] ## x_cumulative= 'totalconfirmed'\ndaily_confirmed = [x['dailyconfirmed'].split(' ')[0] for x in json.load(open('national.json',))['cases_time_series']] ## x1\ndaily_confirmed_ma=['']*7\ndates=[]\ndaily_confirmed=list(map(int,daily_confirmed))\nfor i in range(7,len(daily_confirmed)):\n  daily_confirmed_ma.append(sum(daily_confirmed[i-7:i])/7)\ndatesspace = [x['date'] for x in json.load(open('national.json',))['cases_time_series']]\nfor i in range(len(datesspace)):\n  dates.append(datesspace[i][0:-1])\n#print(total_confirmed)",
      "execution_count": null,
      "outputs": []
    },
    {
      "metadata": {
        "colab": {
          "base_uri": "https://localhost:8080/",
          "height": 1000
        },
        "colab_type": "code",
        "id": "bb8gVynOgDE1",
        "outputId": "98ded9c7-28a2-4515-eff5-eb092e363146",
        "trusted": true
      },
      "cell_type": "code",
      "source": "datesspace",
      "execution_count": null,
      "outputs": []
    },
    {
      "metadata": {
        "colab": {
          "base_uri": "https://localhost:8080/",
          "height": 55
        },
        "colab_type": "code",
        "id": "F6ldldb_VMKW",
        "outputId": "bb039d37-8e5a-47f9-d389-a018ada3f85c",
        "trusted": true
      },
      "cell_type": "code",
      "source": "dates_dict = {}\ncount=1\nfor i in dates:\n  if i not in dates_dict.keys():\n    dates_dict[i]=count\n    count+=1\nprint(dates_dict)",
      "execution_count": null,
      "outputs": []
    },
    {
      "metadata": {
        "colab": {},
        "colab_type": "code",
        "id": "VpXtUkhyhGQ5",
        "trusted": true
      },
      "cell_type": "code",
      "source": "def convert(dat): \n    return  str(dat[:2]) + fn(str(dat[3:5]))",
      "execution_count": null,
      "outputs": []
    },
    {
      "metadata": {
        "colab": {
          "base_uri": "https://localhost:8080/",
          "height": 35
        },
        "colab_type": "code",
        "id": "jVOS4Hbh1v9G",
        "outputId": "863512c9-9e3e-42c7-ff76-ca73f4ba0cf7",
        "trusted": true
      },
      "cell_type": "code",
      "source": "population['Population'][36]",
      "execution_count": null,
      "outputs": []
    },
    {
      "metadata": {
        "colab": {},
        "colab_type": "code",
        "id": "3SYxC6Y1hHRV",
        "trusted": true
      },
      "cell_type": "code",
      "source": "datest=[x['updatetimestamp'].split(' ')[0] for x in json.load(open('national.json',))['tested']]\n#totalcumulative_tested = [] #y_cumulative\ny_cumulative1=[x['totalsamplestested'] for x in json.load(open('national.json',))['tested']]\ntest_per_million=['']*len(dates)\ndates1=[]\nfor i in (datest):\n  dates1.append(convert(i))\ndatestest = []\ndatestest.append(dates1[0])\ny_cumulative = []\ntested_cum=['']*len(dates)\ny_cumulative.append(y_cumulative1[0])\n### y = 'totalsamplestested'\n#daily_tested = [] # y1 (y_cumulative2-ycumulative1)\nfor i in range(1,len(dates1)):\n  if (dates1[i]==dates1[i-1]):\n    y_cumulative[-1]=y_cumulative1[i]\n  else:\n    datestest.append(dates1[i])\n    y_cumulative.append(y_cumulative1[i])\ndaily_tested=[]\ndaily_tested_final=['']*len(dates)\ndaily_confirmed_final=['']*len(dates)\ndaily_confirmed_ma_final=['']*len(dates)\ndaily_tested.append(y_cumulative[0])\nfor i in range(1,len(y_cumulative)):\n  if (len(y_cumulative[i])!=0):\n    a=int(y_cumulative[i])-int(y_cumulative[i-1])\n    daily_tested.append(a)\n    #test_per_million.append(int(y_cumulative[i])*1000000/int(population['Population'][36]))\n  else:\n    y_cumulative[i]=y_cumulative[i-1]\n    daily_tested.append(0)\n    #test_per_million.append('')\nvar=0\npos_rate_cum=['']*len(dates)\ndaily_pos_rate=['']*len(dates)\nfor i in range(len(datestest)):\n  for j in range(var,len(dates)):\n    if (datestest[i]==dates[j]):\n      if (int(daily_tested[i])!=0):\n        daily_pos_rate[j]=(int(daily_confirmed[j])*100/int(daily_tested[i]))\n        pos_rate_cum[j]=(int(total_confirmed[j])*100/int(y_cumulative[i]))\n        test_per_million[j]=(int(y_cumulative[i])*1000000/int(population['Population'][36]))\n        daily_tested_final[j]=daily_tested[i]\n        tested_cum[j]=y_cumulative[i]\n      else:\n        daily_pos_rate[j]=('')\n        #test_per_million.append('')\n      var=j\n      break\n#print(len(y_cumulative))\n#daily_confirmed_7day_moving = []\n## India : date : []\n##        cumulative pos rate : [] x_cum/y_cum\n##        daily_pos_rate : []  (after taking moving avg) -> 7 observation moving avg\n## daily confirmed : [] (7 day moving average)",
      "execution_count": null,
      "outputs": []
    },
    {
      "metadata": {
        "colab": {
          "base_uri": "https://localhost:8080/",
          "height": 35
        },
        "colab_type": "code",
        "id": "YbL5ikpZLHEu",
        "outputId": "4a08a12c-a83f-4871-cf7e-fa07ecee13fd",
        "trusted": true
      },
      "cell_type": "code",
      "source": "print(len(daily_confirmed_ma))",
      "execution_count": null,
      "outputs": []
    },
    {
      "metadata": {
        "colab": {
          "base_uri": "https://localhost:8080/",
          "height": 35
        },
        "colab_type": "code",
        "id": "nStuZRVIeYW9",
        "outputId": "75ef9f0a-c252-4cb4-d09a-3550ee6e6cac",
        "trusted": true
      },
      "cell_type": "code",
      "source": "len(daily_pos_rate)",
      "execution_count": null,
      "outputs": []
    },
    {
      "metadata": {
        "colab": {},
        "colab_type": "code",
        "id": "Fvcjz9x_PySN",
        "trusted": true
      },
      "cell_type": "code",
      "source": "daily_pos_rate_ma=['']*len(dates)\nfrom statistics import mean\ncount=0\ntemp=['']*len(dates)\n\ni=0\nl=len(dates)\n#print(datestest)\n# for i in range(len(dates)):\n#print(daily_pos_rate)\n\nwhile i<l:\n  # print(i)\n  count+=1\n  for j in range(len(datestest)):\n    if (dates[i]==datestest[j]):\n      a=daily_pos_rate[i]\n      temp[i]=str(a)\n  \n  for k in range(7,len(temp)):\n    sum=0\n    counter=0\n    for m in range(0,7):\n      if (len(str(temp[k-m]))!=0):\n        sum+=float(temp[k-m])\n      else:\n        counter+=1\n    if ((7-counter)!=0):\n      daily_pos_rate_ma[k]=(sum/(7-counter))\n     \n  i=i+1",
      "execution_count": null,
      "outputs": []
    },
    {
      "metadata": {
        "colab": {},
        "colab_type": "code",
        "id": "NEMGRp4MCPDO",
        "trusted": true
      },
      "cell_type": "code",
      "source": "india_dates = dates\nindia_total_cases=total_confirmed\nindia_daily_confirmed = daily_confirmed\nindia_daily_confirmed_ma = daily_confirmed_ma\nindia_total_confirmed = total_confirmed\nindia_daily_pos_rate_ma = daily_pos_rate_ma\nindia_pos_rate_cum = pos_rate_cum\nindia_daily_pos_rate = daily_pos_rate\nindia_test_per_million=test_per_million\nindia_daily_tested=daily_tested_final\nindia_tested_cum = tested_cum\n# nationwide={\n#     'dates':dates,\n#     'daily_confirmed':daily_confirmed,\n#     'daily_confirmed_ma':daily_confirmed_ma,\n#     'daily_total':total_confirmed,\n#     'daily_positve_rate_ma':daily_pos_rate_ma\n# }\n# with open('nation.json', 'w') as outfile:\n#     json.dump(nationwide, outfile)",
      "execution_count": null,
      "outputs": []
    },
    {
      "metadata": {
        "colab": {
          "base_uri": "https://localhost:8080/",
          "height": 35
        },
        "colab_type": "code",
        "id": "o4iPB4lDDtsx",
        "outputId": "0206e86e-bba8-4734-8da9-288043554f0e",
        "trusted": true
      },
      "cell_type": "code",
      "source": "print(len(india_total_confirmed ))",
      "execution_count": null,
      "outputs": []
    },
    {
      "metadata": {
        "colab_type": "text",
        "id": "Pwh5O3yAWnYF"
      },
      "cell_type": "markdown",
      "source": "### State Level Data"
    },
    {
      "metadata": {
        "colab": {},
        "colab_type": "code",
        "id": "mqUi8q4iZUAt",
        "trusted": true
      },
      "cell_type": "code",
      "source": "population=population.set_index('State')",
      "execution_count": null,
      "outputs": []
    },
    {
      "metadata": {
        "colab": {
          "base_uri": "https://localhost:8080/",
          "height": 55
        },
        "colab_type": "code",
        "id": "oAcwapcpbw8l",
        "outputId": "ec8d091b-6354-4b71-a8c8-6fa2d444644f",
        "trusted": true
      },
      "cell_type": "code",
      "source": "testing = {}\nstates = np.unique([x['state'] for x in json.load(open('test.json',))['states_tested_data']])\n#df=pd.DataFrame()\ncsv_dates=[]\ncsv_states=[]\ncsv_total_cases=[]\ncsv_positivity_rate_cumulative=[]\ncsv_daily_positive_cases=[]\ncsv_daily_positivity_rate=[]\ncsv_daily_positive_cases_ma=[]\ncsv_daily_positivity_rate_ma=[]\ncsv_test_per_million=[]\ncsv_daily_tested=[]\ncsv_cum_tested=[]\nfor st in states:\n  state_dates = []\n  test_per_million=['']*len(dates)\n  pos_cum=['']*len(dates)\n  pos_rate_cum=['']*len(dates)\n  daily_pos=['']*len(dates)\n  daily_pos_ma=['']*len(dates)\n  daily_tested=['']*len(dates)\n  daily_pos_rate=['']*len(dates)\n  daily_pos_rate_ma=['']*len(dates)\n  tested_cum=['']*len(dates)\n  tested_daily=['']*len(dates)\n  state_date = [x['updatedon'] for x in filter(lambda v: v['state'] == st,json.load(open('test.json',))['states_tested_data'])]\n  #rates = [x['testpositivityrate'] for x in filter(lambda v: v['state'] == st,json.load(open('test.json',))['states_tested_data'])]\n  #print(state_date)\n  for i in (state_date):\n    state_dates.append(convert(i))\n  for i in range(len(dates)):\n    for j in range(len(state_dates)):\n      sum=0\n      count=0\n      sum1=0\n      count1=0\n      if (dates[i]==state_dates[j]):\n        pos_cum[i] = [x['positive'] for x in filter(lambda v: v['state'] == st,json.load(open('test.json',))['states_tested_data'])][j]\n        tested_cum[i] = [x['totaltested'] for x in filter(lambda v: v['state'] == st,json.load(open('test.json',))['states_tested_data'])][j]\n        if (j==0):\n          daily_pos[i]=pos_cum[j]\n          daily_tested[i]=tested_cum[j]\n        if(len(pos_cum[i])!=0 and len(pos_cum[i-1])!=0):\n          daily_pos[i]=int(pos_cum[i])-int(pos_cum[i-1]) \n          #print(daily_pos[i])\n        if(st=='Andaman and Nicobar Islands'):\n          daily_pos[i]=pos_cum[i]\n        if(len(tested_cum[i])!=0 and len(tested_cum[i-1])!=0):\n          daily_tested[i]=(int(tested_cum[i])-int(tested_cum[i-1]))\n          test_per_million[i]=int(tested_cum[i])*1000000/int(population[\"Population\"][st])\n          if (len(str(daily_pos[i]))!=0 and len(str(tested_cum[i]))!=0):\n            pos_rate_cum[i]=int(pos_cum[i])*100/int(tested_cum[i])\n          #if(st=='Maharashtra'):\n            #print(tested_cum[i],daily_tested[i])\n        if (j>6):\n          for k in range(0,7):\n            if (len(str(daily_pos[i-k]))!=0):\n              count+=1\n              sum+=daily_pos[i-k]\n          if (count!=0):\n            daily_pos_ma[i]=sum/count\n          if(len(str(daily_tested[i]))!=0 and daily_tested[i]!=0 and len(str(daily_pos[i]))!=0 ):\n            daily_pos_rate[i]=(int(daily_pos[i])*100/int(daily_tested[i]))\n        if (j>6):\n          for k in range(0,7):\n            if (len(str(daily_pos_rate[i-k]))!=0):\n              count1+=1\n              sum1+=daily_pos_rate[i-k]\n            if (count1!=0):\n             daily_pos_rate_ma[i]=sum1/count1\n  if(st==\"Maharashtra\"):\n    print(st,pos_rate_cum)\n  for i in range(len(dates)):\n    csv_dates.append(dates[i])\n    csv_total_cases.append(pos_cum[i])\n    csv_states.append(st)\n    csv_positivity_rate_cumulative.append(pos_rate_cum[i])\n    csv_daily_positive_cases.append(daily_pos[i])\n    csv_daily_positivity_rate.append(daily_pos_rate[i])\n    csv_daily_positive_cases_ma.append(daily_pos_ma[i])\n    csv_daily_positivity_rate_ma.append(daily_pos_rate_ma[i])\n    csv_test_per_million.append(test_per_million[i])\n    csv_daily_tested.append(daily_tested[i])\n    csv_cum_tested.append(tested_cum[i])\n  testing[st] = {\n                    'dates':dates,\n                    'cum_positive_cases':pos_cum,\n                    'cum_positivity_rate':pos_rate_cum,\n                    'daily_positive_cases':daily_pos,\n                    'daily_positivity_rate':daily_pos_rate,\n                    'daily_positive_cases_ma': daily_pos_ma,\n                    'daily_positivity_rate_ma':daily_pos_rate_ma , \n                    'test_per_million':test_per_million,\n                    'daily_tests': daily_tested,\n                    'cum_tests': tested_cum    \n                  }\ntesting['India'] = {\n                    'dates': india_dates,\n                    'cum_positive_cases':india_total_cases,\n                    'cum_positivity_rate': india_pos_rate_cum,\n                    'daily_positive_cases': india_daily_confirmed,\n                    'daily_positivity_rate': india_daily_pos_rate,\n                    'daily_positive_cases_ma': india_daily_confirmed_ma,\n                    'daily_positivity_rate_ma': india_daily_pos_rate_ma,\n                    'test_per_million':india_test_per_million,  \n                    'daily_tests':india_daily_tested,\n                    'cum_tests':india_tested_cum   \n                  }\nfor i in range (len(dates)):\n    csv_dates.append(dates[i])\n    csv_states.append('India')\n    csv_total_cases.append(india_total_cases[i])\n    csv_positivity_rate_cumulative.append(india_pos_rate_cum[i])\n    csv_daily_positive_cases.append(india_daily_confirmed[i])\n    csv_daily_positivity_rate.append(india_daily_pos_rate[i])\n    csv_daily_positive_cases_ma.append(india_daily_confirmed_ma[i])\n    csv_daily_positivity_rate_ma.append(india_daily_pos_rate_ma[i])\n    csv_test_per_million.append(india_test_per_million[i])\n    csv_daily_tested.append(india_daily_tested[i])\n    csv_cum_tested.append(india_tested_cum[i])\n",
      "execution_count": null,
      "outputs": []
    },
    {
      "metadata": {
        "colab": {},
        "colab_type": "code",
        "id": "j-Ll534S9Wb7",
        "trusted": true
      },
      "cell_type": "code",
      "source": "from datetime import datetime\ntesting['datetime']=str(datetime.now())\nwith open('positivity_Rate.json', 'w') as outfile:\n    json.dump(testing, outfile,indent=4)",
      "execution_count": null,
      "outputs": []
    },
    {
      "metadata": {
        "colab": {},
        "colab_type": "code",
        "id": "rQ0xG1mwoLjZ",
        "trusted": true
      },
      "cell_type": "code",
      "source": "df=pd.DataFrame()\ndf['dates']=csv_dates\ndf['state']=csv_states\ndf['cum_positive_cases']=csv_total_cases\ndf['cum_positivity_rate']=csv_positivity_rate_cumulative\ndf['daily_positive_cases']=csv_daily_positive_cases\ndf['daily_positivity_rate']=csv_daily_positivity_rate\ndf['daily_positive_cases_ma']=csv_daily_positive_cases_ma\ndf['daily_positivity_rate_ma']=    csv_daily_positivity_rate_ma\ndf['test_per_million']=csv_test_per_million\ndf['daily_tested']=csv_daily_tested\ndf['cum_tested']=csv_cum_tested",
      "execution_count": null,
      "outputs": []
    },
    {
      "metadata": {
        "colab": {},
        "colab_type": "code",
        "id": "CPhEpjzIAyTt",
        "trusted": true
      },
      "cell_type": "code",
      "source": "df.to_csv('positivity_Rate.csv',index=False)",
      "execution_count": null,
      "outputs": []
    },
    {
      "metadata": {
        "colab": {},
        "colab_type": "code",
        "id": "Ne5lacQ_fLj8",
        "trusted": true
      },
      "cell_type": "code",
      "source": "",
      "execution_count": null,
      "outputs": []
    }
  ],
  "metadata": {
    "accelerator": "GPU",
    "colab": {
      "collapsed_sections": [],
      "name": "CFRCalculation_positivityrate.ipynb",
      "provenance": []
    },
    "kernelspec": {
      "name": "python3",
      "display_name": "Python 3",
      "language": "python"
    },
    "language_info": {
      "mimetype": "text/x-python",
      "nbconvert_exporter": "python",
      "name": "python",
      "file_extension": ".py",
      "version": "3.5.4",
      "pygments_lexer": "ipython3",
      "codemirror_mode": {
        "version": 3,
        "name": "ipython"
      }
    }
  },
  "nbformat": 4,
  "nbformat_minor": 1
}