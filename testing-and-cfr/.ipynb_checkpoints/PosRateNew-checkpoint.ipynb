{
 "cells": [
  {
   "cell_type": "code",
   "execution_count": 1,
   "metadata": {
    "colab": {
     "base_uri": "https://localhost:8080/",
     "height": 289
    },
    "colab_type": "code",
    "id": "5Bg5JGkOoFkM",
    "outputId": "4ae63113-1add-4da6-e8aa-b854bf97f4d2"
   },
   "outputs": [
    {
     "name": "stdout",
     "output_type": "stream",
     "text": [
      "Requirement already satisfied: wget in f:\\anaconda3\\lib\\site-packages (3.2)\n"
     ]
    }
   ],
   "source": [
    "!pip install wget\n",
    "import numpy as np\n",
    "import matplotlib.pyplot as plt\n",
    "import pandas as pd\n",
    "from subprocess import call\n",
    "from scipy.stats.distributions import gamma,lognorm\n",
    "import json \n",
    "import wget\n",
    "import os\n",
    "import os.path\n",
    "from datetime import datetime\n",
    "import pytz \n",
    "from collections import OrderedDict\n",
    "from google.colab import drive\n",
    "#os.chdir('/content/gdrive/My Drive')\n",
    "drive.mount('/content/gdrive')"
   ]
  },
  {
   "cell_type": "code",
   "execution_count": 2,
   "metadata": {
    "colab": {},
    "colab_type": "code",
    "id": "W81xO0pjosrK"
   },
   "outputs": [],
   "source": [
    "os.chdir('/content/gdrive/My Drive/test')"
   ]
  },
  {
   "cell_type": "code",
   "execution_count": 2,
   "metadata": {
    "colab": {
     "base_uri": "https://localhost:8080/",
     "height": 35
    },
    "colab_type": "code",
    "id": "GbTAAECqo4b8",
    "outputId": "ee5d2a64-89a5-4f10-b47d-08ecdd8c50a2"
   },
   "outputs": [
    {
     "name": "stdout",
     "output_type": "stream",
     "text": [
      "100% [....................................................] 18408106 / 18408106"
     ]
    },
    {
     "data": {
      "text/plain": [
       "'C:\\\\Users\\\\asus\\\\Documents\\\\GitHub\\\\CovidToday_Website\\\\testing-and-cfr//test (1).json'"
      ]
     },
     "execution_count": 2,
     "metadata": {},
     "output_type": "execute_result"
    }
   ],
   "source": [
    "if os.path.exists(os.getcwd()+\"test.json\"):\n",
    "    os.remove(os.getcwd()+\"test.json\")\n",
    "wget.download('https://api.covid19india.org/v3/data-all.json', os.getcwd()+\"//test.json\")"
   ]
  },
  {
   "cell_type": "code",
   "execution_count": 3,
   "metadata": {
    "colab": {},
    "colab_type": "code",
    "id": "b_Mmdu4qo8np"
   },
   "outputs": [],
   "source": [
    "def fn(mon):\n",
    "  if(mon == \"01\"):\n",
    "    return \" January\"\n",
    "  if(mon == \"02\"):\n",
    "    return \" February\"\n",
    "  if(mon == \"03\"):\n",
    "    return \" March\"\n",
    "  if(mon == \"04\"):\n",
    "    return \" April\"\n",
    "  if(mon == \"05\"):\n",
    "    return \" May\"\n",
    "  if(mon == \"06\"):\n",
    "    return \" June\"\n",
    "  if(mon == \"07\"):\n",
    "    return \" July\"\n",
    "  if(mon == \"08\"):\n",
    "    return \" August\"\n",
    "  if(mon == \"09\"):\n",
    "    return \" September\"\n",
    "  if(mon == \"10\"):\n",
    "    return \" October\"\n",
    "  if(mon == \"11\"):\n",
    "    return \" November\"\n",
    "  if(mon == \"12\"):\n",
    "    return \" December\"\n",
    "def convert(dat): \n",
    "    return  str(dat[8:10]) + fn(str(dat[5:7]))\n",
    "def convert1(dat): \n",
    "    return  str(dat[:2]) + fn(str(dat[3:5]))"
   ]
  },
  {
   "cell_type": "code",
   "execution_count": 4,
   "metadata": {
    "colab": {},
    "colab_type": "code",
    "id": "hx19gK_Vo_5J"
   },
   "outputs": [],
   "source": [
    "dataset=pd.read_csv('./population.csv')\n",
    "population=pd.DataFrame()\n",
    "population[\"State\"]=dataset['State'][:37]\n",
    "population[\"Population\"]=dataset['Population'][:37]\n",
    "population=population.set_index('State')"
   ]
  },
  {
   "cell_type": "code",
   "execution_count": 5,
   "metadata": {
    "colab": {},
    "colab_type": "code",
    "id": "489_2jZ1pDAe"
   },
   "outputs": [],
   "source": [
    "state_id = {\n",
    "  \"TT\":\"India\",\n",
    "  \"MH\":\"Maharashtra\",\n",
    "  \"TN\":\"Tamil Nadu\",\n",
    "  \"DL\":\"Delhi\",\n",
    "  \"GJ\":\"Gujarat\",\n",
    "  \"RJ\":\"Rajasthan\",\n",
    "  \"UP\":\"Uttar Pradesh\",\n",
    "  \"MP\":\"Madhya Pradesh\",\n",
    "  \"WB\":\"West Bengal\",\n",
    "  \"KA\":\"Karnataka\",\n",
    "  \"BR\":\"Bihar\",\n",
    "  \"AP\":\"Andhra Pradesh\",\n",
    "  \"HR\":\"Haryana\",\n",
    "  \"TG\":\"Telangana\",\n",
    "  \"JK\":\"Jammu and Kashmir\",\n",
    "  \"OR\":\"Odisha\",\n",
    "  \"PB\":\"Punjab\",\n",
    "  \"AS\":\"Assam\",\n",
    "  \"KL\":\"Kerala\",\n",
    "  \"UT\":\"Uttarakhand\",\n",
    "  \"JH\":\"Jharkhand\",\n",
    "  \"CT\":\"Chhattisgarh\",\n",
    "  \"TR\":\"Tripura\",\n",
    "  \"HP\":\"Himachal Pradesh\",\n",
    "  \"CH\":\"Chandigarh\",\n",
    "  \"GA\":\"Goa\",\n",
    "  \"MN\":\"Manipur\",\n",
    "  \"NL\":\"Nagaland\",\n",
    "  \"PY\":\"Puducherry\",\n",
    "  \"LA\":\"Ladakh\",\n",
    "  \"AR\":\"Arunachal Pradesh\",\n",
    "  \"AN\":\"Andaman and Nicobar Islands\",\n",
    "  \"ML\":\"Meghalaya\",\n",
    "  \"MZ\":\"Mizoram\",\n",
    "  \"DN\":\"Dadra and Nagar Haveli and Daman and Diu\",\n",
    "  \"SK\":\"Sikkim\",\n",
    "}"
   ]
  },
  {
   "cell_type": "code",
   "execution_count": 6,
   "metadata": {
    "colab": {
     "base_uri": "https://localhost:8080/",
     "height": 35
    },
    "colab_type": "code",
    "id": "AmRFhGM1pFYS",
    "outputId": "e152e110-0d4d-4c3f-a5f8-32bc510896b3"
   },
   "outputs": [
    {
     "data": {
      "text/plain": [
       "['2020-07-12']"
      ]
     },
     "execution_count": 6,
     "metadata": {},
     "output_type": "execute_result"
    }
   ],
   "source": [
    "from datetime import timedelta\n",
    "start=datetime.now()\n",
    "x1=datetime.now(pytz.timezone('Asia/Kolkata')).date()\n",
    "#x1 = datetime.today()\n",
    "y1 = datetime.now() - timedelta(days=1)\n",
    "x1=str(x1)[:10]\n",
    "y1=str(y1)[:10]\n",
    "t=[y1]\n",
    "t"
   ]
  },
  {
   "cell_type": "code",
   "execution_count": 7,
   "metadata": {
    "colab": {
     "base_uri": "https://localhost:8080/",
     "height": 1000
    },
    "colab_type": "code",
    "id": "4c-wazlDrieU",
    "outputId": "82dd72fa-b7d5-43f4-dff9-d0f5dd78768e"
   },
   "outputs": [
    {
     "name": "stdout",
     "output_type": "stream",
     "text": [
      "India\n",
      "Maharashtra\n",
      "Tamil Nadu\n",
      "Delhi\n",
      "Gujarat\n",
      "Rajasthan\n",
      "Uttar Pradesh\n",
      "Madhya Pradesh\n",
      "West Bengal\n",
      "Karnataka\n",
      "Bihar\n",
      "Andhra Pradesh\n",
      "Haryana\n",
      "Telangana\n",
      "Jammu and Kashmir\n",
      "Odisha\n",
      "Punjab\n",
      "Assam\n",
      "Kerala\n",
      "Uttarakhand\n",
      "Jharkhand\n",
      "Chhattisgarh\n",
      "Tripura\n",
      "Himachal Pradesh\n",
      "Chandigarh\n",
      "Goa\n",
      "Manipur\n",
      "Nagaland\n",
      "Puducherry\n",
      "Ladakh\n",
      "Arunachal Pradesh\n",
      "Andaman and Nicobar Islands\n",
      "Meghalaya\n",
      "Mizoram\n",
      "Dadra and Nagar Haveli and Daman and Diu\n",
      "Sikkim\n"
     ]
    }
   ],
   "source": [
    "csv_dates=[]\n",
    "csv_states=[]\n",
    "csv_total_cases=[]\n",
    "csv_cum_recovered=[]\n",
    "csv_daily_recovered=[]\n",
    "csv_cum_deceased=[]\n",
    "csv_daily_deceased=[]\n",
    "csv_positivity_rate_cumulative=[]\n",
    "csv_daily_positive_cases=[]\n",
    "csv_daily_positivity_rate=[]\n",
    "csv_daily_positive_cases_ma=[]\n",
    "csv_daily_positivity_rate_ma=[]\n",
    "csv_test_per_million=[]\n",
    "csv_daily_tested=[]\n",
    "csv_cum_tested=[]\n",
    "for x in t:\n",
    "  temp = json.load(open('test.json'))[x]\n",
    "  temp1 = json.load(open('positivity_Rate.json'))\n",
    "  states={}\n",
    "  for j in state_id.keys():\n",
    "    k=state_id[j]\n",
    "    print(k)\n",
    "    test_per_million = temp1[k]['test_per_million']\n",
    "    pos_cum = temp1[k]['cum_positive_cases']\n",
    "    pos_rate_cum = temp1[k]['cum_positivity_rate']\n",
    "    daily_pos = temp1[k]['daily_positive_cases']\n",
    "    daily_pos_ma = temp1[k]['daily_positive_cases_ma']\n",
    "    daily_pos_rate = temp1[k]['daily_positivity_rate']\n",
    "    daily_pos_rate_ma = temp1[k]['daily_positivity_rate_ma']\n",
    "    tested_cum = temp1[k]['cum_tests']\n",
    "    daily_tested = temp1[k]['daily_tests']\n",
    "    deceased_cum = temp1[k]['cum_deceased']\n",
    "    daily_deceased = temp1[k]['daily_deceased']\n",
    "    recovered_cum = temp1[k]['cum_recovered']\n",
    "    daily_recovered = temp1[k]['daily_recovered'] \n",
    "\n",
    "    dates=temp1[k]['dates']\n",
    "    if convert(x) not in dates :\n",
    "      print(1)\n",
    "      dates.append(convert(x))\n",
    "      test_per_million.append('')\n",
    "      pos_cum.append('')\n",
    "      pos_rate_cum.append('')\n",
    "      daily_pos.append('')\n",
    "      daily_pos_ma.append('')\n",
    "      daily_pos_rate.append('')\n",
    "      daily_pos_rate_ma.append('')\n",
    "      tested_cum.append('')\n",
    "      daily_tested.append('')\n",
    "      deceased_cum.append('')\n",
    "      daily_deceased.append('')\n",
    "      recovered_cum.append('')\n",
    "      daily_recovered.append('')\n",
    "    \n",
    "    i=len(dates)-1\n",
    "    \n",
    "\n",
    "    if k in temp1.keys():\n",
    "        if 'total' in temp[j].keys():\n",
    "          if 'confirmed' in temp[j]['total'].keys():\n",
    "            pos_cum[i]=temp[j]['total']['confirmed']\n",
    "\n",
    "          if 'tested' in temp[j]['total'].keys():\n",
    "            tested_cum[i]=abs(temp[j]['total']['tested'])\n",
    "            test_per_million[i]=temp[j]['total']['tested']*1000000/int(population[\"Population\"][k])\n",
    "              \n",
    "          if 'deceased' in temp[j]['total'].keys():\n",
    "            deceased_cum[i]=temp[j]['total']['deceased']\n",
    "          \n",
    "          if 'recovered' in temp[j]['total'].keys():\n",
    "            recovered_cum[i]=temp[j]['total']['recovered']\n",
    "          \n",
    "          if len(str(pos_cum[i])) and len(str(tested_cum[i])):\n",
    "            pos_rate_cum[i]= pos_cum[i]*100/tested_cum[i]\n",
    "\n",
    "        if 'delta' in temp[j].keys():\n",
    "          if 'confirmed' in temp[j]['delta'].keys():\n",
    "            daily_pos[i]=temp[j]['delta']['confirmed']\n",
    "\n",
    "          if 'tested' in temp[j]['delta'].keys():\n",
    "            daily_tested[i]=abs(temp[j]['delta']['tested'])\n",
    "          \n",
    "          if 'deceased' in temp[j]['delta'].keys():\n",
    "            daily_deceased[i]=temp[j]['delta']['deceased']\n",
    "          \n",
    "          if 'recovered' in temp[j]['delta'].keys():\n",
    "            daily_recovered[i]=temp[j]['delta']['recovered']\n",
    "          \n",
    "          if len(str(daily_pos[i])) and len(str(daily_tested[i])):\n",
    "            daily_pos_rate[i]=int(daily_pos[i])*100/int(daily_tested[i])\n",
    "\n",
    "    for w in range(7,len(daily_pos)):\n",
    "      sum1=0\n",
    "      sum2=0\n",
    "      for s in range(7):\n",
    "        if (len(str(daily_pos[w-s]))!=0 and len(str(daily_tested[w-s]))!=0):\n",
    "          sum1+=int(daily_pos[w-s])\n",
    "          sum2+=int(daily_tested[w-s])\n",
    "      if (sum2!=0):\n",
    "        daily_pos_rate_ma[w]=sum1*100/abs(sum2)\n",
    "    \n",
    "    for w in range(7,len(daily_pos)):\n",
    "      sum1=0\n",
    "      count=0\n",
    "      for s in range(7):\n",
    "        if (len(str(daily_pos[w-s]))!=0):\n",
    "          sum1+=int(daily_pos[w-s])\n",
    "          count+=1\n",
    "      if count!=0:\n",
    "        daily_pos_ma[w]=sum1/count\n",
    "\n",
    "    st=state_id[j]\n",
    "    for i in range(len(dates)):\n",
    "      csv_dates.append(dates[i])\n",
    "      csv_states.append(st)\n",
    "      csv_total_cases.append(pos_cum[i])\n",
    "      csv_positivity_rate_cumulative.append(pos_rate_cum[i])\n",
    "      csv_daily_positive_cases.append(daily_pos[i])\n",
    "      csv_cum_recovered.append(recovered_cum[i])\n",
    "      csv_daily_recovered.append(daily_recovered[i])\n",
    "      csv_cum_deceased.append(deceased_cum[i])\n",
    "      csv_daily_deceased.append(daily_deceased[i])\n",
    "      csv_daily_positivity_rate.append(daily_pos_rate[i])\n",
    "      csv_daily_positive_cases_ma.append(daily_pos_ma[i])\n",
    "      csv_daily_positivity_rate_ma.append(daily_pos_rate_ma[i])\n",
    "      csv_daily_tested.append(daily_tested[i])\n",
    "      csv_cum_tested.append(tested_cum[i])\n",
    "      csv_test_per_million.append(test_per_million[i])\n",
    "    #print(st)\n",
    "    states[st]={\n",
    "                    'dates':dates,\n",
    "                    'cum_positive_cases':pos_cum,\n",
    "                    'cum_positivity_rate':pos_rate_cum,\n",
    "                    'daily_positive_cases':daily_pos,\n",
    "                    'cum_recovered':recovered_cum,\n",
    "                    'daily_recovered':daily_recovered,\n",
    "                    'cum_deceased':deceased_cum,\n",
    "                    'daily_deceased':daily_deceased,\n",
    "                    'daily_positivity_rate':daily_pos_rate,\n",
    "                    'daily_positive_cases_ma': daily_pos_ma,\n",
    "                    'daily_positivity_rate_ma':daily_pos_rate_ma , \n",
    "                    'daily_tests': daily_tested,\n",
    "                    'cum_tests': tested_cum,\n",
    "                    'test_per_million':test_per_million,    \n",
    "              }\n",
    "  states['datetime']=str(datetime.now(pytz.timezone('Asia/Kolkata')))\n",
    "  with open('positivity_Rate.json', 'w') as outfile:\n",
    "    json.dump(states, outfile,indent=4)"
   ]
  },
  {
   "cell_type": "code",
   "execution_count": 11,
   "metadata": {
    "colab": {},
    "colab_type": "code",
    "id": "KLyUpPIY7Cr0"
   },
   "outputs": [],
   "source": [
    "df=pd.DataFrame()\n",
    "df['dates']=csv_dates\n",
    "df['state']=csv_states\n",
    "df['daily_positivity_rate']=csv_daily_positivity_rate\n",
    "df['daily_positivity_rate_ma']=csv_daily_positivity_rate_ma\n",
    "df['cum_positivity_rate']=csv_positivity_rate_cumulative\n",
    "df['test_per_million']=csv_test_per_million\n",
    "df['daily_tests']=csv_daily_tested\n",
    "df['cum_tested']=csv_cum_tested\n",
    "df['daily_positive_cases']=csv_daily_positive_cases\n",
    "df['daily_positive_cases_ma']=csv_daily_positive_cases_ma\n",
    "df['cum_positive_cases']=csv_total_cases\n",
    "df['daily_recovered']:csv_daily_recovered\n",
    "df['cum_recovered']=csv_cum_recovered\n",
    "df['daily_deceased']:daily_deceased\n",
    "df['cum_deceased']=csv_cum_deceased\n",
    "df.to_csv('positivity_Rate.csv',index=False)"
   ]
  },
  {
   "cell_type": "markdown",
   "metadata": {
    "colab_type": "text",
    "id": "ye3tsK0SXa9y"
   },
   "source": [
    "## CFR"
   ]
  },
  {
   "cell_type": "code",
   "execution_count": 12,
   "metadata": {
    "colab": {},
    "colab_type": "code",
    "id": "vlmqEdncXzt2"
   },
   "outputs": [],
   "source": [
    "#dates = np.array([pd.to_datetime(i['date']) for i in filter(lambda v: v['status'] == 'Confirmed',json.load(open('states.json',))['states_daily'])])\n",
    "#print(dates)\n",
    "data_recovered = pd.DataFrame()\n",
    "data_deceased = pd.DataFrame()\n",
    "data_confirmed = pd.DataFrame()\n",
    "for s in state_id.keys():\n",
    "    st=state_id[s]\n",
    "    data_confirmed[st] = np.array(states[st]['daily_positive_cases'])\n",
    "    data_deceased[st] = np.array(states[st]['daily_deceased'])\n",
    "    data_recovered[st] = np.array(states[st]['daily_recovered'])"
   ]
  },
  {
   "cell_type": "code",
   "execution_count": 13,
   "metadata": {
    "colab": {},
    "colab_type": "code",
    "id": "xK8aH0zUiL4h"
   },
   "outputs": [],
   "source": [
    "def n2z(x):\n",
    "    x[np.logical_or(np.isnan(x),np.isinf(x))] = 0\n",
    "    return x"
   ]
  },
  {
   "cell_type": "code",
   "execution_count": 14,
   "metadata": {
    "colab": {},
    "colab_type": "code",
    "id": "YylW_gHIjGaX"
   },
   "outputs": [],
   "source": [
    "data_recovered = data_recovered.replace(r'^\\s*$', np.NaN, regex=True).fillna(0)\n",
    "data_recovered = data_recovered.astype(np.int32)\n",
    "data_confirmed = data_confirmed.replace(r'^\\s*$', np.NaN, regex=True).fillna(0)\n",
    "data_confirmed = data_confirmed.astype(np.int32)\n",
    "data_deceased = data_deceased.replace(r'^\\s*$', np.NaN, regex=True).fillna(0)\n",
    "data_deceased = data_deceased.astype(np.int32)\n",
    "data_deceased['date'] = dates\n",
    "data_recovered['date'] = dates\n",
    "data_confirmed['date'] = dates"
   ]
  },
  {
   "cell_type": "code",
   "execution_count": 15,
   "metadata": {
    "colab": {
     "base_uri": "https://localhost:8080/",
     "height": 723
    },
    "colab_type": "code",
    "id": "z-bxCxt9dKPA",
    "outputId": "a3dadd55-8e68-4c10-b801-ce0051be0a6c"
   },
   "outputs": [
    {
     "name": "stderr",
     "output_type": "stream",
     "text": [
      "F:\\Anaconda3\\lib\\site-packages\\ipykernel_launcher.py:25: RuntimeWarning: invalid value encountered in true_divide\n",
      "F:\\Anaconda3\\lib\\site-packages\\ipykernel_launcher.py:26: RuntimeWarning: Mean of empty slice\n",
      "F:\\Anaconda3\\lib\\site-packages\\ipykernel_launcher.py:35: RuntimeWarning: invalid value encountered in true_divide\n",
      "F:\\Anaconda3\\lib\\site-packages\\ipykernel_launcher.py:49: RuntimeWarning: invalid value encountered in true_divide\n",
      "F:\\Anaconda3\\lib\\site-packages\\ipykernel_launcher.py:25: RuntimeWarning: invalid value encountered in true_divide\n",
      "F:\\Anaconda3\\lib\\site-packages\\ipykernel_launcher.py:26: RuntimeWarning: Mean of empty slice\n",
      "F:\\Anaconda3\\lib\\site-packages\\ipykernel_launcher.py:34: RuntimeWarning: invalid value encountered in true_divide\n",
      "F:\\Anaconda3\\lib\\site-packages\\ipykernel_launcher.py:35: RuntimeWarning: invalid value encountered in true_divide\n",
      "F:\\Anaconda3\\lib\\site-packages\\ipykernel_launcher.py:48: RuntimeWarning: invalid value encountered in true_divide\n",
      "F:\\Anaconda3\\lib\\site-packages\\ipykernel_launcher.py:49: RuntimeWarning: invalid value encountered in true_divide\n",
      "F:\\Anaconda3\\lib\\site-packages\\ipykernel_launcher.py:25: RuntimeWarning: divide by zero encountered in true_divide\n",
      "F:\\Anaconda3\\lib\\site-packages\\ipykernel_launcher.py:25: RuntimeWarning: invalid value encountered in true_divide\n",
      "F:\\Anaconda3\\lib\\site-packages\\ipykernel_launcher.py:26: RuntimeWarning: Mean of empty slice\n",
      "F:\\Anaconda3\\lib\\site-packages\\ipykernel_launcher.py:34: RuntimeWarning: invalid value encountered in true_divide\n",
      "F:\\Anaconda3\\lib\\site-packages\\ipykernel_launcher.py:35: RuntimeWarning: invalid value encountered in true_divide\n",
      "F:\\Anaconda3\\lib\\site-packages\\ipykernel_launcher.py:48: RuntimeWarning: invalid value encountered in true_divide\n",
      "F:\\Anaconda3\\lib\\site-packages\\ipykernel_launcher.py:49: RuntimeWarning: invalid value encountered in true_divide\n",
      "F:\\Anaconda3\\lib\\site-packages\\ipykernel_launcher.py:25: RuntimeWarning: invalid value encountered in true_divide\n",
      "F:\\Anaconda3\\lib\\site-packages\\ipykernel_launcher.py:26: RuntimeWarning: Mean of empty slice\n",
      "F:\\Anaconda3\\lib\\site-packages\\ipykernel_launcher.py:34: RuntimeWarning: invalid value encountered in true_divide\n",
      "F:\\Anaconda3\\lib\\site-packages\\ipykernel_launcher.py:35: RuntimeWarning: invalid value encountered in true_divide\n",
      "F:\\Anaconda3\\lib\\site-packages\\ipykernel_launcher.py:48: RuntimeWarning: invalid value encountered in true_divide\n",
      "F:\\Anaconda3\\lib\\site-packages\\ipykernel_launcher.py:49: RuntimeWarning: invalid value encountered in true_divide\n",
      "F:\\Anaconda3\\lib\\site-packages\\ipykernel_launcher.py:25: RuntimeWarning: divide by zero encountered in true_divide\n",
      "F:\\Anaconda3\\lib\\site-packages\\ipykernel_launcher.py:25: RuntimeWarning: invalid value encountered in true_divide\n",
      "F:\\Anaconda3\\lib\\site-packages\\ipykernel_launcher.py:26: RuntimeWarning: Mean of empty slice\n",
      "F:\\Anaconda3\\lib\\site-packages\\ipykernel_launcher.py:34: RuntimeWarning: invalid value encountered in true_divide\n",
      "F:\\Anaconda3\\lib\\site-packages\\ipykernel_launcher.py:35: RuntimeWarning: invalid value encountered in true_divide\n",
      "F:\\Anaconda3\\lib\\site-packages\\ipykernel_launcher.py:48: RuntimeWarning: invalid value encountered in true_divide\n",
      "F:\\Anaconda3\\lib\\site-packages\\ipykernel_launcher.py:49: RuntimeWarning: invalid value encountered in true_divide\n",
      "F:\\Anaconda3\\lib\\site-packages\\ipykernel_launcher.py:25: RuntimeWarning: invalid value encountered in true_divide\n",
      "F:\\Anaconda3\\lib\\site-packages\\ipykernel_launcher.py:26: RuntimeWarning: Mean of empty slice\n",
      "F:\\Anaconda3\\lib\\site-packages\\ipykernel_launcher.py:34: RuntimeWarning: invalid value encountered in true_divide\n",
      "F:\\Anaconda3\\lib\\site-packages\\ipykernel_launcher.py:35: RuntimeWarning: invalid value encountered in true_divide\n",
      "F:\\Anaconda3\\lib\\site-packages\\ipykernel_launcher.py:48: RuntimeWarning: invalid value encountered in true_divide\n",
      "F:\\Anaconda3\\lib\\site-packages\\ipykernel_launcher.py:49: RuntimeWarning: invalid value encountered in true_divide\n",
      "F:\\Anaconda3\\lib\\site-packages\\ipykernel_launcher.py:25: RuntimeWarning: invalid value encountered in true_divide\n",
      "F:\\Anaconda3\\lib\\site-packages\\ipykernel_launcher.py:26: RuntimeWarning: Mean of empty slice\n",
      "F:\\Anaconda3\\lib\\site-packages\\ipykernel_launcher.py:34: RuntimeWarning: invalid value encountered in true_divide\n",
      "F:\\Anaconda3\\lib\\site-packages\\ipykernel_launcher.py:35: RuntimeWarning: invalid value encountered in true_divide\n",
      "F:\\Anaconda3\\lib\\site-packages\\ipykernel_launcher.py:48: RuntimeWarning: invalid value encountered in true_divide\n",
      "F:\\Anaconda3\\lib\\site-packages\\ipykernel_launcher.py:49: RuntimeWarning: invalid value encountered in true_divide\n",
      "F:\\Anaconda3\\lib\\site-packages\\ipykernel_launcher.py:25: RuntimeWarning: divide by zero encountered in true_divide\n",
      "F:\\Anaconda3\\lib\\site-packages\\ipykernel_launcher.py:25: RuntimeWarning: invalid value encountered in true_divide\n",
      "F:\\Anaconda3\\lib\\site-packages\\ipykernel_launcher.py:26: RuntimeWarning: Mean of empty slice\n",
      "F:\\Anaconda3\\lib\\site-packages\\ipykernel_launcher.py:34: RuntimeWarning: invalid value encountered in true_divide\n",
      "F:\\Anaconda3\\lib\\site-packages\\ipykernel_launcher.py:35: RuntimeWarning: invalid value encountered in true_divide\n",
      "F:\\Anaconda3\\lib\\site-packages\\ipykernel_launcher.py:48: RuntimeWarning: invalid value encountered in true_divide\n",
      "F:\\Anaconda3\\lib\\site-packages\\ipykernel_launcher.py:49: RuntimeWarning: invalid value encountered in true_divide\n",
      "F:\\Anaconda3\\lib\\site-packages\\ipykernel_launcher.py:25: RuntimeWarning: divide by zero encountered in true_divide\n",
      "F:\\Anaconda3\\lib\\site-packages\\ipykernel_launcher.py:25: RuntimeWarning: invalid value encountered in true_divide\n",
      "F:\\Anaconda3\\lib\\site-packages\\ipykernel_launcher.py:26: RuntimeWarning: Mean of empty slice\n",
      "F:\\Anaconda3\\lib\\site-packages\\ipykernel_launcher.py:34: RuntimeWarning: invalid value encountered in true_divide\n",
      "F:\\Anaconda3\\lib\\site-packages\\ipykernel_launcher.py:35: RuntimeWarning: invalid value encountered in true_divide\n",
      "F:\\Anaconda3\\lib\\site-packages\\ipykernel_launcher.py:48: RuntimeWarning: invalid value encountered in true_divide\n",
      "F:\\Anaconda3\\lib\\site-packages\\ipykernel_launcher.py:49: RuntimeWarning: invalid value encountered in true_divide\n",
      "F:\\Anaconda3\\lib\\site-packages\\ipykernel_launcher.py:25: RuntimeWarning: divide by zero encountered in true_divide\n",
      "F:\\Anaconda3\\lib\\site-packages\\ipykernel_launcher.py:25: RuntimeWarning: invalid value encountered in true_divide\n",
      "F:\\Anaconda3\\lib\\site-packages\\ipykernel_launcher.py:26: RuntimeWarning: Mean of empty slice\n",
      "F:\\Anaconda3\\lib\\site-packages\\ipykernel_launcher.py:34: RuntimeWarning: invalid value encountered in true_divide\n",
      "F:\\Anaconda3\\lib\\site-packages\\ipykernel_launcher.py:35: RuntimeWarning: invalid value encountered in true_divide\n",
      "F:\\Anaconda3\\lib\\site-packages\\ipykernel_launcher.py:48: RuntimeWarning: invalid value encountered in true_divide\n",
      "F:\\Anaconda3\\lib\\site-packages\\ipykernel_launcher.py:49: RuntimeWarning: invalid value encountered in true_divide\n",
      "F:\\Anaconda3\\lib\\site-packages\\ipykernel_launcher.py:25: RuntimeWarning: divide by zero encountered in true_divide\n",
      "F:\\Anaconda3\\lib\\site-packages\\ipykernel_launcher.py:25: RuntimeWarning: invalid value encountered in true_divide\n",
      "F:\\Anaconda3\\lib\\site-packages\\ipykernel_launcher.py:26: RuntimeWarning: Mean of empty slice\n",
      "F:\\Anaconda3\\lib\\site-packages\\ipykernel_launcher.py:34: RuntimeWarning: invalid value encountered in true_divide\n",
      "F:\\Anaconda3\\lib\\site-packages\\ipykernel_launcher.py:35: RuntimeWarning: invalid value encountered in true_divide\n",
      "F:\\Anaconda3\\lib\\site-packages\\ipykernel_launcher.py:48: RuntimeWarning: invalid value encountered in true_divide\n",
      "F:\\Anaconda3\\lib\\site-packages\\ipykernel_launcher.py:49: RuntimeWarning: invalid value encountered in true_divide\n",
      "F:\\Anaconda3\\lib\\site-packages\\ipykernel_launcher.py:25: RuntimeWarning: invalid value encountered in true_divide\n",
      "F:\\Anaconda3\\lib\\site-packages\\ipykernel_launcher.py:26: RuntimeWarning: Mean of empty slice\n",
      "F:\\Anaconda3\\lib\\site-packages\\ipykernel_launcher.py:34: RuntimeWarning: invalid value encountered in true_divide\n",
      "F:\\Anaconda3\\lib\\site-packages\\ipykernel_launcher.py:35: RuntimeWarning: invalid value encountered in true_divide\n",
      "F:\\Anaconda3\\lib\\site-packages\\ipykernel_launcher.py:48: RuntimeWarning: invalid value encountered in true_divide\n",
      "F:\\Anaconda3\\lib\\site-packages\\ipykernel_launcher.py:49: RuntimeWarning: invalid value encountered in true_divide\n"
     ]
    },
    {
     "name": "stderr",
     "output_type": "stream",
     "text": [
      "F:\\Anaconda3\\lib\\site-packages\\ipykernel_launcher.py:25: RuntimeWarning: invalid value encountered in true_divide\n",
      "F:\\Anaconda3\\lib\\site-packages\\ipykernel_launcher.py:26: RuntimeWarning: Mean of empty slice\n",
      "F:\\Anaconda3\\lib\\site-packages\\ipykernel_launcher.py:34: RuntimeWarning: invalid value encountered in true_divide\n",
      "F:\\Anaconda3\\lib\\site-packages\\ipykernel_launcher.py:35: RuntimeWarning: invalid value encountered in true_divide\n",
      "F:\\Anaconda3\\lib\\site-packages\\ipykernel_launcher.py:48: RuntimeWarning: invalid value encountered in true_divide\n",
      "F:\\Anaconda3\\lib\\site-packages\\ipykernel_launcher.py:49: RuntimeWarning: invalid value encountered in true_divide\n",
      "F:\\Anaconda3\\lib\\site-packages\\ipykernel_launcher.py:25: RuntimeWarning: invalid value encountered in true_divide\n",
      "F:\\Anaconda3\\lib\\site-packages\\ipykernel_launcher.py:26: RuntimeWarning: Mean of empty slice\n",
      "F:\\Anaconda3\\lib\\site-packages\\ipykernel_launcher.py:34: RuntimeWarning: invalid value encountered in true_divide\n",
      "F:\\Anaconda3\\lib\\site-packages\\ipykernel_launcher.py:35: RuntimeWarning: invalid value encountered in true_divide\n",
      "F:\\Anaconda3\\lib\\site-packages\\ipykernel_launcher.py:48: RuntimeWarning: invalid value encountered in true_divide\n",
      "F:\\Anaconda3\\lib\\site-packages\\ipykernel_launcher.py:49: RuntimeWarning: invalid value encountered in true_divide\n",
      "F:\\Anaconda3\\lib\\site-packages\\ipykernel_launcher.py:25: RuntimeWarning: divide by zero encountered in true_divide\n",
      "F:\\Anaconda3\\lib\\site-packages\\ipykernel_launcher.py:25: RuntimeWarning: invalid value encountered in true_divide\n",
      "F:\\Anaconda3\\lib\\site-packages\\ipykernel_launcher.py:26: RuntimeWarning: Mean of empty slice\n",
      "F:\\Anaconda3\\lib\\site-packages\\ipykernel_launcher.py:34: RuntimeWarning: invalid value encountered in true_divide\n",
      "F:\\Anaconda3\\lib\\site-packages\\ipykernel_launcher.py:35: RuntimeWarning: invalid value encountered in true_divide\n",
      "F:\\Anaconda3\\lib\\site-packages\\ipykernel_launcher.py:48: RuntimeWarning: invalid value encountered in true_divide\n",
      "F:\\Anaconda3\\lib\\site-packages\\ipykernel_launcher.py:49: RuntimeWarning: invalid value encountered in true_divide\n",
      "F:\\Anaconda3\\lib\\site-packages\\ipykernel_launcher.py:25: RuntimeWarning: invalid value encountered in true_divide\n",
      "F:\\Anaconda3\\lib\\site-packages\\ipykernel_launcher.py:26: RuntimeWarning: Mean of empty slice\n",
      "F:\\Anaconda3\\lib\\site-packages\\ipykernel_launcher.py:34: RuntimeWarning: invalid value encountered in true_divide\n",
      "F:\\Anaconda3\\lib\\site-packages\\ipykernel_launcher.py:35: RuntimeWarning: invalid value encountered in true_divide\n",
      "F:\\Anaconda3\\lib\\site-packages\\ipykernel_launcher.py:48: RuntimeWarning: invalid value encountered in true_divide\n",
      "F:\\Anaconda3\\lib\\site-packages\\ipykernel_launcher.py:49: RuntimeWarning: invalid value encountered in true_divide\n",
      "F:\\Anaconda3\\lib\\site-packages\\ipykernel_launcher.py:25: RuntimeWarning: divide by zero encountered in true_divide\n",
      "F:\\Anaconda3\\lib\\site-packages\\ipykernel_launcher.py:25: RuntimeWarning: invalid value encountered in true_divide\n",
      "F:\\Anaconda3\\lib\\site-packages\\ipykernel_launcher.py:26: RuntimeWarning: Mean of empty slice\n",
      "F:\\Anaconda3\\lib\\site-packages\\ipykernel_launcher.py:34: RuntimeWarning: invalid value encountered in true_divide\n",
      "F:\\Anaconda3\\lib\\site-packages\\ipykernel_launcher.py:35: RuntimeWarning: invalid value encountered in true_divide\n",
      "F:\\Anaconda3\\lib\\site-packages\\ipykernel_launcher.py:48: RuntimeWarning: invalid value encountered in true_divide\n",
      "F:\\Anaconda3\\lib\\site-packages\\ipykernel_launcher.py:49: RuntimeWarning: invalid value encountered in true_divide\n",
      "F:\\Anaconda3\\lib\\site-packages\\ipykernel_launcher.py:25: RuntimeWarning: divide by zero encountered in true_divide\n",
      "F:\\Anaconda3\\lib\\site-packages\\ipykernel_launcher.py:25: RuntimeWarning: invalid value encountered in true_divide\n",
      "F:\\Anaconda3\\lib\\site-packages\\ipykernel_launcher.py:26: RuntimeWarning: Mean of empty slice\n",
      "F:\\Anaconda3\\lib\\site-packages\\ipykernel_launcher.py:34: RuntimeWarning: invalid value encountered in true_divide\n",
      "F:\\Anaconda3\\lib\\site-packages\\ipykernel_launcher.py:35: RuntimeWarning: invalid value encountered in true_divide\n",
      "F:\\Anaconda3\\lib\\site-packages\\ipykernel_launcher.py:48: RuntimeWarning: invalid value encountered in true_divide\n",
      "F:\\Anaconda3\\lib\\site-packages\\ipykernel_launcher.py:49: RuntimeWarning: invalid value encountered in true_divide\n",
      "F:\\Anaconda3\\lib\\site-packages\\ipykernel_launcher.py:25: RuntimeWarning: invalid value encountered in true_divide\n",
      "F:\\Anaconda3\\lib\\site-packages\\ipykernel_launcher.py:26: RuntimeWarning: Mean of empty slice\n",
      "F:\\Anaconda3\\lib\\site-packages\\ipykernel_launcher.py:35: RuntimeWarning: invalid value encountered in true_divide\n",
      "F:\\Anaconda3\\lib\\site-packages\\ipykernel_launcher.py:49: RuntimeWarning: invalid value encountered in true_divide\n",
      "F:\\Anaconda3\\lib\\site-packages\\ipykernel_launcher.py:25: RuntimeWarning: invalid value encountered in true_divide\n",
      "F:\\Anaconda3\\lib\\site-packages\\ipykernel_launcher.py:26: RuntimeWarning: Mean of empty slice\n",
      "F:\\Anaconda3\\lib\\site-packages\\ipykernel_launcher.py:34: RuntimeWarning: invalid value encountered in true_divide\n",
      "F:\\Anaconda3\\lib\\site-packages\\ipykernel_launcher.py:35: RuntimeWarning: invalid value encountered in true_divide\n",
      "F:\\Anaconda3\\lib\\site-packages\\ipykernel_launcher.py:48: RuntimeWarning: invalid value encountered in true_divide\n",
      "F:\\Anaconda3\\lib\\site-packages\\ipykernel_launcher.py:49: RuntimeWarning: invalid value encountered in true_divide\n",
      "F:\\Anaconda3\\lib\\site-packages\\ipykernel_launcher.py:25: RuntimeWarning: divide by zero encountered in true_divide\n",
      "F:\\Anaconda3\\lib\\site-packages\\ipykernel_launcher.py:25: RuntimeWarning: invalid value encountered in true_divide\n",
      "F:\\Anaconda3\\lib\\site-packages\\ipykernel_launcher.py:26: RuntimeWarning: Mean of empty slice\n",
      "F:\\Anaconda3\\lib\\site-packages\\ipykernel_launcher.py:34: RuntimeWarning: invalid value encountered in true_divide\n",
      "F:\\Anaconda3\\lib\\site-packages\\ipykernel_launcher.py:35: RuntimeWarning: invalid value encountered in true_divide\n",
      "F:\\Anaconda3\\lib\\site-packages\\ipykernel_launcher.py:48: RuntimeWarning: invalid value encountered in true_divide\n",
      "F:\\Anaconda3\\lib\\site-packages\\ipykernel_launcher.py:49: RuntimeWarning: invalid value encountered in true_divide\n",
      "F:\\Anaconda3\\lib\\site-packages\\ipykernel_launcher.py:25: RuntimeWarning: invalid value encountered in true_divide\n",
      "F:\\Anaconda3\\lib\\site-packages\\ipykernel_launcher.py:26: RuntimeWarning: Mean of empty slice\n",
      "F:\\Anaconda3\\lib\\site-packages\\ipykernel_launcher.py:34: RuntimeWarning: invalid value encountered in true_divide\n",
      "F:\\Anaconda3\\lib\\site-packages\\ipykernel_launcher.py:35: RuntimeWarning: invalid value encountered in true_divide\n",
      "F:\\Anaconda3\\lib\\site-packages\\ipykernel_launcher.py:48: RuntimeWarning: invalid value encountered in true_divide\n",
      "F:\\Anaconda3\\lib\\site-packages\\ipykernel_launcher.py:49: RuntimeWarning: invalid value encountered in true_divide\n",
      "F:\\Anaconda3\\lib\\site-packages\\ipykernel_launcher.py:25: RuntimeWarning: invalid value encountered in true_divide\n",
      "F:\\Anaconda3\\lib\\site-packages\\ipykernel_launcher.py:26: RuntimeWarning: Mean of empty slice\n",
      "F:\\Anaconda3\\lib\\site-packages\\ipykernel_launcher.py:34: RuntimeWarning: invalid value encountered in true_divide\n",
      "F:\\Anaconda3\\lib\\site-packages\\ipykernel_launcher.py:35: RuntimeWarning: invalid value encountered in true_divide\n",
      "F:\\Anaconda3\\lib\\site-packages\\ipykernel_launcher.py:48: RuntimeWarning: invalid value encountered in true_divide\n",
      "F:\\Anaconda3\\lib\\site-packages\\ipykernel_launcher.py:49: RuntimeWarning: invalid value encountered in true_divide\n",
      "F:\\Anaconda3\\lib\\site-packages\\ipykernel_launcher.py:25: RuntimeWarning: divide by zero encountered in true_divide\n",
      "F:\\Anaconda3\\lib\\site-packages\\ipykernel_launcher.py:25: RuntimeWarning: invalid value encountered in true_divide\n",
      "F:\\Anaconda3\\lib\\site-packages\\ipykernel_launcher.py:26: RuntimeWarning: Mean of empty slice\n",
      "F:\\Anaconda3\\lib\\site-packages\\ipykernel_launcher.py:34: RuntimeWarning: invalid value encountered in true_divide\n",
      "F:\\Anaconda3\\lib\\site-packages\\ipykernel_launcher.py:35: RuntimeWarning: invalid value encountered in true_divide\n",
      "F:\\Anaconda3\\lib\\site-packages\\ipykernel_launcher.py:48: RuntimeWarning: invalid value encountered in true_divide\n",
      "F:\\Anaconda3\\lib\\site-packages\\ipykernel_launcher.py:49: RuntimeWarning: invalid value encountered in true_divide\n"
     ]
    },
    {
     "name": "stderr",
     "output_type": "stream",
     "text": [
      "F:\\Anaconda3\\lib\\site-packages\\ipykernel_launcher.py:25: RuntimeWarning: invalid value encountered in true_divide\n",
      "F:\\Anaconda3\\lib\\site-packages\\ipykernel_launcher.py:26: RuntimeWarning: Mean of empty slice\n",
      "F:\\Anaconda3\\lib\\site-packages\\ipykernel_launcher.py:34: RuntimeWarning: invalid value encountered in true_divide\n",
      "F:\\Anaconda3\\lib\\site-packages\\ipykernel_launcher.py:35: RuntimeWarning: invalid value encountered in true_divide\n",
      "F:\\Anaconda3\\lib\\site-packages\\ipykernel_launcher.py:48: RuntimeWarning: invalid value encountered in true_divide\n",
      "F:\\Anaconda3\\lib\\site-packages\\ipykernel_launcher.py:49: RuntimeWarning: invalid value encountered in true_divide\n",
      "F:\\Anaconda3\\lib\\site-packages\\ipykernel_launcher.py:25: RuntimeWarning: invalid value encountered in true_divide\n",
      "F:\\Anaconda3\\lib\\site-packages\\ipykernel_launcher.py:26: RuntimeWarning: Mean of empty slice\n",
      "F:\\Anaconda3\\lib\\site-packages\\ipykernel_launcher.py:34: RuntimeWarning: invalid value encountered in true_divide\n",
      "F:\\Anaconda3\\lib\\site-packages\\ipykernel_launcher.py:35: RuntimeWarning: invalid value encountered in true_divide\n",
      "F:\\Anaconda3\\lib\\site-packages\\ipykernel_launcher.py:48: RuntimeWarning: invalid value encountered in true_divide\n",
      "F:\\Anaconda3\\lib\\site-packages\\ipykernel_launcher.py:49: RuntimeWarning: invalid value encountered in true_divide\n",
      "F:\\Anaconda3\\lib\\site-packages\\ipykernel_launcher.py:25: RuntimeWarning: invalid value encountered in true_divide\n",
      "F:\\Anaconda3\\lib\\site-packages\\ipykernel_launcher.py:26: RuntimeWarning: Mean of empty slice\n",
      "F:\\Anaconda3\\lib\\site-packages\\ipykernel_launcher.py:34: RuntimeWarning: invalid value encountered in true_divide\n",
      "F:\\Anaconda3\\lib\\site-packages\\ipykernel_launcher.py:35: RuntimeWarning: invalid value encountered in true_divide\n",
      "F:\\Anaconda3\\lib\\site-packages\\ipykernel_launcher.py:48: RuntimeWarning: invalid value encountered in true_divide\n",
      "F:\\Anaconda3\\lib\\site-packages\\ipykernel_launcher.py:49: RuntimeWarning: invalid value encountered in true_divide\n",
      "F:\\Anaconda3\\lib\\site-packages\\ipykernel_launcher.py:25: RuntimeWarning: invalid value encountered in true_divide\n",
      "F:\\Anaconda3\\lib\\site-packages\\ipykernel_launcher.py:26: RuntimeWarning: Mean of empty slice\n",
      "F:\\Anaconda3\\lib\\site-packages\\ipykernel_launcher.py:34: RuntimeWarning: invalid value encountered in true_divide\n",
      "F:\\Anaconda3\\lib\\site-packages\\ipykernel_launcher.py:35: RuntimeWarning: invalid value encountered in true_divide\n",
      "F:\\Anaconda3\\lib\\site-packages\\ipykernel_launcher.py:48: RuntimeWarning: invalid value encountered in true_divide\n",
      "F:\\Anaconda3\\lib\\site-packages\\ipykernel_launcher.py:49: RuntimeWarning: invalid value encountered in true_divide\n",
      "F:\\Anaconda3\\lib\\site-packages\\ipykernel_launcher.py:25: RuntimeWarning: invalid value encountered in true_divide\n",
      "F:\\Anaconda3\\lib\\site-packages\\ipykernel_launcher.py:26: RuntimeWarning: Mean of empty slice\n",
      "F:\\Anaconda3\\lib\\site-packages\\ipykernel_launcher.py:34: RuntimeWarning: invalid value encountered in true_divide\n",
      "F:\\Anaconda3\\lib\\site-packages\\ipykernel_launcher.py:35: RuntimeWarning: invalid value encountered in true_divide\n",
      "F:\\Anaconda3\\lib\\site-packages\\ipykernel_launcher.py:48: RuntimeWarning: invalid value encountered in true_divide\n",
      "F:\\Anaconda3\\lib\\site-packages\\ipykernel_launcher.py:49: RuntimeWarning: invalid value encountered in true_divide\n",
      "F:\\Anaconda3\\lib\\site-packages\\ipykernel_launcher.py:25: RuntimeWarning: invalid value encountered in true_divide\n",
      "F:\\Anaconda3\\lib\\site-packages\\ipykernel_launcher.py:26: RuntimeWarning: Mean of empty slice\n",
      "F:\\Anaconda3\\lib\\site-packages\\ipykernel_launcher.py:34: RuntimeWarning: invalid value encountered in true_divide\n",
      "F:\\Anaconda3\\lib\\site-packages\\ipykernel_launcher.py:35: RuntimeWarning: invalid value encountered in true_divide\n",
      "F:\\Anaconda3\\lib\\site-packages\\ipykernel_launcher.py:48: RuntimeWarning: invalid value encountered in true_divide\n",
      "F:\\Anaconda3\\lib\\site-packages\\ipykernel_launcher.py:49: RuntimeWarning: invalid value encountered in true_divide\n",
      "F:\\Anaconda3\\lib\\site-packages\\ipykernel_launcher.py:25: RuntimeWarning: invalid value encountered in true_divide\n",
      "F:\\Anaconda3\\lib\\site-packages\\ipykernel_launcher.py:26: RuntimeWarning: Mean of empty slice\n",
      "F:\\Anaconda3\\lib\\site-packages\\ipykernel_launcher.py:34: RuntimeWarning: invalid value encountered in true_divide\n",
      "F:\\Anaconda3\\lib\\site-packages\\ipykernel_launcher.py:35: RuntimeWarning: invalid value encountered in true_divide\n",
      "F:\\Anaconda3\\lib\\site-packages\\ipykernel_launcher.py:48: RuntimeWarning: invalid value encountered in true_divide\n",
      "F:\\Anaconda3\\lib\\site-packages\\ipykernel_launcher.py:49: RuntimeWarning: invalid value encountered in true_divide\n",
      "F:\\Anaconda3\\lib\\site-packages\\ipykernel_launcher.py:25: RuntimeWarning: invalid value encountered in true_divide\n",
      "F:\\Anaconda3\\lib\\site-packages\\ipykernel_launcher.py:26: RuntimeWarning: Mean of empty slice\n",
      "F:\\Anaconda3\\lib\\site-packages\\ipykernel_launcher.py:34: RuntimeWarning: invalid value encountered in true_divide\n",
      "F:\\Anaconda3\\lib\\site-packages\\ipykernel_launcher.py:35: RuntimeWarning: invalid value encountered in true_divide\n",
      "F:\\Anaconda3\\lib\\site-packages\\ipykernel_launcher.py:48: RuntimeWarning: invalid value encountered in true_divide\n",
      "F:\\Anaconda3\\lib\\site-packages\\ipykernel_launcher.py:49: RuntimeWarning: invalid value encountered in true_divide\n",
      "F:\\Anaconda3\\lib\\site-packages\\ipykernel_launcher.py:25: RuntimeWarning: divide by zero encountered in true_divide\n",
      "F:\\Anaconda3\\lib\\site-packages\\ipykernel_launcher.py:25: RuntimeWarning: invalid value encountered in true_divide\n",
      "F:\\Anaconda3\\lib\\site-packages\\ipykernel_launcher.py:26: RuntimeWarning: Mean of empty slice\n",
      "F:\\Anaconda3\\lib\\site-packages\\ipykernel_launcher.py:34: RuntimeWarning: invalid value encountered in true_divide\n",
      "F:\\Anaconda3\\lib\\site-packages\\ipykernel_launcher.py:35: RuntimeWarning: invalid value encountered in true_divide\n",
      "F:\\Anaconda3\\lib\\site-packages\\ipykernel_launcher.py:48: RuntimeWarning: invalid value encountered in true_divide\n",
      "F:\\Anaconda3\\lib\\site-packages\\ipykernel_launcher.py:49: RuntimeWarning: invalid value encountered in true_divide\n",
      "F:\\Anaconda3\\lib\\site-packages\\ipykernel_launcher.py:25: RuntimeWarning: invalid value encountered in true_divide\n",
      "F:\\Anaconda3\\lib\\site-packages\\ipykernel_launcher.py:26: RuntimeWarning: Mean of empty slice\n",
      "F:\\Anaconda3\\lib\\site-packages\\ipykernel_launcher.py:34: RuntimeWarning: invalid value encountered in true_divide\n",
      "F:\\Anaconda3\\lib\\site-packages\\ipykernel_launcher.py:35: RuntimeWarning: invalid value encountered in true_divide\n",
      "F:\\Anaconda3\\lib\\site-packages\\ipykernel_launcher.py:48: RuntimeWarning: invalid value encountered in true_divide\n",
      "F:\\Anaconda3\\lib\\site-packages\\ipykernel_launcher.py:49: RuntimeWarning: invalid value encountered in true_divide\n",
      "F:\\Anaconda3\\lib\\site-packages\\ipykernel_launcher.py:25: RuntimeWarning: invalid value encountered in true_divide\n",
      "F:\\Anaconda3\\lib\\site-packages\\ipykernel_launcher.py:26: RuntimeWarning: Mean of empty slice\n",
      "F:\\Anaconda3\\lib\\site-packages\\ipykernel_launcher.py:34: RuntimeWarning: invalid value encountered in true_divide\n",
      "F:\\Anaconda3\\lib\\site-packages\\ipykernel_launcher.py:35: RuntimeWarning: invalid value encountered in true_divide\n",
      "F:\\Anaconda3\\lib\\site-packages\\ipykernel_launcher.py:48: RuntimeWarning: invalid value encountered in true_divide\n",
      "F:\\Anaconda3\\lib\\site-packages\\ipykernel_launcher.py:49: RuntimeWarning: invalid value encountered in true_divide\n",
      "F:\\Anaconda3\\lib\\site-packages\\ipykernel_launcher.py:25: RuntimeWarning: invalid value encountered in true_divide\n",
      "F:\\Anaconda3\\lib\\site-packages\\ipykernel_launcher.py:26: RuntimeWarning: Mean of empty slice\n",
      "F:\\Anaconda3\\lib\\site-packages\\ipykernel_launcher.py:34: RuntimeWarning: invalid value encountered in true_divide\n",
      "F:\\Anaconda3\\lib\\site-packages\\ipykernel_launcher.py:35: RuntimeWarning: invalid value encountered in true_divide\n",
      "F:\\Anaconda3\\lib\\site-packages\\ipykernel_launcher.py:48: RuntimeWarning: invalid value encountered in true_divide\n",
      "F:\\Anaconda3\\lib\\site-packages\\ipykernel_launcher.py:49: RuntimeWarning: invalid value encountered in true_divide\n"
     ]
    },
    {
     "data": {
      "text/plain": [
       "<matplotlib.legend.Legend at 0xc536349a08>"
      ]
     },
     "execution_count": 15,
     "metadata": {},
     "output_type": "execute_result"
    },
    {
     "data": {
      "image/png": "[encoded data removed]",
      "text/plain": [
       "<Figure size 1080x504 with 1 Axes>"
      ]
     },
     "metadata": {
      "needs_background": "light"
     },
     "output_type": "display_data"
    }
   ],
   "source": [
    "json_data={}\n",
    "cfr = pd.DataFrame()\n",
    "final=pd.DataFrame\n",
    "plt.figure(1, figsize=(15, 7))\n",
    "for st in state_id.keys():\n",
    "    state=state_id[st]\n",
    "    boots = 100\n",
    "    conf = []\n",
    "    for n in range(boots):\n",
    "        #print(\"Iteration: \",n+1,end='\\r')\n",
    "        dataset = np.copy(data_confirmed[state].values)\n",
    "        mean = 13.0+(20.9-8.7)/4*np.random.normal()\n",
    "        sd = 12.7+(26.0-6.4)/4*np.random.normal()\n",
    "        phi = np.sqrt(sd**2 + mean**2)\n",
    "        mu = np.log(mean**2/phi)\n",
    "        sigma = np.sqrt(np.log(phi**2/mean**2))\n",
    "        L = lognorm(s=sigma,scale=np.exp(mu))\n",
    "        for i in range(len(dataset)-1,-1,-1):\n",
    "            send_forward = np.round(L.rvs(np.max([dataset[i],0])))\n",
    "            send_forward = send_forward[i+send_forward<len(dataset)]\n",
    "            dataset[i] = 0\n",
    "            for j in np.unique(np.int32(send_forward)):\n",
    "                dataset[i+j] += np.sum(send_forward==j)\n",
    "        conf.append(dataset)\n",
    "    CFR = np.cumsum(data_deceased[state].values)/np.cumsum(conf,axis=1)\n",
    "    col_mean = np.nanmean(CFR, axis=0)\n",
    "    inds = np.where(np.isnan(CFR))\n",
    "    CFR[inds] = np.take(col_mean, inds[1])\n",
    "    #temp1=list(pd.Series(dates).dt.strftime('%m-%d-%Y'))\n",
    "    #print(temp1[0])\n",
    "    dates = states[state]['dates']\n",
    "    temp = {\n",
    "        'dates':dates,\n",
    "        'cfr1_point':list(n2z(100*np.cumsum(data_deceased[state].values)/np.cumsum(data_confirmed[state].values))),\n",
    "        'cfr2_point':list(n2z(100*np.cumsum(data_deceased[state].values)/(np.cumsum(data_deceased[state].values)+np.cumsum(data_recovered[state].values)))),\n",
    "        'cfr3_point':list(n2z(100*np.median(CFR,axis=0))),\n",
    "        'cfr3_l95':list(n2z(100*np.quantile(CFR,0.025,axis=0))),\n",
    "        'cfr3_u95':list(n2z(100*np.quantile(CFR,0.975,axis=0))),\n",
    "        'cfr3_l50':list(n2z(100*np.quantile(CFR,0.25,axis=0))),\n",
    "        'cfr3_u50':list(n2z(100*np.quantile(CFR,0.75,axis=0))),\n",
    "        }\n",
    "    a=state_id[st]\n",
    "    #print(a)\n",
    "    json_data[state] = temp\n",
    "    cfr_state=pd.DataFrame()\n",
    "    cfr_state['state']=[str(a)]*len(dates)\n",
    "    cfr_state['dates']=dates\n",
    "    cfr_state['cfr1_point']=(list(100*n2z(np.cumsum(data_deceased[state].values)/np.cumsum(data_confirmed[state].values))))\n",
    "    cfr_state['cfr2_point']=(list(100*n2z(np.cumsum(data_deceased[state].values)/(np.cumsum(data_deceased[state].values)+np.cumsum(data_recovered[state].values)))))\n",
    "    cfr_state['cfr3_point']=(list(100*n2z(np.median(CFR,axis=0))))\n",
    "    cfr_state['cfr3_l95']=(list(100*n2z(np.quantile(CFR,0.025,axis=0))))\n",
    "    cfr_state['cfr3_u95']=(list(100*n2z(np.quantile(CFR,0.975,axis=0))))\n",
    "    cfr_state['cfr3_l50']=(list(100*n2z(np.quantile(CFR,0.25,axis=0))))\n",
    "    cfr_state['cfr3_u50']=(list(100*n2z(np.quantile(CFR,0.75,axis=0))))\n",
    "    cfr=pd.concat([cfr, cfr_state])\n",
    "      \n",
    "    plt.plot(temp['cfr3_point'],label=state)\n",
    "plt.legend()"
   ]
  },
  {
   "cell_type": "code",
   "execution_count": 16,
   "metadata": {
    "colab": {},
    "colab_type": "code",
    "id": "lmm0jRg2ihwc"
   },
   "outputs": [],
   "source": [
    "cfr.to_csv('cfr.csv',index=False)\n",
    "from datetime import datetime\n",
    "json_data['datetime']=str(datetime.now())"
   ]
  },
  {
   "cell_type": "code",
   "execution_count": 17,
   "metadata": {
    "colab": {},
    "colab_type": "code",
    "id": "L71oau76mlox"
   },
   "outputs": [],
   "source": [
    "json_data_indented = json.dumps(json_data, indent = 4)\n",
    "with open(\"cfr.json\", \"w\") as outfile: \n",
    "    outfile.write(json_data_indented)"
   ]
  },
  {
   "cell_type": "markdown",
   "metadata": {
    "colab_type": "text",
    "id": "wEhhFwc2dc5l"
   },
   "source": [
    "## Doubling Rate"
   ]
  },
  {
   "cell_type": "code",
   "execution_count": 18,
   "metadata": {
    "colab": {},
    "colab_type": "code",
    "id": "hRXAaZHxmn7l"
   },
   "outputs": [],
   "source": [
    "def calc_doublingtimes(x):\n",
    "    vals = []\n",
    "    for i in range(x.shape[0]):\n",
    "        for j in range(i+1,x.shape[0]):\n",
    "            if len(str(x[j])) and len(str(x[i])):\n",
    "                vals.append(np.log(2)*(j-i)/np.log(int(x[j])/int(x[i])))\n",
    "    return np.mean(vals),np.mean(vals)-1.96*np.std(vals),np.mean(vals)+1.96*np.std(vals)"
   ]
  },
  {
   "cell_type": "code",
   "execution_count": 19,
   "metadata": {
    "colab": {},
    "colab_type": "code",
    "id": "kWkEzdp2dtJv"
   },
   "outputs": [],
   "source": [
    "start=datetime.now()\n",
    "x=datetime.now(pytz.timezone('Asia/Kolkata')).date()\n",
    "dd=pd.date_range(start=\"2020-01-30\",end=x)\n",
    "dates=[]\n",
    "for i in range(len(dd)):\n",
    "  dates.append((str(dd[i])[:10]))"
   ]
  },
  {
   "cell_type": "code",
   "execution_count": 20,
   "metadata": {
    "colab": {},
    "colab_type": "code",
    "id": "8R0wO5ONgrCK"
   },
   "outputs": [],
   "source": [
    "dates1=[]\n",
    "for w in range (len(dates)):\n",
    "  if len(dates[w]):\n",
    "    dates1.append(convert(dates[w]))"
   ]
  },
  {
   "cell_type": "code",
   "execution_count": 21,
   "metadata": {
    "colab": {
     "base_uri": "https://localhost:8080/",
     "height": 269
    },
    "colab_type": "code",
    "id": "uOGYyp1Rd8N6",
    "outputId": "234e0f32-d962-4581-af97-7fda95be2b3d"
   },
   "outputs": [
    {
     "name": "stderr",
     "output_type": "stream",
     "text": [
      "F:\\Anaconda3\\lib\\site-packages\\numpy\\core\\fromnumeric.py:3335: RuntimeWarning: Mean of empty slice.\n",
      "  out=out, **kwargs)\n",
      "F:\\Anaconda3\\lib\\site-packages\\numpy\\core\\_methods.py:161: RuntimeWarning: invalid value encountered in double_scalars\n",
      "  ret = ret.dtype.type(ret / rcount)\n",
      "F:\\Anaconda3\\lib\\site-packages\\numpy\\core\\_methods.py:217: RuntimeWarning: Degrees of freedom <= 0 for slice\n",
      "  keepdims=keepdims)\n",
      "F:\\Anaconda3\\lib\\site-packages\\numpy\\core\\_methods.py:186: RuntimeWarning: invalid value encountered in true_divide\n",
      "  arrmean, rcount, out=arrmean, casting='unsafe', subok=False)\n",
      "F:\\Anaconda3\\lib\\site-packages\\numpy\\core\\_methods.py:209: RuntimeWarning: invalid value encountered in double_scalars\n",
      "  ret = ret.dtype.type(ret / rcount)\n",
      "F:\\Anaconda3\\lib\\site-packages\\ipykernel_launcher.py:6: RuntimeWarning: divide by zero encountered in double_scalars\n",
      "  \n",
      "F:\\Anaconda3\\lib\\site-packages\\numpy\\core\\_methods.py:193: RuntimeWarning: invalid value encountered in subtract\n",
      "  x = asanyarray(arr - arrmean)\n"
     ]
    },
    {
     "ename": "KeyboardInterrupt",
     "evalue": "",
     "output_type": "error",
     "traceback": [
      "\u001b[1;31m---------------------------------------------------------------------------\u001b[0m",
      "\u001b[1;31mKeyboardInterrupt\u001b[0m                         Traceback (most recent call last)",
      "\u001b[1;32m<ipython-input-21-6ac0adb659d8>\u001b[0m in \u001b[0;36m<module>\u001b[1;34m\u001b[0m\n\u001b[0;32m      5\u001b[0m     \u001b[1;32mfor\u001b[0m \u001b[0mi\u001b[0m \u001b[1;32min\u001b[0m \u001b[0mrange\u001b[0m\u001b[1;33m(\u001b[0m\u001b[0mlen\u001b[0m\u001b[1;33m(\u001b[0m\u001b[0mdates\u001b[0m\u001b[1;33m)\u001b[0m\u001b[1;33m)\u001b[0m\u001b[1;33m:\u001b[0m\u001b[1;33m\u001b[0m\u001b[1;33m\u001b[0m\u001b[0m\n\u001b[0;32m      6\u001b[0m         \u001b[1;32mif\u001b[0m \u001b[0mdates\u001b[0m\u001b[1;33m[\u001b[0m\u001b[0mi\u001b[0m\u001b[1;33m]\u001b[0m \u001b[1;32min\u001b[0m \u001b[0mtest\u001b[0m\u001b[1;33m.\u001b[0m\u001b[0mkeys\u001b[0m\u001b[1;33m(\u001b[0m\u001b[1;33m)\u001b[0m\u001b[1;33m:\u001b[0m\u001b[1;33m\u001b[0m\u001b[1;33m\u001b[0m\u001b[0m\n\u001b[1;32m----> 7\u001b[1;33m             \u001b[0mtemp\u001b[0m\u001b[1;33m=\u001b[0m\u001b[0mjson\u001b[0m\u001b[1;33m.\u001b[0m\u001b[0mload\u001b[0m\u001b[1;33m(\u001b[0m\u001b[0mopen\u001b[0m\u001b[1;33m(\u001b[0m\u001b[1;34m'test.json'\u001b[0m\u001b[1;33m)\u001b[0m\u001b[1;33m)\u001b[0m\u001b[1;33m[\u001b[0m\u001b[0mdates\u001b[0m\u001b[1;33m[\u001b[0m\u001b[0mi\u001b[0m\u001b[1;33m]\u001b[0m\u001b[1;33m]\u001b[0m\u001b[1;33m\u001b[0m\u001b[1;33m\u001b[0m\u001b[0m\n\u001b[0m\u001b[0;32m      8\u001b[0m         \u001b[1;32mif\u001b[0m \u001b[0mj\u001b[0m \u001b[1;32min\u001b[0m \u001b[0mtemp\u001b[0m\u001b[1;33m.\u001b[0m\u001b[0mkeys\u001b[0m\u001b[1;33m(\u001b[0m\u001b[1;33m)\u001b[0m\u001b[1;33m:\u001b[0m\u001b[1;33m\u001b[0m\u001b[1;33m\u001b[0m\u001b[0m\n\u001b[0;32m      9\u001b[0m             \u001b[1;32mif\u001b[0m \u001b[1;34m'total'\u001b[0m \u001b[1;32min\u001b[0m \u001b[0mtemp\u001b[0m\u001b[1;33m[\u001b[0m\u001b[0mj\u001b[0m\u001b[1;33m]\u001b[0m\u001b[1;33m.\u001b[0m\u001b[0mkeys\u001b[0m\u001b[1;33m(\u001b[0m\u001b[1;33m)\u001b[0m\u001b[1;33m:\u001b[0m\u001b[1;33m\u001b[0m\u001b[1;33m\u001b[0m\u001b[0m\n",
      "\u001b[1;32mF:\\Anaconda3\\lib\\json\\__init__.py\u001b[0m in \u001b[0;36mload\u001b[1;34m(fp, cls, object_hook, parse_float, parse_int, parse_constant, object_pairs_hook, **kw)\u001b[0m\n\u001b[0;32m    294\u001b[0m         \u001b[0mcls\u001b[0m\u001b[1;33m=\u001b[0m\u001b[0mcls\u001b[0m\u001b[1;33m,\u001b[0m \u001b[0mobject_hook\u001b[0m\u001b[1;33m=\u001b[0m\u001b[0mobject_hook\u001b[0m\u001b[1;33m,\u001b[0m\u001b[1;33m\u001b[0m\u001b[1;33m\u001b[0m\u001b[0m\n\u001b[0;32m    295\u001b[0m         \u001b[0mparse_float\u001b[0m\u001b[1;33m=\u001b[0m\u001b[0mparse_float\u001b[0m\u001b[1;33m,\u001b[0m \u001b[0mparse_int\u001b[0m\u001b[1;33m=\u001b[0m\u001b[0mparse_int\u001b[0m\u001b[1;33m,\u001b[0m\u001b[1;33m\u001b[0m\u001b[1;33m\u001b[0m\u001b[0m\n\u001b[1;32m--> 296\u001b[1;33m         parse_constant=parse_constant, object_pairs_hook=object_pairs_hook, **kw)\n\u001b[0m\u001b[0;32m    297\u001b[0m \u001b[1;33m\u001b[0m\u001b[0m\n\u001b[0;32m    298\u001b[0m \u001b[1;33m\u001b[0m\u001b[0m\n",
      "\u001b[1;32mF:\\Anaconda3\\lib\\json\\__init__.py\u001b[0m in \u001b[0;36mloads\u001b[1;34m(s, encoding, cls, object_hook, parse_float, parse_int, parse_constant, object_pairs_hook, **kw)\u001b[0m\n\u001b[0;32m    346\u001b[0m             \u001b[0mparse_int\u001b[0m \u001b[1;32mis\u001b[0m \u001b[1;32mNone\u001b[0m \u001b[1;32mand\u001b[0m \u001b[0mparse_float\u001b[0m \u001b[1;32mis\u001b[0m \u001b[1;32mNone\u001b[0m \u001b[1;32mand\u001b[0m\u001b[1;33m\u001b[0m\u001b[1;33m\u001b[0m\u001b[0m\n\u001b[0;32m    347\u001b[0m             parse_constant is None and object_pairs_hook is None and not kw):\n\u001b[1;32m--> 348\u001b[1;33m         \u001b[1;32mreturn\u001b[0m \u001b[0m_default_decoder\u001b[0m\u001b[1;33m.\u001b[0m\u001b[0mdecode\u001b[0m\u001b[1;33m(\u001b[0m\u001b[0ms\u001b[0m\u001b[1;33m)\u001b[0m\u001b[1;33m\u001b[0m\u001b[1;33m\u001b[0m\u001b[0m\n\u001b[0m\u001b[0;32m    349\u001b[0m     \u001b[1;32mif\u001b[0m \u001b[0mcls\u001b[0m \u001b[1;32mis\u001b[0m \u001b[1;32mNone\u001b[0m\u001b[1;33m:\u001b[0m\u001b[1;33m\u001b[0m\u001b[1;33m\u001b[0m\u001b[0m\n\u001b[0;32m    350\u001b[0m         \u001b[0mcls\u001b[0m \u001b[1;33m=\u001b[0m \u001b[0mJSONDecoder\u001b[0m\u001b[1;33m\u001b[0m\u001b[1;33m\u001b[0m\u001b[0m\n",
      "\u001b[1;32mF:\\Anaconda3\\lib\\json\\decoder.py\u001b[0m in \u001b[0;36mdecode\u001b[1;34m(self, s, _w)\u001b[0m\n\u001b[0;32m    335\u001b[0m \u001b[1;33m\u001b[0m\u001b[0m\n\u001b[0;32m    336\u001b[0m         \"\"\"\n\u001b[1;32m--> 337\u001b[1;33m         \u001b[0mobj\u001b[0m\u001b[1;33m,\u001b[0m \u001b[0mend\u001b[0m \u001b[1;33m=\u001b[0m \u001b[0mself\u001b[0m\u001b[1;33m.\u001b[0m\u001b[0mraw_decode\u001b[0m\u001b[1;33m(\u001b[0m\u001b[0ms\u001b[0m\u001b[1;33m,\u001b[0m \u001b[0midx\u001b[0m\u001b[1;33m=\u001b[0m\u001b[0m_w\u001b[0m\u001b[1;33m(\u001b[0m\u001b[0ms\u001b[0m\u001b[1;33m,\u001b[0m \u001b[1;36m0\u001b[0m\u001b[1;33m)\u001b[0m\u001b[1;33m.\u001b[0m\u001b[0mend\u001b[0m\u001b[1;33m(\u001b[0m\u001b[1;33m)\u001b[0m\u001b[1;33m)\u001b[0m\u001b[1;33m\u001b[0m\u001b[1;33m\u001b[0m\u001b[0m\n\u001b[0m\u001b[0;32m    338\u001b[0m         \u001b[0mend\u001b[0m \u001b[1;33m=\u001b[0m \u001b[0m_w\u001b[0m\u001b[1;33m(\u001b[0m\u001b[0ms\u001b[0m\u001b[1;33m,\u001b[0m \u001b[0mend\u001b[0m\u001b[1;33m)\u001b[0m\u001b[1;33m.\u001b[0m\u001b[0mend\u001b[0m\u001b[1;33m(\u001b[0m\u001b[1;33m)\u001b[0m\u001b[1;33m\u001b[0m\u001b[1;33m\u001b[0m\u001b[0m\n\u001b[0;32m    339\u001b[0m         \u001b[1;32mif\u001b[0m \u001b[0mend\u001b[0m \u001b[1;33m!=\u001b[0m \u001b[0mlen\u001b[0m\u001b[1;33m(\u001b[0m\u001b[0ms\u001b[0m\u001b[1;33m)\u001b[0m\u001b[1;33m:\u001b[0m\u001b[1;33m\u001b[0m\u001b[1;33m\u001b[0m\u001b[0m\n",
      "\u001b[1;32mF:\\Anaconda3\\lib\\json\\decoder.py\u001b[0m in \u001b[0;36mraw_decode\u001b[1;34m(self, s, idx)\u001b[0m\n\u001b[0;32m    351\u001b[0m         \"\"\"\n\u001b[0;32m    352\u001b[0m         \u001b[1;32mtry\u001b[0m\u001b[1;33m:\u001b[0m\u001b[1;33m\u001b[0m\u001b[1;33m\u001b[0m\u001b[0m\n\u001b[1;32m--> 353\u001b[1;33m             \u001b[0mobj\u001b[0m\u001b[1;33m,\u001b[0m \u001b[0mend\u001b[0m \u001b[1;33m=\u001b[0m \u001b[0mself\u001b[0m\u001b[1;33m.\u001b[0m\u001b[0mscan_once\u001b[0m\u001b[1;33m(\u001b[0m\u001b[0ms\u001b[0m\u001b[1;33m,\u001b[0m \u001b[0midx\u001b[0m\u001b[1;33m)\u001b[0m\u001b[1;33m\u001b[0m\u001b[1;33m\u001b[0m\u001b[0m\n\u001b[0m\u001b[0;32m    354\u001b[0m         \u001b[1;32mexcept\u001b[0m \u001b[0mStopIteration\u001b[0m \u001b[1;32mas\u001b[0m \u001b[0merr\u001b[0m\u001b[1;33m:\u001b[0m\u001b[1;33m\u001b[0m\u001b[1;33m\u001b[0m\u001b[0m\n\u001b[0;32m    355\u001b[0m             \u001b[1;32mraise\u001b[0m \u001b[0mJSONDecodeError\u001b[0m\u001b[1;33m(\u001b[0m\u001b[1;34m\"Expecting value\"\u001b[0m\u001b[1;33m,\u001b[0m \u001b[0ms\u001b[0m\u001b[1;33m,\u001b[0m \u001b[0merr\u001b[0m\u001b[1;33m.\u001b[0m\u001b[0mvalue\u001b[0m\u001b[1;33m)\u001b[0m \u001b[1;32mfrom\u001b[0m \u001b[1;32mNone\u001b[0m\u001b[1;33m\u001b[0m\u001b[1;33m\u001b[0m\u001b[0m\n",
      "\u001b[1;31mKeyboardInterrupt\u001b[0m: "
     ]
    }
   ],
   "source": [
    "json_data={}\n",
    "test=json.load(open('test.json'))\n",
    "for j in state_id.keys():\n",
    "    cumul=['']*len(dates)\n",
    "    for i in range(len(dates)):\n",
    "        if dates[i] in test.keys():\n",
    "            temp=json.load(open('test.json'))[dates[i]]\n",
    "        if j in temp.keys():\n",
    "            if 'total' in temp[j].keys():\n",
    "                if 'confirmed' in temp[j]['total'].keys():\n",
    "                    cumul[i]=int(temp[j]['total']['confirmed'])\n",
    "    cumul_cases=np.array(cumul)\n",
    "    dbt = np.zeros((3,cumul_cases.shape[0]))\n",
    "    for i in range(cumul_cases.shape[0]):\n",
    "        dbt[:,i] = calc_doublingtimes(cumul_cases[i-7:i])\n",
    "    st=state_id[j]\n",
    "    json_data[st] = {\n",
    "            'dates':dates1,\n",
    "            'dbt_point':list(dbt[0,:]),\n",
    "            'dbt_l95':list(dbt[1,:]),\n",
    "            'dbt_u95':list(dbt[2,:])\n",
    "            }"
   ]
  },
  {
   "cell_type": "code",
   "execution_count": 21,
   "metadata": {
    "colab": {},
    "colab_type": "code",
    "id": "yoIG5b-qeBF2"
   },
   "outputs": [],
   "source": [
    "json_data_indented = json.dumps(json_data, indent = 4)\n",
    "with open(\"doubling_rate.json\", \"w\") as outfile: \n",
    "    outfile.write(json_data_indented)"
   ]
  },
  {
   "cell_type": "code",
   "execution_count": null,
   "metadata": {
    "colab": {},
    "colab_type": "code",
    "id": "LF5HPhfgniCs"
   },
   "outputs": [],
   "source": []
  }
 ],
 "metadata": {
  "colab": {
   "collapsed_sections": [],
   "name": "PosRateNew.ipynb",
   "provenance": []
  },
  "kernelspec": {
   "display_name": "Python 3",
   "language": "python",
   "name": "python3"
  },
  "language_info": {
   "codemirror_mode": {
    "name": "ipython",
    "version": 3
   },
   "file_extension": ".py",
   "mimetype": "text/x-python",
   "name": "python",
   "nbconvert_exporter": "python",
   "pygments_lexer": "ipython3",
   "version": "3.7.6"
  }
 },
 "nbformat": 4,
 "nbformat_minor": 1
}
