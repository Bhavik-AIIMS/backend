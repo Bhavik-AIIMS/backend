{
  "nbformat": 4,
  "nbformat_minor": 0,
  "metadata": {
    "colab": {
      "name": "pos_rate_districts.ipynb",
      "provenance": [],
      "collapsed_sections": []
    },
    "kernelspec": {
      "name": "python3",
      "display_name": "Python 3"
    }
  },
  "cells": [
    {
      "cell_type": "code",
      "metadata": {
        "id": "vXMBTJTO07Jw",
        "colab_type": "code",
        "colab": {
          "base_uri": "https://localhost:8080/",
          "height": 289
        },
        "outputId": "16cbe129-647f-4062-d9cc-56222fe9939c"
      },
      "source": [
        "!pip install wget\n",
        "import numpy as np\n",
        "import matplotlib.pyplot as plt\n",
        "import pandas as pd\n",
        "from subprocess import call\n",
        "from scipy.stats.distributions import gamma,lognorm\n",
        "import json \n",
        "import wget\n",
        "import os\n",
        "import os.path\n",
        "from datetime import datetime\n",
        "import pytz \n",
        "from collections import OrderedDict\n",
        "from google.colab import drive\n",
        "#os.chdir('/content/gdrive/My Drive')\n",
        "drive.mount('/content/gdrive')"
      ],
      "execution_count": 2,
      "outputs": [
        {
          "output_type": "stream",
          "text": [
            "Collecting wget\n",
            "  Downloading https://files.pythonhosted.org/packages/47/6a/62e288da7bcda82b935ff0c6cfe542970f04e29c756b0e147251b2fb251f/wget-3.2.zip\n",
            "Building wheels for collected packages: wget\n",
            "  Building wheel for wget (setup.py) ... \u001b[?25l\u001b[?25hdone\n",
            "  Created wheel for wget: filename=wget-3.2-cp36-none-any.whl size=9682 sha256=4f8504636c5dc46bff03a1c1566b40daf3fda5c269b868ceb44d5e161919e6e9\n",
            "  Stored in directory: /root/.cache/pip/wheels/40/15/30/7d8f7cea2902b4db79e3fea550d7d7b85ecb27ef992b618f3f\n",
            "Successfully built wget\n",
            "Installing collected packages: wget\n",
            "Successfully installed wget-3.2\n",
            "Go to this URL in a browser: https://accounts.google.com/o/oauth2/auth?client_id=947318989803-6bn6qk8qdgf4n4g3pfee6491hc0brc4i.apps.googleusercontent.com&redirect_uri=urn%3aietf%3awg%3aoauth%3a2.0%3aoob&response_type=code&scope=email%20https%3a%2f%2fwww.googleapis.com%2fauth%2fdocs.test%20https%3a%2f%2fwww.googleapis.com%2fauth%2fdrive%20https%3a%2f%2fwww.googleapis.com%2fauth%2fdrive.photos.readonly%20https%3a%2f%2fwww.googleapis.com%2fauth%2fpeopleapi.readonly\n",
            "\n",
            "Enter your authorization code:\n",
            "··········\n",
            "Mounted at /content/gdrive\n"
          ],
          "name": "stdout"
        }
      ]
    },
    {
      "cell_type": "code",
      "metadata": {
        "id": "zpv7B3H11DYC",
        "colab_type": "code",
        "colab": {}
      },
      "source": [
        "os.chdir('/content/gdrive/My Drive/test')"
      ],
      "execution_count": 42,
      "outputs": []
    },
    {
      "cell_type": "code",
      "metadata": {
        "id": "xzXCUzJI1g5V",
        "colab_type": "code",
        "colab": {
          "base_uri": "https://localhost:8080/",
          "height": 35
        },
        "outputId": "88faddd1-34d4-4030-fdeb-f7428e4f9f44"
      },
      "source": [
        "wget.download('https://api.covid19india.org/v3/data-all.json', os.getcwd()+\"//test.json\")"
      ],
      "execution_count": 45,
      "outputs": [
        {
          "output_type": "execute_result",
          "data": {
            "application/vnd.google.colaboratory.intrinsic": {
              "type": "string"
            },
            "text/plain": [
              "'/content/gdrive/My Drive/test//test.json'"
            ]
          },
          "metadata": {
            "tags": []
          },
          "execution_count": 45
        }
      ]
    },
    {
      "cell_type": "code",
      "metadata": {
        "id": "FiHfMs4E1YEr",
        "colab_type": "code",
        "colab": {}
      },
      "source": [
        "def fn(mon):\n",
        "  if(mon == \"01\"):\n",
        "    return \" January\"\n",
        "  if(mon == \"02\"):\n",
        "    return \" February\"\n",
        "  if(mon == \"03\"):\n",
        "    return \" March\"\n",
        "  if(mon == \"04\"):\n",
        "    return \" April\"\n",
        "  if(mon == \"05\"):\n",
        "    return \" May\"\n",
        "  if(mon == \"06\"):\n",
        "    return \" June\"\n",
        "  if(mon == \"07\"):\n",
        "    return \" July\"\n",
        "  if(mon == \"08\"):\n",
        "    return \" August\"\n",
        "  if(mon == \"09\"):\n",
        "    return \" September\"\n",
        "  if(mon == \"10\"):\n",
        "    return \" October\"\n",
        "  if(mon == \"11\"):\n",
        "    return \" November\"\n",
        "  if(mon == \"12\"):\n",
        "    return \" December\"\n",
        "def convert(dat): \n",
        "    return  str(dat[8:10]) + fn(str(dat[5:7]))"
      ],
      "execution_count": 46,
      "outputs": []
    },
    {
      "cell_type": "code",
      "metadata": {
        "id": "OR34mrIt1dYB",
        "colab_type": "code",
        "colab": {
          "base_uri": "https://localhost:8080/",
          "height": 483
        },
        "outputId": "01fb0c2d-833c-465e-df76-2f005a00bb60"
      },
      "source": [
        "dataset=pd.read_csv('./population_districts.csv')\n",
        "population=pd.DataFrame()\n",
        "population[\"District\"]=dataset['District']\n",
        "population[\"Population\"]=dataset['Confirmed']\n",
        "population=population.set_index('District')\n",
        "population"
      ],
      "execution_count": 55,
      "outputs": [
        {
          "output_type": "execute_result",
          "data": {
            "text/html": [
              "<div>\n",
              "<style scoped>\n",
              "    .dataframe tbody tr th:only-of-type {\n",
              "        vertical-align: middle;\n",
              "    }\n",
              "\n",
              "    .dataframe tbody tr th {\n",
              "        vertical-align: top;\n",
              "    }\n",
              "\n",
              "    .dataframe thead th {\n",
              "        text-align: right;\n",
              "    }\n",
              "</style>\n",
              "<table border=\"1\" class=\"dataframe\">\n",
              "  <thead>\n",
              "    <tr style=\"text-align: right;\">\n",
              "      <th></th>\n",
              "      <th>Population</th>\n",
              "    </tr>\n",
              "    <tr>\n",
              "      <th>District</th>\n",
              "      <th></th>\n",
              "    </tr>\n",
              "  </thead>\n",
              "  <tbody>\n",
              "    <tr>\n",
              "      <th>Mumbai</th>\n",
              "      <td>12442373</td>\n",
              "    </tr>\n",
              "    <tr>\n",
              "      <th>Chennai</th>\n",
              "      <td>4646732</td>\n",
              "    </tr>\n",
              "    <tr>\n",
              "      <th>Thane</th>\n",
              "      <td>8070032</td>\n",
              "    </tr>\n",
              "    <tr>\n",
              "      <th>Hyderabad</th>\n",
              "      <td>3943323</td>\n",
              "    </tr>\n",
              "    <tr>\n",
              "      <th>Pune</th>\n",
              "      <td>9429408</td>\n",
              "    </tr>\n",
              "    <tr>\n",
              "      <th>Bengaluru Urban</th>\n",
              "      <td>9621551</td>\n",
              "    </tr>\n",
              "    <tr>\n",
              "      <th>Ahmedabad</th>\n",
              "      <td>7214225</td>\n",
              "    </tr>\n",
              "    <tr>\n",
              "      <th>Palghar</th>\n",
              "      <td>2990116</td>\n",
              "    </tr>\n",
              "    <tr>\n",
              "      <th>Aurangabad</th>\n",
              "      <td>3701282</td>\n",
              "    </tr>\n",
              "    <tr>\n",
              "      <th>Chengalpattu</th>\n",
              "      <td>2556423</td>\n",
              "    </tr>\n",
              "    <tr>\n",
              "      <th>Kolkata</th>\n",
              "      <td>4496694</td>\n",
              "    </tr>\n",
              "    <tr>\n",
              "      <th>Surat</th>\n",
              "      <td>6081322</td>\n",
              "    </tr>\n",
              "    <tr>\n",
              "      <th>Gurugram</th>\n",
              "      <td>1514432</td>\n",
              "    </tr>\n",
              "  </tbody>\n",
              "</table>\n",
              "</div>"
            ],
            "text/plain": [
              "                 Population\n",
              "District                   \n",
              "Mumbai             12442373\n",
              "Chennai             4646732\n",
              "Thane               8070032\n",
              "Hyderabad           3943323\n",
              "Pune                9429408\n",
              "Bengaluru Urban     9621551\n",
              "Ahmedabad           7214225\n",
              "Palghar             2990116\n",
              "Aurangabad          3701282\n",
              "Chengalpattu        2556423\n",
              "Kolkata             4496694\n",
              "Surat               6081322\n",
              "Gurugram            1514432"
            ]
          },
          "metadata": {
            "tags": []
          },
          "execution_count": 55
        }
      ]
    },
    {
      "cell_type": "code",
      "metadata": {
        "id": "KLM0_fcn2nnL",
        "colab_type": "code",
        "colab": {}
      },
      "source": [
        "state_id = {\n",
        "  \"MH\":[\"Mumbai\", \"Thane\", \"Pune\", \"Palghar\", \"Aurangabad\"],\n",
        "  \"TN\":[\"Chennai\", \"Chengalpattu\"],\n",
        "  \"KA\":[\"Bengaluru Urban\"],\n",
        "  \"GJ\":[\"Ahmedabad\", \"Surat\"],\n",
        "  \"WB\":[\"Kolkata\"],\n",
        "  \"HR\":[\"Gurugram\"],\n",
        "  \"TG\":[\"Hyderabad\"],\n",
        "}\n",
        "x=datetime.now(pytz.timezone('Asia/Kolkata')).date()\n",
        "dd=pd.date_range(start=\"2020-04-01\",end=x)\n",
        "dates=[]\n",
        "for i in range(len(dd)):\n",
        "  dates.append((str(dd[i])[:10]))\n",
        "#dates\n",
        "dates1=[]\n",
        "for w in range (len(dates)):\n",
        "  if len(dates[w]):\n",
        "    dates1.append(convert(dates[w]))"
      ],
      "execution_count": 50,
      "outputs": []
    },
    {
      "cell_type": "code",
      "metadata": {
        "id": "J_Hj1PVdIEC4",
        "colab_type": "code",
        "colab": {
          "base_uri": "https://localhost:8080/",
          "height": 289
        },
        "outputId": "5cb42b21-0392-4839-e95c-df70466920d6"
      },
      "source": [
        "start=datetime.now()\n",
        "states={}\n",
        "csv_dates=[]\n",
        "csv_states=[]\n",
        "csv_total_cases=[]\n",
        "csv_cum_recovered=[]\n",
        "csv_daily_recovered=[]\n",
        "csv_cum_deceased=[]\n",
        "csv_daily_deceased=[]\n",
        "csv_positivity_rate_cumulative=[]\n",
        "csv_daily_positive_cases=[]\n",
        "csv_daily_positivity_rate=[]\n",
        "csv_daily_positive_cases_ma=[]\n",
        "csv_daily_positivity_rate_ma=[]\n",
        "csv_test_per_million=[]\n",
        "csv_daily_tested=[]\n",
        "csv_cum_tested=[]\n",
        "test=json.load(open('test.json'))\n",
        "for j in state_id.keys():\n",
        "  for k in state_id[j]:\n",
        "    test_per_million=['']*len(dates)\n",
        "    pos_cum=['']*len(dates)\n",
        "    pos_rate_cum=['']*len(dates)\n",
        "    daily_pos=['']*len(dates)\n",
        "    daily_pos_ma=['']*len(dates)\n",
        "    daily_tested=['']*len(dates)\n",
        "    daily_pos_rate=['']*len(dates)\n",
        "    daily_pos_rate_ma=['']*len(dates)\n",
        "    tested_cum=['']*len(dates)\n",
        "    tested_daily=['']*len(dates)\n",
        "    deceased_cum=['']*len(dates)\n",
        "    daily_deceased=['']*len(dates)\n",
        "    recovered_cum=['']*len(dates)\n",
        "    daily_recovered=['']*len(dates)\n",
        "    for i in range(len(dates)):\n",
        "      if dates[i] in test.keys():\n",
        "          temp=json.load(open('test.json'))[dates[i]]\n",
        "      if j in temp.keys():\n",
        "        if 'districts' in temp[j].keys():\n",
        "          if k in temp[j]['districts']:\n",
        "            if 'total' in temp[j]['districts'][k].keys():\n",
        "              if 'confirmed' in temp[j]['districts'][k]['total'].keys():\n",
        "                pos_cum[i]=temp[j]['districts'][k]['total']['confirmed']\n",
        "\n",
        "              if 'tested' in temp[j]['districts'][k]['total'].keys():\n",
        "                tested_cum[i]=abs(temp[j]['districts'][k]['total']['tested'])\n",
        "                test_per_million[i]=temp[j]['districts'][k]['total']['tested']*1000000/int(population[\"Population\"][k])\n",
        "                  \n",
        "              if 'deceased' in temp[j]['districts'][k]['total'].keys():\n",
        "                deceased_cum[i]=temp[j]['districts'][k]['total']['deceased']\n",
        "              \n",
        "              if 'recovered' in temp[j]['districts'][k]['total'].keys():\n",
        "                recovered_cum[i]=temp[j]['districts'][k]['total']['recovered']\n",
        "              \n",
        "              if len(str(pos_cum[i])) and len(str(tested_cum[i])):\n",
        "                pos_rate_cum[i]= pos_cum[i]*100/tested_cum[i]\n",
        "\n",
        "\n",
        "            if 'delta' in temp[j]['districts'][k].keys():\n",
        "              if 'confirmed' in temp[j]['districts'][k]['delta'].keys():\n",
        "                daily_pos[i]=temp[j]['districts'][k]['delta']['confirmed']\n",
        "\n",
        "              if 'tested' in temp[j]['districts'][k]['delta'].keys():\n",
        "                daily_tested[i]=abs(temp[j]['districts'][k]['delta']['tested'])\n",
        "              \n",
        "              if 'deceased' in temp[j]['districts'][k]['delta'].keys():\n",
        "                daily_deceased[i]=temp[j]['districts'][k]['delta']['deceased']\n",
        "              \n",
        "              if 'recovered' in temp[j]['districts'][k]['delta'].keys():\n",
        "                daily_recovered[i]=temp[j]['districts'][k]['delta']['recovered']\n",
        "              \n",
        "              if len(str(daily_pos[i])) and len(str(daily_tested[i])):\n",
        "                daily_pos_rate[i]=int(daily_pos[i])*100/int(daily_tested[i])\n",
        "\n",
        "    #print(pos_cum,k)\n",
        "\n",
        "    for w in range(7,len(daily_pos)):\n",
        "              sum1=0\n",
        "              sum2=0\n",
        "              for s in range(7):\n",
        "                if (len(str(daily_pos[w-s]))!=0 and len(str(daily_tested[w-s]))!=0):\n",
        "                  sum1+=int(daily_pos[w-s])\n",
        "                  sum2+=int(daily_tested[w-s])\n",
        "              if (sum2!=0):\n",
        "                daily_pos_rate_ma[w]=sum1*100/abs(sum2)\n",
        "            \n",
        "    for w in range(7,len(daily_pos)):\n",
        "              sum1=0\n",
        "              count=0\n",
        "              for s in range(7):\n",
        "                if (len(str(daily_pos[w-s]))!=0):\n",
        "                  sum1+=int(daily_pos[w-s])\n",
        "                  count+=1\n",
        "              if count!=0:\n",
        "                daily_pos_ma[w]=sum1/count\n",
        "\n",
        "    print(daily_pos_rate,k)\n",
        "\n",
        "    for i in range(len(dates)):\n",
        "              csv_dates.append(dates1[i])\n",
        "              csv_states.append(k)\n",
        "              csv_total_cases.append(pos_cum[i])\n",
        "              csv_positivity_rate_cumulative.append(pos_rate_cum[i])\n",
        "              csv_daily_positive_cases.append(daily_pos[i])\n",
        "              csv_cum_recovered.append(recovered_cum[i])\n",
        "              csv_daily_recovered.append(daily_recovered[i])\n",
        "              csv_cum_deceased.append(deceased_cum[i])\n",
        "              csv_daily_deceased.append(daily_deceased[i])\n",
        "              csv_daily_positivity_rate.append(daily_pos_rate[i])\n",
        "              csv_daily_positive_cases_ma.append(daily_pos_ma[i])\n",
        "              csv_daily_positivity_rate_ma.append(daily_pos_rate_ma[i])\n",
        "              csv_daily_tested.append(daily_tested[i])\n",
        "              csv_cum_tested.append(tested_cum[i])\n",
        "              csv_test_per_million.append(test_per_million[i])\n",
        "  #print(st)\n",
        "    states[k]={\n",
        "                              'dates':dates1,\n",
        "                              'cum_positive_cases':pos_cum,\n",
        "                              'cum_positivity_rate':pos_rate_cum[:-1],\n",
        "                              'daily_positive_cases':daily_pos[:-1],\n",
        "                              'cum_recovered':recovered_cum,\n",
        "                              'daily_recovered':daily_recovered[:-1],\n",
        "                              'cum_deceased':deceased_cum,\n",
        "                              'daily_deceased':daily_deceased[:-1],\n",
        "                              'daily_positivity_rate':daily_pos_rate[:-1],\n",
        "                              'daily_positive_cases_ma': daily_pos_ma[:-1],\n",
        "                              'daily_positivity_rate_ma':daily_pos_rate_ma[:-1] , \n",
        "                              'daily_tests': daily_tested[:-1],\n",
        "                              'cum_tests': tested_cum,\n",
        "                              'test_per_million':test_per_million[:-1],    \n",
        "                        }\n",
        "end=datetime.now()\n",
        "print(end-start)"
      ],
      "execution_count": 59,
      "outputs": [
        {
          "output_type": "stream",
          "text": [
            "['', '', '', '', '', '', '', '', '', '', '', '', '', '', '', '', '', '', '', '', '', '', '', '', '', '', '', '', '', '', '', '', '', '', '', '', '', '', '', '', '', '', '', '', '', '', '', 0.7314814814814815, '', '', '', 65.55597154623736, '', '', 14.060963618485742, '', 9.613259668508288, 34.38818565400844, '', '', '', 12.244367417677642, '', 12.067334972574239, 38.39381003201708, '', '', '', '', 5.721210754748887, '', 15.146336252937406, '', '', 0.6123980982734325, 0.4336146884435793, 27.744807121661722, 27.028639618138424, '', 13.766064038335875, 13.846869909239004, 27.55587256300523, 33.5677162947111, 18.2381584772023, 21.050649595179816, '', '', 13.59026369168357, 27.42382271468144, '', 22.579013906447535, 13.306487695749441, '', ''] Mumbai\n",
            "['', '', '', '', '', '', '', '', '', '', '', '', '', '', '', '', '', '', '', '', '', '', '', '', '', '', '', '', '', '', '', '', '', '', '', '', '', '', '', '', '', '', '', '', '', '', '', '', '', '', '', '', '', '', '', '', '', '', '', '', '', '', '', '', '', '', '', '', '', '', '', '', '', '', '', '', '', '', '', '', '', '', '', '', '', '', '', 1.939787497528436, 80.44397463002115, 60.86501569584932, 43.79876244283024, 35.33850345839446, 92.4090909090909, ''] Thane\n",
            "['', '', '', '', '', '', '', '', '', '', '', '', '', '', '', '', '', '', '', '', '', '', '', '', '', '', '', '', '', '', '', '', '', '', '', '', '', '', '', '', '', '', '', '', '', '', '', '', '', '', '', '', '', '', '', '', '', '', '', '', '', '', '', '', '', 0.31700166916808104, 12.830188679245284, '', 10.29940119760479, '', 9.680232558139535, 27.626233313987232, 11.491935483870968, '', 12.446120689655173, '', '', 4.903820102953129, 33.84476534296029, 26.171003717472118, 44.6319018404908, 14.961025898918782, 15.442708333333334, 7.910120569967117, 9.746376811594203, 25.733634311512414, 24.411340701585775, 17.586123825584195, 82.45353159851301, 13.318978775761304, '', 9.24715113020736, '', ''] Pune\n",
            "['', '', '', '', '', '', '', '', '', '', '', '', '', '', '', '', '', '', '', '', '', '', '', '', '', '', '', '', '', '', '', '', '', '', '', '', '', '', '', '', '', '', '', '', '', '', '', '', '', '', '', '', '', '', '', '', '', '', '', '', '', '', '', '', '', '', '', '', '', '', '', '', '', '', '', '', '', '', '', '', '', '', '', '', '', '', '', 1.2837257902003956, 20.103896103896105, '', 8.09950824414232, 13.037974683544304, 15.213746856663873, ''] Palghar\n",
            "['', '', '', '', '', '', '', '', '', '', '', '', '', '', '', '', '', '', '', '', '', '', '', '', '', '', 1.6129032258064515, 30.89430894308943, 6.726457399103139, 17.333333333333332, 15.0, 29.5, 3.287671232876712, 43.67088607594937, 7.397260273972603, 10.410094637223974, 8.035714285714286, 7.49185667752443, 4.702970297029703, 39.375, '', 11.461794019933555, '', 16.216216216216218, 25.203252032520325, '', '', '', 3.57379219060225, '', '', 7.151230949589683, '', 20.218579234972676, '', 3.4768211920529803, '', '', 34.78260869565217, 4.83271375464684, '', '', '', '', '', '', '', '', '', '', '', '', '', '', '', '', '', '', '', '', '', '', '', '', '', '', '', '', '', '', '', '', '', ''] Aurangabad\n",
            "['', '', '', '', '', '', '', '', '', '', '', '', '', '', '', '', '', '', '', '', '', '', '', '', '', '', '', '', '', '', '', '', '', '', '', '', '', '', '', '', '', '', '', '', '', '', '', 0.42823529411764705, '', '', '', '', '', '', '', '', '', '', '', '', '', '', '', '', '', '', '', 3.1285520974289582, '', '', '', '', '', '', '', '', 1.5876288659793814, '', '', 6.4823887370429585, 25.805184603299292, '', '', '', '', '', '', '', '', '', '', '', '', ''] Chennai\n",
            "['', '', '', '', '', '', '', '', '', '', '', '', '', '', '', '', '', '', '', '', '', '', '', '', '', '', '', '', '', '', '', '', '', '', '', '', '', '', '', '', '', '', '', '', '', '', '', '', '', '', '', '', '', '', '', '', '', '', '', '', '', '', '', '', '', '', '', 0.9671872761140564, '', '', '', '', '', '', '', '', '', '', '', 2.7237354085603114, 27.050359712230215, '', '', '', '', '', '', '', '', '', '', '', '', ''] Chengalpattu\n",
            "['', '', '', '', '', '', '', '', '', '', '', '', '', '', '', '', '', '', '', '', '', '', '', '', '', '', '', '', '', '', '', '', '', '', '', '', '', '', '', '', '', '', '', '', 0.07742242868203204, 1.2844036697247707, '', '', 0.5623242736644799, 1.5151515151515151, 0.6446414182111201, 0.7898894154818326, 0.27932960893854747, 0.06357279084551812, 0.7582938388625592, 0.15420200462606015, 4.109589041095891, '', 0.32885722115648125, 1.8954623779437105, '', 0.690846286701209, 0.3951267698386566, 1.6792611251049538, 0.16731734523145567, 0.9532888465204957, 1.405152224824356, 0.6238133984269053, 5.217391304347826, '', '', 0.2153534329870788, 1.1665586519766689, 1.3385146804835923, 1.838074398249453, 4.315659679408138, '', '', 0.24970622796709754, '', 2.477596204533474, 7.500956754688098, 6.7669172932330826, '', 1.65947242206235, '', '', '', 7.560104277300376, 9.329962073324905, '', 78.69379014989293, 20.34324942791762, ''] Bengaluru Urban\n",
            "['', '', '', '', '', '', '', '', '', '', '', '', '', '', '', '', '', '', '', '', '', '', '', '', '', '', '', '', '', '', '', '', '', '', '', '', '', '', '', '', '', '', '', '', '', '', '', '', 0.4105746477990378, 16.364734299516908, 15.62709590878605, 11.797511797511797, '', 8.526894865525673, 30.57199211045365, 33.82749326145552, 22.08800690250216, 20.756302521008404, '', 12.522045855379188, '', 8.775852431525992, 16.421424367274867, 11.641910879164994, 14.637826961770624, 19.126328217237308, 17.894736842105264, 17.161359956826768, 21.611492816989383, 19.121894858463317, 21.357409713574096, 16.483516483516482, 20.172732880937694, 15.364001786511835, 20.617283950617285, 22.094594594594593, 22.43243243243243, 14.36656508489334, 16.772486772486772, 15.392205229403059, 17.545871559633028, 14.772727272727273, 22.90299051787017, 12.188796680497925, 12.004466778336125, 15.484710474951203, 10.911808669656203, 11.423930698429887, 10.052405907575036, 17.251461988304094, 8.78679750223015, 9.121764955451846, 11.217437533227008, ''] Ahmedabad\n",
            "['', '', '', '', '', '', '', '', '', '', '', '', '', '', '', '', '', '', '', '', '', '', '', '', '', '', '', '', '', '', '', '', '', '', '', '', '', '', '', '', '', '', '', '', '', '', '', '', 0.11187839975309595, 6.514084507042254, 6.137184115523466, 5.350553505535055, '', 3.711558854718982, 7.788944723618091, 12.631578947368421, 5.51948051948052, 9.649122807017545, '', 6.395348837209302, '', 5.8558558558558556, 14.180929095354523, 18.465227817745802, 15.576923076923077, 12.593984962406015, 20.72072072072072, 15.058823529411764, 13.994169096209912, 15.538847117794486, 17.096018735362996, 21.662468513853906, 20.58823529411765, 16.9054441260745, 19.047619047619047, 21.192052980132452, 23.509933774834437, 10.12461059190031, 18.181818181818183, 19.82942430703625, 21.729957805907173, 25.28735632183908, 24.264705882352942, 29.021558872305143, 21.026894865525673, 26.073131955484897, 25.138121546961326, 20.13129102844639, 23.978919631093543, 35.763888888888886, 27.448275862068964, 24.482338611449453, 20.921658986175114, ''] Surat\n",
            "['', '', '', '', '', '', '', '', '', '', '', '', '', '', '', '', '', '', '', '', '', '', '', '', '', '', '', '', '', '', '', '', '', '', '', '', '', '', '', '', '', '', '', '', '', '', '', '', '', '', '', '', '', '', '', '', '', '', '', '', '', '', '', '', '', '', '', '', '', '', '', '', '', '', '', '', '', '', '', '', '', '', '', '', '', '', '', '', '', '', '', '', '', ''] Kolkata\n",
            "['', '', '', '', '', '', '', '', '', '', '', '', '', '', '', '', '', '', '', '', '', '', '', '', '', '', '', '', '', '', '', '', '', '', '', '', '', '', '', '', '', '', '', '', '', '', '', '', '', '', '', '', '', '', '', '', '', '', '', '', '', '', '', '', '', '', '', '', '', '', '', '', 0.9893048128342246, 106.282722513089, 260.0, 58.65384615384615, 39.4990366088632, 26.239067055393587, 16.329113924050635, 27.46212121212121, 18.34763948497854, 17.77777777777778, 12.536873156342184, 21.077654516640255, 10.803324099722992, '', 4.521147301895965, 8.98716119828816, 10.268378063010502, 10.955961331901182, 5.105633802816901, 5.714285714285714, 6.432038834951456, ''] Gurugram\n",
            "['', '', '', '', '', '', '', '', '', '', '', '', '', '', '', '', '', '', '', '', '', '', '', '', '', '', '', '', '', '', '', '', '', '', '', '', '', '', '', '', '', '', '', '', '', '', '', '', '', '', '', '', '', '', '', '', '', '', '', '', '', '', '', '', '', '', '', '', '', '', '', '', '', '', '', '', '', '', '', '', '', '', '', '', '', '', '', '', '', '', '', '', '', ''] Hyderabad\n",
            "0:31:38.180497\n"
          ],
          "name": "stdout"
        }
      ]
    },
    {
      "cell_type": "code",
      "metadata": {
        "id": "TQ0nSiskMEXa",
        "colab_type": "code",
        "colab": {}
      },
      "source": [
        "states['datetime']=str(datetime.now(pytz.timezone('Asia/Kolkata')))\n",
        "with open('positivity_Rate_dist.json', 'w') as outfile:\n",
        "    json.dump(states, outfile,indent=4)"
      ],
      "execution_count": 61,
      "outputs": []
    },
    {
      "cell_type": "code",
      "metadata": {
        "id": "cGNKh4fFkNEX",
        "colab_type": "code",
        "colab": {}
      },
      "source": [
        "df=pd.DataFrame()\n",
        "df['dates']=csv_dates\n",
        "df['state']=csv_states\n",
        "df['cum_positive_cases']=csv_total_cases\n",
        "df['cum_positivity_rate']=csv_positivity_rate_cumulative\n",
        "df['cum_recovered']=csv_cum_recovered\n",
        "df['daily_recovered']:csv_daily_recovered\n",
        "df['cum_deceased']=csv_cum_deceased\n",
        "df['daily_deceased']:daily_deceased\n",
        "df['daily_positive_cases']=csv_daily_positive_cases\n",
        "df['daily_positivity_rate']=csv_daily_positivity_rate\n",
        "df['daily_positive_cases_ma']=csv_daily_positive_cases_ma\n",
        "df['daily_positivity_rate_ma']=    csv_daily_positivity_rate_ma\n",
        "df['daily_tests']=csv_daily_tested\n",
        "df['cum_tested']=csv_cum_tested\n",
        "df['test_per_million']=csv_test_per_million\n",
        "df.to_csv('positivity_Rate_dist.csv',index=False)"
      ],
      "execution_count": 62,
      "outputs": []
    },
    {
      "cell_type": "code",
      "metadata": {
        "id": "iss2vxWpv7kq",
        "colab_type": "code",
        "colab": {}
      },
      "source": [
        ""
      ],
      "execution_count": null,
      "outputs": []
    }
  ]
}