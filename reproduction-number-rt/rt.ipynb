{
  "cells": [
    {
      "metadata": {
        "colab": {
          "base_uri": "https://localhost:8080/",
          "height": 179
        },
        "colab_type": "code",
        "id": "kS04bS_xzt2l",
        "outputId": "1a2765b5-423d-4f41-c4a6-112e63bf88e0",
        "trusted": false
      },
      "cell_type": "code",
      "source": "!pip install wget",
      "execution_count": 0,
      "outputs": [
        {
          "name": "stdout",
          "output_type": "stream",
          "text": "Collecting wget\n  Downloading https://files.pythonhosted.org/packages/47/6a/62e288da7bcda82b935ff0c6cfe542970f04e29c756b0e147251b2fb251f/wget-3.2.zip\nBuilding wheels for collected packages: wget\n  Building wheel for wget (setup.py) ... \u001b[?25l\u001b[?25hdone\n  Created wheel for wget: filename=wget-3.2-cp36-none-any.whl size=9682 sha256=3d832c6639a16276f1f26b3073057b8710368c2d730bd06fc4431977da124f52\n  Stored in directory: /root/.cache/pip/wheels/40/15/30/7d8f7cea2902b4db79e3fea550d7d7b85ecb27ef992b618f3f\nSuccessfully built wget\nInstalling collected packages: wget\nSuccessfully installed wget-3.2\n"
        }
      ]
    },
    {
      "metadata": {
        "colab": {
          "base_uri": "https://localhost:8080/",
          "height": 127
        },
        "colab_type": "code",
        "id": "Dg4B7WwDzp_9",
        "outputId": "c92faedb-0f6c-4e41-a0a6-23bd90043317",
        "trusted": false
      },
      "cell_type": "code",
      "source": "import numpy as np\nimport matplotlib.pyplot as plt\nimport pandas as pd\nfrom subprocess import call\nfrom scipy.stats.distributions import gamma\nimport json \nimport wget\nimport os\nimport os.path\nfrom google.colab import drive\ndrive.mount('/content/gdrive')\nos.chdir('/content/gdrive/My Drive/minimal')",
      "execution_count": 0,
      "outputs": [
        {
          "name": "stdout",
          "output_type": "stream",
          "text": "Go to this URL in a browser: https://accounts.google.com/o/oauth2/auth?client_id=947318989803-6bn6qk8qdgf4n4g3pfee6491hc0brc4i.apps.googleusercontent.com&redirect_uri=urn%3aietf%3awg%3aoauth%3a2.0%3aoob&response_type=code&scope=email%20https%3a%2f%2fwww.googleapis.com%2fauth%2fdocs.test%20https%3a%2f%2fwww.googleapis.com%2fauth%2fdrive%20https%3a%2f%2fwww.googleapis.com%2fauth%2fdrive.photos.readonly%20https%3a%2f%2fwww.googleapis.com%2fauth%2fpeopleapi.readonly\n\nEnter your authorization code:\n··········\nMounted at /content/gdrive\n"
        }
      ]
    },
    {
      "metadata": {
        "colab": {
          "base_uri": "https://localhost:8080/",
          "height": 35
        },
        "colab_type": "code",
        "id": "v7FrMFo_0gK0",
        "outputId": "a0346394-d2f0-4f9d-b3fd-fb14b1242070",
        "trusted": false
      },
      "cell_type": "code",
      "source": "if os.path.exists(os.getcwd()+\"\\\\national.json\"):\n    os.remove(os.getcwd()+\"\\\\national.json\")\nwget.download('https://api.covid19india.org/data.json', os.getcwd()+\"//national.json\")\n\nif os.path.exists(os.getcwd()+\"\\\\states.json\"):\n    os.remove(os.getcwd()+\"\\\\states.json\")\nwget.download('https://api.covid19india.org/states_daily.json', os.getcwd()+\"//states.json\")",
      "execution_count": 0,
      "outputs": [
        {
          "data": {
            "text/plain": "'/content/gdrive/My Drive/minimal//states (1).json'"
          },
          "execution_count": 4,
          "metadata": {
            "tags": []
          },
          "output_type": "execute_result"
        }
      ]
    },
    {
      "metadata": {
        "colab": {},
        "colab_type": "code",
        "id": "onP6Jq5RzqAH",
        "trusted": false
      },
      "cell_type": "code",
      "source": "def pooled_SD(sds,means):\n    return np.sqrt((np.sum(sds**2,axis=0)+np.sum(means-np.mean(means,axis=0)))/sds.shape[0])",
      "execution_count": 0,
      "outputs": []
    },
    {
      "metadata": {
        "colab": {},
        "colab_type": "code",
        "id": "colNKV4kzqAO",
        "trusted": false
      },
      "cell_type": "code",
      "source": "json_data = {}",
      "execution_count": 0,
      "outputs": []
    },
    {
      "metadata": {
        "colab": {},
        "colab_type": "code",
        "id": "YNOfWkFFBreC",
        "trusted": false
      },
      "cell_type": "code",
      "source": "def fn(mon):\n  if(mon == \"01\"):\n    return \" January\"\n  if(mon == \"02\"):\n    return \" February\"\n  if(mon == \"03\"):\n    return \" March\"\n  if(mon == \"04\"):\n    return \" April\"\n  if(mon == \"05\"):\n    return \" May\"\n  if(mon == \"06\"):\n    return \" June\"\n  if(mon == \"07\"):\n    return \" July\"\n  if(mon == \"08\"):\n    return \" August\"\n  if(mon == \"09\"):\n    return \" September\"\n  if(mon == \"10\"):\n    return \" October\"\n  if(mon == \"11\"):\n    return \" November\"\n  if(mon == \"12\"):\n    return \" December\"\ndef convert(dat): \n    return  str(dat[3:5]) + fn(str(dat[:2]))",
      "execution_count": 0,
      "outputs": []
    },
    {
      "metadata": {
        "colab_type": "text",
        "id": "w93pDNZ4zqAV"
      },
      "cell_type": "markdown",
      "source": "### Calculation for Rt (India - No Import Adjustment)"
    },
    {
      "metadata": {
        "colab": {
          "base_uri": "https://localhost:8080/",
          "height": 17
        },
        "colab_type": "code",
        "id": "dWN18py3zqAW",
        "outputId": "9b9b19b0-e489-4119-d5e7-048047aac3e9",
        "trusted": false
      },
      "cell_type": "code",
      "source": "dates = np.array([pd.to_datetime(i['date']+\"2020\") for i in json.load(open('national.json',))['cases_time_series']])\nconfirmed = np.array([int(i['dailyconfirmed'])for i in json.load(open('national.json',))['cases_time_series']])\n\nconfirmed = confirmed[dates>=pd.to_datetime(\"03/04/20\")]\ndates = dates[dates>=pd.to_datetime(\"03/04/20\")]\n\nreal_data = confirmed\n\nrt = []\ndats = []\nfor n in range(100):\n    print(\"Iteration: \",n+1,end='\\r')\n    dataset = np.copy(real_data)\n    G = gamma(3.325+0.616*np.random.normal(),0.979+0.195*np.random.normal())\n    for i in range(len(dataset)):\n        send_back = np.clip(np.round(G.rvs(np.max([0,int(dataset[i])]))),0,10)\n        send_back = send_back[i-send_back>=0]\n        dataset[i] = 0\n        for j in np.unique(np.int32(send_back)):\n            dataset[i-j] += np.sum(send_back==j)\n    dataset[::-1] = dataset[::-1]+np.random.negative_binomial(n=dataset[::-1]+1,p=G.cdf(np.arange(len(dataset))),size=len(dataset)) \n    df = pd.DataFrame()\n    df['active'] = dataset[:-3]\n    df['date'] = dates[:-3]\n    df.to_csv('dataset.csv',index=False)\n    call(['RScript.exe','scripts/Rt_analysis.R'])\n    rt.append(pd.read_csv('rtoutput.csv'))\n    dats.append(dataset[:-3])\n\nmeans = np.array([x[\"Mean(R)\"].values for x in rt])\nsds = np.array([x[\"Std(R)\"].values for x in rt])",
      "execution_count": 0,
      "outputs": [
        {
          "name": "stdout",
          "output_type": "stream",
          "text": ""
        }
      ]
    },
    {
      "metadata": {
        "colab": {},
        "colab_type": "code",
        "id": "FWgMISj0U2pN",
        "trusted": false
      },
      "cell_type": "code",
      "source": "stindex = 2+5-1\nunchanged=list(pd.Series(dates)[stindex:stindex+means.shape[1]].dt.strftime('%m-%d-%Y'))\nchanged=[]\nfor i in unchanged:\n  changed.append(convert(i))",
      "execution_count": 0,
      "outputs": []
    },
    {
      "metadata": {
        "colab": {},
        "colab_type": "code",
        "id": "UsTogwOJzqAd",
        "trusted": false
      },
      "cell_type": "code",
      "source": "import pandas as pd\ndf=pd.DataFrame()\ncsv_dates=[]\ncsv_rt_point=[]\ncsv_rt_sd=[]\ncsv_rt_l95=[]\ncsv_rt_u95=[]\ncsv_rt_l50=[]\ncsv_rt_u50=[]\ncsv_cases_mean=[]\ncsv_cases_sd=[]\ncsv_cases_dates=[]\n#dates=[]\nindia = {\n        'dates':changed,\n        'rt_point':list(means.mean(axis=0)),\n        'rt_sd':list(pooled_SD(sds,means)),\n        'rt_l95':list(means.mean(axis=0)-1.95996*pooled_SD(sds,means)),\n        'rt_u95':list(means.mean(axis=0)+1.95996*pooled_SD(sds,means)),\n        'rt_l50':list(means.mean(axis=0)-0.67449*pooled_SD(sds,means)),\n        'rt_u50':list(means.mean(axis=0)+0.67449*pooled_SD(sds,means)),\n        'cases_mean':list(np.mean(dats,axis=0)),\n        'cases_sd':list(np.std(dats,axis=0)),\n        'cases_dates':list(pd.Series(dates)[:-3].dt.strftime('%m-%d-%Y'))\n        }\nfor i in range(len(changed)):\n  csv_dates.append(changed[i])\n  csv_rt_point.append(list(means.mean(axis=0))[i])\n  csv_rt_sd.append(list(pooled_SD(sds,means))[i])\n  csv_rt_l95.append(list(means.mean(axis=0)-1.95996*pooled_SD(sds,means))[i])\n  csv_rt_u95.append(list(means.mean(axis=0)+1.95996*pooled_SD(sds,means))[i])\n  csv_rt_l50.append(list(means.mean(axis=0)-0.67449*pooled_SD(sds,means))[i])\n  csv_rt_u50.append(list(means.mean(axis=0)+0.67449*pooled_SD(sds,means))[i])\n  csv_cases_mean.append(list(np.mean(dats,axis=0))[i])\n  csv_cases_sd.append(list(np.std(dats,axis=0))[i])\n  csv_cases_dates.append(list(pd.Series(dates)[:-3].dt.strftime('%m-%d-%Y'))[i])\ndf['dates']=csv_dates\ndf['state']=['India']*len(csv_dates)\ndf['rt_point']=csv_rt_point\ndf['rt_sd']=csv_rt_sd\ndf['rt_l95']=csv_rt_l95\ndf['rt_u95']=csv_rt_u95\ndf['rt_l50']= csv_rt_l50\ndf['rt_u50']=csv_rt_u50\ndf['cases_mean']=csv_cases_mean\ndf['cases_sd']=csv_cases_sd\ndf['cases_dates']=csv_cases_dates",
      "execution_count": 0,
      "outputs": []
    },
    {
      "metadata": {
        "colab": {},
        "colab_type": "code",
        "id": "KMAg9Yo5zqAl",
        "trusted": false
      },
      "cell_type": "code",
      "source": "json_data['IN'] = india",
      "execution_count": 0,
      "outputs": []
    },
    {
      "metadata": {
        "colab_type": "text",
        "id": "GR9UQk46zqAr"
      },
      "cell_type": "markdown",
      "source": "### State Level Data"
    },
    {
      "metadata": {
        "colab": {},
        "colab_type": "code",
        "id": "9640HhV4zqAs",
        "trusted": false
      },
      "cell_type": "code",
      "source": "states = list(filter(lambda v:len(v)<3,list(json.load(open('states.json',))['states_daily'][0].keys())))",
      "execution_count": 0,
      "outputs": []
    },
    {
      "metadata": {
        "colab": {},
        "colab_type": "code",
        "id": "CXFb8gevzqAy",
        "trusted": false
      },
      "cell_type": "code",
      "source": "dates = np.array([pd.to_datetime(i['date']) for i in filter(lambda v: v['status'] == 'Confirmed',json.load(open('states.json',))['states_daily'])])\ndata = pd.DataFrame()\nfor st in states:\n    data[st] = np.array([i[st] for i in filter(lambda v: v['status'] == 'Confirmed',json.load(open('states.json',))['states_daily'])])",
      "execution_count": 0,
      "outputs": []
    },
    {
      "metadata": {
        "colab": {},
        "colab_type": "code",
        "id": "yoileJ5bzqA3",
        "trusted": false
      },
      "cell_type": "code",
      "source": "data = data.replace(r'^\\s*$', np.NaN, regex=True).fillna(0)\ndata = data.astype(np.int32)\ndata['date'] = dates",
      "execution_count": 0,
      "outputs": []
    },
    {
      "metadata": {
        "colab": {
          "base_uri": "https://localhost:8080/",
          "height": 1000
        },
        "colab_type": "code",
        "id": "HuUH522NzqA8",
        "outputId": "7e65bb20-a1ab-4215-f3a6-9fb2a109ad20",
        "scrolled": false,
        "trusted": false
      },
      "cell_type": "code",
      "source": "state_id = {\n  \"mh\":\"Maharashtra\",\n  \"tn\":\"Tamil Nadu\",\n  \"dl\":\"Delhi\",\n  \"gj\":\"Gujarat\",\n  \"rj\":\"Rajasthan\",\n  \"up\":\"Uttar Pradesh\",\n  \"mp\":\"Madhya Pradesh\",\n  \"wb\":\"West Bengal\",\n  \"ka\":\"Karnataka\",\n  \"br\":\"Bihar\",\n  \"ap\":\"Andhra Pradesh\",\n  \"hr\":\"Haryana\",\n  \"tg\":\"Telangana\",\n  \"jk\":\"Jammu and Kashmir\",\n  \"or\":\"Odisha\",\n  \"pb\":\"Punjab\",\n  \"as\":\"Assam\",\n  \"kl\":\"Kerala\",\n  \"ut\":\"Uttarakhand\",\n  \"jh\":\"Jharkand\",\n  \"ct\":\"Chhattisgarh\",\n  \"tr\":\"Tripura\",\n  \"hp\":\"Himachal Pradesh\",\n  \"ch\":\"Chandigarh\",\n  \"ga\":\"Goa\",\n  \"mn\":\"Manipur\",\n  \"nl\":\"Nagaland\",\n  \"py\":\"Puducherry\",\n  \"la\":\"Ladakh\",\n  \"ar\":\"Arunachal Pradesh\",\n  \"an\":\"Andaman and Nicobar Islands\",\n  \"ml\":\"Meghalaya\",\n  \"mz\":\"Mizoram\",\n  \"dn\":\"Dadra and Nagar Haveli and Daman and Diu\",\n  \"sk\":\"Sikkim\",\n}\nfor state in state_id.keys():\n    csv_dates=[]\n    csv_rt_point=[]\n    csv_rt_sd=[]\n    csv_rt_l95=[]\n    csv_rt_u95=[]\n    csv_rt_l50=[]\n    csv_rt_u50=[]\n    csv_cases_mean=[]\n    csv_cases_sd=[]\n    csv_cases_dates=[]\n    print(\"\\n\",state)\n    boots = 100\n    real_data = data[state].values\n    active = pd.DataFrame()\n    active['active'] = real_data\n    active.to_csv('dataset.csv',index=False)\n    rt = []\n    dats = []\n    for n in range(boots):\n        print(\"Iteration: \",n+1,end='\\r')\n        G = gamma(3.325+0.616*np.random.normal(),0.979+0.195*np.random.normal())\n        dataset = np.copy(real_data)\n        for i in range(len(dataset)):\n            send_back = np.clip(np.round(G.rvs(np.max([0,int(dataset[i])]))),0,10)\n            send_back = send_back[i-send_back>=0]\n            dataset[i] = 0\n            for j in np.unique(np.int32(send_back)):\n                dataset[i-j] += np.sum(send_back==j)\n        dataset[::-1] = dataset[::-1]+np.random.negative_binomial(n=dataset[::-1]+1,p=G.cdf(np.arange(len(dataset))),size=len(dataset)) \n        active = pd.DataFrame()\n        active['active'] = dataset[:-3]\n        active['date'] = dates[:-3]\n        dats.append(dataset[:-3])\n        active.to_csv('dataset.csv',index=False)\n        call(['RScript.exe','scripts/Rt_analysis.R'])\n        rt.append(pd.read_csv('rtoutput.csv'))\n\n    means = np.array([x[\"Mean(R)\"].values for x in rt])\n    sds = np.array([x[\"Std(R)\"].values for x in rt])\n    dat_means = np.mean(dats,axis=0)\n    dat_sds = np.std(dats,axis=0)\n    unchanged=list(pd.Series(dates)[stindex:stindex+means.shape[1]].dt.strftime('%m-%d-%Y'))\n    changed=[]\n    unchanged=list(pd.Series(dates)[stindex:stindex+means.shape[1]].dt.strftime('%m-%d-%Y'))\n    for i in unchanged:\n      changed.append(convert(i))\n    stindex = 2+5-1\n    temp = {\n            'dates':changed,\n            'rt_point':list(means.mean(axis=0)),\n            'rt_sd':list(pooled_SD(sds,means)),\n            'rt_l95':list(means.mean(axis=0)-1.95996*pooled_SD(sds,means)),\n            'rt_u95':list(means.mean(axis=0)+1.95996*pooled_SD(sds,means)),\n            'rt_l50':list(means.mean(axis=0)-0.67449*pooled_SD(sds,means)),\n            'rt_u50':list(means.mean(axis=0)+0.67449*pooled_SD(sds,means)),\n            'cases_mean':list(np.mean(dats,axis=0)),\n            'cases_sd':list(np.std(dats,axis=0)),\n            'cases_dates':list(pd.Series(dates)[:-3].dt.strftime('%m-%d-%Y'))\n            }\n    state_df=pd.DataFrame()\n    for i in range(len(changed)):\n      csv_dates.append(changed[i])\n      csv_rt_point.append(list(means.mean(axis=0))[i])\n      csv_rt_sd.append(list(pooled_SD(sds,means))[i])\n      csv_rt_l95.append(list(means.mean(axis=0)-1.95996*pooled_SD(sds,means))[i])\n      csv_rt_u95.append(list(means.mean(axis=0)+1.95996*pooled_SD(sds,means))[i])\n      csv_rt_l50.append(list(means.mean(axis=0)-0.67449*pooled_SD(sds,means))[i])\n      csv_rt_u50.append(list(means.mean(axis=0)+0.67449*pooled_SD(sds,means))[i])\n      csv_cases_mean.append(list(np.mean(dats,axis=0))[i])\n      csv_cases_sd.append(list(np.std(dats,axis=0))[i])\n      csv_cases_dates.append(list(pd.Series(dates)[:-3].dt.strftime('%m-%d-%Y'))[i])\n    state_df['dates']=csv_dates\n    state_df['state']=[state]*len(csv_dates)\n    state_df['rt_point']=csv_rt_point\n    state_df['rt_sd']=csv_rt_sd\n    state_df['rt_l95']=csv_rt_l95\n    state_df['rt_u95']=csv_rt_u95\n    state_df['rt_l50']= csv_rt_l50\n    state_df['rt_u50']=csv_rt_u50\n    state_df['cases_mean']=csv_cases_mean\n    state_df['cases_sd']=csv_cases_sd\n    state_df['cases_dates']=csv_cases_dates\n    df=pd.concat([df,state_df])\n    json_data[state] = temp\n",
      "execution_count": 0,
      "outputs": [
        {
          "name": "stdout",
          "output_type": "stream",
          "text": "\n kl\n\n mh\nIteration:  100\n gj\nIteration:  100\n dl\n\n rj\nIteration:  100\n tn\nIteration:  100\n mp\n\n up\n\n tg\n\n ap\nIteration:  100\n ka\nIteration:  100\n wb\nIteration:  100\n jk\n\n hr\n\n pb\nIteration:  100\n br\nIteration:  100\n or\nIteration:  100\n jh\nIteration:  100\n ut\nIteration:  100\n hp\n\n ct\n\n as\n\n ch\n\n la\nIteration:  100\n an\nIteration:  100\n ml\nIteration:  100\n ga\n\n py\n\n mn\nIteration:  100\n tr\n\n ar\nIteration:  100\n mz\n"
        }
      ]
    },
    {
      "metadata": {
        "colab": {},
        "colab_type": "code",
        "id": "Iq5318Ms3FZL",
        "trusted": false
      },
      "cell_type": "code",
      "source": "df.to_csv('rt.csv',index=False)",
      "execution_count": 0,
      "outputs": []
    },
    {
      "metadata": {
        "colab": {},
        "colab_type": "code",
        "id": "kbOg8nEFzqBC",
        "trusted": false
      },
      "cell_type": "code",
      "source": "json_data_indented =  json.dump(json_data, , indent = 4)\nwith open(\"rt.json\", \"w\") as outfile: \n    outfile.write(json_data_indented)",
      "execution_count": 0,
      "outputs": []
    },
    {
      "metadata": {
        "colab": {},
        "colab_type": "code",
        "id": "A_7vvG1XOPCo",
        "trusted": false
      },
      "cell_type": "code",
      "source": "",
      "execution_count": 0,
      "outputs": []
    }
  ],
  "metadata": {
    "accelerator": "GPU",
    "colab": {
      "collapsed_sections": [],
      "name": "rt.ipynb",
      "provenance": []
    },
    "kernelspec": {
      "name": "python3",
      "display_name": "Python 3",
      "language": "python"
    },
    "language_info": {
      "mimetype": "text/x-python",
      "nbconvert_exporter": "python",
      "name": "python",
      "pygments_lexer": "ipython3",
      "version": "3.5.4",
      "file_extension": ".py",
      "codemirror_mode": {
        "version": 3,
        "name": "ipython"
      }
    }
  },
  "nbformat": 4,
  "nbformat_minor": 1
}