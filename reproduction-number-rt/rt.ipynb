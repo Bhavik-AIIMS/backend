{
 "cells": [
  {
   "cell_type": "code",
   "execution_count": 15,
   "metadata": {
    "colab": {
     "base_uri": "https://localhost:8080/",
     "height": 35
    },
    "colab_type": "code",
    "id": "Dg4B7WwDzp_9",
    "outputId": "2b7597f8-1ce7-437f-f10d-8465119c82e5"
   },
   "outputs": [
    {
     "name": "stdout",
     "output_type": "stream",
     "text": [
      "100% [........................................................] 165116 / 165116"
     ]
    },
    {
     "data": {
      "text/plain": [
       "'C:\\\\Users\\\\asus\\\\Documents\\\\GitHub\\\\CovidToday_Website\\\\reproduction-number-rt\\\\states.json'"
      ]
     },
     "execution_count": 15,
     "metadata": {},
     "output_type": "execute_result"
    }
   ],
   "source": [
    "import numpy as np\n",
    "import matplotlib.pyplot as plt\n",
    "import pandas as pd\n",
    "from subprocess import call\n",
    "from scipy.stats.distributions import gamma\n",
    "import json \n",
    "import wget\n",
    "import os\n",
    "import os.path\n",
    "\n",
    "if os.path.exists(os.getcwd()+\"\\\\national.json\"):\n",
    "    os.remove(os.getcwd()+\"\\\\national.json\")\n",
    "wget.download('https://api.covid19india.org/data.json', os.getcwd()+\"\\\\national.json\")\n",
    "\n",
    "if os.path.exists(os.getcwd()+\"\\\\states.json\"):\n",
    "    os.remove(os.getcwd()+\"\\\\states.json\")\n",
    "wget.download('https://api.covid19india.org/states_daily.json', os.getcwd()+\"\\\\states.json\")"
   ]
  },
  {
   "cell_type": "code",
   "execution_count": 16,
   "metadata": {
    "colab": {
     "base_uri": "https://localhost:8080/",
     "height": 35
    },
    "colab_type": "code",
    "id": "v7FrMFo_0gK0",
    "outputId": "c1e0ca99-0707-4c5d-d8d1-1eb43a2faddf"
   },
   "outputs": [
    {
     "data": {
      "text/plain": [
       "['C:\\\\Users\\\\asus\\\\Documents\\\\GitHub\\\\CovidToday_Website\\\\reproduction-number-rt',\n",
       " 'F:\\\\Anaconda3\\\\python37.zip',\n",
       " 'F:\\\\Anaconda3\\\\DLLs',\n",
       " 'F:\\\\Anaconda3\\\\lib',\n",
       " 'F:\\\\Anaconda3',\n",
       " '',\n",
       " 'F:\\\\Anaconda3\\\\lib\\\\site-packages',\n",
       " 'F:\\\\Anaconda3\\\\lib\\\\site-packages\\\\win32',\n",
       " 'F:\\\\Anaconda3\\\\lib\\\\site-packages\\\\win32\\\\lib',\n",
       " 'F:\\\\Anaconda3\\\\lib\\\\site-packages\\\\Pythonwin',\n",
       " 'F:\\\\Anaconda3\\\\lib\\\\site-packages\\\\IPython\\\\extensions',\n",
       " 'C:\\\\Users\\\\asus\\\\.ipython']"
      ]
     },
     "execution_count": 16,
     "metadata": {},
     "output_type": "execute_result"
    }
   ],
   "source": [
    "import sys\n",
    "sys.path"
   ]
  },
  {
   "cell_type": "code",
   "execution_count": 17,
   "metadata": {
    "colab": {},
    "colab_type": "code",
    "id": "onP6Jq5RzqAH"
   },
   "outputs": [],
   "source": [
    "def pooled_SD(sds,means):\n",
    "    return np.sqrt((np.sum(sds**2,axis=0)+np.sum(means-np.mean(means,axis=0)))/sds.shape[0])"
   ]
  },
  {
   "cell_type": "code",
   "execution_count": 18,
   "metadata": {
    "colab": {},
    "colab_type": "code",
    "id": "colNKV4kzqAO"
   },
   "outputs": [],
   "source": [
    "json_data = {}"
   ]
  },
  {
   "cell_type": "code",
   "execution_count": 19,
   "metadata": {
    "colab": {},
    "colab_type": "code",
    "id": "YNOfWkFFBreC"
   },
   "outputs": [],
   "source": [
    "def fn(mon):\n",
    "  if(mon == \"01\"):\n",
    "    return \" January\"\n",
    "  if(mon == \"02\"):\n",
    "    return \" February\"\n",
    "  if(mon == \"03\"):\n",
    "    return \" March\"\n",
    "  if(mon == \"04\"):\n",
    "    return \" April\"\n",
    "  if(mon == \"05\"):\n",
    "    return \" May\"\n",
    "  if(mon == \"06\"):\n",
    "    return \" June\"\n",
    "  if(mon == \"07\"):\n",
    "    return \" July\"\n",
    "  if(mon == \"08\"):\n",
    "    return \" August\"\n",
    "  if(mon == \"09\"):\n",
    "    return \" September\"\n",
    "  if(mon == \"10\"):\n",
    "    return \" October\"\n",
    "  if(mon == \"11\"):\n",
    "    return \" November\"\n",
    "  if(mon == \"12\"):\n",
    "    return \" December\"\n",
    "def convert(dat): \n",
    "    return  str(dat[3:5]) + fn(str(dat[:2]))"
   ]
  },
  {
   "cell_type": "markdown",
   "metadata": {
    "colab_type": "text",
    "id": "w93pDNZ4zqAV"
   },
   "source": [
    "### Calculation for Rt (India - No Import Adjustment)"
   ]
  },
  {
   "cell_type": "code",
   "execution_count": 20,
   "metadata": {
    "colab": {
     "base_uri": "https://localhost:8080/",
     "height": 17
    },
    "colab_type": "code",
    "id": "dWN18py3zqAW",
    "outputId": "ac52a9a9-1463-4b7f-eab3-bd4ad62d557e"
   },
   "outputs": [
    {
     "name": "stdout",
     "output_type": "stream",
     "text": [
      "Iteration:  10\r"
     ]
    }
   ],
   "source": [
    "\n",
    "dates = np.array([pd.to_datetime(i['date']+\"2020\") for i in json.load(open('national.json',))['cases_time_series']])\n",
    "confirmed = np.array([int(i['dailyconfirmed'])for i in json.load(open('national.json',))['cases_time_series']])\n",
    "\n",
    "confirmed = confirmed[dates>=pd.to_datetime(\"03/04/20\")]\n",
    "dates = dates[dates>=pd.to_datetime(\"03/04/20\")]\n",
    "\n",
    "real_data = confirmed\n",
    "\n",
    "rt = []\n",
    "dats = []\n",
    "for n in range(10):\n",
    "    print(\"Iteration: \",n+1,end='\\r')\n",
    "    dataset = np.copy(real_data)\n",
    "    G = gamma(3.325+0.616*np.random.normal(),0.979+0.195*np.random.normal())\n",
    "    for i in range(len(dataset)):\n",
    "        send_back = np.clip(np.round(G.rvs(np.max([0,int(dataset[i])]))),0,10)\n",
    "        send_back = send_back[i-send_back>=0]\n",
    "        dataset[i] = 0\n",
    "        for j in np.unique(np.int32(send_back)):\n",
    "            dataset[i-j] += np.sum(send_back==j)\n",
    "    dataset[::-1] = dataset[::-1]+np.random.negative_binomial(n=dataset[::-1]+1,p=G.cdf(np.arange(len(dataset))),size=len(dataset)) \n",
    "    df = pd.DataFrame()\n",
    "    df['active'] = dataset[:-3]\n",
    "    df['date'] = dates[:-3]\n",
    "    df.to_csv('dataset.csv',index=False)\n",
    "    call(['RScript.exe','scripts/Rt_analysis.R'])\n",
    "    rt.append(pd.read_csv('rtoutput.csv'))\n",
    "    dats.append(dataset[:-3])\n",
    "\n",
    "means = np.array([x[\"Mean(R)\"].values for x in rt])\n",
    "sds = np.array([x[\"Std(R)\"].values for x in rt])"
   ]
  },
  {
   "cell_type": "code",
   "execution_count": 21,
   "metadata": {
    "colab": {},
    "colab_type": "code",
    "id": "FWgMISj0U2pN"
   },
   "outputs": [],
   "source": [
    "stindex = 2+5-1\n",
    "unchanged=list(pd.Series(dates)[stindex:stindex+means.shape[1]].dt.strftime('%m-%d-%Y'))\n",
    "changed=[]\n",
    "for i in unchanged:\n",
    "  changed.append(convert(i))"
   ]
  },
  {
   "cell_type": "code",
   "execution_count": 22,
   "metadata": {
    "colab": {},
    "colab_type": "code",
    "id": "UsTogwOJzqAd"
   },
   "outputs": [],
   "source": [
    "\n",
    "#dates=[]\n",
    "india = {\n",
    "        'dates':changed,\n",
    "        'rt_point':list(means.mean(axis=0)),\n",
    "        'rt_sd':list(pooled_SD(sds,means)),\n",
    "        'rt_l95':list(means.mean(axis=0)-1.95996*pooled_SD(sds,means)),\n",
    "        'rt_u95':list(means.mean(axis=0)+1.95996*pooled_SD(sds,means)),\n",
    "        'rt_l50':list(means.mean(axis=0)-0.67449*pooled_SD(sds,means)),\n",
    "        'rt_u50':list(means.mean(axis=0)+0.67449*pooled_SD(sds,means)),\n",
    "        'cases_mean':list(np.mean(dats,axis=0)),\n",
    "        'cases_sd':list(np.std(dats,axis=0)),\n",
    "        'cases_dates':list(pd.Series(dates)[:-3].dt.strftime('%m-%d-%Y'))\n",
    "        }"
   ]
  },
  {
   "cell_type": "code",
   "execution_count": 23,
   "metadata": {
    "colab": {},
    "colab_type": "code",
    "id": "KMAg9Yo5zqAl"
   },
   "outputs": [],
   "source": [
    "json_data['IN'] = india"
   ]
  },
  {
   "cell_type": "markdown",
   "metadata": {
    "colab_type": "text",
    "id": "GR9UQk46zqAr"
   },
   "source": [
    "### State Level Data"
   ]
  },
  {
   "cell_type": "code",
   "execution_count": 24,
   "metadata": {
    "colab": {},
    "colab_type": "code",
    "id": "9640HhV4zqAs"
   },
   "outputs": [],
   "source": [
    "states = list(filter(lambda v:len(v)<3,list(json.load(open('states.json',))['states_daily'][0].keys())))"
   ]
  },
  {
   "cell_type": "code",
   "execution_count": 25,
   "metadata": {
    "colab": {},
    "colab_type": "code",
    "id": "CXFb8gevzqAy"
   },
   "outputs": [],
   "source": [
    "dates = np.array([pd.to_datetime(i['date']) for i in filter(lambda v: v['status'] == 'Confirmed',json.load(open('states.json',))['states_daily'])])\n",
    "data = pd.DataFrame()\n",
    "for st in states:\n",
    "    data[st] = np.array([i[st] for i in filter(lambda v: v['status'] == 'Confirmed',json.load(open('states.json',))['states_daily'])])"
   ]
  },
  {
   "cell_type": "code",
   "execution_count": 26,
   "metadata": {
    "colab": {},
    "colab_type": "code",
    "id": "yoileJ5bzqA3"
   },
   "outputs": [],
   "source": [
    "data = data.replace(r'^\\s*$', np.NaN, regex=True).fillna(0)\n",
    "data = data.astype(np.int32)\n",
    "data['date'] = dates"
   ]
  },
  {
   "cell_type": "code",
   "execution_count": 27,
   "metadata": {
    "colab": {
     "base_uri": "https://localhost:8080/",
     "height": 1000
    },
    "colab_type": "code",
    "id": "HuUH522NzqA8",
    "outputId": "e86f2999-b256-4d5b-9a74-642e82bdaa33",
    "scrolled": false
   },
   "outputs": [
    {
     "name": "stdout",
     "output_type": "stream",
     "text": [
      "\n",
      " mh\n",
      "Iteration:  10\n",
      " tn\n",
      "Iteration:  10\n",
      " dl\n",
      "Iteration:  10\n",
      " gj\n",
      "Iteration:  10\n",
      " rj\n",
      "Iteration:  10\n",
      " up\n",
      "Iteration:  10\n",
      " mp\n",
      "Iteration:  10\n",
      " wb\n",
      "Iteration:  10\n",
      " ka\n",
      "Iteration:  10\n",
      " br\n",
      "Iteration:  10\n",
      " ap\n",
      "Iteration:  10\n",
      " hr\n",
      "Iteration:  10\n",
      " tg\n",
      "Iteration:  10\n",
      " jk\n",
      "Iteration:  10\n",
      " or\n",
      "Iteration:  10\n",
      " pb\n",
      "Iteration:  10\n",
      " as\n",
      "Iteration:  10\n",
      " kl\n",
      "Iteration:  10\n",
      " ut\n",
      "Iteration:  10\n",
      " jh\n",
      "Iteration:  10\n",
      " ct\n",
      "Iteration:  10\n",
      " tr\n",
      "Iteration:  10\n",
      " hp\n",
      "Iteration:  10\n",
      " ch\n",
      "Iteration:  10\n",
      " ga\n",
      "Iteration:  10\n",
      " mn\n",
      "Iteration:  10\n",
      " nl\n",
      "Iteration:  10\n",
      " py\n",
      "Iteration:  10\n",
      " la\n",
      "Iteration:  10\n",
      " ar\n",
      "Iteration:  10\n",
      " an\n",
      "Iteration:  10\n",
      " ml\n",
      "Iteration:  10\n",
      " mz\n",
      "Iteration:  10\n",
      " dn\n",
      "Iteration:  10\n",
      " sk\n",
      "Iteration:  10\r"
     ]
    }
   ],
   "source": [
    "state_id = {\n",
    "  \"mh\":\"Maharashtra\",\n",
    "  \"tn\":\"Tamil Nadu\",\n",
    "  \"dl\":\"Delhi\",\n",
    "  \"gj\":\"Gujarat\",\n",
    "  \"rj\":\"Rajasthan\",\n",
    "  \"up\":\"Uttar Pradesh\",\n",
    "  \"mp\":\"Madhya Pradesh\",\n",
    "  \"wb\":\"West Bengal\",\n",
    "  \"ka\":\"Karnataka\",\n",
    "  \"br\":\"Bihar\",\n",
    "  \"ap\":\"Andhra Pradesh\",\n",
    "  \"hr\":\"Haryana\",\n",
    "  \"tg\":\"Telangana\",\n",
    "  \"jk\":\"Jammu and Kashmir\",\n",
    "  \"or\":\"Odisha\",\n",
    "  \"pb\":\"Punjab\",\n",
    "  \"as\":\"Assam\",\n",
    "  \"kl\":\"Kerala\",\n",
    "  \"ut\":\"Uttarakhand\",\n",
    "  \"jh\":\"Jharkand\",\n",
    "  \"ct\":\"Chhattisgarh\",\n",
    "  \"tr\":\"Tripura\",\n",
    "  \"hp\":\"Himachal Pradesh\",\n",
    "  \"ch\":\"Chandigarh\",\n",
    "  \"ga\":\"Goa\",\n",
    "  \"mn\":\"Manipur\",\n",
    "  \"nl\":\"Nagaland\",\n",
    "  \"py\":\"Puducherry\",\n",
    "  \"la\":\"Ladakh\",\n",
    "  \"ar\":\"Arunachal Pradesh\",\n",
    "  \"an\":\"Andaman and Nicobar Islands\",\n",
    "  \"ml\":\"Meghalaya\",\n",
    "  \"mz\":\"Mizoram\",\n",
    "  \"dn\":\"Dadra and Nagar Haveli and Daman and Diu\",\n",
    "  \"sk\":\"Sikkim\",\n",
    "}\n",
    "\n",
    "for state in state_id.keys():\n",
    "    print(\"\\n\",state)\n",
    "    boots = 10\n",
    "    real_data = data[state].values\n",
    "    df = pd.DataFrame()\n",
    "    df['active'] = real_data\n",
    "    df.to_csv('dataset.csv',index=False)\n",
    "    rt = []\n",
    "    dats = []\n",
    "    for n in range(boots):\n",
    "        print(\"Iteration: \",n+1,end='\\r')\n",
    "        G = gamma(3.325+0.616*np.random.normal(),0.979+0.195*np.random.normal())\n",
    "        dataset = np.copy(real_data)\n",
    "        for i in range(len(dataset)):\n",
    "            send_back = np.clip(np.round(G.rvs(np.max([0,int(dataset[i])]))),0,10)\n",
    "            send_back = send_back[i-send_back>=0]\n",
    "            dataset[i] = 0\n",
    "            for j in np.unique(np.int32(send_back)):\n",
    "                dataset[i-j] += np.sum(send_back==j)\n",
    "        dataset[::-1] = dataset[::-1]+np.random.negative_binomial(n=dataset[::-1]+1,p=G.cdf(np.arange(len(dataset))),size=len(dataset)) \n",
    "        df = pd.DataFrame()\n",
    "        df['active'] = dataset[:-3]\n",
    "        df['date'] = dates[:-3]\n",
    "        dats.append(dataset[:-3])\n",
    "        df.to_csv('dataset.csv',index=False)\n",
    "        call(['RScript.exe','scripts/Rt_analysis.R'])\n",
    "        rt.append(pd.read_csv('rtoutput.csv'))\n",
    "\n",
    "    means = np.array([x[\"Mean(R)\"].values for x in rt])\n",
    "    sds = np.array([x[\"Std(R)\"].values for x in rt])\n",
    "    dat_means = np.mean(dats,axis=0)\n",
    "    dat_sds = np.std(dats,axis=0)\n",
    "    unchanged=list(pd.Series(dates)[stindex:stindex+means.shape[1]].dt.strftime('%m-%d-%Y'))\n",
    "    changed=[]\n",
    "    unchanged=list(pd.Series(dates)[stindex:stindex+means.shape[1]].dt.strftime('%m-%d-%Y'))\n",
    "    for i in unchanged:\n",
    "      changed.append(convert(i))\n",
    "    stindex = 2+5-1\n",
    "    temp = {\n",
    "            'dates':changed,\n",
    "            'rt_point':list(means.mean(axis=0)),\n",
    "            'rt_sd':list(pooled_SD(sds,means)),\n",
    "            'rt_l95':list(means.mean(axis=0)-1.95996*pooled_SD(sds,means)),\n",
    "            'rt_u95':list(means.mean(axis=0)+1.95996*pooled_SD(sds,means)),\n",
    "            'rt_l50':list(means.mean(axis=0)-0.67449*pooled_SD(sds,means)),\n",
    "            'rt_u50':list(means.mean(axis=0)+0.67449*pooled_SD(sds,means)),\n",
    "            'cases_mean':list(np.mean(dats,axis=0)),\n",
    "            'cases_sd':list(np.std(dats,axis=0)),\n",
    "            'cases_dates':list(pd.Series(dates)[:-3].dt.strftime('%m-%d-%Y'))\n",
    "            }\n",
    "    json_data[state] = temp\n"
   ]
  },
  {
   "cell_type": "code",
   "execution_count": 28,
   "metadata": {
    "colab": {},
    "colab_type": "code",
    "id": "kbOg8nEFzqBC"
   },
   "outputs": [],
   "source": [
    "with open('data.json', 'w') as outfile:\n",
    "    json.dump(json_data, outfile)"
   ]
  },
  {
   "cell_type": "code",
   "execution_count": null,
   "metadata": {
    "colab": {},
    "colab_type": "code",
    "id": "A_7vvG1XOPCo"
   },
   "outputs": [],
   "source": []
  }
 ],
 "metadata": {
  "accelerator": "GPU",
  "colab": {
   "collapsed_sections": [],
   "name": "rt.ipynb",
   "provenance": []
  },
  "kernelspec": {
   "display_name": "Python 3",
   "language": "python",
   "name": "python3"
  },
  "language_info": {
   "codemirror_mode": {
    "name": "ipython",
    "version": 3
   },
   "file_extension": ".py",
   "mimetype": "text/x-python",
   "name": "python",
   "nbconvert_exporter": "python",
   "pygments_lexer": "ipython3",
   "version": "3.7.6"
  }
 },
 "nbformat": 4,
 "nbformat_minor": 1
}
