{
 "cells": [
  {
   "cell_type": "code",
   "execution_count": 1,
   "metadata": {},
   "outputs": [
    {
     "name": "stdout",
     "output_type": "stream",
     "text": [
      "100% [..........................................................................] 2260320 / 2260320"
     ]
    },
    {
     "data": {
      "text/plain": [
       "'E:\\\\Coronavirus\\\\Covidtoday.in\\\\test.json'"
      ]
     },
     "execution_count": 1,
     "metadata": {},
     "output_type": "execute_result"
    }
   ],
   "source": [
    "import numpy as np\n",
    "import matplotlib.pyplot as plt\n",
    "import pandas as pd\n",
    "from subprocess import call\n",
    "from scipy.stats.distributions import gamma,lognorm\n",
    "import json \n",
    "import wget\n",
    "import os\n",
    "import os.path\n",
    "\n",
    "def n2z(x):\n",
    "    x[np.logical_or(np.isnan(x),np.isinf(x))] = 0\n",
    "    return x\n",
    "\n",
    "if os.path.exists(os.getcwd()+\"\\\\national.json\"):\n",
    "    os.remove(os.getcwd()+\"\\\\national.json\")\n",
    "wget.download('https://api.covid19india.org/data.json', os.getcwd()+\"\\\\national.json\")\n",
    "\n",
    "if os.path.exists(os.getcwd()+\"\\\\states.json\"):\n",
    "    os.remove(os.getcwd()+\"\\\\states.json\")\n",
    "wget.download('https://api.covid19india.org/states_daily.json', os.getcwd()+\"\\\\states.json\")\n",
    "\n",
    "if os.path.exists(os.getcwd()+\"\\\\test.json\"):\n",
    "    os.remove(os.getcwd()+\"\\\\test.json\")\n",
    "wget.download('https://api.covid19india.org/state_test_data.json', os.getcwd()+\"\\\\test.json\")"
   ]
  },
  {
   "cell_type": "code",
   "execution_count": 60,
   "metadata": {},
   "outputs": [],
   "source": [
    "def calc_doublingtimes(x):\n",
    "    vals = []\n",
    "    for i in range(x.shape[0]):\n",
    "        for j in range(i+1,x.shape[0]):\n",
    "            vals.append(np.log(2)*(j-i)/np.log(x[j]/x[i]))\n",
    "    return np.mean(vals),np.mean(vals)-1.96*np.std(vals),np.mean(vals)+1.96*np.std(vals)"
   ]
  },
  {
   "cell_type": "code",
   "execution_count": 61,
   "metadata": {},
   "outputs": [],
   "source": [
    "dates = np.array([pd.to_datetime(i['date']+\"2020\") for i in json.load(open('national.json',))['cases_time_series']])\n",
    "confirmed = np.array([int(i['dailyconfirmed'])for i in json.load(open('national.json',))['cases_time_series']])\n",
    "deceased = np.array([int(i['dailydeceased'])for i in json.load(open('national.json',))['cases_time_series']])\n",
    "recovered = np.array([int(i['dailyrecovered'])for i in json.load(open('national.json',))['cases_time_series']])\n",
    "\n",
    "confirmed = confirmed[dates>=pd.to_datetime(\"03/04/20\")]\n",
    "deceased = deceased[dates>=pd.to_datetime(\"03/04/20\")]\n",
    "recovered = recovered[dates>=pd.to_datetime(\"03/04/20\")]\n",
    "dates = dates[dates>=pd.to_datetime(\"03/04/20\")]"
   ]
  },
  {
   "cell_type": "code",
   "execution_count": 62,
   "metadata": {},
   "outputs": [],
   "source": [
    "cumul_cases = np.cumsum(confirmed)\n",
    "dbt = np.zeros((3,cumul_cases.shape[0]))\n",
    "for i in range(cumul_cases.shape[0]):\n",
    "    dbt[:,i] = calc_doublingtimes(cumul_cases[i-7:i])"
   ]
  },
  {
   "cell_type": "code",
   "execution_count": 63,
   "metadata": {},
   "outputs": [
    {
     "data": {
      "text/plain": [
       "<matplotlib.collections.PolyCollection at 0x26ad8cf8588>"
      ]
     },
     "execution_count": 63,
     "metadata": {},
     "output_type": "execute_result"
    },
    {
     "data": {
      "image/png": "[encoded data removed]",
      "text/plain": [
       "<Figure size 432x288 with 1 Axes>"
      ]
     },
     "metadata": {
      "needs_background": "light"
     },
     "output_type": "display_data"
    }
   ],
   "source": [
    "plt.plot(pd.to_datetime(dates),dbt[0,:])\n",
    "plt.fill_between(pd.to_datetime(dates),dbt[1,:],dbt[2,:],alpha=0.2)"
   ]
  },
  {
   "cell_type": "code",
   "execution_count": 68,
   "metadata": {},
   "outputs": [],
   "source": [
    "json_data = {}\n",
    "india = {\n",
    "        'dates':list(pd.Series(dates).dt.strftime('%m-%d-%Y')),\n",
    "        'dbt_point':list(dbt[0,:]),\n",
    "        'dbt_l95':list(dbt[1,:]),\n",
    "        'dbt_u95':list(dbt[2,:])\n",
    "        }\n",
    "json_data['IN'] = india"
   ]
  },
  {
   "cell_type": "markdown",
   "metadata": {},
   "source": [
    "### State Level Data"
   ]
  },
  {
   "cell_type": "code",
   "execution_count": 69,
   "metadata": {},
   "outputs": [],
   "source": [
    "states = list(filter(lambda v:len(v)<3,list(json.load(open('states.json',))['states_daily'][0].keys())))"
   ]
  },
  {
   "cell_type": "code",
   "execution_count": 70,
   "metadata": {},
   "outputs": [],
   "source": [
    "dates = np.array([pd.to_datetime(i['date']) for i in filter(lambda v: v['status'] == 'Confirmed',json.load(open('states.json',))['states_daily'])])\n",
    "data_recovered = pd.DataFrame()\n",
    "data_deceased = pd.DataFrame()\n",
    "data_confirmed = pd.DataFrame()\n",
    "for st in states:\n",
    "    data_confirmed[st] = np.array([i[st] for i in filter(lambda v: v['status'] == 'Confirmed',json.load(open('states.json',))['states_daily'])])\n",
    "    data_deceased[st] = np.array([i[st] for i in filter(lambda v: v['status'] == 'Deceased',json.load(open('states.json',))['states_daily'])])\n",
    "    data_recovered[st] = np.array([i[st] for i in filter(lambda v: v['status'] == 'Recovered',json.load(open('states.json',))['states_daily'])])"
   ]
  },
  {
   "cell_type": "code",
   "execution_count": 71,
   "metadata": {},
   "outputs": [],
   "source": [
    "data_recovered = data_recovered.replace(r'^\\s*$', np.NaN, regex=True).fillna(0)\n",
    "data_recovered = data_recovered.astype(np.int32)\n",
    "data_confirmed = data_confirmed.replace(r'^\\s*$', np.NaN, regex=True).fillna(0)\n",
    "data_confirmed = data_confirmed.astype(np.int32)\n",
    "data_deceased = data_deceased.replace(r'^\\s*$', np.NaN, regex=True).fillna(0)\n",
    "data_deceased = data_deceased.astype(np.int32)\n",
    "data_deceased['date'] = dates\n",
    "data_recovered['date'] = dates\n",
    "data_confirmed['date'] = dates\n"
   ]
  },
  {
   "cell_type": "code",
   "execution_count": 75,
   "metadata": {
    "scrolled": false
   },
   "outputs": [
    {
     "name": "stderr",
     "output_type": "stream",
     "text": [
      "D:\\Anaconda3\\envs\\tensorflow\\lib\\site-packages\\ipykernel_launcher.py:5: RuntimeWarning: divide by zero encountered in double_scalars\n",
      "  \"\"\"\n",
      "D:\\Anaconda3\\envs\\tensorflow\\lib\\site-packages\\ipykernel_launcher.py:5: RuntimeWarning: invalid value encountered in int_scalars\n",
      "  \"\"\"\n",
      "D:\\Anaconda3\\envs\\tensorflow\\lib\\site-packages\\ipykernel_launcher.py:5: RuntimeWarning: divide by zero encountered in int_scalars\n",
      "  \"\"\"\n"
     ]
    }
   ],
   "source": [
    "state_id = {\"kl\":\"Kerala\",\n",
    "\"mh\":\"Maharashtra\",\n",
    "\"gj\":\"Gujarat\",\n",
    "\"dl\":\"Delhi\",\n",
    "\"rj\":\"Rajasthan\",\n",
    "\"tn\":\"Tamil Nadu\",\n",
    "\"mp\":\"Madhya Pradesh\",\n",
    "\"up\":\"Uttar Pradesh\",\n",
    "\"tg\":\"Telangana\",\n",
    "\"ap\":\"Andhra Pradesh\",\n",
    "\"ka\":\"Karnataka\",\n",
    "\"wb\":\"West Bengal\",\n",
    "\"jk\":\"Jammu and Kashmir\",\n",
    "\"hr\":\"Haryana\",\n",
    "\"pb\":\"Punjab\",\n",
    "\"br\":\"Bihar\",\n",
    "\"or\":\"Odisha\" }\n",
    "\n",
    "for state in state_id.keys():\n",
    "    cumul_cases = np.cumsum(data_confirmed[state].values)\n",
    "    dbt = np.zeros((3,cumul_cases.shape[0]))\n",
    "    for i in range(cumul_cases.shape[0]):\n",
    "        dbt[:,i] = calc_doublingtimes(cumul_cases[i-7:i])\n",
    "    temp = {\n",
    "        'dates':list(pd.Series(dates).dt.strftime('%m-%d-%Y')),\n",
    "        'dbt_point':list(dbt[0,:]),\n",
    "        'dbt_l95':list(dbt[1,:]),\n",
    "        'dbt_u95':list(dbt[2,:])\n",
    "        }\n",
    "    json_data[state] = temp"
   ]
  },
  {
   "cell_type": "code",
   "execution_count": 76,
   "metadata": {},
   "outputs": [],
   "source": [
    "with open('dbt.json', 'w') as outfile:\n",
    "    json.dump(json_data, outfile)"
   ]
  }
 ],
 "metadata": {
  "kernelspec": {
   "display_name": "Python 3",
   "language": "python",
   "name": "python3"
  },
  "language_info": {
   "codemirror_mode": {
    "name": "ipython",
    "version": 3
   },
   "file_extension": ".py",
   "mimetype": "text/x-python",
   "name": "python",
   "nbconvert_exporter": "python",
   "pygments_lexer": "ipython3",
   "version": "3.7.6"
  }
 },
 "nbformat": 4,
 "nbformat_minor": 2
}
