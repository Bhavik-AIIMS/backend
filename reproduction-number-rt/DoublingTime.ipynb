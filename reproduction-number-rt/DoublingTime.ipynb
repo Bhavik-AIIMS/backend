{
 "cells": [
  {
   "cell_type": "code",
   "execution_count": 2,
   "metadata": {},
   "outputs": [
    {
     "name": "stdout",
     "output_type": "stream",
     "text": [
      "100% [........................................................] 203618 / 203618"
     ]
    },
    {
     "data": {
      "text/plain": [
       "'C:\\\\Users\\\\asus\\\\Documents\\\\GitHub\\\\CovidToday_Website\\\\reproduction-number-rt\\\\states.json'"
      ]
     },
     "execution_count": 2,
     "metadata": {},
     "output_type": "execute_result"
    }
   ],
   "source": [
    "import numpy as np\n",
    "import matplotlib.pyplot as plt\n",
    "import pandas as pd\n",
    "from subprocess import call\n",
    "from scipy.stats.distributions import gamma,lognorm\n",
    "import json \n",
    "import wget\n",
    "import os\n",
    "import os.path\n",
    "\n",
    "def n2z(x):\n",
    "    x[np.logical_or(np.isnan(x),np.isinf(x))] = 0\n",
    "    return x\n",
    "\n",
    "if os.path.exists(os.getcwd()+\"\\\\national.json\"):\n",
    "    os.remove(os.getcwd()+\"\\\\national.json\")\n",
    "wget.download('https://api.covid19india.org/data.json', os.getcwd()+\"\\\\national.json\")\n",
    "\n",
    "if os.path.exists(os.getcwd()+\"\\\\states.json\"):\n",
    "    os.remove(os.getcwd()+\"\\\\states.json\")\n",
    "wget.download('https://api.covid19india.org/states_daily.json', os.getcwd()+\"\\\\states.json\")\n"
   ]
  },
  {
   "cell_type": "code",
   "execution_count": 3,
   "metadata": {},
   "outputs": [],
   "source": [
    "def calc_doublingtimes(x):\n",
    "    vals = []\n",
    "    for i in range(x.shape[0]):\n",
    "        for j in range(i+1,x.shape[0]):\n",
    "            vals.append(np.log(2)*(j-i)/np.log(x[j]/x[i]))\n",
    "    return np.mean(vals),np.mean(vals)-1.96*np.std(vals),np.mean(vals)+1.96*np.std(vals)"
   ]
  },
  {
   "cell_type": "code",
   "execution_count": 4,
   "metadata": {},
   "outputs": [],
   "source": [
    "dates = np.array([pd.to_datetime(i['date']+\"2020\") for i in json.load(open('national.json',))['cases_time_series']])\n",
    "confirmed = np.array([int(i['dailyconfirmed'])for i in json.load(open('national.json',))['cases_time_series']])\n",
    "deceased = np.array([int(i['dailydeceased'])for i in json.load(open('national.json',))['cases_time_series']])\n",
    "recovered = np.array([int(i['dailyrecovered'])for i in json.load(open('national.json',))['cases_time_series']])\n",
    "\n",
    "confirmed = confirmed[dates>=pd.to_datetime(\"03/04/20\")]\n",
    "deceased = deceased[dates>=pd.to_datetime(\"03/04/20\")]\n",
    "recovered = recovered[dates>=pd.to_datetime(\"03/04/20\")]\n",
    "dates = dates[dates>=pd.to_datetime(\"03/04/20\")]"
   ]
  },
  {
   "cell_type": "code",
   "execution_count": 5,
   "metadata": {},
   "outputs": [
    {
     "name": "stderr",
     "output_type": "stream",
     "text": [
      "F:\\Anaconda3\\lib\\site-packages\\numpy\\core\\fromnumeric.py:3335: RuntimeWarning: Mean of empty slice.\n",
      "  out=out, **kwargs)\n",
      "F:\\Anaconda3\\lib\\site-packages\\numpy\\core\\_methods.py:161: RuntimeWarning: invalid value encountered in double_scalars\n",
      "  ret = ret.dtype.type(ret / rcount)\n",
      "F:\\Anaconda3\\lib\\site-packages\\numpy\\core\\_methods.py:217: RuntimeWarning: Degrees of freedom <= 0 for slice\n",
      "  keepdims=keepdims)\n",
      "F:\\Anaconda3\\lib\\site-packages\\numpy\\core\\_methods.py:186: RuntimeWarning: invalid value encountered in true_divide\n",
      "  arrmean, rcount, out=arrmean, casting='unsafe', subok=False)\n",
      "F:\\Anaconda3\\lib\\site-packages\\numpy\\core\\_methods.py:209: RuntimeWarning: invalid value encountered in double_scalars\n",
      "  ret = ret.dtype.type(ret / rcount)\n"
     ]
    }
   ],
   "source": [
    "cumul_cases = np.cumsum(confirmed)\n",
    "dbt = np.zeros((3,cumul_cases.shape[0]))\n",
    "for i in range(cumul_cases.shape[0]):\n",
    "    dbt[:,i] = calc_doublingtimes(cumul_cases[i-7:i])"
   ]
  },
  {
   "cell_type": "code",
   "execution_count": 6,
   "metadata": {},
   "outputs": [
    {
     "data": {
      "text/plain": [
       "<matplotlib.collections.PolyCollection at 0xd323b5ac48>"
      ]
     },
     "execution_count": 6,
     "metadata": {},
     "output_type": "execute_result"
    },
    {
     "data": {
      "image/png": "[encoded data removed]",
      "text/plain": [
       "<Figure size 432x288 with 1 Axes>"
      ]
     },
     "metadata": {
      "needs_background": "light"
     },
     "output_type": "display_data"
    }
   ],
   "source": [
    "plt.plot(pd.to_datetime(dates),dbt[0,:])\n",
    "plt.fill_between(pd.to_datetime(dates),dbt[1,:],dbt[2,:],alpha=0.2)"
   ]
  },
  {
   "cell_type": "code",
   "execution_count": 7,
   "metadata": {},
   "outputs": [],
   "source": [
    "json_data = {}\n",
    "india = {\n",
    "        'dates':list(pd.Series(dates).dt.strftime('%m-%d-%Y')),\n",
    "        'dbt_point':list(dbt[0,:]),\n",
    "        'dbt_l95':list(dbt[1,:]),\n",
    "        'dbt_u95':list(dbt[2,:])\n",
    "        }\n",
    "json_data['IN'] = india"
   ]
  },
  {
   "cell_type": "markdown",
   "metadata": {},
   "source": [
    "### State Level Data"
   ]
  },
  {
   "cell_type": "code",
   "execution_count": 8,
   "metadata": {},
   "outputs": [],
   "source": [
    "states = list(filter(lambda v:len(v)<3,list(json.load(open('states.json',))['states_daily'][0].keys())))"
   ]
  },
  {
   "cell_type": "code",
   "execution_count": 9,
   "metadata": {},
   "outputs": [],
   "source": [
    "dates = np.array([pd.to_datetime(i['date']) for i in filter(lambda v: v['status'] == 'Confirmed',json.load(open('states.json',))['states_daily'])])\n",
    "data_recovered = pd.DataFrame()\n",
    "data_deceased = pd.DataFrame()\n",
    "data_confirmed = pd.DataFrame()\n",
    "for st in states:\n",
    "    data_confirmed[st] = np.array([i[st] for i in filter(lambda v: v['status'] == 'Confirmed',json.load(open('states.json',))['states_daily'])])\n",
    "    data_deceased[st] = np.array([i[st] for i in filter(lambda v: v['status'] == 'Deceased',json.load(open('states.json',))['states_daily'])])\n",
    "    data_recovered[st] = np.array([i[st] for i in filter(lambda v: v['status'] == 'Recovered',json.load(open('states.json',))['states_daily'])])"
   ]
  },
  {
   "cell_type": "code",
   "execution_count": 10,
   "metadata": {},
   "outputs": [],
   "source": [
    "data_recovered = data_recovered.replace(r'^\\s*$', np.NaN, regex=True).fillna(0)\n",
    "data_recovered = data_recovered.astype(np.int32)\n",
    "data_confirmed = data_confirmed.replace(r'^\\s*$', np.NaN, regex=True).fillna(0)\n",
    "data_confirmed = data_confirmed.astype(np.int32)\n",
    "data_deceased = data_deceased.replace(r'^\\s*$', np.NaN, regex=True).fillna(0)\n",
    "data_deceased = data_deceased.astype(np.int32)\n",
    "data_deceased['date'] = dates\n",
    "data_recovered['date'] = dates\n",
    "data_confirmed['date'] = dates\n"
   ]
  },
  {
   "cell_type": "code",
   "execution_count": 11,
   "metadata": {
    "scrolled": false
   },
   "outputs": [
    {
     "name": "stderr",
     "output_type": "stream",
     "text": [
      "F:\\Anaconda3\\lib\\site-packages\\numpy\\core\\fromnumeric.py:3335: RuntimeWarning: Mean of empty slice.\n",
      "  out=out, **kwargs)\n",
      "F:\\Anaconda3\\lib\\site-packages\\numpy\\core\\_methods.py:161: RuntimeWarning: invalid value encountered in double_scalars\n",
      "  ret = ret.dtype.type(ret / rcount)\n",
      "F:\\Anaconda3\\lib\\site-packages\\numpy\\core\\_methods.py:217: RuntimeWarning: Degrees of freedom <= 0 for slice\n",
      "  keepdims=keepdims)\n",
      "F:\\Anaconda3\\lib\\site-packages\\numpy\\core\\_methods.py:186: RuntimeWarning: invalid value encountered in true_divide\n",
      "  arrmean, rcount, out=arrmean, casting='unsafe', subok=False)\n",
      "F:\\Anaconda3\\lib\\site-packages\\numpy\\core\\_methods.py:209: RuntimeWarning: invalid value encountered in double_scalars\n",
      "  ret = ret.dtype.type(ret / rcount)\n",
      "F:\\Anaconda3\\lib\\site-packages\\ipykernel_launcher.py:5: RuntimeWarning: divide by zero encountered in double_scalars\n",
      "  \"\"\"\n",
      "F:\\Anaconda3\\lib\\site-packages\\numpy\\core\\_methods.py:193: RuntimeWarning: invalid value encountered in subtract\n",
      "  x = asanyarray(arr - arrmean)\n",
      "F:\\Anaconda3\\lib\\site-packages\\ipykernel_launcher.py:5: RuntimeWarning: invalid value encountered in int_scalars\n",
      "  \"\"\"\n",
      "F:\\Anaconda3\\lib\\site-packages\\ipykernel_launcher.py:5: RuntimeWarning: divide by zero encountered in int_scalars\n",
      "  \"\"\"\n"
     ]
    }
   ],
   "source": [
    "state_id = { \"mh\":\"Maharashtra\",\n",
    "  \"tn\":\"Tamil Nadu\",\n",
    "  \"dl\":\"Delhi\",\n",
    "  \"gj\":\"Gujarat\",\n",
    "  \"rj\":\"Rajasthan\",\n",
    "  \"up\":\"Uttar Pradesh\",\n",
    "  \"mp\":\"Madhya Pradesh\",\n",
    "  \"wb\":\"West Bengal\",\n",
    "  \"ka\":\"Karnataka\",\n",
    "  \"br\":\"Bihar\",\n",
    "  \"ap\":\"Andhra Pradesh\",\n",
    "  \"hr\":\"Haryana\",\n",
    "  \"tg\":\"Telangana\",\n",
    "  \"jk\":\"Jammu and Kashmir\",\n",
    "  \"or\":\"Odisha\",\n",
    "  \"pb\":\"Punjab\",\n",
    "  \"as\":\"Assam\",\n",
    "  \"kl\":\"Kerala\",\n",
    "  \"ut\":\"Uttarakhand\",\n",
    "  \"jh\":\"Jharkand\",\n",
    "  \"ct\":\"Chhattisgarh\",\n",
    "  \"tr\":\"Tripura\",\n",
    "  \"hp\":\"Himachal Pradesh\",\n",
    "  \"ch\":\"Chandigarh\",\n",
    "  \"ga\":\"Goa\",\n",
    "  \"mn\":\"Manipur\",\n",
    "  \"nl\":\"Nagaland\",\n",
    "  \"py\":\"Puducherry\",\n",
    "  \"la\":\"Ladakh\",\n",
    "  \"ar\":\"Arunachal Pradesh\",\n",
    "  \"an\":\"Andaman and Nicobar Islands\",\n",
    "  \"ml\":\"Meghalaya\",\n",
    "  \"mz\":\"Mizoram\",\n",
    "  \"dn\":\"Dadra and Nagar Haveli and Daman and Diu\",\n",
    "  \"sk\":\"Sikkim\" }\n",
    "\n",
    "for state in state_id.keys():\n",
    "    cumul_cases = np.cumsum(data_confirmed[state].values)\n",
    "    dbt = np.zeros((3,cumul_cases.shape[0]))\n",
    "    for i in range(cumul_cases.shape[0]):\n",
    "        dbt[:,i] = calc_doublingtimes(cumul_cases[i-7:i])\n",
    "    temp = {\n",
    "        'dates':list(pd.Series(dates).dt.strftime('%m-%d-%Y')),\n",
    "        'dbt_point':list(dbt[0,:]),\n",
    "        'dbt_l95':list(dbt[1,:]),\n",
    "        'dbt_u95':list(dbt[2,:])\n",
    "        }\n",
    "    json_data[state] = temp"
   ]
  },
  {
   "cell_type": "code",
   "execution_count": 12,
   "metadata": {},
   "outputs": [],
   "source": [
    "with open('dbt.json', 'w') as outfile:\n",
    "    json.dump(json_data, outfile)"
   ]
  },
  {
   "cell_type": "code",
   "execution_count": null,
   "metadata": {},
   "outputs": [],
   "source": []
  }
 ],
 "metadata": {
  "kernelspec": {
   "display_name": "Python 3",
   "language": "python",
   "name": "python3"
  },
  "language_info": {
   "codemirror_mode": {
    "name": "ipython",
    "version": 3
   },
   "file_extension": ".py",
   "mimetype": "text/x-python",
   "name": "python",
   "nbconvert_exporter": "python",
   "pygments_lexer": "ipython3",
   "version": "3.7.6"
  }
 },
 "nbformat": 4,
 "nbformat_minor": 2
}
