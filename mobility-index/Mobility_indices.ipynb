{
  "nbformat": 4,
  "nbformat_minor": 0,
  "metadata": {
    "colab": {
      "name": "Mobility_indices.ipynb",
      "provenance": [],
      "collapsed_sections": []
    },
    "kernelspec": {
      "name": "python3",
      "display_name": "Python 3"
    }
  },
  "cells": [
    {
      "cell_type": "code",
      "metadata": {
        "id": "s0D3VVTL35WA",
        "colab_type": "code",
        "outputId": "d0324993-89d6-4571-d445-265dfdf6a40d",
        "colab": {
          "base_uri": "https://localhost:8080/",
          "height": 35
        }
      },
      "source": [
        "!pip install wget"
      ],
      "execution_count": 12,
      "outputs": [
        {
          "output_type": "stream",
          "text": [
            "Requirement already satisfied: wget in /usr/local/lib/python3.6/dist-packages (3.2)\n"
          ],
          "name": "stdout"
        }
      ]
    },
    {
      "cell_type": "code",
      "metadata": {
        "id": "idHxfP778zNV",
        "colab_type": "code",
        "outputId": "8c99df12-f97a-4fa5-e6fe-d1bfffbb14dd",
        "colab": {
          "base_uri": "https://localhost:8080/",
          "height": 35
        }
      },
      "source": [
        "from __future__ import print_function\n",
        "from scipy.io import loadmat\n",
        "from tqdm import tqdm\n",
        "from google.colab import drive\n",
        "import numpy as np\n",
        "import scipy\n",
        "import os\n",
        "import matplotlib.pyplot as plt\n",
        "import csv\n",
        "import pandas as pd\n",
        "import wget\n",
        "drive.mount('/content/gdrive')"
      ],
      "execution_count": 13,
      "outputs": [
        {
          "output_type": "stream",
          "text": [
            "Drive already mounted at /content/gdrive; to attempt to forcibly remount, call drive.mount(\"/content/gdrive\", force_remount=True).\n"
          ],
          "name": "stdout"
        }
      ]
    },
    {
      "cell_type": "code",
      "metadata": {
        "id": "NCzWtuf84ATa",
        "colab_type": "code",
        "outputId": "8ae60d3e-a58d-4efb-beb6-6b6b8a6cb5fe",
        "colab": {
          "base_uri": "https://localhost:8080/",
          "height": 35
        }
      },
      "source": [
        "wget.download('https://www.gstatic.com/covid19/mobility/Global_Mobility_Report.csv', os.getcwd()+\"//Global_Mobility_Report.csv\")"
      ],
      "execution_count": 14,
      "outputs": [
        {
          "output_type": "execute_result",
          "data": {
            "text/plain": [
              "'/content//Global_Mobility_Report (1).csv'"
            ]
          },
          "metadata": {
            "tags": []
          },
          "execution_count": 14
        }
      ]
    },
    {
      "cell_type": "code",
      "metadata": {
        "id": "0QwnTWfm7MNM",
        "colab_type": "code",
        "colab": {}
      },
      "source": [
        "with open('Global_Mobility_Report.csv', newline='') as f:\n",
        "    reader = csv.reader(f)\n",
        "    g_list = list(reader)"
      ],
      "execution_count": 0,
      "outputs": []
    },
    {
      "cell_type": "code",
      "metadata": {
        "id": "gHBg2c1UJe3l",
        "colab_type": "code",
        "colab": {}
      },
      "source": [
        "def normalize(arr):\n",
        "  slope = int(arr[-1])-int(arr[-2])\n",
        "  return int(arr[-1])+slope"
      ],
      "execution_count": 0,
      "outputs": []
    },
    {
      "cell_type": "code",
      "metadata": {
        "id": "wmesDR9t0cDm",
        "colab_type": "code",
        "colab": {}
      },
      "source": [
        "def fn(mon):\n",
        "  if(mon == \"01\"):\n",
        "    return \" January\"\n",
        "  if(mon == \"02\"):\n",
        "    return \" February\"\n",
        "  if(mon == \"03\"):\n",
        "    return \" March\"\n",
        "  if(mon == \"04\"):\n",
        "    return \" April\"\n",
        "  if(mon == \"05\"):\n",
        "    return \" May\"\n",
        "  if(mon == \"06\"):\n",
        "    return \" June\"\n",
        "  if(mon == \"07\"):\n",
        "    return \" July\"\n",
        "  if(mon == \"08\"):\n",
        "    return \" August\"\n",
        "  if(mon == \"09\"):\n",
        "    return \" September\"\n",
        "  if(mon == \"10\"):\n",
        "    return \" October\"\n",
        "  if(mon == \"11\"):\n",
        "    return \" November\"\n",
        "  if(mon == \"12\"):\n",
        "    return \" December\"\n",
        "def convert(dat): \n",
        "    return  str(dat[-2:]) + fn(str(dat[5:7]))"
      ],
      "execution_count": 0,
      "outputs": []
    },
    {
      "cell_type": "code",
      "metadata": {
        "id": "ZR7Wgleu9Xbg",
        "colab_type": "code",
        "colab": {}
      },
      "source": [
        "india_dict = {}\n",
        "df=pd.DataFrame()\n",
        "csv_state = []\n",
        "csv_dates = []\n",
        "csv_retail = []\n",
        "csv_grocery = []\n",
        "csv_parks = []\n",
        "csv_transit = []\n",
        "csv_workplace = []\n",
        "csv_residential = []\n",
        "csv_average_mobility = []\n",
        "temp=0\n",
        "for row in g_list:\n",
        "  if(row[1]=='India'):\n",
        "    # print(row)\n",
        "    if(len(row[2])<1):\n",
        "      row[2]='India'\n",
        "    if row[2] not in  india_dict.keys():\n",
        "      india_dict[row[2]] = {}\n",
        "    # print(row)\n",
        "    state = row[2]\n",
        "    dates = row[4]\n",
        "    #print(dates)\n",
        "    retail = row[5]\n",
        "    grocery = row[6]\n",
        "    parks = row[7]\n",
        "    transit = row[8]\n",
        "    workplace = row[9]\n",
        "    residential = row[10]\n",
        "    if 'dates' not in india_dict[state].keys():\n",
        "      india_dict[state]['dates'] = []\n",
        "      india_dict[state]['retail'] = []\n",
        "      india_dict[state]['grocery'] = []\n",
        "      india_dict[state]['parks'] = []\n",
        "      india_dict[state]['transit'] = []\n",
        "      india_dict[state]['workplace'] = []\n",
        "      india_dict[state]['residential'] = []\n",
        "      india_dict[state]['average_mobility'] = []\n",
        "    l = len(india_dict[state]['dates'])\n",
        "    if(l>1 and l%7<2):\n",
        "      india_dict[state]['workplace'].append(india_dict[state]['workplace'][-1])\n",
        "      india_dict[state]['retail'].append(india_dict[state]['retail'][-1])\n",
        "      india_dict[state]['grocery'].append(india_dict[state]['grocery'][-1])\n",
        "      india_dict[state]['parks'].append(india_dict[state]['parks'][-1])\n",
        "      india_dict[state]['transit'].append(india_dict[state]['transit'][-1])\n",
        "      india_dict[state]['residential'].append(india_dict[state]['residential'][-1])\n",
        "    else:\n",
        "      india_dict[state]['workplace'].append(row[9])\n",
        "      india_dict[state]['retail'].append(row[5])\n",
        "      india_dict[state]['grocery'].append(row[6])\n",
        "      india_dict[state]['parks'].append(row[7])\n",
        "      india_dict[state]['transit'].append(row[8])\n",
        "      india_dict[state]['residential'].append(row[10])\n",
        "    temp=[]\n",
        "    if(len(india_dict[state]['retail'][-1])>0):\n",
        "      temp.append(int(india_dict[state]['retail'][-1]))\n",
        "    if(len(india_dict[state]['grocery'][-1])>0):\n",
        "      temp.append(int(india_dict[state]['grocery'][-1]))\n",
        "    if(len(india_dict[state]['transit'][-1])>0):\n",
        "      temp.append(int(india_dict[state]['transit'][-1]))\n",
        "    if(len(india_dict[state]['workplace'][-1])>0):\n",
        "      temp.append(int(india_dict[state]['workplace'][-1]))\n",
        "    count = 0\n",
        "    sum=0\n",
        "    for i in temp:\n",
        "      sum+=i\n",
        "      count+=1\n",
        "    if(len(temp)>0):\n",
        "        avg=sum/count\n",
        "        india_dict[state]['average_mobility'].append(str(avg))\n",
        "    else:\n",
        "        india_dict[state]['average_mobility'].append('')\n",
        "#     if(len(india_dict[state]['retail'][-1])>0 and len(india_dict[state]['grocery'][-1])>0 and len(india_dict[state]['transit'][-1])>0 and len(india_dict[state]['workplace'][-1])>0 ):\n",
        "#       avg = (int(india_dict[state]['retail'][-1])+int(india_dict[state]['grocery'][-1])+int(india_dict[state]['transit'][-1])+int(india_dict[state]['workplace'][-1]))/4\n",
        "#       india_dict[state]['average_mobility'].append(str(avg))  # To change for average\n",
        "#     else:\n",
        "#       india_dict[state]['average_mobility'].append('')  # To change for average\n",
        "    india_dict[state]['dates'].append(convert(row[4]))\n",
        "    #print(len(dates))\n",
        "      \n",
        "    for i in range(len(india_dict[state]['dates'])):\n",
        "      if (temp!=india_dict[state]['dates'][-1]) :\n",
        "        csv_state.append(state)\n",
        "        #print(india_dict[state]['dates'][-1],state)\n",
        "        csv_dates.append(india_dict[state]['dates'][-1])\n",
        "        csv_retail.append(india_dict[state]['retail'][-1])\n",
        "        csv_grocery.append(india_dict[state]['grocery'][-1])\n",
        "        csv_parks.append(india_dict[state]['parks'][-1])\n",
        "        csv_transit.append(india_dict[state]['transit'][-1])\n",
        "        csv_workplace.append(india_dict[state]['workplace'][-1])\n",
        "        csv_residential.append(india_dict[state]['residential'][-1])\n",
        "        csv_average_mobility.append(india_dict[state]['average_mobility'][-1])\n",
        "        temp=india_dict[state]['dates'][-1]\n",
        "      \n",
        "  \n",
        "    #print(row[4])3"
      ],
      "execution_count": 0,
      "outputs": []
    },
    {
      "cell_type": "code",
      "metadata": {
        "id": "1rreztjxMzlM",
        "colab_type": "code",
        "colab": {}
      },
      "source": [
        "df=pd.DataFrame()\n",
        "df['state']=csv_state\n",
        "df['dates']=csv_dates\n",
        "df['retail']=csv_retail\n",
        "df['grocery']=csv_grocery\n",
        "df['parks']=csv_parks\n",
        "df['transit']=csv_transit\n",
        "df['workplace']=csv_workplace\n",
        "df['residential']=csv_residential\n",
        "df['average_mobility']=csv_average_mobility\n",
        "df.to_csv('mobility.csv',index=False)"
      ],
      "execution_count": 0,
      "outputs": []
    },
    {
      "cell_type": "code",
      "metadata": {
        "id": "fmHG2UDF9wbw",
        "colab_type": "code",
        "colab": {}
      },
      "source": [
        "from datetime import datetime\n",
        "import json\n",
        "india_dict['datetime']=str(datetime.now())\n",
        "mobility_json_indented = json.dumps(india_dict, indent = 4)\n",
        "mobility_json = json.dumps(india_dict)\n"
      ],
      "execution_count": 0,
      "outputs": []
    },
    {
      "cell_type": "code",
      "metadata": {
        "id": "ICFelX5IC9HX",
        "colab_type": "code",
        "colab": {}
      },
      "source": [
        "with open(\"india_mobility.json\", \"w\") as outfile: \n",
        "    outfile.write(mobility_json)"
      ],
      "execution_count": 0,
      "outputs": []
    },
    {
      "cell_type": "code",
      "metadata": {
        "id": "ql-6m77DOJ-k",
        "colab_type": "code",
        "colab": {}
      },
      "source": [
        "with open(\"india_mobility_indented.json\", \"w\") as outfile: \n",
        "    outfile.write(mobility_json_indented)"
      ],
      "execution_count": 0,
      "outputs": []
    },
    {
      "cell_type": "code",
      "metadata": {
        "id": "kHGeoXEtFt4Z",
        "colab_type": "code",
        "colab": {}
      },
      "source": [
        ""
      ],
      "execution_count": 0,
      "outputs": []
    }
  ]
}