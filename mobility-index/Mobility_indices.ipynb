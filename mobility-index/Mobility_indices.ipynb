{
  "cells": [
    {
      "metadata": {
        "colab": {
          "base_uri": "https://localhost:8080/",
          "height": 35
        },
        "colab_type": "code",
        "id": "s0D3VVTL35WA",
        "outputId": "eaf2aade-6c3b-4f26-abcc-6137a7c937cb",
        "trusted": true
      },
      "cell_type": "code",
      "source": "!pip install wget",
      "execution_count": 1,
      "outputs": [
        {
          "output_type": "stream",
          "text": "Requirement already satisfied: wget in /home/nbuser/anaconda3_420/lib/python3.5/site-packages (2.2)\n\u001b[33mWARNING: You are using pip version 19.3.1; however, version 20.1.1 is available.\nYou should consider upgrading via the 'pip install --upgrade pip' command.\u001b[0m\n",
          "name": "stdout"
        }
      ]
    },
    {
      "metadata": {
        "colab": {
          "base_uri": "https://localhost:8080/",
          "height": 35
        },
        "colab_type": "code",
        "id": "idHxfP778zNV",
        "outputId": "7ca9a197-1843-41b9-a6aa-b7d867c8bcf2",
        "trusted": true
      },
      "cell_type": "code",
      "source": "from __future__ import print_function\nfrom scipy.io import loadmat\nfrom tqdm import tqdm\n# from google.colab import drive\nimport numpy as np\nimport scipy\nimport os\nimport matplotlib.pyplot as plt\nimport csv\nimport pandas as pd\nimport wget\n# drive.mount('/content/gdrive')",
      "execution_count": 2,
      "outputs": [
        {
          "output_type": "stream",
          "text": "/home/nbuser/anaconda3_420/lib/python3.5/site-packages/matplotlib/font_manager.py:281: UserWarning: Matplotlib is building the font cache using fc-list. This may take a moment.\n  'Matplotlib is building the font cache using fc-list. '\n",
          "name": "stderr"
        }
      ]
    },
    {
      "metadata": {
        "colab": {
          "base_uri": "https://localhost:8080/",
          "height": 35
        },
        "colab_type": "code",
        "id": "NCzWtuf84ATa",
        "outputId": "ba9a8300-5e39-47ce-e5e7-b7f1d549d578",
        "trusted": true
      },
      "cell_type": "code",
      "source": "wget.download('https://www.gstatic.com/covid19/mobility/Global_Mobility_Report.csv', os.getcwd()+\"//Global_Mobility_Report.csv\")",
      "execution_count": 3,
      "outputs": [
        {
          "output_type": "execute_result",
          "execution_count": 3,
          "data": {
            "text/plain": "'/home/nbuser/library//Global_Mobility_Report.csv'"
          },
          "metadata": {}
        }
      ]
    },
    {
      "metadata": {
        "colab": {},
        "colab_type": "code",
        "id": "0QwnTWfm7MNM",
        "trusted": true
      },
      "cell_type": "code",
      "source": "with open('Global_Mobility_Report.csv', newline='') as f:\n    reader = csv.reader(f)\n    g_list = list(reader)",
      "execution_count": 4,
      "outputs": []
    },
    {
      "metadata": {
        "colab": {},
        "colab_type": "code",
        "id": "gHBg2c1UJe3l",
        "trusted": true
      },
      "cell_type": "code",
      "source": "def normalize(arr):\n  slope = int(arr[-1])-int(arr[-2])\n  return int(arr[-1])+slope",
      "execution_count": 5,
      "outputs": []
    },
    {
      "metadata": {
        "colab": {},
        "colab_type": "code",
        "id": "wmesDR9t0cDm",
        "trusted": true
      },
      "cell_type": "code",
      "source": "def fn(mon):\n  if(mon == \"01\"):\n    return \" January\"\n  if(mon == \"02\"):\n    return \" February\"\n  if(mon == \"03\"):\n    return \" March\"\n  if(mon == \"04\"):\n    return \" April\"\n  if(mon == \"05\"):\n    return \" May\"\n  if(mon == \"06\"):\n    return \" June\"\n  if(mon == \"07\"):\n    return \" July\"\n  if(mon == \"08\"):\n    return \" August\"\n  if(mon == \"09\"):\n    return \" September\"\n  if(mon == \"10\"):\n    return \" October\"\n  if(mon == \"11\"):\n    return \" November\"\n  if(mon == \"12\"):\n    return \" December\"\ndef convert(dat): \n    return  str(dat[-2:]) + fn(str(dat[5:7]))",
      "execution_count": 6,
      "outputs": []
    },
    {
      "metadata": {
        "colab": {},
        "colab_type": "code",
        "id": "ZR7Wgleu9Xbg",
        "trusted": true
      },
      "cell_type": "code",
      "source": "india_dict = {}\ndf=pd.DataFrame()\ncsv_state = []\ncsv_dates = []\ncsv_retail = []\ncsv_grocery = []\ncsv_parks = []\ncsv_transit = []\ncsv_workplace = []\ncsv_residential = []\ncsv_average_mobility = []\nfor row in g_list:\n  if(row[1]=='India'):\n    # print(row)\n    if(len(row[2])<1):\n      row[2]='India'\n    if row[2] not in  india_dict.keys():\n      india_dict[row[2]] = {}\n    # print(row)\n    state = row[2]\n    dates = row[4]\n    #print(dates)\n    retail = row[5]\n    grocery = row[6]\n    parks = row[7]\n    transit = row[8]\n    workplace = row[9]\n    residential = row[10]\n    if 'dates' not in india_dict[state].keys():\n      india_dict[state]['dates'] = []\n      india_dict[state]['retail'] = []\n      india_dict[state]['grocery'] = []\n      india_dict[state]['parks'] = []\n      india_dict[state]['transit'] = []\n      india_dict[state]['workplace'] = []\n      india_dict[state]['residential'] = []\n      india_dict[state]['average_mobility'] = []\n    l = len(india_dict[state]['dates'])\n    if(l>1 and l%7<2):\n      india_dict[state]['workplace'].append(india_dict[state]['workplace'][-1])\n      india_dict[state]['retail'].append(india_dict[state]['retail'][-1])\n      india_dict[state]['grocery'].append(india_dict[state]['grocery'][-1])\n      india_dict[state]['parks'].append(india_dict[state]['parks'][-1])\n      india_dict[state]['transit'].append(india_dict[state]['transit'][-1])\n      india_dict[state]['residential'].append(india_dict[state]['residential'][-1])\n    else:\n      india_dict[state]['workplace'].append(row[9])\n      india_dict[state]['retail'].append(row[5])\n      india_dict[state]['grocery'].append(row[6])\n      india_dict[state]['parks'].append(row[7])\n      india_dict[state]['transit'].append(row[8])\n      india_dict[state]['residential'].append(row[10])\n    temp=[]\n    if(len(india_dict[state]['retail'][-1])>0):\n      temp.append(int(india_dict[state]['retail'][-1]))\n    if(len(india_dict[state]['grocery'][-1])>0):\n      temp.append(int(india_dict[state]['grocery'][-1]))\n    if(len(india_dict[state]['transit'][-1])>0):\n      temp.append(int(india_dict[state]['transit'][-1]))\n    if(len(india_dict[state]['workplace'][-1])>0):\n      temp.append(int(india_dict[state]['workplace'][-1]))\n    count = 0\n    sum=0\n    for i in temp:\n      sum+=i\n      count+=1\n    if(len(temp)>0):\n        avg=sum/count\n        india_dict[state]['average_mobility'].append(str(avg))\n    else:\n        india_dict[state]['average_mobility'].append('')\n#     if(len(india_dict[state]['retail'][-1])>0 and len(india_dict[state]['grocery'][-1])>0 and len(india_dict[state]['transit'][-1])>0 and len(india_dict[state]['workplace'][-1])>0 ):\n#       avg = (int(india_dict[state]['retail'][-1])+int(india_dict[state]['grocery'][-1])+int(india_dict[state]['transit'][-1])+int(india_dict[state]['workplace'][-1]))/4\n#       india_dict[state]['average_mobility'].append(str(avg))  # To change for average\n#     else:\n#       india_dict[state]['average_mobility'].append('')  # To change for average\n    india_dict[state]['dates'].append(convert(row[4]))\n    #print(india_dict[state]['dates'])\n    \n    for i in range(len(india_dict[state]['dates'])):\n      csv_state.append(state)\n      csv_dates.append(india_dict[state]['dates'][i])\n      csv_retail.append(india_dict[state]['retail'][i])\n      csv_grocery.append(india_dict[state]['grocery'][i])\n      csv_parks.append(india_dict[state]['parks'][i])\n      csv_transit.append(india_dict[state]['transit'][i])\n      csv_workplace.append(india_dict[state]['workplace'][i])\n      csv_residential.append(india_dict[state]['residential'][i])\n      csv_average_mobility.append(india_dict[state]['average_mobility'][i])\n      \n    #print(row[4])3",
      "execution_count": 7,
      "outputs": []
    },
    {
      "metadata": {
        "colab": {},
        "colab_type": "code",
        "id": "1rreztjxMzlM",
        "trusted": true
      },
      "cell_type": "code",
      "source": "df=pd.DataFrame()\ndf['state']=csv_state\ndf['csv_dates']=csv_dates\ndf['csv_retail']=csv_retail\ndf['csv_grocery']=csv_grocery\ndf['csv_parks']=csv_parks\ndf['csv_transit']=csv_transit\ndf['csv_workplace']=csv_workplace\ndf['csv_residential']=csv_residential\ndf['csv_average_mobility']=csv_average_mobility\ndf.to_csv('mobility.csv',index=False)",
      "execution_count": 8,
      "outputs": []
    },
    {
      "metadata": {
        "colab": {},
        "colab_type": "code",
        "id": "fmHG2UDF9wbw",
        "trusted": true
      },
      "cell_type": "code",
      "source": "from datetime import datetime\nimport json\nindia_dict['datetime']=str(datetime.now())\nmobility_json_indented = json.dumps(india_dict, indent = 4)\nmobility_json = json.dumps(india_dict)\n",
      "execution_count": 9,
      "outputs": []
    },
    {
      "metadata": {
        "colab": {},
        "colab_type": "code",
        "id": "ICFelX5IC9HX",
        "trusted": true
      },
      "cell_type": "code",
      "source": "with open(\"india_mobility.json\", \"w\") as outfile: \n    outfile.write(mobility_json)",
      "execution_count": 10,
      "outputs": []
    },
    {
      "metadata": {
        "colab": {},
        "colab_type": "code",
        "id": "ql-6m77DOJ-k",
        "trusted": true
      },
      "cell_type": "code",
      "source": "with open(\"india_mobility_indented.json\", \"w\") as outfile: \n    outfile.write(mobility_json_indented)",
      "execution_count": 15,
      "outputs": []
    },
    {
      "metadata": {
        "trusted": true
      },
      "cell_type": "code",
      "source": "",
      "execution_count": null,
      "outputs": []
    }
  ],
  "metadata": {
    "colab": {
      "collapsed_sections": [],
      "name": "Mobility_indices.ipynb",
      "provenance": []
    },
    "kernelspec": {
      "name": "python3",
      "display_name": "Python 3",
      "language": "python"
    },
    "language_info": {
      "mimetype": "text/x-python",
      "nbconvert_exporter": "python",
      "name": "python",
      "file_extension": ".py",
      "version": "3.5.4",
      "pygments_lexer": "ipython3",
      "codemirror_mode": {
        "version": 3,
        "name": "ipython"
      }
    }
  },
  "nbformat": 4,
  "nbformat_minor": 1
}