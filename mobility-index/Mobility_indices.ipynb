{
 "cells": [
  {
   "cell_type": "code",
   "execution_count": 12,
   "metadata": {
    "colab": {
     "base_uri": "https://localhost:8080/",
     "height": 35
    },
    "colab_type": "code",
    "id": "s0D3VVTL35WA",
    "outputId": "d0324993-89d6-4571-d445-265dfdf6a40d"
   },
   "outputs": [
    {
     "name": "stdout",
     "output_type": "stream",
     "text": [
      "Requirement already satisfied: wget in /usr/local/lib/python3.6/dist-packages (3.2)\n"
     ]
    }
   ],
   "source": [
    "!pip install wget"
   ]
  },
  {
   "cell_type": "code",
   "execution_count": 1,
   "metadata": {},
   "outputs": [],
   "source": [
    "import sys\n",
    "sys.path.append('/Users/siddharthjain/miniconda3/lib/python3.7/site-packages')"
   ]
  },
  {
   "cell_type": "code",
   "execution_count": 2,
   "metadata": {
    "colab": {
     "base_uri": "https://localhost:8080/",
     "height": 35
    },
    "colab_type": "code",
    "id": "idHxfP778zNV",
    "outputId": "8c99df12-f97a-4fa5-e6fe-d1bfffbb14dd"
   },
   "outputs": [],
   "source": [
    "from __future__ import print_function\n",
    "from scipy.io import loadmat\n",
    "from tqdm import tqdm\n",
    "#from google.colab import drive\n",
    "import numpy as np\n",
    "import scipy\n",
    "import os\n",
    "import matplotlib.pyplot as plt\n",
    "import csv\n",
    "import pandas as pd\n",
    "import wget\n",
    "#drive.mount('/content/gdrive')"
   ]
  },
  {
   "cell_type": "code",
   "execution_count": 3,
   "metadata": {
    "colab": {
     "base_uri": "https://localhost:8080/",
     "height": 35
    },
    "colab_type": "code",
    "id": "NCzWtuf84ATa",
    "outputId": "8ae60d3e-a58d-4efb-beb6-6b6b8a6cb5fe"
   },
   "outputs": [
    {
     "data": {
      "text/plain": [
       "'/Users/siddharthjain/Desktop/backend/mobility-index//Global_Mobility_Report.csv'"
      ]
     },
     "execution_count": 3,
     "metadata": {},
     "output_type": "execute_result"
    }
   ],
   "source": [
    "wget.download('https://www.gstatic.com/covid19/mobility/Global_Mobility_Report.csv', os.getcwd()+\"//Global_Mobility_Report.csv\")"
   ]
  },
  {
   "cell_type": "code",
   "execution_count": 4,
   "metadata": {
    "colab": {},
    "colab_type": "code",
    "id": "0QwnTWfm7MNM"
   },
   "outputs": [],
   "source": [
    "with open('Global_Mobility_Report.csv', newline='') as f:\n",
    "    reader = csv.reader(f)\n",
    "    g_list = list(reader)"
   ]
  },
  {
   "cell_type": "code",
   "execution_count": 5,
   "metadata": {
    "colab": {},
    "colab_type": "code",
    "id": "gHBg2c1UJe3l"
   },
   "outputs": [],
   "source": [
    "def normalize(arr):\n",
    "  slope = int(arr[-1])-int(arr[-2])\n",
    "  return int(arr[-1])+slope"
   ]
  },
  {
   "cell_type": "code",
   "execution_count": 6,
   "metadata": {
    "colab": {},
    "colab_type": "code",
    "id": "wmesDR9t0cDm"
   },
   "outputs": [],
   "source": [
    "def fn(mon):\n",
    "  if(mon == \"01\"):\n",
    "    return \" January\"\n",
    "  if(mon == \"02\"):\n",
    "    return \" February\"\n",
    "  if(mon == \"03\"):\n",
    "    return \" March\"\n",
    "  if(mon == \"04\"):\n",
    "    return \" April\"\n",
    "  if(mon == \"05\"):\n",
    "    return \" May\"\n",
    "  if(mon == \"06\"):\n",
    "    return \" June\"\n",
    "  if(mon == \"07\"):\n",
    "    return \" July\"\n",
    "  if(mon == \"08\"):\n",
    "    return \" August\"\n",
    "  if(mon == \"09\"):\n",
    "    return \" September\"\n",
    "  if(mon == \"10\"):\n",
    "    return \" October\"\n",
    "  if(mon == \"11\"):\n",
    "    return \" November\"\n",
    "  if(mon == \"12\"):\n",
    "    return \" December\"\n",
    "def convert(dat): \n",
    "    return  str(dat[-2:]) + fn(str(dat[5:7]))"
   ]
  },
  {
   "cell_type": "code",
   "execution_count": 8,
   "metadata": {
    "colab": {},
    "colab_type": "code",
    "id": "ZR7Wgleu9Xbg"
   },
   "outputs": [],
   "source": [
    "india_dict = {}\n",
    "df=pd.DataFrame()\n",
    "csv_state = []\n",
    "csv_dates = []\n",
    "csv_retail = []\n",
    "csv_grocery = []\n",
    "csv_parks = []\n",
    "csv_transit = []\n",
    "csv_workplace = []\n",
    "csv_residential = []\n",
    "csv_average_mobility = []\n",
    "temp=0\n",
    "for row in g_list:\n",
    "  if(row[1]=='India'):\n",
    "    # print(row)\n",
    "    if(len(row[2])<1):\n",
    "      row[2]='India'\n",
    "    if row[2] not in  india_dict.keys():\n",
    "      india_dict[row[2]] = {}\n",
    "    # print(row)\n",
    "    state = row[2]\n",
    "    dates = row[6]\n",
    "    #print(dates)\n",
    "    retail = row[7]\n",
    "    grocery = row[8]\n",
    "    parks = row[9]\n",
    "    transit = row[10]\n",
    "    workplace = row[11]\n",
    "    residential = row[12]\n",
    "    if 'dates' not in india_dict[state].keys():\n",
    "      india_dict[state]['dates'] = []\n",
    "      india_dict[state]['retail'] = []\n",
    "      india_dict[state]['grocery'] = []\n",
    "      india_dict[state]['parks'] = []\n",
    "      india_dict[state]['transit'] = []\n",
    "      india_dict[state]['workplace'] = []\n",
    "      india_dict[state]['residential'] = []\n",
    "      india_dict[state]['average_mobility'] = []\n",
    "    l = len(india_dict[state]['dates'])\n",
    "    if(l>1 and l%7<2):\n",
    "      india_dict[state]['workplace'].append(india_dict[state]['workplace'][-1])\n",
    "      india_dict[state]['retail'].append(india_dict[state]['retail'][-1])\n",
    "      india_dict[state]['grocery'].append(india_dict[state]['grocery'][-1])\n",
    "      india_dict[state]['parks'].append(india_dict[state]['parks'][-1])\n",
    "      india_dict[state]['transit'].append(india_dict[state]['transit'][-1])\n",
    "      india_dict[state]['residential'].append(india_dict[state]['residential'][-1])\n",
    "    else:\n",
    "      india_dict[state]['workplace'].append(row[11])\n",
    "      india_dict[state]['retail'].append(row[7])\n",
    "      india_dict[state]['grocery'].append(row[8])\n",
    "      india_dict[state]['parks'].append(row[9])\n",
    "      india_dict[state]['transit'].append(row[10])\n",
    "      india_dict[state]['residential'].append(row[12])\n",
    "    temp=[]\n",
    "    if(len(india_dict[state]['retail'][-1])>0):\n",
    "      temp.append(int(india_dict[state]['retail'][-1]))\n",
    "    if(len(india_dict[state]['grocery'][-1])>0):\n",
    "      temp.append(int(india_dict[state]['grocery'][-1]))\n",
    "    if(len(india_dict[state]['transit'][-1])>0):\n",
    "      temp.append(int(india_dict[state]['transit'][-1]))\n",
    "    if(len(india_dict[state]['workplace'][-1])>0):\n",
    "      temp.append(int(india_dict[state]['workplace'][-1]))\n",
    "    count = 0\n",
    "    sum=0\n",
    "    for i in temp:\n",
    "      sum+=i\n",
    "      count+=1\n",
    "    if(len(temp)>0):\n",
    "        avg=sum/count\n",
    "        india_dict[state]['average_mobility'].append(str(avg))\n",
    "    else:\n",
    "        india_dict[state]['average_mobility'].append('')\n",
    "#     if(len(india_dict[state]['retail'][-1])>0 and len(india_dict[state]['grocery'][-1])>0 and len(india_dict[state]['transit'][-1])>0 and len(india_dict[state]['workplace'][-1])>0 ):\n",
    "#       avg = (int(india_dict[state]['retail'][-1])+int(india_dict[state]['grocery'][-1])+int(india_dict[state]['transit'][-1])+int(india_dict[state]['workplace'][-1]))/4\n",
    "#       india_dict[state]['average_mobility'].append(str(avg))  # To change for average\n",
    "#     else:\n",
    "#       india_dict[state]['average_mobility'].append('')  # To change for average\n",
    "    india_dict[state]['dates'].append(convert(row[6]))\n",
    "    #print(len(dates))\n",
    "      \n",
    "    for i in range(len(india_dict[state]['dates'])):\n",
    "      if (temp!=india_dict[state]['dates'][-1]) :\n",
    "        csv_state.append(state)\n",
    "        #print(india_dict[state]['dates'][-1],state)\n",
    "        csv_dates.append(india_dict[state]['dates'][-1])\n",
    "        csv_retail.append(india_dict[state]['retail'][-1])\n",
    "        csv_grocery.append(india_dict[state]['grocery'][-1])\n",
    "        csv_parks.append(india_dict[state]['parks'][-1])\n",
    "        csv_transit.append(india_dict[state]['transit'][-1])\n",
    "        csv_workplace.append(india_dict[state]['workplace'][-1])\n",
    "        csv_residential.append(india_dict[state]['residential'][-1])\n",
    "        csv_average_mobility.append(india_dict[state]['average_mobility'][-1])\n",
    "        temp=india_dict[state]['dates'][-1]\n",
    "      \n",
    "  \n",
    "    #print(row[4])3"
   ]
  },
  {
   "cell_type": "code",
   "execution_count": 9,
   "metadata": {
    "colab": {},
    "colab_type": "code",
    "id": "1rreztjxMzlM"
   },
   "outputs": [],
   "source": [
    "df=pd.DataFrame()\n",
    "df['state']=csv_state\n",
    "df['dates']=csv_dates\n",
    "df['retail']=csv_retail\n",
    "df['grocery']=csv_grocery\n",
    "df['parks']=csv_parks\n",
    "df['transit']=csv_transit\n",
    "df['workplace']=csv_workplace\n",
    "df['residential']=csv_residential\n",
    "df['average_mobility']=csv_average_mobility\n",
    "df.to_csv('mobility.csv',index=False)"
   ]
  },
  {
   "cell_type": "code",
   "execution_count": 10,
   "metadata": {
    "colab": {},
    "colab_type": "code",
    "id": "fmHG2UDF9wbw"
   },
   "outputs": [],
   "source": [
    "from datetime import datetime\n",
    "import json\n",
    "india_dict['datetime']=str(datetime.now())\n",
    "mobility_json_indented = json.dumps(india_dict, indent = 4)\n",
    "mobility_json = json.dumps(india_dict)\n"
   ]
  },
  {
   "cell_type": "code",
   "execution_count": 11,
   "metadata": {
    "colab": {},
    "colab_type": "code",
    "id": "ICFelX5IC9HX"
   },
   "outputs": [],
   "source": [
    "with open(\"india_mobility.json\", \"w\") as outfile: \n",
    "    outfile.write(mobility_json)"
   ]
  },
  {
   "cell_type": "code",
   "execution_count": 12,
   "metadata": {
    "colab": {},
    "colab_type": "code",
    "id": "ql-6m77DOJ-k"
   },
   "outputs": [],
   "source": [
    "with open(\"india_mobility_indented.json\", \"w\") as outfile: \n",
    "    outfile.write(mobility_json_indented)"
   ]
  }
 ],
 "metadata": {
  "colab": {
   "collapsed_sections": [],
   "name": "Mobility_indices.ipynb",
   "provenance": []
  },
  "kernelspec": {
   "display_name": "Python 3",
   "language": "python",
   "name": "python3"
  },
  "language_info": {
   "codemirror_mode": {
    "name": "ipython",
    "version": 3
   },
   "file_extension": ".py",
   "mimetype": "text/x-python",
   "name": "python",
   "nbconvert_exporter": "python",
   "pygments_lexer": "ipython3",
   "version": "3.7.1"
  }
 },
 "nbformat": 4,
 "nbformat_minor": 1
}
